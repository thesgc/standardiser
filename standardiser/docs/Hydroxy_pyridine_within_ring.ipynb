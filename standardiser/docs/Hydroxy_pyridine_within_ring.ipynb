{
 "metadata": {
  "name": ""
 },
 "nbformat": 3,
 "nbformat_minor": 0,
 "worksheets": [
  {
   "cells": [
    {
     "cell_type": "code",
     "collapsed": false,
     "input": [
      "%run setup.py\n",
      "\n",
      "reload(logging) # Seems to be required to get logging from modules working\n",
      "\n",
      "logging.basicConfig(level=logging.DEBUG, format=\"[%(asctime)s %(levelname)-8s] %(message)s\", datefmt=\"%Y/%b/%d %H:%M:%S\")\n",
      "\n",
      "sys.path.append(\"..\")"
     ],
     "language": "python",
     "metadata": {},
     "outputs": [],
     "prompt_number": 5
    },
    {
     "cell_type": "code",
     "collapsed": false,
     "input": [
      "from standardise import rules\n",
      "\n",
      "from demo import *"
     ],
     "language": "python",
     "metadata": {},
     "outputs": [],
     "prompt_number": 2
    },
    {
     "cell_type": "markdown",
     "metadata": {},
     "source": [
      "### 4-hydroxy pyridines\n",
      "\n",
      "If the rule '[4-hydroxy pyridine -> 4-pyridone (within-ring)](02_rules.ipynb#4-hydroxy_pyridine_-_4-pyridone_within-ring)' is not enabled, the more general rule '[4-hydroxy pyridine -> 4-pyridone (any)](02_rules.ipynb#4-hydroxy_pyridine_-_4-pyridone_any)' alone can give undesirable effects.\n",
      "\n",
      "The following molecule is an example (note that the 'within-ring' version of the rule was temporarily disbled for this demo)..."
     ]
    },
    {
     "cell_type": "code",
     "collapsed": false,
     "input": [
      "mol = s2m(\"Oc1c(cccc3)c3nc2ccncc12\")\n",
      "mol"
     ],
     "language": "python",
     "metadata": {},
     "outputs": [
      {
       "metadata": {},
       "output_type": "pyout",
       "png": "[encoded data removed]",
       "prompt_number": 27,
       "text": [
        "<rdkit.Chem.rdchem.Mol at 0x1078470c0>"
       ]
      }
     ],
     "prompt_number": 27
    },
    {
     "cell_type": "code",
     "collapsed": false,
     "input": [
      "# rule '4-hydroxy pyridine -> 4-pyridone (within-ring)' is disabled (i.e. commented out)\n",
      "\n",
      "reload(rules)\n",
      "\n",
      "rules.apply(mol)"
     ],
     "language": "python",
     "metadata": {},
     "outputs": [
      {
       "output_type": "stream",
       "stream": "stderr",
       "text": [
        "[2013/Dec/04 11:20:17 DEBUG   ] apply> mol = 'Oc1c2ccccc2nc2ccncc12'\n"
       ]
      },
      {
       "output_type": "stream",
       "stream": "stderr",
       "text": [
        "[2013/Dec/04 11:20:17 DEBUG   ] apply> starting pass 1...\n"
       ]
      },
      {
       "output_type": "stream",
       "stream": "stderr",
       "text": [
        "[2013/Dec/04 11:20:17 INFO    ] rule 2 '4-hydroxy pyridine -> 4-pyridone (any)' applied on pass 1\n"
       ]
      },
      {
       "output_type": "stream",
       "stream": "stderr",
       "text": [
        "[2013/Dec/04 11:20:17 DEBUG   ] ...total of 1 hits in pass: will continue...\n"
       ]
      },
      {
       "output_type": "stream",
       "stream": "stderr",
       "text": [
        "[2013/Dec/04 11:20:17 DEBUG   ] apply> starting pass 2...\n"
       ]
      },
      {
       "output_type": "stream",
       "stream": "stderr",
       "text": [
        "[2013/Dec/04 11:20:17 DEBUG   ] ...total of 0 hits in pass: finished.\n"
       ]
      },
      {
       "metadata": {},
       "output_type": "pyout",
       "png": "[encoded data removed]",
       "prompt_number": 19,
       "text": [
        "<rdkit.Chem.rdchem.Mol at 0x107841410>"
       ]
      }
     ],
     "prompt_number": 19
    },
    {
     "cell_type": "markdown",
     "metadata": {},
     "source": [
      "Note that the 'across-ring' product had been produced, instead of the desired 'within-ring' product. \n",
      "\n",
      "If the restrictive 'within-ring' version of the rule (which is applied before the more general version) is re-enabled, the desired product is obtained..."
     ]
    },
    {
     "cell_type": "code",
     "collapsed": false,
     "input": [
      "# rule '4-hydroxy pyridine -> 4-pyridone (within-ring)' is re-enabled  (i.e. uncommented)\n",
      "\n",
      "reload(rules)\n",
      "\n",
      "rules.apply(mol)"
     ],
     "language": "python",
     "metadata": {},
     "outputs": [
      {
       "output_type": "stream",
       "stream": "stderr",
       "text": [
        "[2013/Dec/04 11:28:48 DEBUG   ] apply> mol = 'Oc1c2ccccc2nc2ccncc12'\n"
       ]
      },
      {
       "output_type": "stream",
       "stream": "stderr",
       "text": [
        "[2013/Dec/04 11:28:48 DEBUG   ] apply> starting pass 1...\n"
       ]
      },
      {
       "output_type": "stream",
       "stream": "stderr",
       "text": [
        "[2013/Dec/04 11:28:48 INFO    ] rule 2 '4-hydroxy pyridine -> 4-pyridone (within-ring)' applied on pass 1\n"
       ]
      },
      {
       "output_type": "stream",
       "stream": "stderr",
       "text": [
        "[2013/Dec/04 11:28:48 DEBUG   ] ...total of 1 hits in pass: will continue...\n"
       ]
      },
      {
       "output_type": "stream",
       "stream": "stderr",
       "text": [
        "[2013/Dec/04 11:28:48 DEBUG   ] apply> starting pass 2...\n"
       ]
      },
      {
       "output_type": "stream",
       "stream": "stderr",
       "text": [
        "[2013/Dec/04 11:28:48 DEBUG   ] ...total of 0 hits in pass: finished.\n"
       ]
      },
      {
       "metadata": {},
       "output_type": "pyout",
       "png": "[encoded data removed]",
       "prompt_number": 29,
       "text": [
        "<rdkit.Chem.rdchem.Mol at 0x10797e938>"
       ]
      }
     ],
     "prompt_number": 29
    },
    {
     "cell_type": "markdown",
     "metadata": {},
     "source": [
      "An example of where this problem manifested is [CHEMBL348887](https://www.ebi.ac.uk/chembl/compound/inspect/CHEMBL348887).\n",
      "\n",
      "Note that if only the more general rule is enabled, the problem might not be obvious. This is because which substructure (_i.e._ the within-ring or across-ring version) is affected is arbitrary, depending on the order of the atoms in the input molecule. "
     ]
    }
   ],
   "metadata": {}
  }
 ]
}