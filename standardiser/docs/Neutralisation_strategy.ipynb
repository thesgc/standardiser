{
 "metadata": {
  "name": ""
 },
 "nbformat": 3,
 "nbformat_minor": 0,
 "worksheets": [
  {
   "cells": [
    {
     "cell_type": "code",
     "collapsed": false,
     "input": [
      "%run setup.py\n",
      "\n",
      "reload(logging) # This seems to be necessary to get logging from modules to work as expected\n",
      "\n",
      "logging.basicConfig(level=logging.DEBUG, format=\"[%(asctime)s %(levelname)-8s] %(message)s\", datefmt=\"%H:%M:%S\")"
     ],
     "language": "python",
     "metadata": {},
     "outputs": [],
     "prompt_number": 2
    },
    {
     "cell_type": "code",
     "collapsed": false,
     "input": [
      "from standardise import standardise"
     ],
     "language": "python",
     "metadata": {},
     "outputs": [],
     "prompt_number": 3
    },
    {
     "cell_type": "markdown",
     "metadata": {},
     "source": [
      "# Neutralisation Strategy\n",
      "\n",
      "This document explains why neutralisation steps involving proton addition/removal are carried out both before and after application of the rules. Originally, neutralisation was only carried out after application of the rules.\n",
      "\n",
      "This is based on a real example. The amino-pyrimidine moiety is protonated and this originally prevented the '2-hydroxy pyridine -> 2-pyridone' transform from working as intended. The '4-hydroxy pyridine -> 4-pyridone' transform was thus applied instead, which is not what might be expected..."
     ]
    },
    {
     "cell_type": "code",
     "collapsed": false,
     "input": [
      "mol = Chem.MolFromSmiles(\"Oc1[nH+]c(N)nc2n(C)cnc12\")\n",
      "mol"
     ],
     "language": "python",
     "metadata": {},
     "outputs": [
      {
       "metadata": {},
       "output_type": "pyout",
       "png": "[encoded data removed]",
       "prompt_number": 6,
       "text": [
        "<rdkit.Chem.rdchem.Mol at 0x106be9520>"
       ]
      }
     ],
     "prompt_number": 6
    },
    {
     "cell_type": "code",
     "collapsed": false,
     "input": [
      "standardise.rules.apply(mol)"
     ],
     "language": "python",
     "metadata": {},
     "outputs": [
      {
       "output_type": "stream",
       "stream": "stderr",
       "text": [
        "[15:27:02 DEBUG   ] apply> mol = 'Cn1cnc2c1nc(N)[nH+]c2O'\n"
       ]
      },
      {
       "output_type": "stream",
       "stream": "stderr",
       "text": [
        "[15:27:02 DEBUG   ] apply> starting pass 1...\n"
       ]
      },
      {
       "output_type": "stream",
       "stream": "stderr",
       "text": [
        "[15:27:02 INFO    ] rule 3 '4-hydroxy pyridine -> 4-pyridone (within-ring)' applied on pass 1\n"
       ]
      },
      {
       "output_type": "stream",
       "stream": "stderr",
       "text": [
        "[15:27:02 DEBUG   ] ...total of 1 hits in pass: will continue...\n"
       ]
      },
      {
       "output_type": "stream",
       "stream": "stderr",
       "text": [
        "[15:27:02 DEBUG   ] apply> starting pass 2...\n"
       ]
      },
      {
       "output_type": "stream",
       "stream": "stderr",
       "text": [
        "[15:27:02 DEBUG   ] ...total of 0 hits in pass: finished.\n"
       ]
      },
      {
       "metadata": {},
       "output_type": "pyout",
       "png": "[encoded data removed]",
       "prompt_number": 7,
       "text": [
        "<rdkit.Chem.rdchem.Mol at 0x106bf15f0>"
       ]
      }
     ],
     "prompt_number": 7
    },
    {
     "cell_type": "markdown",
     "metadata": {},
     "source": [
      "As stated above, in the standardization procedure as originally implemented, neutralization was applied only _after_ the rules. If it is applied before the rules, the above molecule is handled correctly (_i.e._ the neutral 2-pyrimidone) is obtained..."
     ]
    },
    {
     "cell_type": "code",
     "collapsed": false,
     "input": [
      "mol2 = standardise.neutralise.apply(mol)\n",
      "\n",
      "mol2"
     ],
     "language": "python",
     "metadata": {},
     "outputs": [
      {
       "output_type": "stream",
       "stream": "stderr",
       "text": [
        "[15:27:30 DEBUG   ] 0 positive/H, 0 positive/quat and 0 negative (of which 0 are acid) charges identified\n"
       ]
      },
      {
       "output_type": "stream",
       "stream": "stderr",
       "text": [
        "[15:27:30 DEBUG   ] Overall H balance: 0; formal charge: 0\n"
       ]
      },
      {
       "metadata": {},
       "output_type": "pyout",
       "png": "[encoded data removed]",
       "prompt_number": 10,
       "text": [
        "<rdkit.Chem.rdchem.Mol at 0x106beb890>"
       ]
      }
     ],
     "prompt_number": 10
    },
    {
     "cell_type": "code",
     "collapsed": false,
     "input": [
      "standardise.rules.apply(mol2)"
     ],
     "language": "python",
     "metadata": {},
     "outputs": [
      {
       "output_type": "stream",
       "stream": "stderr",
       "text": [
        "[15:27:30 DEBUG   ] apply> mol = 'Cn1cnc2c1nc(N)nc2O'\n"
       ]
      },
      {
       "output_type": "stream",
       "stream": "stderr",
       "text": [
        "[15:27:30 DEBUG   ] apply> starting pass 1...\n"
       ]
      },
      {
       "output_type": "stream",
       "stream": "stderr",
       "text": [
        "[15:27:30 INFO    ] rule 2 '2-hydroxy pyridine -> 2-pyridone' applied on pass 1\n"
       ]
      },
      {
       "output_type": "stream",
       "stream": "stderr",
       "text": [
        "[15:27:30 DEBUG   ] ...total of 1 hits in pass: will continue...\n"
       ]
      },
      {
       "output_type": "stream",
       "stream": "stderr",
       "text": [
        "[15:27:30 DEBUG   ] apply> starting pass 2...\n"
       ]
      },
      {
       "output_type": "stream",
       "stream": "stderr",
       "text": [
        "[15:27:30 DEBUG   ] ...total of 0 hits in pass: finished.\n"
       ]
      },
      {
       "metadata": {},
       "output_type": "pyout",
       "png": "[encoded data removed]",
       "prompt_number": 11,
       "text": [
        "<rdkit.Chem.rdchem.Mol at 0x106c171b8>"
       ]
      }
     ],
     "prompt_number": 11
    },
    {
     "cell_type": "markdown",
     "metadata": {},
     "source": [
      "The procedure was thus be enhanced by including a neutralization step _before_ application of the rules as well as after.\n",
      "\n",
      "Recall that neutralization _after_ the rules is still required as some rules 'expose' a removable proton on cations (_i.e._ the various 'conjugated cation' rules)."
     ]
    }
   ],
   "metadata": {}
  }
 ]
}