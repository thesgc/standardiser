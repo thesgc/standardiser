{
 "metadata": {
  "name": ""
 },
 "nbformat": 3,
 "nbformat_minor": 0,
 "worksheets": [
  {
   "cells": [
    {
     "cell_type": "code",
     "collapsed": false,
     "input": [
      "%run setup.py\n",
      "\n",
      "reload(logging) # This seems to be necessary to get logging from modules to work as expected\n",
      "\n",
      "logging.basicConfig(level=logging.DEBUG, format=\"[%(asctime)s %(levelname)-8s] %(message)s\", datefmt=\"%H:%M:%S\")\n",
      "\n",
      "sys.path.append(\"..\")"
     ],
     "language": "python",
     "metadata": {},
     "outputs": [],
     "prompt_number": 1
    },
    {
     "cell_type": "code",
     "collapsed": false,
     "input": [
      "from standardise import standardise"
     ],
     "language": "python",
     "metadata": {},
     "outputs": [],
     "prompt_number": 2
    },
    {
     "cell_type": "markdown",
     "metadata": {},
     "source": [
      "# The 'Conjugated Cation' rules and charge neutralisation\n",
      "\n",
      "### Introduction\n",
      "\n",
      "This set of rules affects molecules where a non-protonated atom bearing a positive charge (most commonly a quaternary nitrogen) is conjugated with a neutral nitrogen bearing a hydrogen atom.\n",
      "\n",
      "In such cases, the charge is moved from the 'quat' atom to the proton-bearing atom _via_ successive rearrangement of adjacent souble and single bonds. The =(NH+)- moiety thus exposed may then be deprotonated in a subsequent neutralisation step, leaving the neutral parent species.\n",
      "\n",
      "For some of the rules involving aromatic rings, the products are iminium-containing species, which, while still formally aromatic under RDKit's definition, are distinctly less so than the original molecule. The rules where this occurs are\n",
      "'[Fix 1,3 conjugated cation (aromatic 2)](03_rules.ipynb#Fix_1_3_conjugated_cation_aromatic_2)',\n",
      "'[Fix 1,5 conjugated cation (aromatic 2)](03_rules.ipynb#Fix_1_3_conjugated_cation_aromatic_2)' and (possibly)\n",
      "'[Fix 1,5 conjugated cation (aromatic 3)](03_rules.ipynb#Fix_1_3_conjugated_cation_aromatic_2)'.\n",
      "\n",
      "In the full protocol, the 'standardised' cations will then be deprotonated in the subsequent [neutralisation](neutralise.ipynb) step to leave the neutral imine. These imines look somewhat awkward, and it may be that the more aromatic cation is preferable. This issue can also occur with five-membered heterocycles, where the 'loss of aromaticity' might not appear so drastic.\n",
      "\n",
      "In summary, the interplay of the neutralisation steps and the 'Conjugated Cation' rules can be problematic. The question is whether these rules are desirable (at least by default), or whether maximising aromaticity should take precedence over deprotonation.\n",
      "\n",
      "Some examples are discussed below. "
     ]
    },
    {
     "cell_type": "markdown",
     "metadata": {},
     "source": [
      "### Six-membered example\n",
      "\n",
      "The charged heterocycle below is converted by a 'Fix 1,3 conjugated cation' rule to a (charged) imine which is then deprotonated in the subsequent neutralisation step..."
     ]
    },
    {
     "cell_type": "code",
     "collapsed": false,
     "input": [
      "mol = Chem.MolFromSmiles(\"CNc1[n+](C)cccc1\")\n",
      "mol"
     ],
     "language": "python",
     "metadata": {},
     "outputs": [
      {
       "metadata": {},
       "output_type": "pyout",
       "png": "[encoded data removed]",
       "prompt_number": 13,
       "text": [
        "<rdkit.Chem.rdchem.Mol at 0x1063e0de0>"
       ]
      }
     ],
     "prompt_number": 13
    },
    {
     "cell_type": "code",
     "collapsed": false,
     "input": [
      "mol = standardise.rules.apply(mol)\n",
      "mol"
     ],
     "language": "python",
     "metadata": {},
     "outputs": [
      {
       "output_type": "stream",
       "stream": "stderr",
       "text": [
        "[13:11:27 DEBUG   ] apply> mol = 'CNc1cccc[n+]1C'\n"
       ]
      },
      {
       "output_type": "stream",
       "stream": "stderr",
       "text": [
        "[13:11:27 DEBUG   ] apply> starting pass 1...\n"
       ]
      },
      {
       "output_type": "stream",
       "stream": "stderr",
       "text": [
        "[13:11:27 INFO    ] rule 22 'Fix 1,3 conjugated cation (aromatic 2)' applied on pass 1\n"
       ]
      },
      {
       "output_type": "stream",
       "stream": "stderr",
       "text": [
        "[13:11:27 DEBUG   ] ...total of 1 hits in pass: will continue...\n"
       ]
      },
      {
       "output_type": "stream",
       "stream": "stderr",
       "text": [
        "[13:11:27 DEBUG   ] apply> starting pass 2...\n"
       ]
      },
      {
       "output_type": "stream",
       "stream": "stderr",
       "text": [
        "[13:11:27 DEBUG   ] ...total of 0 hits in pass: finished.\n"
       ]
      },
      {
       "metadata": {},
       "output_type": "pyout",
       "png": "[encoded data removed]",
       "prompt_number": 14,
       "text": [
        "<rdkit.Chem.rdchem.Mol at 0x1063d70c8>"
       ]
      }
     ],
     "prompt_number": 14
    },
    {
     "cell_type": "code",
     "collapsed": false,
     "input": [
      "mol = standardise.neutralise.apply(mol)\n",
      "mol"
     ],
     "language": "python",
     "metadata": {},
     "outputs": [
      {
       "output_type": "stream",
       "stream": "stderr",
       "text": [
        "[13:11:29 DEBUG   ] 1 positive/H, 0 positive/quat and 0 negative (of which 0 are acid) charges identified\n"
       ]
      },
      {
       "output_type": "stream",
       "stream": "stderr",
       "text": [
        "[13:11:29 DEBUG   ] Overall H balance: -1; formal charge: 0\n"
       ]
      },
      {
       "metadata": {},
       "output_type": "pyout",
       "png": "[encoded data removed]",
       "prompt_number": 15,
       "text": [
        "<rdkit.Chem.rdchem.Mol at 0x1063b8f70>"
       ]
      }
     ],
     "prompt_number": 15
    },
    {
     "cell_type": "markdown",
     "metadata": {},
     "source": [
      "This imine looks rather awkaward, although RDKit still considers it to be aromatic..."
     ]
    },
    {
     "cell_type": "code",
     "collapsed": false,
     "input": [
      "Chem.MolToSmiles(mol)"
     ],
     "language": "python",
     "metadata": {},
     "outputs": [
      {
       "metadata": {},
       "output_type": "pyout",
       "prompt_number": 16,
       "text": [
        "'CN=c1ccccn1C'"
       ]
      }
     ],
     "prompt_number": 16
    },
    {
     "cell_type": "markdown",
     "metadata": {},
     "source": [
      "This example is based on a real [molecule](https://www.ebi.ac.uk/chembl/compound/inspect/CHEMBL83939 \"CHEMBL83939\"), and, in the context of the whole molecule, the problem looks worse. The presence of the carboxylic acid means the molecule with the charged heterocycle could exist as a charge-neutral zwitterion (possibly even with an internal salt-bridge)."
     ]
    },
    {
     "cell_type": "code",
     "collapsed": false,
     "input": [
      "mol = Chem.MolFromSmiles(\"CC(C)Cc1ccc(N)[n+](CCCC(=O)O)n1\")\n",
      "mol"
     ],
     "language": "python",
     "metadata": {},
     "outputs": [
      {
       "metadata": {},
       "output_type": "pyout",
       "png": "[encoded data removed]",
       "prompt_number": 12,
       "text": [
        "<rdkit.Chem.rdchem.Mol at 0x1063e0fa0>"
       ]
      }
     ],
     "prompt_number": 12
    },
    {
     "cell_type": "code",
     "collapsed": true,
     "input": [
      "standardise.neutralize.apply(standardise.rules.apply(mol))"
     ],
     "language": "python",
     "metadata": {},
     "outputs": [
      {
       "output_type": "stream",
       "stream": "stderr",
       "text": [
        "[14:36:55 DEBUG   ] apply> starting pass 1...\n"
       ]
      },
      {
       "output_type": "stream",
       "stream": "stderr",
       "text": [
        "[14:36:55 DEBUG   ] apply> hit for rule 16 (Fix 1,3 conjugated cation (aromatic 1))...\n"
       ]
      },
      {
       "output_type": "stream",
       "stream": "stderr",
       "text": [
        "[14:36:55 DEBUG   ] ...total of 1 hits in pass: will continue...\n"
       ]
      },
      {
       "output_type": "stream",
       "stream": "stderr",
       "text": [
        "[14:36:55 DEBUG   ] apply> starting pass 2...\n"
       ]
      },
      {
       "output_type": "stream",
       "stream": "stderr",
       "text": [
        "[14:36:55 DEBUG   ] ...total of 0 hits in pass: finished.\n"
       ]
      },
      {
       "output_type": "stream",
       "stream": "stderr",
       "text": [
        "[14:36:55 DEBUG   ] 1 positive/H, 0 positive/quat and 0 negative (of which 0 are acid) charges identified\n"
       ]
      },
      {
       "output_type": "stream",
       "stream": "stderr",
       "text": [
        "[14:36:55 DEBUG   ] Overall H balance: -1; formal charge: 0\n"
       ]
      },
      {
       "metadata": {},
       "output_type": "pyout",
       "png": "[encoded data removed]",
       "prompt_number": 65,
       "text": [
        "<rdkit.Chem.rdchem.Mol at 0x111d91b50>"
       ]
      }
     ],
     "prompt_number": 65
    },
    {
     "cell_type": "markdown",
     "metadata": {},
     "source": [
      "Running the `standardise` module itself on the zwitterionic form..."
     ]
    },
    {
     "cell_type": "code",
     "collapsed": false,
     "input": [
      "mol = Chem.MolFromSmiles(\"CC(C)Cc1ccc(N)[n+](CCCC(=O)[O-])n1\")\n",
      "mol"
     ],
     "language": "python",
     "metadata": {},
     "outputs": [
      {
       "metadata": {},
       "output_type": "pyout",
       "png": "[encoded data removed]",
       "prompt_number": 17,
       "text": [
        "<rdkit.Chem.rdchem.Mol at 0x1063e0d70>"
       ]
      }
     ],
     "prompt_number": 17
    },
    {
     "cell_type": "code",
     "collapsed": false,
     "input": [
      "standardise.apply(mol)"
     ],
     "language": "python",
     "metadata": {},
     "outputs": [
      {
       "output_type": "stream",
       "stream": "stderr",
       "text": [
        "[13:14:39 DEBUG   ] Broke 0 bonds to Group I and II metals\n"
       ]
      },
      {
       "output_type": "stream",
       "stream": "stderr",
       "text": [
        "[13:14:39 DEBUG   ] Starting fragment 1 'CC(C)Cc1ccc(N)[n+](CCCC(=O)[O-])n1'...\n"
       ]
      },
      {
       "output_type": "stream",
       "stream": "stderr",
       "text": [
        "[13:14:39 DEBUG   ] 1) Check for non-organic elements...\n"
       ]
      },
      {
       "output_type": "stream",
       "stream": "stderr",
       "text": [
        "[13:14:39 DEBUG   ] 2) Attempting to neutralise (first pass)...\n"
       ]
      },
      {
       "output_type": "stream",
       "stream": "stderr",
       "text": [
        "[13:14:39 DEBUG   ] 0 positive/H, 1 positive/quat and 1 negative (of which 1 are acid) charges identified\n"
       ]
      },
      {
       "output_type": "stream",
       "stream": "stderr",
       "text": [
        "[13:14:39 DEBUG   ] Overall H balance: 0; formal charge: 0\n"
       ]
      },
      {
       "output_type": "stream",
       "stream": "stderr",
       "text": [
        "[13:14:39 DEBUG   ] 3) Applying rules...\n"
       ]
      },
      {
       "output_type": "stream",
       "stream": "stderr",
       "text": [
        "[13:14:39 DEBUG   ] apply> mol = 'CC(C)Cc1ccc(N)[n+](CCCC(=O)[O-])n1'\n"
       ]
      },
      {
       "output_type": "stream",
       "stream": "stderr",
       "text": [
        "[13:14:39 DEBUG   ] apply> starting pass 1...\n"
       ]
      },
      {
       "output_type": "stream",
       "stream": "stderr",
       "text": [
        "[13:14:39 INFO    ] rule 22 'Fix 1,3 conjugated cation (aromatic 2)' applied on pass 1\n"
       ]
      },
      {
       "output_type": "stream",
       "stream": "stderr",
       "text": [
        "[13:14:39 DEBUG   ] ...total of 1 hits in pass: will continue...\n"
       ]
      },
      {
       "output_type": "stream",
       "stream": "stderr",
       "text": [
        "[13:14:39 DEBUG   ] apply> starting pass 2...\n"
       ]
      },
      {
       "output_type": "stream",
       "stream": "stderr",
       "text": [
        "[13:14:39 DEBUG   ] ...total of 0 hits in pass: finished.\n"
       ]
      },
      {
       "output_type": "stream",
       "stream": "stderr",
       "text": [
        "[13:14:39 DEBUG   ] 4) Attempting to neutralise (second pass)...\n"
       ]
      },
      {
       "output_type": "stream",
       "stream": "stderr",
       "text": [
        "[13:14:39 DEBUG   ] 1 positive/H, 0 positive/quat and 1 negative (of which 1 are acid) charges identified\n"
       ]
      },
      {
       "output_type": "stream",
       "stream": "stderr",
       "text": [
        "[13:14:39 DEBUG   ] Overall H balance: 0; formal charge: 0\n"
       ]
      },
      {
       "output_type": "stream",
       "stream": "stderr",
       "text": [
        "[13:14:39 DEBUG   ] 5) Checking if frag is a salt/solvate...\n"
       ]
      },
      {
       "output_type": "stream",
       "stream": "stderr",
       "text": [
        "[13:14:39 DEBUG   ] ...fragment kept.\n"
       ]
      },
      {
       "metadata": {},
       "output_type": "pyout",
       "png": "[encoded data removed]",
       "prompt_number": 18,
       "text": [
        "<rdkit.Chem.rdchem.Mol at 0x106478158>"
       ]
      }
     ],
     "prompt_number": 18
    },
    {
     "cell_type": "markdown",
     "metadata": {},
     "source": [
      "Here, the _first_ round of charge-neutralization does nothing as the pyridine nitrogen is a quat. Then, a 'conjugated cation' rule moves the charge to the amine, which the _second_ round of neutralization deprotonates. The acid is then protonated to give the neutral imine parent.\n"
     ]
    },
    {
     "cell_type": "markdown",
     "metadata": {},
     "source": [
      "Thus, it might be that, at least in the case of nitrogen-containing, six-membered aromatics, the 'Fix 1,n charge-seperated systems' transforms are too agressive.\n",
      "\n",
      "A few other examples where this happens...\n",
      "\n",
      "* [CHEMBL1623170](https://www.ebi.ac.uk/chembl/compound/inspect/CHEMBL1623170 \"CHEMBL1623170\")\n",
      "* [CHEMBL355307](https://www.ebi.ac.uk/chembl/compound/inspect/CHEMBL355307 \"CHEMBL355307\") \n",
      "* [CHEMBL1198819](https://www.ebi.ac.uk/chembl/compound/inspect/CHEMBL1198819 \"CHEMBL1198819\")"
     ]
    },
    {
     "cell_type": "markdown",
     "metadata": {},
     "source": [
      "Note that there are, perhaps, some counterexamples. In some molecular [contexts](https://www.ebi.ac.uk/chembl/compound/inspect/CHEMBL1187086 \"CHEMBL1187086\"), the imine maybe doesn't look _quite_ so bad..."
     ]
    },
    {
     "cell_type": "code",
     "collapsed": false,
     "input": [
      "mol = Chem.MolFromSmiles(\"CCN(CC)CCNc1c2ccccc2[n+](C)c3c4cc(F)cc(F)c4[nH]c13\")\n",
      "mol"
     ],
     "language": "python",
     "metadata": {},
     "outputs": [
      {
       "metadata": {},
       "output_type": "pyout",
       "png": "[encoded data removed]",
       "prompt_number": 19,
       "text": [
        "<rdkit.Chem.rdchem.Mol at 0x1063e0ec0>"
       ]
      }
     ],
     "prompt_number": 19
    },
    {
     "cell_type": "code",
     "collapsed": false,
     "input": [
      "standardise.apply(mol)"
     ],
     "language": "python",
     "metadata": {},
     "outputs": [
      {
       "output_type": "stream",
       "stream": "stderr",
       "text": [
        "[13:17:25 DEBUG   ] Broke 0 bonds to Group I and II metals\n"
       ]
      },
      {
       "output_type": "stream",
       "stream": "stderr",
       "text": [
        "[13:17:25 DEBUG   ] Starting fragment 1 'CCN(CC)CCNc1c2[nH]c3c(cc(F)cc3F)c2[n+](C)c2ccccc21'...\n"
       ]
      },
      {
       "output_type": "stream",
       "stream": "stderr",
       "text": [
        "[13:17:25 DEBUG   ] 1) Check for non-organic elements...\n"
       ]
      },
      {
       "output_type": "stream",
       "stream": "stderr",
       "text": [
        "[13:17:25 DEBUG   ] 2) Attempting to neutralise (first pass)...\n"
       ]
      },
      {
       "output_type": "stream",
       "stream": "stderr",
       "text": [
        "[13:17:25 DEBUG   ] 0 positive/H, 1 positive/quat and 0 negative (of which 0 are acid) charges identified\n"
       ]
      },
      {
       "output_type": "stream",
       "stream": "stderr",
       "text": [
        "[13:17:25 DEBUG   ] Overall H balance: 0; formal charge: 1\n"
       ]
      },
      {
       "output_type": "stream",
       "stream": "stderr",
       "text": [
        "[13:17:25 DEBUG   ] 3) Applying rules...\n"
       ]
      },
      {
       "output_type": "stream",
       "stream": "stderr",
       "text": [
        "[13:17:25 DEBUG   ] apply> mol = 'CCN(CC)CCNc1c2[nH]c3c(cc(F)cc3F)c2[n+](C)c2ccccc21'\n"
       ]
      },
      {
       "output_type": "stream",
       "stream": "stderr",
       "text": [
        "[13:17:25 DEBUG   ] apply> starting pass 1...\n"
       ]
      },
      {
       "output_type": "stream",
       "stream": "stderr",
       "text": [
        "[13:17:25 INFO    ] rule 25 'Fix 1,5 conjugated cation (aromatic 2)' applied on pass 1\n"
       ]
      },
      {
       "output_type": "stream",
       "stream": "stderr",
       "text": [
        "[13:17:25 DEBUG   ] ...total of 1 hits in pass: will continue...\n"
       ]
      },
      {
       "output_type": "stream",
       "stream": "stderr",
       "text": [
        "[13:17:25 DEBUG   ] apply> starting pass 2...\n"
       ]
      },
      {
       "output_type": "stream",
       "stream": "stderr",
       "text": [
        "[13:17:25 DEBUG   ] ...total of 0 hits in pass: finished.\n"
       ]
      },
      {
       "output_type": "stream",
       "stream": "stderr",
       "text": [
        "[13:17:25 DEBUG   ] 4) Attempting to neutralise (second pass)...\n"
       ]
      },
      {
       "output_type": "stream",
       "stream": "stderr",
       "text": [
        "[13:17:25 DEBUG   ] 1 positive/H, 0 positive/quat and 0 negative (of which 0 are acid) charges identified\n"
       ]
      },
      {
       "output_type": "stream",
       "stream": "stderr",
       "text": [
        "[13:17:25 DEBUG   ] Overall H balance: -1; formal charge: 0\n"
       ]
      },
      {
       "output_type": "stream",
       "stream": "stderr",
       "text": [
        "[13:17:25 DEBUG   ] 5) Checking if frag is a salt/solvate...\n"
       ]
      },
      {
       "output_type": "stream",
       "stream": "stderr",
       "text": [
        "[13:17:25 DEBUG   ] ...fragment kept.\n"
       ]
      },
      {
       "metadata": {},
       "output_type": "pyout",
       "png": "[encoded data removed]",
       "prompt_number": 20,
       "text": [
        "<rdkit.Chem.rdchem.Mol at 0x1064783c0>"
       ]
      }
     ],
     "prompt_number": 20
    },
    {
     "cell_type": "markdown",
     "metadata": {},
     "source": [
      "### Five-membered analogue\n",
      "\n",
      "The charged heterocycle below is converted to an imine which is then deprotonated in the neutralisation step..."
     ]
    },
    {
     "cell_type": "code",
     "collapsed": false,
     "input": [
      "mol = Chem.MolFromSmiles(\"CNc1[n+](C)ccs1\")\n",
      "mol"
     ],
     "language": "python",
     "metadata": {},
     "outputs": [
      {
       "metadata": {},
       "output_type": "pyout",
       "png": "[encoded data removed]",
       "prompt_number": 3,
       "text": [
        "<rdkit.Chem.rdchem.Mol at 0x105dcd8a0>"
       ]
      }
     ],
     "prompt_number": 3
    },
    {
     "cell_type": "code",
     "collapsed": false,
     "input": [
      "mol = standardise.rules.apply(mol)\n",
      "mol"
     ],
     "language": "python",
     "metadata": {},
     "outputs": [
      {
       "output_type": "stream",
       "stream": "stderr",
       "text": [
        "[12:24:25 DEBUG   ] apply> mol = 'CNc1scc[n+]1C'\n"
       ]
      },
      {
       "output_type": "stream",
       "stream": "stderr",
       "text": [
        "[12:24:25 DEBUG   ] apply> starting pass 1...\n"
       ]
      },
      {
       "output_type": "stream",
       "stream": "stderr",
       "text": [
        "[12:24:25 INFO    ] rule 22 'Fix 1,3 conjugated cation (aromatic 2)' applied on pass 1\n"
       ]
      },
      {
       "output_type": "stream",
       "stream": "stderr",
       "text": [
        "[12:24:25 DEBUG   ] ...total of 1 hits in pass: will continue...\n"
       ]
      },
      {
       "output_type": "stream",
       "stream": "stderr",
       "text": [
        "[12:24:25 DEBUG   ] apply> starting pass 2...\n"
       ]
      },
      {
       "output_type": "stream",
       "stream": "stderr",
       "text": [
        "[12:24:25 DEBUG   ] ...total of 0 hits in pass: finished.\n"
       ]
      },
      {
       "metadata": {},
       "output_type": "pyout",
       "png": "[encoded data removed]",
       "prompt_number": 4,
       "text": [
        "<rdkit.Chem.rdchem.Mol at 0x101c5c2a8>"
       ]
      }
     ],
     "prompt_number": 4
    },
    {
     "cell_type": "code",
     "collapsed": false,
     "input": [
      "mol = standardise.neutralise.apply(mol)\n",
      "mol"
     ],
     "language": "python",
     "metadata": {},
     "outputs": [
      {
       "output_type": "stream",
       "stream": "stderr",
       "text": [
        "[12:24:39 DEBUG   ] 1 positive/H, 0 positive/quat and 0 negative (of which 0 are acid) charges identified\n"
       ]
      },
      {
       "output_type": "stream",
       "stream": "stderr",
       "text": [
        "[12:24:39 DEBUG   ] Overall H balance: -1; formal charge: 0\n"
       ]
      },
      {
       "metadata": {},
       "output_type": "pyout",
       "png": "[encoded data removed]",
       "prompt_number": 6,
       "text": [
        "<rdkit.Chem.rdchem.Mol at 0x1063b8520>"
       ]
      }
     ],
     "prompt_number": 6
    },
    {
     "cell_type": "code",
     "collapsed": false,
     "input": [
      "# Note that RDKit still considers the ring to be aromatic...\n",
      "\n",
      "Chem.MolToSmiles(mol)"
     ],
     "language": "python",
     "metadata": {},
     "outputs": [
      {
       "metadata": {},
       "output_type": "pyout",
       "prompt_number": 7,
       "text": [
        "'CN=c1sccn1C'"
       ]
      }
     ],
     "prompt_number": 7
    }
   ],
   "metadata": {}
  }
 ]
}