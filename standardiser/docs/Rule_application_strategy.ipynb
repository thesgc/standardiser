{
 "metadata": {
  "name": ""
 },
 "nbformat": 3,
 "nbformat_minor": 0,
 "worksheets": [
  {
   "cells": [
    {
     "cell_type": "code",
     "collapsed": false,
     "input": [
      "%run setup.py\n",
      "\n",
      "reload(logging) # Seems to be necessary to get logging from modules woking\n",
      "\n",
      "logging.basicConfig(level=logging.DEBUG, format=\"[%(asctime)s %(levelname)-8s] %(message)s\", datefmt=\"%H:%M:%S\")"
     ],
     "language": "python",
     "metadata": {},
     "outputs": [],
     "prompt_number": 2
    },
    {
     "cell_type": "code",
     "collapsed": false,
     "input": [
      "from standardise import standardise"
     ],
     "language": "python",
     "metadata": {},
     "outputs": [],
     "prompt_number": 3
    },
    {
     "cell_type": "markdown",
     "metadata": {},
     "source": [
      "# Rule application strategy\n",
      "\n",
      "This document was originally created to illustrate a problem with the original version of the code. There, the transform for each rule was  applied repeatedly, with the *first* product of each reaction being taken an input to the next, until the reaction no longer produced a product. This was to handle cases where a moiety requiring rule-based standardisation occurrred multiple times in a molecule, and it worked for most such cases.\n",
      "\n",
      "However, that approach failed for molecules such as this one (which is a simplified version of real examples)..."
     ]
    },
    {
     "cell_type": "code",
     "collapsed": false,
     "input": [
      "mol = Chem.MolFromSmiles(\"Oc1nc(CCc2c(O)ncnc2O)nc(O)c1\")\n",
      "mol"
     ],
     "language": "python",
     "metadata": {},
     "outputs": [
      {
       "metadata": {},
       "output_type": "pyout",
       "png": "[encoded data removed]",
       "prompt_number": 22,
       "text": [
        "<rdkit.Chem.rdchem.Mol at 0x1071457c0>"
       ]
      }
     ],
     "prompt_number": 22
    },
    {
     "cell_type": "code",
     "collapsed": false,
     "input": [
      "# Reaction defining rule...\n",
      "\n",
      "rxn = AllChem.ReactionFromSmarts(\"[OX2H1:1]-[c:2]:[nX2:3]>>[OH0:1]=[c:2]:[nH1:3]\") # 2-hydroxy pyridine -> 2-pyridone"
     ],
     "language": "python",
     "metadata": {},
     "outputs": [],
     "prompt_number": 20
    },
    {
     "cell_type": "code",
     "collapsed": false,
     "input": [
      "# Run transform...\n",
      "# NB As the transorm is a one-component reaction, only the first component from each product tuple will exist\n",
      "\n",
      "products = [x[0] for x in rxn.RunReactants((mol,))]\n",
      "\n",
      "# Sanitize product mols...\n",
      "\n",
      "for x in products: Chem.SanitizeMol(x)\n",
      "    \n",
      "# Keep unique products only...\n",
      "\n",
      "products = {Chem.MolToSmiles(x): x for x in products}.values()\n",
      "\n",
      "# Depict...\n",
      "\n",
      "Draw.MolsToGridImage(products)\n",
      "\n",
      "# Note that, in each product, only one example of the target moiety had been fixed..."
     ],
     "language": "python",
     "metadata": {},
     "outputs": [
      {
       "metadata": {},
       "output_type": "pyout",
       "png": "[encoded data removed]",
       "prompt_number": 14,
       "text": [
        "<PIL.Image.Image image mode=RGB size=600x200 at 0x1070A42D8>"
       ]
      }
     ],
     "prompt_number": 14
    },
    {
     "cell_type": "code",
     "collapsed": false,
     "input": [
      "# Re-run reaction on first product...\n",
      "\n",
      "prod = rxn.RunReactants((products[0],))[0][0]\n",
      "prod\n",
      "\n",
      "# Note that both applications of the reaction have been to the second ring..."
     ],
     "language": "python",
     "metadata": {},
     "outputs": [
      {
       "metadata": {},
       "output_type": "pyout",
       "png": "[encoded data removed]",
       "prompt_number": 15,
       "text": [
        "<rdkit.Chem.rdchem.Mol at 0x1070a5410>"
       ]
      }
     ],
     "prompt_number": 15
    },
    {
     "cell_type": "code",
     "collapsed": false,
     "input": [
      "# An attempt to sanitize this 'molecule' fails...\n",
      "\n",
      "Chem.SanitizeMol(prod)"
     ],
     "language": "python",
     "metadata": {},
     "outputs": [
      {
       "ename": "ValueError",
       "evalue": "Sanitization error: Can't kekulize mol \n",
       "output_type": "pyerr",
       "traceback": [
        "\u001b[0;31m---------------------------------------------------------------------------\u001b[0m\n\u001b[0;31mValueError\u001b[0m                                Traceback (most recent call last)",
        "\u001b[0;32m<ipython-input-16-bc9725ea8473>\u001b[0m in \u001b[0;36m<module>\u001b[0;34m()\u001b[0m\n\u001b[1;32m      1\u001b[0m \u001b[0;31m# An attempt to sanitize this 'molecule' fails...\u001b[0m\u001b[0;34m\u001b[0m\u001b[0;34m\u001b[0m\u001b[0m\n\u001b[1;32m      2\u001b[0m \u001b[0;34m\u001b[0m\u001b[0m\n\u001b[0;32m----> 3\u001b[0;31m \u001b[0mChem\u001b[0m\u001b[0;34m.\u001b[0m\u001b[0mSanitizeMol\u001b[0m\u001b[0;34m(\u001b[0m\u001b[0mprod\u001b[0m\u001b[0;34m)\u001b[0m\u001b[0;34m\u001b[0m\u001b[0m\n\u001b[0m",
        "\u001b[0;31mValueError\u001b[0m: Sanitization error: Can't kekulize mol \n"
       ]
      }
     ],
     "prompt_number": 16
    },
    {
     "cell_type": "code",
     "collapsed": false,
     "input": [
      "# Re-run reaction on second product...\n",
      "\n",
      "prod = rxn.RunReactants((products[1],))[0][0]\n",
      "prod\n",
      "\n",
      "# Note that both applications of rhe reaction have been to the first ring..."
     ],
     "language": "python",
     "metadata": {},
     "outputs": [
      {
       "metadata": {},
       "output_type": "pyout",
       "png": "[encoded data removed]",
       "prompt_number": 17,
       "text": [
        "<rdkit.Chem.rdchem.Mol at 0x107173230>"
       ]
      }
     ],
     "prompt_number": 17
    },
    {
     "cell_type": "code",
     "collapsed": false,
     "input": [
      "# Sanitization fails again...\n",
      "\n",
      "Chem.SanitizeMol(prod)"
     ],
     "language": "python",
     "metadata": {},
     "outputs": [
      {
       "ename": "ValueError",
       "evalue": "Sanitization error: Can't kekulize mol \n",
       "output_type": "pyerr",
       "traceback": [
        "\u001b[0;31m---------------------------------------------------------------------------\u001b[0m\n\u001b[0;31mValueError\u001b[0m                                Traceback (most recent call last)",
        "\u001b[0;32m<ipython-input-10-f6376cd7a57d>\u001b[0m in \u001b[0;36m<module>\u001b[0;34m()\u001b[0m\n\u001b[1;32m      1\u001b[0m \u001b[0;31m# Sanitization fails again...\u001b[0m\u001b[0;34m\u001b[0m\u001b[0;34m\u001b[0m\u001b[0m\n\u001b[1;32m      2\u001b[0m \u001b[0;34m\u001b[0m\u001b[0m\n\u001b[0;32m----> 3\u001b[0;31m \u001b[0mChem\u001b[0m\u001b[0;34m.\u001b[0m\u001b[0mSanitizeMol\u001b[0m\u001b[0;34m(\u001b[0m\u001b[0mprod\u001b[0m\u001b[0;34m)\u001b[0m\u001b[0;34m\u001b[0m\u001b[0m\n\u001b[0m",
        "\u001b[0;31mValueError\u001b[0m: Sanitization error: Can't kekulize mol \n"
       ]
      }
     ],
     "prompt_number": 10
    },
    {
     "cell_type": "markdown",
     "metadata": {},
     "source": [
      "As is hopefully clear from the above, the problem is that, as the transform is applied to the same ring as the first on the second attempt, a non-physical 'intermediate' is obtained. This may be depicted but not sanitized, which means it may not used in any further transformations.\n",
      "\n",
      "Thus, the desired product, where the transform has been applied once to each ring, cannot be obtained by simple serial application of the transform to the first product. A slightly different strategy must thus be applied to ensure cases such as this one are handled. \n",
      "\n",
      "Now, all products are used, and the transform applied to each until the final molecule is converged upon (or we run out of iterations in a few pathological cases)..."
     ]
    },
    {
     "cell_type": "code",
     "collapsed": false,
     "input": [
      "mol = Chem.MolFromSmiles(\"Oc1nc(CCc2c(O)ncnc2O)nc(O)c1\")\n",
      "mol"
     ],
     "language": "python",
     "metadata": {},
     "outputs": [
      {
       "metadata": {},
       "output_type": "pyout",
       "png": "[encoded data removed]",
       "prompt_number": 40,
       "text": [
        "<rdkit.Chem.rdchem.Mol at 0x107145670>"
       ]
      }
     ],
     "prompt_number": 40
    },
    {
     "cell_type": "code",
     "collapsed": false,
     "input": [
      "fixed = None\n",
      "\n",
      "mols = [mol]\n",
      "\n",
      "changed = False\n",
      "\n",
      "for n_pass in range(1, 10):\n",
      "\n",
      "    logging.debug(\"apply_rule> starting pass {}...\".format(n_pass))\n",
      "\n",
      "    products = {}\n",
      "\n",
      "    for mol in mols:\n",
      "\n",
      "        for product in [x[0] for x in rxn.RunReactants((mol,))]:\n",
      "\n",
      "            try:\n",
      "\n",
      "                Chem.SanitizeMol(product)\n",
      "\n",
      "                smiles = Chem.MolToSmiles(product, isomericSmiles=True)\n",
      "\n",
      "            except ValueError as error:\n",
      "\n",
      "                continue # We are assuming this simply means an unphysical molecule has been generated\n",
      "\n",
      "            if smiles in products: continue # Keep only new structures\n",
      "                \n",
      "            products[smiles] = product\n",
      "\n",
      "    if products:\n",
      "\n",
      "        changed = True\n",
      "\n",
      "        logging.debug(\"apply_rule> there are {} products: will continue\".format(len(products.values())))\n",
      "\n",
      "        mols = products.values() # Update list of mols\n",
      "\n",
      "    else: # Finished...\n",
      "\n",
      "        logging.debug(\"apply_rule> there were no products: will return\")\n",
      "            \n",
      "        fixed = mols[0] if changed else None # If there a multiple possible 'fixed' molecules, just take first\n",
      "        \n",
      "        break\n",
      "        \n",
      "fixed"
     ],
     "language": "python",
     "metadata": {},
     "outputs": [
      {
       "output_type": "stream",
       "stream": "stderr",
       "text": [
        "[16:16:53 DEBUG   ] apply_rule> starting pass 1...\n"
       ]
      },
      {
       "output_type": "stream",
       "stream": "stderr",
       "text": [
        "[16:16:53 DEBUG   ] apply_rule> there are 2 products: will continue\n"
       ]
      },
      {
       "output_type": "stream",
       "stream": "stderr",
       "text": [
        "[16:16:53 DEBUG   ] apply_rule> starting pass 2...\n"
       ]
      },
      {
       "output_type": "stream",
       "stream": "stderr",
       "text": [
        "[16:16:53 DEBUG   ] apply_rule> there are 1 products: will continue\n"
       ]
      },
      {
       "output_type": "stream",
       "stream": "stderr",
       "text": [
        "[16:16:53 DEBUG   ] apply_rule> starting pass 3...\n"
       ]
      },
      {
       "output_type": "stream",
       "stream": "stderr",
       "text": [
        "[16:16:53 DEBUG   ] apply_rule> there were no products: will return\n"
       ]
      },
      {
       "metadata": {},
       "output_type": "pyout",
       "png": "[encoded data removed]",
       "prompt_number": 41,
       "text": [
        "<rdkit.Chem.rdchem.Mol at 0x107173668>"
       ]
      }
     ],
     "prompt_number": 41
    },
    {
     "cell_type": "markdown",
     "metadata": {},
     "source": [
      "Note also that it would be possible to deal with this issue by rewriting the SMARTS transforms to be more specific (_i.e._ by excluding cases such as the present one). However, tt was felt that this would likely end up being more complicated than the chosen method, as mutiple complicated SMARTS could become necessary to represent fairly simple transforms."
     ]
    }
   ],
   "metadata": {}
  }
 ]
}