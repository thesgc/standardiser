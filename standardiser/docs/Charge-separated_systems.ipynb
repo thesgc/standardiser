{
 "metadata": {
  "name": ""
 },
 "nbformat": 3,
 "nbformat_minor": 0,
 "worksheets": [
  {
   "cells": [
    {
     "cell_type": "code",
     "collapsed": true,
     "input": [
      "%run setup.py\n",
      "\n",
      "reload(logging) # Seems to be required to get logging from modules working\n",
      "\n",
      "logging.basicConfig(level=logging.INFO, format=\"[%(asctime)s %(levelname)-8s] %(message)s\", datefmt=\"%Y/%b/%d %H:%M:%S\")\n",
      "\n",
      "sys.path.append(\"..\")"
     ],
     "language": "python",
     "metadata": {
      "slideshow": {
       "slide_type": "skip"
      }
     },
     "outputs": [],
     "prompt_number": 2
    },
    {
     "cell_type": "code",
     "collapsed": true,
     "input": [
      "from standardise import rules, neutralise, standardise\n",
      "\n",
      "from demo import *"
     ],
     "language": "python",
     "metadata": {},
     "outputs": [],
     "prompt_number": 3
    },
    {
     "cell_type": "markdown",
     "metadata": {
      "slideshow": {
       "slide_type": "slide"
      }
     },
     "source": [
      "# Rules for conjugated charge-seperated systems\n",
      "\n",
      "### Introduction\n",
      "\n",
      "These rules address cases in which positive and negative formal charges are in conjugation, and the molecule can be neutralised _via_ successive rearrangement of adjacent double and single bonds.\n",
      "\n",
      "Some issues relating to these rules are discussed below."
     ]
    },
    {
     "cell_type": "markdown",
     "metadata": {},
     "source": [
      "### Possible redundancy of rules\n",
      "\n",
      "Recall that bonds to Group I & II metals are broken and a round of protonation/deprotonation-based neutralisation are done _before_ these rules are applied, and that a further round of neutralisation is carried out afterwards. The neutralisation step before rule application is worthy of note, as the it can mean some rules for charge-seperated systems are apparently redundant in some situations (unsubsituted analogues, in particular)."
     ]
    },
    {
     "cell_type": "markdown",
     "metadata": {
      "slideshow": {
       "slide_type": "slide"
      }
     },
     "source": [
      "Below is an example of where the cation in the charge-seperated species bears a proton and the `neutralise` module thus produces an equivalent overall effect as the `rules` module..."
     ]
    },
    {
     "cell_type": "code",
     "collapsed": false,
     "input": [
      "# Application of rule...\n",
      "\n",
      "demo(\"CC[N-]C(C)=[NH+]C\")"
     ],
     "language": "python",
     "metadata": {},
     "outputs": [
      {
       "output_type": "stream",
       "stream": "stderr",
       "text": [
        "[2014/Jan/13 11:55:44 INFO    ] rule 13 'Fix 1,3 charge-seperated systems (non-aromatic)' applied\n"
       ]
      },
      {
       "html": [
        "<!-- NB the styling is inline as otherwise it is overridden by the Notebook stylesheets -->\n",
        "\n",
        "<table>\n",
        "\t<tr>\n",
        "\t\t<th style=\"text-align: center;\">Original</th>\n",
        "\t\t<th style=\"text-align: center;\">Transformed</th>\n",
        "\t</tr>\n",
        "\t<tr>\n",
        "\t\t<td><img src=\"data:image/png;base64,iVBORw0KGgoAAAANSUhEUgAAASwAAAEsCAIAAAD2HxkiAAAFG0lEQVR4nO3d3W6qWhhA0bJz3v+V\n",
        "2Rfu07T+g8BEHCO9aGrSENvpt1gqDuM4fgGdP/UBwKcTIcRECDERQkyEEBMhxEQIMRFCTIQQEyHE\n",
        "RAgxEUJMhBATIcRECDERQkyEEBMhxEQIMRFCTIQQEyHERAgxEUJMhBATIcRECDERQkyEEBMhxEQI\n",
        "MRFCTIQQEyHERAgxEUJMhBATIcRECDERQkyEEBMhxEQIMRFCTIQQEyHERAgxEUJMhBATIcRECDER\n",
        "QkyEEBMhxEQIMRFCTIQQEyHERAgxEUJMhBATIcRECDERQkyEEBMhxEQIMRFCTIQQEyHERAgxEUJM\n",
        "hBATIcRECDERQkyEEBMhxEQIMRFCTIQQEyHERAgxEUJMhBATIcRECDERQkyEEBMhxEQIMRFCTIQQ\n",
        "EyHERAgxEUJMhBATIcRECDERQkyEEBMhxEQIMRFCTIQQEyHERAgxEUJMhBATIcRECDERQkyEEPuv\n",
        "PgC4bhiG7+/HcQyPZG0iZBd+Jndy7PB+EiGBT07ukghZ0e/WPmV5OZUI+W0Yvs4K+f7JnZuu/Zqv\n",
        "r7MbhXed3VEuXKwVZxjHW3lyToRcGMdFOuRJImQ50p3FOSHXnIbh5YJSZisQITdc7fByY+bqN04H\n",
        "pxAhS7i1fcoTnBNymx2aTYiQuyZNNmNwlsFrF3jsex7e2arxjzSXScgjMluZCCFmd3QZn/Pmt18M\n",
        "ySWIcJrL9+Cc/AxvGA50pi2z9Ynwumdig0Uc6DF7rqu9vXi3HGQY3h+DhuRCPmgSbjncxnE8SIes\n",
        "7+ARhvslB+/QGFzOwSM8bAMbkNlWPE+4otMwrI+CvRPhut61Q1syGxLh6t61Q7YiQibygLI0EW7h\n",
        "zYbhk6tNa9GFiHAjb9YhGxLhdt6jQ1symxMhxES4qXEc9z8L2ZgIt7briydZixZEGNh1h2xOhDzH\n",
        "GFyNCBt7HIYyi4gws8cOKYiwtKMObcl0RBjbUYdERNgzXT7cwd9Zzz2XI9hatCDCz/BoyTvcuRSI\n",
        "9lYmwmOZen75f2DjYS7T+Ibc7+9pxmbOE39oHSZMwtrlp9ve/7zbh/mp6N2IcAfmfcq0axYfhaco\n",
        "dmDSc4Xj+O9rrWN5h3ceH4sIOafDjYlwH3b2whkdbsk54W6cOvy5zjzLwKnaQYlwx9LqbNJsxnJ0\n",
        "TyxKP5IId2Znk0eHG7De4DHr0lWZhBATIY9ZlK5KhDxFh+sRIc/S4UpEyAQ6XIMIISZCpjEMFydC\n",
        "JtPhskTIHDpckAiZSYdLESHERMh8huEiRMhLdPg6EfIqHb5IhCxAh68QIcREyDIMw9lEyGJ0OI8I\n",
        "WZKrYMwgQoiJEGIihJgIISZCiIkQYiKEmAghJkKIiRBiIoSYCCEmQoiJEGIihJgIISZCiIkQYiKE\n",
        "mAghJkKIiRBiIoSYCCEmQoiJEGIihJgIISZCiIkQYiKEmAghJkKIiRBiIoSYCCEmQoiJEGIihJgI\n",
        "ISZCiIkQYiKEmAghJkKIiRBiIoSYCCEmQoiJEGIihJgIISZCiIkQYiKEmAghJkKIiRBiIoSYCCEm\n",
        "QoiJEGIihJgIISZCiIkQYiKEmAghJkKIiRBiIoSYCCEmQoiJEGIihJgIISZCiIkQYiKEmAghJkKI\n",
        "iRBiIoSYCCEmQoiJEGIihJgIISZCiIkQYiKEmAghJkKIiRBiIoSYCCEmQoiJEGIihJgIISZCiIkQ\n",
        "YiKEmAghJkKIiRBiIoSYCCEmQoiJEGIihJgIISZCiP0F91Q3Uawa6fQAAAAASUVORK5CYII=\n",
        "\"></td>\n",
        "\t\t<td><img src=\"data:image/png;base64,iVBORw0KGgoAAAANSUhEUgAAASwAAAEsCAIAAAD2HxkiAAAFB0lEQVR4nO3d0XKiWBRA0XZq/v+X\n",
        "mYfUdKWjtorcuwHXekolsUIRd84VhFyWZfkFdP6pNwA+nQghJkKIiRBiIoSYCCEmQoiJEGIihJgI\n",
        "ISZCiIkQYiKEmAghJkKIiRBiIoSYCCEmQoiJEGIihJgIISZCiIkQYiKEmAghJkKIiRBiIoSYCCEm\n",
        "QoiJEGIihJgIISZCiIkQYiKEmAghJkKIiRBiIoSYCCEmQoiJEGIihJgIISZCiIkQYiKEmAghJkKI\n",
        "iRBiIoSYCCEmQoiJEGIihJgIISZCiIkQYiKEmAghJkKIiRBiIoSYCCEmQoiJEGIihJgIISZCiIkQ\n",
        "YiKEmAghJkKIiRBiIoSYCCEmQoiJEGIihJgIISZCiIkQYiKEmAghJkKIiRBiIoSYCCEmQoiJEGIi\n",
        "hJgIISZCiIkQYiKEmAghJkKIiRBiIoSYCCEmQoiJEGIihJgIISZCiIkQYiKEmAghJkKIiRBiIoTY\n",
        "v/UGwG2Xy+X3x8uyhFsymgjZhe/JfTl3eN+JkMAnJ3dNhAz0Z2ufsrx8lQi543L59SOV35+5/6Uf\n",
        "E+7P7xLebSLkvuvYHjHhVnCKgvuW5edoYwARQsxylL/6GobXq0wTcjsi5JGbHV4fmGEty1GIiZAn\n",
        "OEIzkgh5jpMPw1y8d4HHfo9Bz5YBTEIeUeBgIoSYUxTb+JyL39icCF9zfQ3Ol+/hXS4neqVtLTqe\n",
        "CG97JjbYxIn+Zq91s7c3d8tJhqExOMUHTcKZw21ZlpN0yHgnjzA8XqJDnnTyCDWwnrXoLM4TDvQ1\n",
        "DOutYO9EONZROzQGJxLhcEftkFlECDERznCwYWgtOpcIJzlYh0wkwnmO0aExOJ0IISbCqZZl2f8s\n",
        "ZDIRzrbreyZZixZEGNh1h0wnQoiJsLHHYWgtGhFhZo8dUhBhaUcdGoMdEcZ21CEREULs5FfWH8K9\n",
        "fwE43PUIthYtiHAXhj/5Hy15L24F0hHhubz6+vL/8JbT3KbxgOz3Y1pxMOeJX7QOEybhnly/NPz6\n",
        "zEvJqehoRLgzzx+icc/isxDhztw8VDqxCh3O5zwhPx3jDgAnIsL92cGbaHQ4k+XoLk04f/+9MYvP\n",
        "lAg/w+tjzYvDaUS4V6sXpc8/6lFgOpxDhDv2TIfbJXfnQToczv49lMHJ3f+xnicDmYRH8Pf25HFw\n",
        "IjyaIjmL0qHsWZ6lw0GcrOdZzuAPIkJeoMMRRAgxEfIaw3BzIuRlOtyWCFlDhxsSISvpcCsihJgI\n",
        "Wc8w3IQIeYsO3ydC3qXDN4mQDejwHSKEmAjZhmG4mgjZjA7XESFbcsHhCiKEmAghJkKIiRBiIoSY\n",
        "CCEmQoiJEGIihJgIISZCiIkQYiKEmAghJkKIiRBiIoSYCCEmQoiJEGIihJgIISZCiIkQYiKEmAgh\n",
        "JkKIiRBiIoSYCCEmQoiJEGIihJgIISZCiIkQYiKEmAghJkKIiRBiIoSYCCEmQoiJEGIihJgIISZC\n",
        "iIkQYiKEmAghJkKIiRBiIoSYCCEmQoiJEGIihJgIISZCiIkQYiKEmAghJkKIiRBiIoSYCCEmQoiJ\n",
        "EGIihJgIISZCiIkQYiKEmAghJkKIiRBiIoSYCCEmQoiJEGIihJgIISZCiIkQYiKEmAghJkKIiRBi\n",
        "IoSYCCEmQoiJEGIihJgIISZCiIkQYiKEmAghJkKIiRBiIoSYCCEmQoiJEGIihJgIISZCiIkQYiKE\n",
        "mAghJkKIiRBiIoTYf+H9MFH6KrHvAAAAAElFTkSuQmCC\n",
        "\"></td>\n",
        "\t</tr>\n",
        "</table>"
       ],
       "metadata": {},
       "output_type": "pyout",
       "prompt_number": 18,
       "text": [
        "<IPython.core.display.HTML at 0x10939c610>"
       ]
      }
     ],
     "prompt_number": 18
    },
    {
     "cell_type": "code",
     "collapsed": false,
     "input": [
      "# Application neutralise module (_i.e._ addition/removal of protons)...\n",
      "\n",
      "neutralise.apply(s2m(\"CC[N-]C(C)=[NH+]C\"))"
     ],
     "language": "python",
     "metadata": {},
     "outputs": [
      {
       "metadata": {},
       "output_type": "pyout",
       "png": "[encoded data removed]",
       "prompt_number": 19,
       "text": [
        "<rdkit.Chem.rdchem.Mol at 0x10950a1b0>"
       ]
      }
     ],
     "prompt_number": 19
    },
    {
     "cell_type": "markdown",
     "metadata": {},
     "source": [
      "For full-substituted species, this is not an issue, as the `neutralise` module will have no effect..."
     ]
    },
    {
     "cell_type": "code",
     "collapsed": false,
     "input": [
      "# Application of rule...\n",
      "\n",
      "demo(\"C[N-]C(C)=[N+](C)C\")"
     ],
     "language": "python",
     "metadata": {},
     "outputs": [
      {
       "output_type": "stream",
       "stream": "stderr",
       "text": [
        "[2014/Jan/13 11:25:00 INFO    ] rule 13 'Fix 1,3 charge-seperated systems (non-aromatic)' applied\n"
       ]
      },
      {
       "html": [
        "<!-- NB the styling is inline as otherwise it is overridden by the Notebook stylesheets -->\n",
        "\n",
        "<table>\n",
        "\t<tr>\n",
        "\t\t<th style=\"text-align: center;\">Original</th>\n",
        "\t\t<th style=\"text-align: center;\">Transformed</th>\n",
        "\t</tr>\n",
        "\t<tr>\n",
        "\t\t<td><img src=\"data:image/png;base64,iVBORw0KGgoAAAANSUhEUgAAASwAAAEsCAIAAAD2HxkiAAAFCElEQVR4nO3dy04jSRRFUbLV///L\n",
        "rgElVCpo40ebHTdyLTFkYAlvnSQTHMflcnkDOv/ULwDOToQQEyHERAgxEUJMhBATIcRECDERQkyE\n",
        "EBMhxEQIMRFCTIQQEyHERAgxEUJMhBATIcRECDERQkyEEBMhxEQIMRFCTIQQEyHERAgxEUJMhBAT\n",
        "IcRECDERQkyEEBMhxEQIMRFCTIQQEyHERAgxEUJMhBATIcRECDERQkyEEBMhxEQIMRFCTIQQEyHE\n",
        "RAgxEUJMhBATIcRECDERQkyEEBMhxEQIMRFCTIQQEyHERAgxEUJMhBATIcRECDERQkyEEBMhxEQI\n",
        "MRFCTIQQEyHERAgxEUJMhBATIcRECDERQkyEEBMhxEQIMRFCTIQQEyHERAgxEUJMhBATIcRECDER\n",
        "QkyEEBMhxEQIMRFCTIQQEyHERDjecRz1S+ApIpztOI7L5VK/Cp4iQoiJcDAzuAcRQkyEU5nBbYhw\n",
        "JAXuRIQQE+E8ZnAzIhxGgfsRIcREOIkZ3JIIISbCMczgrkQ4gwI3JkKIiXAAM7g3Ea7uON4UuDcR\n",
        "QkyESzuONyu4PRFCTITrMoMnIcJFKfA8RAgxEa7IDJ6KCCEmwhWZwVMRIcRECDERQkyEEBPhj/t8\n",
        "kpmzzc5NhIW7qjuO319s6t/6BazouWM3rz1e+P3s4XK543n8+ze/7fAI338nf0mEX4jfKPNj+5IC\n",
        "/4vL0cjHvt34ze9clO5IhJ3PHX787vf5l8DhHZrBK1yOruT9bbrd5agCr7OEKReliLD3eSL2Gg0z\n",
        "+C0R/rjr1X08Ffxy7ozhjkS4mL+CHM4M3kKE08wZQwXeSITr+XYM53TILUS4vJmlmcHbiXBJ3759\n",
        "1x5DBd5FhKva6w4NV4hwrFXH0AzeS4QLc4fmHEQ4x4TSnKb4ABGubdQdmu3+8vyHiHB57tDsToTz\n",
        "rTGGZvBhIpzAGG5NhAN97rAeQzP4DBEOMeoODXcR4RyrXpSawSeJcCPGcCZ/YTTNn4Et8LMzg8+z\n",
        "hJMtsHgKfJ4Ip/Gu344IB1r1Dg2PESHERDiTMdyICLfwug4dafp6zqIY66+P0H9FG5uejbEaSzjZ\n",
        "z7Rx14EZ3M8SznbkR5ryNEvIDYzhK1nCwX70c83eO7xyV9YgP0qEPEp1/xOXo1MFH+/povQ1RDhS\n",
        "9gG71u8FRMhVux8kvAIRzuNz5jcjQoiJcBgzuB8RTqLALYkQYiIcwwzuSoQQE+EMZnBjIhxAgXsT\n",
        "IcREuDozuD0RLk2BZyBCiIlwXWbwJEQIMREuygyehwhXpMBTESHERLgcM3g2IoSYCNdiBk9IhAtR\n",
        "4DmJEGIiXIUZPC0RQkyESzCDZybCJSjwzEQIMRFCTIQQEyHERAgxEUJMhBATIcRECDERQkyEEBMh\n",
        "xEQIMRFCTIQQEyHERAgxEUJMhBATIcRECDERQkyEEBMhxEQIMRFCTIQQEyHERAgxEUJMhBATIcRE\n",
        "CDERQkyEEBMhxEQIMRFCTIQQEyHERAgxEUJMhBATIcRECDERQkyEEBMhxEQIMRFCTIQQEyHERAgx\n",
        "EUJMhBATIcRECDERQkyEEBMhxEQIMRFCTIQQEyHERAgxEUJMhBATIcRECDERQkyEEBMhxEQIMRFC\n",
        "TIQQEyHERAgxEUJMhBATIcRECDERQkyEEBMhxEQIMRFCTIQQEyHERAgxEUJMhBATIcRECDERQkyE\n",
        "EBMhxEQIMRFCTIQQ+wX4mxVtGTTK/QAAAABJRU5ErkJggg==\n",
        "\"></td>\n",
        "\t\t<td><img src=\"data:image/png;base64,iVBORw0KGgoAAAANSUhEUgAAASwAAAEsCAIAAAD2HxkiAAAE1UlEQVR4nO3dW07jWABF0bjV85+y\n",
        "6yP1gZoqOsEJ+z7WGoGlsHWMHbjHeZ43oPNPfQGwOxFCTIQQEyHERAgxEUJMhBATIcRECDERQkyE\n",
        "EBMhxEQIMRFCTIQQEyHERAgxEUJMhBATIcRECDERQkyEEBMhxEQIMRFCTIQQEyHERAgxEUJMhBAT\n",
        "IcRECDERQkyEEBMhxEQIMRFCTIQQEyHERAgxEUJMhBATIcRECDERQkyEEBMhxEQIMRFCTIQQEyHE\n",
        "RAgxEUJMhBATIcRECDERQkyEEBMhxEQIMRFCTIQQEyHERAgxEUJMhBATIcRECDERQkyEEBMhxEQI\n",
        "MRFCTIQQEyHERAgxEUJMhBATIcRECDERQkyEEBMhxEQIMRFCTIQQEyHERAgxEUJMhBATIcRECDER\n",
        "QkyEEBMhxEQIMRFCTIQQE+H0juOoL4FLRDi34zjO86yvgktECDERTswMrkGEEBPhrMzgMkQ4JQWu\n",
        "RIQQE+F8zOBiRDgZBa5HhBAT4UzM4JJECDERTsMMrkqEc1DgwkQIMRFOwAyuTYSjO46bAtcmQoiJ\n",
        "cGjHcbOCyxMhxEQ4LjO4CREOSoH7ECHERDgiM7gVEUJMhCMyg1sRIcRECDERQkyEEBNh6vOpZs45\n",
        "248Ia6rb3r/1BYzo2rGbj75e+P0e4jy9m9+cCP/AH9Hyk9yODuA+huxKhGPQ4cZECDERDuPjGFrF\n",
        "nYhwJB8fCOlwGyJM/fExrPw2I8LBGMP9iBBiIhyPMdyMCIenw9WJcEi+N7cTEY7KTek2RAgxEQ7M\n",
        "GO5BhPPQ4aJEODZPaDYgwuG5KV2dCCEmwhkYw6WJcEI6XIsIJ+EJzboO/1lsJh838PMH9+6F9KPy\n",
        "HpYQYpZwNl+PIROyhDPzhGYJIpyN9VuOCCfkteFaRAgxEc7JGC5EhEv4mQ4dafoejkab1n/OkPmZ\n",
        "N/WOUnwDSziz87zdbj86Rk6PegNLOLfDkabzs4Q8yRi+mggndhzRtw51+FIihJgIZ5XN4J0xfB0R\n",
        "Tiku8C6/gFWIkId9ru48zeF1IpzPEDPI64iQS/xueJ0IJ2MG1yPCmYxZoDG8SIQQE+E0xpzBO2N4\n",
        "hQghJsI5jDyDd8bw20Q4gfEL5AoR8jLG8HtEOLq5ZvA8b4cQnyTCoc1VIN8jQl7sPE9j+BQRjssM\n",
        "bkKEvJ4xfIoIBzX7DOrwcSIc0ewF8hQR8i7G8EEiHM5KM6jDR4gQYiIcy0ozeGcM/5cIB7JegTxC\n",
        "hLydMfyaCEex9gzq8AsihJgIh7D2DN4Zw79Z/7OHwVlCiIkQYiKEmAghJkKIiRBiIoSYCCEmQoiJ\n",
        "EGIihJgIISZCiIkQYiKEmAghJkKIiRBiIoSYCCEmQoiJEGIihJgIISZCiIkQYiKEmAghJkKIiRBi\n",
        "IoSYCCEmQoiJEGIihJgIISZCiIkQYiKEmAghJkKIiRBiIoSYCCEmQoiJEGIihJgIISZCiIkQYiKE\n",
        "mAghJkKIiRBiIoSYCCEmQoiJEGIihJgIISZCiIkQYiKEmAghJkKIiRBiIoSYCCEmQoiJEGIihJgI\n",
        "ISZCiIkQYiKEmAghJkKIiRBiIoSYCCEmQoiJEGIihJgIISZCiIkQYiKEmAghJkKIiRBiIoSYCCEm\n",
        "QoiJEGIihJgIISZCiIkQYiKE2C8n9uRUvsoxBQAAAABJRU5ErkJggg==\n",
        "\"></td>\n",
        "\t</tr>\n",
        "</table>"
       ],
       "metadata": {},
       "output_type": "pyout",
       "prompt_number": 9,
       "text": [
        "<IPython.core.display.HTML at 0x1094e3210>"
       ]
      }
     ],
     "prompt_number": 9
    },
    {
     "cell_type": "code",
     "collapsed": false,
     "input": [
      "# Application neutralise module (_i.e._ addition/removal of protons)...\n",
      "\n",
      "neutralise.apply(s2m(\"C[N-]C(C)=[N+](C)C\"))"
     ],
     "language": "python",
     "metadata": {},
     "outputs": [
      {
       "metadata": {},
       "output_type": "pyout",
       "png": "[encoded data removed]",
       "prompt_number": 13,
       "text": [
        "<rdkit.Chem.rdchem.Mol at 0x1094e59f0>"
       ]
      }
     ],
     "prompt_number": 13
    },
    {
     "cell_type": "markdown",
     "metadata": {},
     "source": [
      "The `neutralise` module will not charge balance these systems as they appear to be potential zwitterions; see the [documentation](3_neutralise.ipynb) for that module for futher details."
     ]
    },
    {
     "cell_type": "markdown",
     "metadata": {
      "slideshow": {
       "slide_type": "slide"
      }
     },
     "source": [
      "### Interaction of `neutralise` module and 'charge-seperated' rules\n",
      "\n",
      "The pre-application of the `neutralise` module could conceivably lead to problems in aromatic systems where potentially undesirable imine species might be produced. However, it doesn't seem to be a problem in practice as the undesirable species are fixed by the subsequent application of other rules.\n",
      "\n",
      "This is  illustrated below..."
     ]
    },
    {
     "cell_type": "code",
     "collapsed": false,
     "input": [
      "mol = s2m(\"[n-]1c(=[NH+]C)cccc1\")\n",
      "\n",
      "mol"
     ],
     "language": "python",
     "metadata": {},
     "outputs": [
      {
       "metadata": {},
       "output_type": "pyout",
       "png": "[encoded data removed]",
       "prompt_number": 21,
       "text": [
        "<rdkit.Chem.rdchem.Mol at 0x1094e1d70>"
       ]
      }
     ],
     "prompt_number": 21
    },
    {
     "cell_type": "markdown",
     "metadata": {},
     "source": [
      "The initial application of the `neutralise` module removes the charges _via_ protonation/deprotonation to give a potentially undesirable hydropyridine-imine..."
     ]
    },
    {
     "cell_type": "code",
     "collapsed": false,
     "input": [
      "neutralise.apply(mol)"
     ],
     "language": "python",
     "metadata": {},
     "outputs": [
      {
       "metadata": {},
       "output_type": "pyout",
       "png": "[encoded data removed]",
       "prompt_number": 22,
       "text": [
        "<rdkit.Chem.rdchem.Mol at 0x10950a3c0>"
       ]
      }
     ],
     "prompt_number": 22
    },
    {
     "cell_type": "markdown",
     "metadata": {},
     "source": [
      "However, this is then fixed by application of the appropriate 'hydropyridine-imine -> aminopyridine' transform during the rule-application step, so the desired parent is actually obtained..."
     ]
    },
    {
     "cell_type": "code",
     "collapsed": false,
     "input": [
      "standardise.apply(s2m(\"[n-]1c(=[NH+]C)cccc1\"))"
     ],
     "language": "python",
     "metadata": {},
     "outputs": [
      {
       "output_type": "stream",
       "stream": "stderr",
       "text": [
        "[2014/Jan/13 11:40:10 INFO    ] rule 6 'hydropyridin-2-imine -> 2-amino-pyridine' applied on pass 1\n"
       ]
      },
      {
       "metadata": {},
       "output_type": "pyout",
       "png": "[encoded data removed]",
       "prompt_number": 17,
       "text": [
        "<rdkit.Chem.rdchem.Mol at 0x1094e5e10>"
       ]
      }
     ],
     "prompt_number": 17
    },
    {
     "cell_type": "markdown",
     "metadata": {},
     "source": [
      "Note that this is as would be obtained by application of the rules in the absence of the neutralisation step..."
     ]
    },
    {
     "cell_type": "code",
     "collapsed": false,
     "input": [
      "demo(\"[n-]1c(=[N+](C)C)cccc1\")"
     ],
     "language": "python",
     "metadata": {
      "slideshow": {
       "slide_type": "-"
      }
     },
     "outputs": [
      {
       "output_type": "stream",
       "stream": "stderr",
       "text": [
        "[2013/Dec/02 14:20:02 INFO    ] rule 10 'Fix 1,3 charge-seperated systems (aromatic 1)' applied\n"
       ]
      },
      {
       "html": [
        "<!-- NB the styling is inline as otherwise it is overridden by the Notebook stylesheets -->\n",
        "\n",
        "<table>\n",
        "\t<tr>\n",
        "\t\t<th style=\"text-align: center;\">Original</th>\n",
        "\t\t<th style=\"text-align: center;\">Transformed</th>\n",
        "\t</tr>\n",
        "\t<tr>\n",
        "\t\t<td><img src=\"data:image/png;base64,iVBORw0KGgoAAAANSUhEUgAAASwAAAEsCAIAAAD2HxkiAAAFn0lEQVR4nO3dS3bbOBQAUbFP73/L\n",
        "7IHcTuIP9XGoIsB7R5lZRFB4tGhby7quF6DzT/0C4OxECDERQkyEEBMhxEQIMRFCTIQQEyHERAgx\n",
        "EUJMhBATIcRECDERQkyEEBMhxEQIMRFCTIQQEyHERAgxEUJMhBATIcRECDERQkyEEBMhxEQIMRFC\n",
        "TIQQEyHERAgxEUJMhBATIcRECDERQkyEEBMhxEQIMRFCTIQQEyHERAgxEUJMhBATIcRECDERQkyE\n",
        "EBMhxEQIMRFCTIQQEyHERAgxEUJMhBATIcRECDERQkyEEBMhxEQIMRFCTIQQEyHERAgxEUJMhBAT\n",
        "IcRECDERQkyEEBMhxEQIMRFCTIQQEyHERAgxEUJMhBATIcRECDERQkyEEBMhxEQIMRFCTIQQEyHE\n",
        "RAgxEUJMhBATIcRECDERQkyEEBMhxEQIMRFCTIQQEyHERAgxEUJMhBATIcRECDERQkyEEBMhxEQI\n",
        "MRFC7N/6BWSWZVnXtX4V+1qW5fVfdPpV/evm34gb5u6wurq5V3UPbkchduoI13VNbtheIBxHE6/q\n",
        "Tk4dIRzB2SOc8tjOvyubclX3c/YIISfC2Y7tfAxeTbaquxIhxA5xah7BQQbID21cxa5zaeOLTrCq\n",
        "ezvvT8zMZ3vHJzFcb0p1uM3t6Bvfw1AR4SQOO3CcbjeJ8BfbhYQIZ3DYMXjldNsmwj/YLryeCId3\n",
        "8DF45XTbIMKPbJedWNjviPAL67qOsluGGINsE+HAhivQMPySCL+2rhe7hdcQ4aiGG4NXhuFnIvyW\n",
        "YchriHDLYTscdAxeGYYf+C2Kn9l1Mw2bGQ8xCW844DAcegxeGYa/G/6/82wmKPDdTNfyEyYhxEQ4\n",
        "kslGh5vSKxFCTITDmGwMXhmGFxFCToSbPh/S0bE9xxj8cugZhh7W37IsDzw0P/dm2jbHObIHk/CW\n",
        "AzytXy6XuTfvyYehSfgzH+bkPif9268YPzSTD2Z7DJ58SJqEdzjAMGRiIrzP5w6X5fI+oPZO9H1K\n",
        "jHkWGIPbRPisdX1r4/0fe3+5q9E61NhNIrybm9IdSPQiwsd83i6v3EADDkON3UOEm/7fQL+2vS31\n",
        "90j0SoS3HejRwFDD0PsxdxLhDQcqcCgau58IRzPUMPyORH8nwi0HHYOH71BjDxHhtw5a4Pgk+oEI\n",
        "x3TgYaixR4nwa8bgTiT6mQiHdchh6LHEE0T4hWVZBtsqx+hQY88R4Ucj7aRRXuflchlrYV9LhIM7\n",
        "zE2pxp4mwj/YSTuxsBtEOL4DDEPvx/yECH+xV55j3X5IhFM4wDD8jkRvEuGb4fdK1OHw63YAImRH\n",
        "Er2Hvzt6uUyzV15+CZOsW80k5HnbBUr0TiK0V3ZhVe8nQoidPUIH9h6s6kPOHiHkTh3hVAe2zzMd\n",
        "1qkjnM3xflyGe5z3OeGEB/b10zLuu6g7gn0y6dlWdX/njfDke+WOqz/1+ryS29G5+OioAZ13Ek7r\n",
        "803phyzPfQtwQCI8AdUdm9vRGbkpHYoIJ2X6jWO6t+lhNCYhxEQIMRFCTIQQEyHERAgxEUJMhBAT\n",
        "IcRECDERQkyEEBMhxEQIMRFCTIQQEyHERAgxEUJMhBATIcRECDERQkyEEBMhxEQIMRFCTIQQEyHE\n",
        "RAgxEUJMhBATIcRECDERQkyEEBMhxEQIMRFCTIQQEyHERAgxEUJMhBATIcRECDERQkyEEBMhxEQI\n",
        "MRFCTIQQEyHERAgxEUJMhBATIcRECDERQkyEEBMhxEQIMRFCTIQQEyHERAgxEUJMhBATIcRECDER\n",
        "QkyEEBMhxEQIMRFCTIQQEyHERAgxEUJMhBATIcRECDERQkyEEBMhxEQIMRFCTIQQEyHERAgxEUJM\n",
        "hBATIcRECDERQkyEEBMhxEQIMRFCTIQQEyHERAgxEUJMhBATIcRECDERQkyEEBMhxP4DLWygV0Sk\n",
        "M9cAAAAASUVORK5CYII=\n",
        "\"></td>\n",
        "\t\t<td><img src=\"data:image/png;base64,iVBORw0KGgoAAAANSUhEUgAAASwAAAEsCAIAAAD2HxkiAAAFo0lEQVR4nO3d23LaSBRAUTQ1///L\n",
        "zAOZXBwQYBt2d2utyjtSV28dWXLwdj6fT0Dnn/oA4OhECDERQkyEEBMhxEQIMRFCTIQQEyHERAgx\n",
        "EUJMhBATIcRECDERQkyEEBMhxEQIMRFCTIQQEyHERAgxEUJMhBATIcRECDERQkyEEBMhxEQIMRFC\n",
        "TIQQEyHERAgxEUJMhBATIcRECDERQkyEEBMhxEQIMRFCTIQQEyHERAgxEUJMhBATIcRECDERQkyE\n",
        "EBMhxEQIMRFCTIQQEyHERAgxEUJMhBATIcRECDERQkyEEBMhxEQIMRFCTIQQEyHERAgxEUJMhBAT\n",
        "IcRECDERQkyEEBMhxEQIMRFCTIQQEyHERAgxEUJMhBATIcRECDERQkyEEBMhxEQIMRFCTIQQEyHE\n",
        "RAgxEUJMhBATIcRECDERQkyEEBMhxEQIMRFCTIQQEyHERAgxEUJMhBATIcRECDERQkyEEBMhxEQI\n",
        "MRFC7N/6ADLbtp3P5/ooXmvbtvd/6PKr+u3W34g71u6wOru1V/UV3I5C7NARns/n5IbtDcJxtPCq\n",
        "vsihI4QRHD3CJS/b+U9lS67q6xw9QsiJcLXLdj4GLxZb1ZcSIcSGuGqOYJAB8kU7Z/HSubTzoQus\n",
        "6qsd9zdm1rO/45MYLjelOtzndvQHP8NQEeEihh04rm53ifAX24WECFcw7Bi8cHXbJ8I/2C68nwin\n",
        "N/gYvHB12yHCj2yXF7Gwt4jwivP5PMtumWIMsk+EE5uuQMPwKhFedz6f7BbeQ4Szmm4MXhiGfxPh\n",
        "TYYh7yHCPcN2OOkYvDAMPxAhxER4x4DDcOoxeGEY/k6Ek1mgwAsd/iTC+5bY84xLhDNZZgxeGIYX\n",
        "IoSYCKex2Bi8MAxPIoScCB/29wX7jZfwm2Nw2378m8HVoWcY+srDZ2zblUel7Qb6+R7z6rGNZMnb\n",
        "6W9hEj4jenO/nU5rb96DD0OT8Mtef3U/78+6GYbh/hg8+JA0CZ804K+x/W7kY+MGET7v/R3+nBK3\n",
        "PnfsMWIM7hPhJB7vcLBhqLG7RPgpg9+UzkOiJxF+3vu3zoTDUGOPEOFDtu1adbbX10j0QoT3DfTk\n",
        "f6ph6HnMg0R4x0AFTkVjjxPhbKYahrdI9Hci3DPoGHw8s6hDjT1FhDcNWuAjxj5uiX4gwjkNfFOq\n",
        "sWeJ8LqJx+DYJPo3EU5ryGHotcQniPCKbdsm2ypjPAjV2OeI8KOZdtLd4xzpdcVMC/teIpzcMJlp\n",
        "7NNE+IcFd9IYlS64sN9HhPMb4N295zFfIcJflt0rLz6pZdftXUS4hCFfV/z/gRK9Q4Q/TL9Xosym\n",
        "X7cBiPAwxnt3z4XvHT2dltkrl2++2TmR7z7HRdatZhLyefsFSvRBIlxrrwxzIkut6ouJEGJHj9AF\n",
        "+xWs6lOOHiHkDh3hshfsMf+eKTccOsKV1f+pgscd9z3h4hfsa+8MnwzzkxmvvKqvcdwID7hXnjzj\n",
        "w61Pxe3ouvzpqEmIcGk6nIEIISbC1RmGwxPhARzvEdRcln5MDzMwCSEmQoiJEGIihJgIISZCiIkQ\n",
        "YiKEmAghJkKIiRBiIoSYCCEmQoiJEGIihJgIISZCiIkQYiKEmAghJkKIiRBiIoSYCCEmQoiJEGIi\n",
        "hJgIISZCiIkQYiKEmAghJkKIiRBiIoSYCCEmQoiJEGIihJgIISZCiIkQYiKEmAghJkKIiRBiIoSY\n",
        "CCEmQoiJEGIihJgIISZCiIkQYiKEmAghJkKIiRBiIoSYCCEmQoiJEGIihJgIISZCiIkQYiKEmAgh\n",
        "JkKIiRBiIoSYCCEmQoiJEGIihJgIISZCiIkQYiKEmAghJkKIiRBiIoSYCCEmQoiJEGIihJgIISZC\n",
        "iIkQYiKEmAghJkKIiRBiIoSYCCEmQoiJEGIihJgIISZCiIkQYiKEmAghJkKIiRBiIoSYCCH2HxnP\n",
        "s1ul95dtAAAAAElFTkSuQmCC\n",
        "\"></td>\n",
        "\t</tr>\n",
        "</table>"
       ],
       "metadata": {},
       "output_type": "pyout",
       "prompt_number": 59,
       "text": [
        "<IPython.core.display.HTML at 0x114452d10>"
       ]
      }
     ],
     "prompt_number": 59
    },
    {
     "cell_type": "markdown",
     "metadata": {
      "slideshow": {
       "slide_type": "skip"
      }
     },
     "source": [
      "### Aromatics and imines\n",
      "\n",
      "In some cases it is not clear whether, when the starting structure contains an amide anion, that the uncharged imine produced is more or less desirable that the original zwitterion or than the cationic methyl-pyridine that would be produced by simple protonation of the amide anion. \n",
      "\n",
      "Examples are shown below; note that the `neutralise` module does not touch these molecules as it perceives them to be zwitterionic..\n"
     ]
    },
    {
     "cell_type": "code",
     "collapsed": false,
     "input": [
      "demo(\"C[n+]1c([N-](C))cccc1\")"
     ],
     "language": "python",
     "metadata": {
      "slideshow": {
       "slide_type": "skip"
      }
     },
     "outputs": [
      {
       "output_type": "stream",
       "stream": "stderr",
       "text": [
        "[2013/Dec/02 14:13:24 INFO    ] rule 11 'Fix 1,3 charge-seperated systems (aromatic 2)' applied\n"
       ]
      },
      {
       "html": [
        "<!-- NB the styling is inline as otherwise it is overridden by the Notebook stylesheets -->\n",
        "\n",
        "<table>\n",
        "\t<tr>\n",
        "\t\t<th style=\"text-align: center;\">Original</th>\n",
        "\t\t<th style=\"text-align: center;\">Transformed</th>\n",
        "\t</tr>\n",
        "\t<tr>\n",
        "\t\t<td><img src=\"data:image/png;base64,iVBORw0KGgoAAAANSUhEUgAAASwAAAEsCAIAAAD2HxkiAAAGLUlEQVR4nO3d0XaiyAJAUbhr/v+X\n",
        "vQ+ZlbETNWAbT0HtvfohDyahgWMVlMb1crksQOd/9QbA7EQIMRFCTIQQEyHERAgxEUJMhBATIcRE\n",
        "CDERQkyEEBMhxEQIMRFCTIQQEyHERAgxEUJMhBATIcRECDERQkyEEBMhxEQIMRFCTIQQEyHERAgx\n",
        "EUJMhBATIcRECDERQkyEEBMhxEQIMRFCTIQQEyHERAgxEUJMhBATIcRECDERQkyEEBMhxEQIMRFC\n",
        "TIQQEyHERAgxEUJMhBATIcRECDERQkyEEBMhxEQIMRFCTIQQEyHERAgxEUJMhBATIcRECDERQkyE\n",
        "EBMhxEQIMRFCTIQQEyHERAgxEUJMhBATIcRECDERQkyEEBMhxEQIMRFCTIQQEyHERAgxEUJMhBAT\n",
        "IcRECLF/6g3gwNZ1/fjicrm0W3JoImSHz+o+fLa3rqsOn2bf8YPr8B6cLTp8mh3HV/eGuy3f6HR6\n",
        "gr3G89Xd/FHOqL1cE87ohdXx9zxvzWLjpd1LfpGTahf767TC4U6Hu9hZZzPI2p0Ot3NNeEJvOPt/\n",
        "TP1yuehwI7vpVH71vH/iqlKHWxgJeeQvb+cYD7cQIX94+e0cHf7I3jmPp8/1N6xe6PABI+Gk3rZs\n",
        "+PkrdHiPCCfy5vDYSITnN8jKocHwHjvlJI5yfh9lO9/Jn7fgrT7Gw3orxiJC3k2HX4jwDA43x9Ph\n",
        "NRHS0OEnEZLR4QcRHt7h5qLXdLjMGaGjzlBmjNCz71AcjhkjXBz4wUx+OCaNcDnLgT/0BeG1cxyO\n",
        "58wbIaOZtsOpI5z2qLfs8y+mjnA5eIenmYt+ONl/Z7vZI1wO3uHhTFvaAyJcFh2SEuG/DtehIeU0\n",
        "RPifw3V4OA+eOGZ+ThEhxET4h6MMhjOPG+cjwq+O0uHhmIveI8IbdMg7ifC2y+UiQ95DhHddLsuY\n",
        "Hd6dvK3roFtsLvqQCB8ZtsMbPjf0MFvMv0R4Rjo8FBH+YKDBcF2XdV3X9d5H43598DBMOB8T4c/K\n",
        "Dj8u875f7N3coIE7vEefi8+iGM6ucu7dnvnxMW/0ODMRLj6VaQiPw3swvq3rjca+DNw3H8NIRBh5\n",
        "EN7jZrY0dpAODYMfRPhGT4f3/cF7O4zIbAsR/rJXhff9e3d1OOpgyCLCX7TlBubf2DvWDdahQfKT\n",
        "JYrNvp/xGxu4XP7791rXP3C8RQuZbSTCPfauH/xGeA+M1yFbiHCPMe52/GFLYzocmwiPb8gOrdFv\n",
        "J8KdBhwMl6c6ZBgi3O97h9ev8KwS3dvhgE8ls7JE8QqDDDJ7Xyjza4sW5qK7GAmfMuakdNnwdOAm\n",
        "zXhE+KxDPJdHN2kMdLuYGJzRlnczRe94Mhf9zkh4RkMuWnCPCE9Kh8chwvOyeHgQIjy1XR3+fpAu\n",
        "CG+yTnh2W1ZT3pLfb/+K4xLhBIrB50t1BsAHRMjLXIenuu1EyPMMdy8hQna4im5dVPciIuSR+6+r\n",
        "kd/LiHAO398w8fAtFJ/tGereQITT2PPGJe29k8X6aQz79qvpiZBlWbxwtCTCmRgMhyTCydz7AznX\n",
        "X/BebsxM7+MmzGB/JH8qRsL5mJQORoRTuvkRTkREOIc/G1tX1Q1EhBATIcREOB33QUcjQoiJEGIi\n",
        "nIu56IBECDERQkyEEBPhRFwQjkmEEBPhVLx5YkQinIUPYxmWCCEmQoiJcArmoiMTIcRECDERnp+5\n",
        "6OBECDERQkyEJ2cuOj4RQkyEEBPhmZmLHoIIISZCiInwtMxFj0KEEBPhaRkGj0KEEBMhxEQIMRFC\n",
        "TIQQEyHERAgxEUJMhBATIcRECDERQkyEEBMhxEQIMRFCTIQQEyHERAgxEUJMhBATIcRECDERQkyE\n",
        "EBMhxEQIMRFCTIQQEyHERAgxEUJMhBATIcRECDERQkyEEBMhxEQIMRFCTIQQEyHERAgxEUJMhBAT\n",
        "IcRECDERQkyEEBMhxEQIMRFCTIQQEyHERAgxEUJMhBATIcRECDERQkyEEBMhxEQIMRFCTIQQEyHE\n",
        "RAgxEUJMhBATIcRECDERQkyEEBMhxEQIMRFCTIQQEyHERAgxEUJMhBATIcRECDERQkyEEBMhxEQI\n",
        "MRFCTIQQEyHERAgxEUJMhBATIcT+D8+dG3dgRE3tAAAAAElFTkSuQmCC\n",
        "\"></td>\n",
        "\t\t<td><img src=\"data:image/png;base64,iVBORw0KGgoAAAANSUhEUgAAASwAAAEsCAIAAAD2HxkiAAAGH0lEQVR4nO3d23KiWABAUZya//9l\n",
        "5iFTadsYxOsGzlqVh66UURrYnsMl5jTP8wR0/qkXAEYnQoiJEGIihJgIISZCiIkQYiKEmAghJkKI\n",
        "iRBiIoSYCCEmQoiJEGIihJgIISZCiIkQYiKEmAghJkKIiRBiIoSYCCEmQoiJEGIihJgIISZCiIkQ\n",
        "YiKEmAghJkKIiRBiIoSYCCEmQoiJEGIihJgIISZCiIkQYiKEmAghJkKIiRBiIoSYCCEmQoiJEGIi\n",
        "hJgIISZCiIkQYiKEmAghJkKIiRBiIoSYCCEmQoiJEGIihJgIISZCiIkQYiKEmAghJkKIiRBiIoSY\n",
        "CCEmQoiJEGIihJgIISZCiIkQYiKEmAghJkKIiRBiIoSYCCEmQoiJEGIihJgIISZCiIkQYiKEmAgh\n",
        "JkKI/VsvADt2Op2+/jHPc7skuyZC7vBd3Zfv9k6nkw4fZt1xw3l4C3uLDh9mxXHpt+FuzQ/anR5g\n",
        "rfF4dVefyh51L8eEI3phdTzP+9YoVh7aveSF7FR3sb4OKxzudHgXK+toNnLtTofrOSY8oA/s/TdT\n",
        "n+dZhytZTYfy1v3+gaNKHa5hJGTJk6dzjIdriJC/vPx0jg5vsnaO4+F9/QNXL3S4wEg4qI9dNvx+\n",
        "CR3+RoQD+XB4rCTC49vIlUOD4W+slIPYy/69l+X8JB9vwUd9jYf1UmyLCPk0HV4Q4RHsbo6nw3Mi\n",
        "pKHDbyIko8MvIty93c1Fz+lwGjNCW51NGTFC776bYnOMGOFkw2/M4Jtj0Aino2z4XR8QnjvG5njM\n",
        "uBGyNcN2OHSEw271lnV+YegIp513eJi56JeD/XfWGz3Caecd7s6wpS0Q4TTpkJQI/7e7Dg0phyHC\n",
        "P3bX4e4svHGM/J4iQoiJ8C97GQxHHjeOR4SX9tLh7piL/kaEV+iQTxLhdfM8y5DPEOGv5nnaZod7\n",
        "nLyZiy4Q4ZLNdsiRiBBiPgb/hq/BcBPTpdNpmqbTNG1hWe5iwrlMhLeVHf42G97KG8Oz9DmJcKXP\n",
        "dXjrGPTPIuykQ5ndJMK13tjhcngXL3n+4J10yDIR3uGVHS6Et/wCF2ds99yhQfKLCO/z1D7zcHg/\n",
        "H7yTDmW2hgjf7FXh/fzZnXTITSJ8tbsO8J6x8zsJDJLfXKx/yM+9/+s7V6uY5z9fr3X+hNsLUmYr\n",
        "GQkftTADrPY8k9J9MhI+6ups8B3D3TRNp9P/X1cX4+KR7I2RcKvW57TJkzTLc1Ez1XMifMJrr98/\n",
        "c0Znkx2ykgif82SHLzyVqsPdEuHHvenK4bShDs1F7yLCp928XvexK4drFobtEeEr/Nz1Pxnegmgw\n",
        "NNDdxcTg1dZcSPjwMmxpE5uL/mQkfJtwV9vMwSFruFj/am+6Q+2BxTjnQHHDRHhcOtwJER7axjp0\n",
        "QHiVY8Kj28ZFC39WYIEIB1B0eFGdAXCBCHmZ8/BUt54Ix/CewdBw9xIiHMYrOjx7gtOkuhdxtool\n",
        "G7735jiMhOP5eQPN3985D091HyDCIV27ke27PeF9mAiHdO13kbVXcccMxEQ4qm3cScMkwqHpcBtE\n",
        "CDERjs1guAEiHJ6zojURjmeeLwc/HaZECDERQkyEw/HZa1sjQoiJEGIiHIu56AaJEGIihJgIISbC\n",
        "gTgg3CYRQkyEQ/ELE1skwlH4YyybJUKIiRBiIhyCueiWiRBiIoSYCI/PXHTjRAgxEUJMhAdnLrp9\n",
        "IoSYCCEmwiMzF90FEUJMhBAT4WGZi+6FCCEmwsMyDO6FCCEmQoiJEGIihJgIISZCiIkQYiKEmAgh\n",
        "JkKIiRBiIoSYCCEmQoiJEGIihJgIISZCiIkQYiKEmAghJkKIiRBiIoSYCCEmQoiJEGIihJgIISZC\n",
        "iIkQYiKEmAghJkKIiRBiIoSYCCEmQoiJEGIihJgIISZCiIkQYiKEmAghJkKIiRBiIoSYCCEmQoiJ\n",
        "EGIihJgIISZCiIkQYiKEmAghJkKIiRBiIoSYCCEmQoiJEGIihJgIISZCiIkQYiKEmAghJkKIiRBi\n",
        "IoSYCCEmQoiJEGIihJgIISZCiIkQYiKEmAghJkKIiRBiIoSYCCEmQoiJEGIihJgIISZCiIkQYiKE\n",
        "mAghJkKI/QfISxxhtPStzgAAAABJRU5ErkJggg==\n",
        "\"></td>\n",
        "\t</tr>\n",
        "</table>"
       ],
       "metadata": {},
       "output_type": "pyout",
       "prompt_number": 33,
       "text": [
        "<IPython.core.display.HTML at 0x1143d41d0>"
       ]
      }
     ],
     "prompt_number": 33
    },
    {
     "cell_type": "code",
     "collapsed": false,
     "input": [
      "demo(\"C[n+]1ccc([N-]C)cc1\")"
     ],
     "language": "python",
     "metadata": {},
     "outputs": [
      {
       "output_type": "stream",
       "stream": "stderr",
       "text": [
        "[2014/Jan/13 11:37:07 INFO    ] rule 18 'Fix 1,5 charge-seperated systems (aromatic 2)' applied\n"
       ]
      },
      {
       "html": [
        "<!-- NB the styling is inline as otherwise it is overridden by the Notebook stylesheets -->\n",
        "\n",
        "<table>\n",
        "\t<tr>\n",
        "\t\t<th style=\"text-align: center;\">Original</th>\n",
        "\t\t<th style=\"text-align: center;\">Transformed</th>\n",
        "\t</tr>\n",
        "\t<tr>\n",
        "\t\t<td><img src=\"data:image/png;base64,iVBORw0KGgoAAAANSUhEUgAAASwAAAEsCAIAAAD2HxkiAAAGFklEQVR4nO3d23LaSBRAUZia//9l\n",
        "5sETF7EN5iJpd0trVR5SuWDFsDndSJDz5XI5AZ1/6gOAoxMhxEQIMRFCTIQQEyHERAgxEUJMhBAT\n",
        "IcRECDERQkyEEBMhxEQIMRFCTIQQEyHERAgxEUJMhBATIcRECDERQkyEEBMhxEQIMRFCTIQQEyHE\n",
        "RAgxEUJMhBATIcRECDERQkyEEBMhxEQIMRFCTIQQEyHERAgxEUJMhBATIcRECDERQkyEEBMhxEQI\n",
        "MRFCTIQQEyHERAgxEUJMhBATIcRECDERQkyEEBMhxEQIMRFCTIQQEyHERAgxEUJMhBATIcRECDER\n",
        "QkyEEBMhxEQIMRFCTIQQEyHERAgxEUJMhBATIcRECDERQkyEEBMhxEQIMRFCTIQQEyHERAgxEUJM\n",
        "hBATIcRECDERQkyEEBMhxEQIMRFCTIQQEyHERAgxEUJMhBATIcRECDERQkyEEBMhxEQIMRFC7N/6\n",
        "AHjD+fz1Vy6X4jh4iwgn8b23W39Mh7MR4WAejO3TR3LXf0uHszlf3GGJZ2M7/bbU/HKD7tZ5mITr\n",
        "e224PetyeSVsBmASruORHtb4zl9/XffsJEzCFQzyoqXN4SRMwqV9Flh9Y20OZ+Nk/e58qc5GcXgi\n",
        "nNb5fDMw028qIlzUZmvRzy/0SIeG4dhEOL9HGtPhwES4nC1fknlk42dzOAkRbuVjC7dgCS90yJBE\n",
        "uImVhuQjt2ZzODwRLqQ6PfhsYzocjwj3xeZwQiJc39pD0uZwciJcQn6p2rMdGoYjEeFePNu/Doch\n",
        "wrfdH4PVyUObw3mIcL9sDichwjVtv1e0OZyQCN+TvyTznc3hbES4R2NuDr9/Ff2fTicRvmWcl2Tu\n",
        "azu8vmJWdT/xGTM79eXD1378vJk1PqDt/g1+fMX8WWkwIlzHCE/5z3b4Qh4j/DPnJ8JXPbjabJ/1\n",
        "n511dzp8/HZ+/YYYhn8T4d79Out+HJhLJXfnkO68enSwREX4kllekvnuwQ5v2eYa9IMR4QE8vDk8\n",
        "n06X61/Z7JCOzSmKY3j8SprL5f8fGx/SgYnweZOuRX87nvN55Y9j/3H8/nAYKx7CmER4JJ8P+tGe\n",
        "IK4ccKHq/6JY1LBj8Derj8EnHeoshknIiA41D0XIoI7ToQiXYy3KS0TIuA4yDEV4w2He/Db4GPxz\n",
        "EcGeifC2Zy99/jDwA3pSl8tl3x2K8LZnr2Pe5kKTQ9p3hyL86tH7ehePicHXogdx9Au4v6f012PS\n",
        "m9+G8TEMd/mUcaAIr9Yzz7xV4M6b3z5+sseHxZj22uFuI/y+hVjszvu4nfkn5IwP6F12uJMIV0zu\n",
        "dJjTVZPYX4cTR3gd3up3yfcOJ38Q7OxxPDX3xFvmXZPOHuHsx3/NKQqmtKczhyJ8y6S7xX2Mkd10\n",
        "KMJ3TdrhPuyjQxEuYK4O9zEG90SEy5irwz3ZwTAUIdObvUMRLmaKYbjXtejU/ygRLmmKDhmNCBfW\n",
        "vhP8/Met3516YuzVxJetDWuzixvXvWKWrYhwGpLbK+uTtbw5DBdPzlp0WCbhWp5alJpyRybCFd3v\n",
        "cNO3YjEwS5TVjbAOHOEYuMUpCoiJcHX5RVXG4ODsCbeQfCzK1JdTHornyO2s1OGt2NyzsxDhphY/\n",
        "eXgS2/wsRwelt+MwCbf2ZRhaTCLCgNP0XBMhxJwnhJgIISZCiIkQYiKEmAghJkKIiRBiIoSYCCEm\n",
        "QoiJEGIihJgIISZCiIkQYiKEmAghJkKIiRBiIoSYCCEmQoiJEGIihJgIISZCiIkQYiKEmAghJkKI\n",
        "iRBiIoSYCCEmQoiJEGIihJgIISZCiIkQYiKEmAghJkKIiRBiIoSYCCEmQoiJEGIihJgIISZCiIkQ\n",
        "YiKEmAghJkKIiRBiIoSYCCEmQoiJEGIihJgIISZCiIkQYiKEmAghJkKIiRBiIoSYCCEmQoiJEGIi\n",
        "hJgIISZCiIkQYiKEmAghJkKIiRBiIoSYCCEmQoiJEGIihJgIISZCiIkQYiKEmAghJkKIiRBiIoSY\n",
        "CCEmQoiJEGIihJgIISZCiIkQYiKEmAghJkKIiRBiIoSYCCEmQoiJEGIihJgIISZCiIkQYiKE2H/U\n",
        "ruRXKJSKigAAAABJRU5ErkJggg==\n",
        "\"></td>\n",
        "\t\t<td><img src=\"data:image/png;base64,iVBORw0KGgoAAAANSUhEUgAAASwAAAEsCAIAAAD2HxkiAAAF40lEQVR4nO3d21LbSBRAUXtq/v+X\n",
        "NQ+ElAsw44ukrW6tVXlIEbAN8ua0LMm5LstyATr/1A8Azk6EEBMhxEQIMRFCTIQQEyHERAgxEUJM\n",
        "hBATIcRECDERQkyEEBMhxEQIMRFCTIQQEyHERAgxEUJMhBATIcRECDERQkyEEBMhxEQIMRFCTIQQ\n",
        "EyHERAgxEUJMhBATIcRECDERQkyEEBMhxEQIMRFCTIQQEyHERAgxEUJMhBATIcRECDERQkyEEBMh\n",
        "xEQIMRFCTIQQEyHERAgxEUJMhBATIcRECDERQkyEEBMhxEQIMRFCTIQQEyHERAgxEUJMhBATIcRE\n",
        "CDERQkyEEBMhxEQIMRFCTIQQEyHERAgxEUJMhBATIcRECDERQkyEEBMhxEQIMRFCTIQQEyHERAgx\n",
        "EUJMhBATIcRECDERQkyEEBMhxEQIMRFCTIQQEyHERAgxEUJMhBATIcRECDERQkyEEBMhxEQIsX/r\n",
        "B8AbrtevH1mW4nHwFhEO4ntv9z5Nh6MR4cE8GNtfH8ndfpUOR3NdbLDEs7Fd/m+p+eUGbdZxmITb\n",
        "e224PWtZXgmbAzAJt/FID1v85G/v15YdhEm4gYO8aGnncBAm4dr+Flj9YO0cjsbB+ul8qc6O4uFZ\n",
        "jo7p930/L9IMRYSr2mgt+trxjL9fZefw2ER4PA8m91RXOjwwL8ys57UxuEVy927ctj4kk3Bfmyb3\n",
        "4+3YOTw8Ee7i9xI2HVB2Dg9PhCt5fC3aZqDD4xHhLtrn/ZdFadKh8+nuE+E57LxzaEf0GV4dXUN+\n",
        "qtqDNhpHO7/aNB2T8KxeXpRKbm0m4dtGGYMfnj1yKLntmYQn8+DOYXhM5XxEeD7PHjmU3MZE+J6x\n",
        "1qI/+rHDcb+dAbme8JTyaw6/3+OJj2qYhG8YegzudgT/3pt9OHfnkwhPbIsj+I/f4Me961CEZ/fm\n",
        "6d1PJccdInzV0GvRe37pcIveDMPL5SJCft453G3E6VCEL5psDH7v8JfPZG0i5HK5/Onwerkstx/Z\n",
        "8a4//nrOoeg4IZ8+nv7L8ufP/nd91rfjEOHzJluLfrpedzyb3zk6N0TIsZxwGLqUictl5zH4gFPt\n",
        "HJqEHNGp5qEIOajzdChCDrcWPRsRclwnGYYifMDUF78dfAx+nkQwMxE+ZvbnwZEtyzJ3hyJ8zEkW\n",
        "Rkc1d4fOHf3qVP+b2MHXoidx9gjvvffCD1x0k/oYhlP+yjhRhDfrmVcvFdBhatYOp43w+y7EfBvv\n",
        "TSM+oafscJII90vOKzS1+TocOMLb8HbdJJ8dDr0ynex5PDRb4i3jdjh6hKM//luOEzKkmY4civAt\n",
        "g+4hzjFGpulQhO8atMM5zNGhCFcwVodzjMGZiHAdY3U4kwmGoQgZ3ugdinA1QwzDWdeiQ39TIlzT\n",
        "EB1yNCJcWXsl+PXTvX8demLMauDT1g5rt5MbnaQ+BxEOQ3Kzsj7ZypvDcPXkrEUPyyTcylOLUlPu\n",
        "zES4od87zC7F4mAsUTZ3hHXgER4D9zhEATERbi4/qcoYPDj7hHtI3hZl6NMpT8XvyP1s1OG92GzZ\n",
        "UYhwV6sfPLyIbXyWowelt/MwCff2ZRhaTCLCgMP03BIhxBwnhJgIISZCiIkQYiKEmAghJkKIiRBi\n",
        "IoSYCCEmQoiJEGIihJgIISZCiIkQYiKEmAghJkKIiRBiIoSYCCEmQoiJEGIihJgIISZCiIkQYiKE\n",
        "mAghJkKIiRBiIoSYCCEmQoiJEGIihJgIISZCiIkQYiKEmAghJkKIiRBiIoSYCCEmQoiJEGIihJgI\n",
        "ISZCiIkQYiKEmAghJkKIiRBiIoSYCCEmQoiJEGIihJgIISZCiIkQYiKEmAghJkKIiRBiIoSYCCEm\n",
        "QoiJEGIihJgIISZCiIkQYiKEmAghJkKIiRBiIoSYCCEmQoiJEGIihJgIISZCiIkQYiKEmAghJkKI\n",
        "iRBiIoSYCCEmQoiJEGIihJgIISZCiIkQYiKEmAghJkKIiRBiIoSYCCEmQoiJEGIihJgIISZCiIkQ\n",
        "YiKE2H+w6M9VqmpX2wAAAABJRU5ErkJggg==\n",
        "\"></td>\n",
        "\t</tr>\n",
        "</table>"
       ],
       "metadata": {},
       "output_type": "pyout",
       "prompt_number": 15,
       "text": [
        "<IPython.core.display.HTML at 0x1093aa650>"
       ]
      }
     ],
     "prompt_number": 15
    },
    {
     "cell_type": "markdown",
     "metadata": {},
     "source": [
      "As an alternative to attempting to neutralise these molecules, it might be preferable (in some cases?) to protonate the amide anion and return a cationic parent."
     ]
    },
    {
     "cell_type": "code",
     "collapsed": false,
     "input": [],
     "language": "python",
     "metadata": {},
     "outputs": []
    }
   ],
   "metadata": {}
  }
 ]
}