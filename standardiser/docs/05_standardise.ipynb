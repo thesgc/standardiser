{
 "metadata": {
  "name": ""
 },
 "nbformat": 3,
 "nbformat_minor": 0,
 "worksheets": [
  {
   "cells": [
    {
     "cell_type": "code",
     "collapsed": false,
     "input": [
      "%run setup.py\n",
      "\n",
      "reload(logging) # Seems to be required to get logging from modules working\n",
      "\n",
      "logging.basicConfig(level=logging.DEBUG, format=\"[%(asctime)s %(levelname)-8s] %(message)s\", datefmt=\"%Y/%b/%d %H:%M:%S\")\n",
      "\n",
      "sys.path.append(\"..\")"
     ],
     "language": "python",
     "metadata": {
      "slideshow": {
       "slide_type": "skip"
      }
     },
     "outputs": [],
     "prompt_number": 1
    },
    {
     "cell_type": "code",
     "collapsed": false,
     "input": [
      "from standardise import standardise"
     ],
     "language": "python",
     "metadata": {},
     "outputs": [],
     "prompt_number": 2
    },
    {
     "cell_type": "markdown",
     "metadata": {
      "slideshow": {
       "slide_type": "slide"
      }
     },
     "source": [
      "# `standardise`: get standardised parent"
     ]
    },
    {
     "cell_type": "markdown",
     "metadata": {},
     "source": [
      "### Introduction\n",
      "\n",
      "This document provides some examples of the use of the **`standardise`** module, which uses the component modules described in the previous documents."
     ]
    },
    {
     "cell_type": "markdown",
     "metadata": {},
     "source": [
      "### Examples"
     ]
    },
    {
     "cell_type": "code",
     "collapsed": false,
     "input": [
      "mol = Chem.MolFromSmiles(\"[Na]OC(=O)Cc1ccc(C[NH3+])cc1.c1nnn[n-]1.O\")\n",
      "mol"
     ],
     "language": "python",
     "metadata": {
      "slideshow": {
       "slide_type": "slide"
      }
     },
     "outputs": [
      {
       "metadata": {},
       "output_type": "pyout",
       "png": "[encoded data removed]",
       "prompt_number": 21,
       "text": [
        "<rdkit.Chem.rdchem.Mol at 0x1046eede0>"
       ]
      }
     ],
     "prompt_number": 21
    },
    {
     "cell_type": "code",
     "collapsed": false,
     "input": [
      "parent = None\n",
      "\n",
      "try:\n",
      "    \n",
      "    parent = standardise.apply(mol)\n",
      "    \n",
      "except standardise.StandardiseException as e:\n",
      "    \n",
      "    logging.warn(e.message)\n",
      "    \n",
      "parent"
     ],
     "language": "python",
     "metadata": {
      "slideshow": {
       "slide_type": "fragment"
      }
     },
     "outputs": [
      {
       "output_type": "stream",
       "stream": "stderr",
       "text": [
        "[2013/Oct/17 14:12:56 DEBUG   ] Broke 1 bonds to Group I and II metals\n"
       ]
      },
      {
       "output_type": "stream",
       "stream": "stderr",
       "text": [
        "[2013/Oct/17 14:12:56 DEBUG   ] Starting fragment '[Na+]'...\n"
       ]
      },
      {
       "output_type": "stream",
       "stream": "stderr",
       "text": [
        "[2013/Oct/17 14:12:56 DEBUG   ] 1) Check for non-organic elements...\n"
       ]
      },
      {
       "output_type": "stream",
       "stream": "stderr",
       "text": [
        "[2013/Oct/17 14:12:56 DEBUG   ] Fragment contains a non-organic element\n"
       ]
      },
      {
       "output_type": "stream",
       "stream": "stderr",
       "text": [
        "[2013/Oct/17 14:12:56 DEBUG   ] Starting fragment '[NH3+]Cc1ccc(CC(=O)[O-])cc1'...\n"
       ]
      },
      {
       "output_type": "stream",
       "stream": "stderr",
       "text": [
        "[2013/Oct/17 14:12:56 DEBUG   ] 1) Check for non-organic elements...\n"
       ]
      },
      {
       "output_type": "stream",
       "stream": "stderr",
       "text": [
        "[2013/Oct/17 14:12:56 DEBUG   ] 2) Attempting to neutralize (first pass)...\n"
       ]
      },
      {
       "output_type": "stream",
       "stream": "stderr",
       "text": [
        "[2013/Oct/17 14:12:56 DEBUG   ] 1 positive/H, 0 positive/quat and 1 negative (of which 1 are acid) charges identified\n"
       ]
      },
      {
       "output_type": "stream",
       "stream": "stderr",
       "text": [
        "[2013/Oct/17 14:12:57 DEBUG   ] Overall H balance: 0; formal charge: 0\n"
       ]
      },
      {
       "output_type": "stream",
       "stream": "stderr",
       "text": [
        "[2013/Oct/17 14:12:57 DEBUG   ] 3) Applying rules...\n"
       ]
      },
      {
       "output_type": "stream",
       "stream": "stderr",
       "text": [
        "[2013/Oct/17 14:12:57 DEBUG   ] apply> mol = 'NCc1ccc(CC(=O)O)cc1'\n"
       ]
      },
      {
       "output_type": "stream",
       "stream": "stderr",
       "text": [
        "[2013/Oct/17 14:12:57 DEBUG   ] apply> starting pass 1...\n"
       ]
      },
      {
       "output_type": "stream",
       "stream": "stderr",
       "text": [
        "[2013/Oct/17 14:12:57 DEBUG   ] ...total of 0 hits in pass: finished.\n"
       ]
      },
      {
       "output_type": "stream",
       "stream": "stderr",
       "text": [
        "[2013/Oct/17 14:12:57 DEBUG   ] 4) Attempting to neutralize (second pass)...\n"
       ]
      },
      {
       "output_type": "stream",
       "stream": "stderr",
       "text": [
        "[2013/Oct/17 14:12:57 DEBUG   ] 0 positive/H, 0 positive/quat and 0 negative (of which 0 are acid) charges identified\n"
       ]
      },
      {
       "output_type": "stream",
       "stream": "stderr",
       "text": [
        "[2013/Oct/17 14:12:57 DEBUG   ] Overall H balance: 0; formal charge: 0\n"
       ]
      },
      {
       "output_type": "stream",
       "stream": "stderr",
       "text": [
        "[2013/Oct/17 14:12:57 DEBUG   ] 5) Checking if frag is a salt/solvate...\n"
       ]
      },
      {
       "output_type": "stream",
       "stream": "stderr",
       "text": [
        "[2013/Oct/17 14:12:57 DEBUG   ] ...fragment kept.\n"
       ]
      },
      {
       "output_type": "stream",
       "stream": "stderr",
       "text": [
        "[2013/Oct/17 14:12:57 DEBUG   ] Starting fragment 'c1nnn[n-]1'...\n"
       ]
      },
      {
       "output_type": "stream",
       "stream": "stderr",
       "text": [
        "[2013/Oct/17 14:12:57 DEBUG   ] 1) Check for non-organic elements...\n"
       ]
      },
      {
       "output_type": "stream",
       "stream": "stderr",
       "text": [
        "[2013/Oct/17 14:12:57 DEBUG   ] 2) Attempting to neutralize (first pass)...\n"
       ]
      },
      {
       "output_type": "stream",
       "stream": "stderr",
       "text": [
        "[2013/Oct/17 14:12:57 DEBUG   ] 0 positive/H, 0 positive/quat and 1 negative (of which 1 are acid) charges identified\n"
       ]
      },
      {
       "output_type": "stream",
       "stream": "stderr",
       "text": [
        "[2013/Oct/17 14:12:57 DEBUG   ] Overall H balance: +1; formal charge: 0\n"
       ]
      },
      {
       "output_type": "stream",
       "stream": "stderr",
       "text": [
        "[2013/Oct/17 14:12:57 DEBUG   ] 3) Applying rules...\n"
       ]
      },
      {
       "output_type": "stream",
       "stream": "stderr",
       "text": [
        "[2013/Oct/17 14:12:57 DEBUG   ] apply> mol = 'c1nnn[nH]1'\n"
       ]
      },
      {
       "output_type": "stream",
       "stream": "stderr",
       "text": [
        "[2013/Oct/17 14:12:57 DEBUG   ] apply> starting pass 1...\n"
       ]
      },
      {
       "output_type": "stream",
       "stream": "stderr",
       "text": [
        "[2013/Oct/17 14:12:57 DEBUG   ] ...total of 0 hits in pass: finished.\n"
       ]
      },
      {
       "output_type": "stream",
       "stream": "stderr",
       "text": [
        "[2013/Oct/17 14:12:57 DEBUG   ] 4) Attempting to neutralize (second pass)...\n"
       ]
      },
      {
       "output_type": "stream",
       "stream": "stderr",
       "text": [
        "[2013/Oct/17 14:12:57 DEBUG   ] 0 positive/H, 0 positive/quat and 0 negative (of which 0 are acid) charges identified\n"
       ]
      },
      {
       "output_type": "stream",
       "stream": "stderr",
       "text": [
        "[2013/Oct/17 14:12:57 DEBUG   ] Overall H balance: 0; formal charge: 0\n"
       ]
      },
      {
       "output_type": "stream",
       "stream": "stderr",
       "text": [
        "[2013/Oct/17 14:12:57 DEBUG   ] 5) Checking if frag is a salt/solvate...\n"
       ]
      },
      {
       "output_type": "stream",
       "stream": "stderr",
       "text": [
        "[2013/Oct/17 14:12:57 DEBUG   ] Fragment matches salt/solvate 'tetrazole'\n"
       ]
      },
      {
       "output_type": "stream",
       "stream": "stderr",
       "text": [
        "[2013/Oct/17 14:12:57 DEBUG   ] Starting fragment 'O'...\n"
       ]
      },
      {
       "output_type": "stream",
       "stream": "stderr",
       "text": [
        "[2013/Oct/17 14:12:57 DEBUG   ] 1) Check for non-organic elements...\n"
       ]
      },
      {
       "output_type": "stream",
       "stream": "stderr",
       "text": [
        "[2013/Oct/17 14:12:57 DEBUG   ] 2) Attempting to neutralize (first pass)...\n"
       ]
      },
      {
       "output_type": "stream",
       "stream": "stderr",
       "text": [
        "[2013/Oct/17 14:12:57 DEBUG   ] 0 positive/H, 0 positive/quat and 0 negative (of which 0 are acid) charges identified\n"
       ]
      },
      {
       "output_type": "stream",
       "stream": "stderr",
       "text": [
        "[2013/Oct/17 14:12:57 DEBUG   ] Overall H balance: 0; formal charge: 0\n"
       ]
      },
      {
       "output_type": "stream",
       "stream": "stderr",
       "text": [
        "[2013/Oct/17 14:12:57 DEBUG   ] 3) Applying rules...\n"
       ]
      },
      {
       "output_type": "stream",
       "stream": "stderr",
       "text": [
        "[2013/Oct/17 14:12:57 DEBUG   ] apply> mol = 'O'\n"
       ]
      },
      {
       "output_type": "stream",
       "stream": "stderr",
       "text": [
        "[2013/Oct/17 14:12:57 DEBUG   ] apply> starting pass 1...\n"
       ]
      },
      {
       "output_type": "stream",
       "stream": "stderr",
       "text": [
        "[2013/Oct/17 14:12:57 DEBUG   ] ...total of 0 hits in pass: finished.\n"
       ]
      },
      {
       "output_type": "stream",
       "stream": "stderr",
       "text": [
        "[2013/Oct/17 14:12:57 DEBUG   ] 4) Attempting to neutralize (second pass)...\n"
       ]
      },
      {
       "output_type": "stream",
       "stream": "stderr",
       "text": [
        "[2013/Oct/17 14:12:57 DEBUG   ] 0 positive/H, 0 positive/quat and 0 negative (of which 0 are acid) charges identified\n"
       ]
      },
      {
       "output_type": "stream",
       "stream": "stderr",
       "text": [
        "[2013/Oct/17 14:12:57 DEBUG   ] Overall H balance: 0; formal charge: 0\n"
       ]
      },
      {
       "output_type": "stream",
       "stream": "stderr",
       "text": [
        "[2013/Oct/17 14:12:57 DEBUG   ] 5) Checking if frag is a salt/solvate...\n"
       ]
      },
      {
       "output_type": "stream",
       "stream": "stderr",
       "text": [
        "[2013/Oct/17 14:12:57 DEBUG   ] Fragment matches salt/solvate 'water or hydroxide'\n"
       ]
      },
      {
       "metadata": {},
       "output_type": "pyout",
       "png": "[encoded data removed]",
       "prompt_number": 22,
       "text": [
        "<rdkit.Chem.rdchem.Mol at 0x104705368>"
       ]
      }
     ],
     "prompt_number": 22
    },
    {
     "cell_type": "markdown",
     "metadata": {},
     "source": [
      "### Multiple non-salt/solvate components"
     ]
    },
    {
     "cell_type": "code",
     "collapsed": false,
     "input": [
      "mol = Chem.MolFromSmiles(\"[Na]OC(=O)Cc1ccc(C[NH3+])cc1.Cc1nnn[n-]1.O\")\n",
      "mol"
     ],
     "language": "python",
     "metadata": {
      "slideshow": {
       "slide_type": "slide"
      }
     },
     "outputs": [
      {
       "metadata": {},
       "output_type": "pyout",
       "png": "[encoded data removed]",
       "prompt_number": 25,
       "text": [
        "<rdkit.Chem.rdchem.Mol at 0x1046eeb40>"
       ]
      }
     ],
     "prompt_number": 25
    },
    {
     "cell_type": "code",
     "collapsed": false,
     "input": [
      "parent = None\n",
      "\n",
      "try:\n",
      "    \n",
      "    parent = standardise.apply(mol)\n",
      "    \n",
      "except standardise.StandardiseException as e:\n",
      "    \n",
      "    logging.warn(e.message)\n",
      "    \n",
      "parent"
     ],
     "language": "python",
     "metadata": {
      "slideshow": {
       "slide_type": "skip"
      }
     },
     "outputs": [
      {
       "output_type": "stream",
       "stream": "stderr",
       "text": [
        "[2013/Oct/17 14:13:49 DEBUG   ] Broke 1 bonds to Group I and II metals\n"
       ]
      },
      {
       "output_type": "stream",
       "stream": "stderr",
       "text": [
        "[2013/Oct/17 14:13:49 DEBUG   ] Starting fragment '[Na+]'...\n"
       ]
      },
      {
       "output_type": "stream",
       "stream": "stderr",
       "text": [
        "[2013/Oct/17 14:13:49 DEBUG   ] 1) Check for non-organic elements...\n"
       ]
      },
      {
       "output_type": "stream",
       "stream": "stderr",
       "text": [
        "[2013/Oct/17 14:13:49 DEBUG   ] Fragment contains a non-organic element\n"
       ]
      },
      {
       "output_type": "stream",
       "stream": "stderr",
       "text": [
        "[2013/Oct/17 14:13:49 DEBUG   ] Starting fragment '[NH3+]Cc1ccc(CC(=O)[O-])cc1'...\n"
       ]
      },
      {
       "output_type": "stream",
       "stream": "stderr",
       "text": [
        "[2013/Oct/17 14:13:49 DEBUG   ] 1) Check for non-organic elements...\n"
       ]
      },
      {
       "output_type": "stream",
       "stream": "stderr",
       "text": [
        "[2013/Oct/17 14:13:49 DEBUG   ] 2) Attempting to neutralize (first pass)...\n"
       ]
      },
      {
       "output_type": "stream",
       "stream": "stderr",
       "text": [
        "[2013/Oct/17 14:13:49 DEBUG   ] 1 positive/H, 0 positive/quat and 1 negative (of which 1 are acid) charges identified\n"
       ]
      },
      {
       "output_type": "stream",
       "stream": "stderr",
       "text": [
        "[2013/Oct/17 14:13:49 DEBUG   ] Overall H balance: 0; formal charge: 0\n"
       ]
      },
      {
       "output_type": "stream",
       "stream": "stderr",
       "text": [
        "[2013/Oct/17 14:13:49 DEBUG   ] 3) Applying rules...\n"
       ]
      },
      {
       "output_type": "stream",
       "stream": "stderr",
       "text": [
        "[2013/Oct/17 14:13:49 DEBUG   ] apply> mol = 'NCc1ccc(CC(=O)O)cc1'\n"
       ]
      },
      {
       "output_type": "stream",
       "stream": "stderr",
       "text": [
        "[2013/Oct/17 14:13:49 DEBUG   ] apply> starting pass 1...\n"
       ]
      },
      {
       "output_type": "stream",
       "stream": "stderr",
       "text": [
        "[2013/Oct/17 14:13:49 DEBUG   ] ...total of 0 hits in pass: finished.\n"
       ]
      },
      {
       "output_type": "stream",
       "stream": "stderr",
       "text": [
        "[2013/Oct/17 14:13:49 DEBUG   ] 4) Attempting to neutralize (second pass)...\n"
       ]
      },
      {
       "output_type": "stream",
       "stream": "stderr",
       "text": [
        "[2013/Oct/17 14:13:49 DEBUG   ] 0 positive/H, 0 positive/quat and 0 negative (of which 0 are acid) charges identified\n"
       ]
      },
      {
       "output_type": "stream",
       "stream": "stderr",
       "text": [
        "[2013/Oct/17 14:13:49 DEBUG   ] Overall H balance: 0; formal charge: 0\n"
       ]
      },
      {
       "output_type": "stream",
       "stream": "stderr",
       "text": [
        "[2013/Oct/17 14:13:49 DEBUG   ] 5) Checking if frag is a salt/solvate...\n"
       ]
      },
      {
       "output_type": "stream",
       "stream": "stderr",
       "text": [
        "[2013/Oct/17 14:13:49 DEBUG   ] ...fragment kept.\n"
       ]
      },
      {
       "output_type": "stream",
       "stream": "stderr",
       "text": [
        "[2013/Oct/17 14:13:49 DEBUG   ] Starting fragment 'Cc1nnn[n-]1'...\n"
       ]
      },
      {
       "output_type": "stream",
       "stream": "stderr",
       "text": [
        "[2013/Oct/17 14:13:49 DEBUG   ] 1) Check for non-organic elements...\n"
       ]
      },
      {
       "output_type": "stream",
       "stream": "stderr",
       "text": [
        "[2013/Oct/17 14:13:49 DEBUG   ] 2) Attempting to neutralize (first pass)...\n"
       ]
      },
      {
       "output_type": "stream",
       "stream": "stderr",
       "text": [
        "[2013/Oct/17 14:13:49 DEBUG   ] 0 positive/H, 0 positive/quat and 1 negative (of which 1 are acid) charges identified\n"
       ]
      },
      {
       "output_type": "stream",
       "stream": "stderr",
       "text": [
        "[2013/Oct/17 14:13:49 DEBUG   ] Overall H balance: +1; formal charge: 0\n"
       ]
      },
      {
       "output_type": "stream",
       "stream": "stderr",
       "text": [
        "[2013/Oct/17 14:13:49 DEBUG   ] 3) Applying rules...\n"
       ]
      },
      {
       "output_type": "stream",
       "stream": "stderr",
       "text": [
        "[2013/Oct/17 14:13:49 DEBUG   ] apply> mol = 'Cc1nnn[nH]1'\n"
       ]
      },
      {
       "output_type": "stream",
       "stream": "stderr",
       "text": [
        "[2013/Oct/17 14:13:49 DEBUG   ] apply> starting pass 1...\n"
       ]
      },
      {
       "output_type": "stream",
       "stream": "stderr",
       "text": [
        "[2013/Oct/17 14:13:49 DEBUG   ] ...total of 0 hits in pass: finished.\n"
       ]
      },
      {
       "output_type": "stream",
       "stream": "stderr",
       "text": [
        "[2013/Oct/17 14:13:49 DEBUG   ] 4) Attempting to neutralize (second pass)...\n"
       ]
      },
      {
       "output_type": "stream",
       "stream": "stderr",
       "text": [
        "[2013/Oct/17 14:13:49 DEBUG   ] 0 positive/H, 0 positive/quat and 0 negative (of which 0 are acid) charges identified\n"
       ]
      },
      {
       "output_type": "stream",
       "stream": "stderr",
       "text": [
        "[2013/Oct/17 14:13:49 DEBUG   ] Overall H balance: 0; formal charge: 0\n"
       ]
      },
      {
       "output_type": "stream",
       "stream": "stderr",
       "text": [
        "[2013/Oct/17 14:13:49 DEBUG   ] 5) Checking if frag is a salt/solvate...\n"
       ]
      },
      {
       "output_type": "stream",
       "stream": "stderr",
       "text": [
        "[2013/Oct/17 14:13:49 DEBUG   ] ...fragment kept.\n"
       ]
      },
      {
       "output_type": "stream",
       "stream": "stderr",
       "text": [
        "[2013/Oct/17 14:13:49 DEBUG   ] Starting fragment 'O'...\n"
       ]
      },
      {
       "output_type": "stream",
       "stream": "stderr",
       "text": [
        "[2013/Oct/17 14:13:49 DEBUG   ] 1) Check for non-organic elements...\n"
       ]
      },
      {
       "output_type": "stream",
       "stream": "stderr",
       "text": [
        "[2013/Oct/17 14:13:49 DEBUG   ] 2) Attempting to neutralize (first pass)...\n"
       ]
      },
      {
       "output_type": "stream",
       "stream": "stderr",
       "text": [
        "[2013/Oct/17 14:13:49 DEBUG   ] 0 positive/H, 0 positive/quat and 0 negative (of which 0 are acid) charges identified\n"
       ]
      },
      {
       "output_type": "stream",
       "stream": "stderr",
       "text": [
        "[2013/Oct/17 14:13:49 DEBUG   ] Overall H balance: 0; formal charge: 0\n"
       ]
      },
      {
       "output_type": "stream",
       "stream": "stderr",
       "text": [
        "[2013/Oct/17 14:13:49 DEBUG   ] 3) Applying rules...\n"
       ]
      },
      {
       "output_type": "stream",
       "stream": "stderr",
       "text": [
        "[2013/Oct/17 14:13:49 DEBUG   ] apply> mol = 'O'\n"
       ]
      },
      {
       "output_type": "stream",
       "stream": "stderr",
       "text": [
        "[2013/Oct/17 14:13:49 DEBUG   ] apply> starting pass 1...\n"
       ]
      },
      {
       "output_type": "stream",
       "stream": "stderr",
       "text": [
        "[2013/Oct/17 14:13:49 DEBUG   ] ...total of 0 hits in pass: finished.\n"
       ]
      },
      {
       "output_type": "stream",
       "stream": "stderr",
       "text": [
        "[2013/Oct/17 14:13:49 DEBUG   ] 4) Attempting to neutralize (second pass)...\n"
       ]
      },
      {
       "output_type": "stream",
       "stream": "stderr",
       "text": [
        "[2013/Oct/17 14:13:49 DEBUG   ] 0 positive/H, 0 positive/quat and 0 negative (of which 0 are acid) charges identified\n"
       ]
      },
      {
       "output_type": "stream",
       "stream": "stderr",
       "text": [
        "[2013/Oct/17 14:13:49 DEBUG   ] Overall H balance: 0; formal charge: 0\n"
       ]
      },
      {
       "output_type": "stream",
       "stream": "stderr",
       "text": [
        "[2013/Oct/17 14:13:49 DEBUG   ] 5) Checking if frag is a salt/solvate...\n"
       ]
      },
      {
       "output_type": "stream",
       "stream": "stderr",
       "text": [
        "[2013/Oct/17 14:13:49 DEBUG   ] Fragment matches salt/solvate 'water or hydroxide'\n"
       ]
      },
      {
       "output_type": "stream",
       "stream": "stderr",
       "text": [
        "[2013/Oct/17 14:13:49 WARNING ] Multiple non-salt/solvate components\n"
       ]
      }
     ],
     "prompt_number": 26
    },
    {
     "cell_type": "markdown",
     "metadata": {},
     "source": [
      "### No non-salt/solvate components"
     ]
    },
    {
     "cell_type": "code",
     "collapsed": false,
     "input": [
      "mol = Chem.MolFromSmiles(\"c1nnn[n-]1.O\")\n",
      "mol"
     ],
     "language": "python",
     "metadata": {},
     "outputs": [
      {
       "metadata": {},
       "output_type": "pyout",
       "png": "[encoded data removed]",
       "prompt_number": 27,
       "text": [
        "<rdkit.Chem.rdchem.Mol at 0x1046ee830>"
       ]
      }
     ],
     "prompt_number": 27
    },
    {
     "cell_type": "code",
     "collapsed": false,
     "input": [
      "parent = None\n",
      "\n",
      "try:\n",
      "    \n",
      "    parent = standardise.apply(mol)\n",
      "    \n",
      "except standardise.StandardiseException as e:\n",
      "    \n",
      "    logging.warn(e.message)\n",
      "    \n",
      "parent"
     ],
     "language": "python",
     "metadata": {},
     "outputs": [
      {
       "output_type": "stream",
       "stream": "stderr",
       "text": [
        "[2013/Oct/17 14:14:34 DEBUG   ] Broke 0 bonds to Group I and II metals\n"
       ]
      },
      {
       "output_type": "stream",
       "stream": "stderr",
       "text": [
        "[2013/Oct/17 14:14:34 DEBUG   ] Starting fragment 'c1nnn[n-]1'...\n"
       ]
      },
      {
       "output_type": "stream",
       "stream": "stderr",
       "text": [
        "[2013/Oct/17 14:14:34 DEBUG   ] 1) Check for non-organic elements...\n"
       ]
      },
      {
       "output_type": "stream",
       "stream": "stderr",
       "text": [
        "[2013/Oct/17 14:14:34 DEBUG   ] 2) Attempting to neutralize (first pass)...\n"
       ]
      },
      {
       "output_type": "stream",
       "stream": "stderr",
       "text": [
        "[2013/Oct/17 14:14:34 DEBUG   ] 0 positive/H, 0 positive/quat and 1 negative (of which 1 are acid) charges identified\n"
       ]
      },
      {
       "output_type": "stream",
       "stream": "stderr",
       "text": [
        "[2013/Oct/17 14:14:34 DEBUG   ] Overall H balance: +1; formal charge: 0\n"
       ]
      },
      {
       "output_type": "stream",
       "stream": "stderr",
       "text": [
        "[2013/Oct/17 14:14:34 DEBUG   ] 3) Applying rules...\n"
       ]
      },
      {
       "output_type": "stream",
       "stream": "stderr",
       "text": [
        "[2013/Oct/17 14:14:34 DEBUG   ] apply> mol = 'c1nnn[nH]1'\n"
       ]
      },
      {
       "output_type": "stream",
       "stream": "stderr",
       "text": [
        "[2013/Oct/17 14:14:34 DEBUG   ] apply> starting pass 1...\n"
       ]
      },
      {
       "output_type": "stream",
       "stream": "stderr",
       "text": [
        "[2013/Oct/17 14:14:34 DEBUG   ] ...total of 0 hits in pass: finished.\n"
       ]
      },
      {
       "output_type": "stream",
       "stream": "stderr",
       "text": [
        "[2013/Oct/17 14:14:34 DEBUG   ] 4) Attempting to neutralize (second pass)...\n"
       ]
      },
      {
       "output_type": "stream",
       "stream": "stderr",
       "text": [
        "[2013/Oct/17 14:14:34 DEBUG   ] 0 positive/H, 0 positive/quat and 0 negative (of which 0 are acid) charges identified\n"
       ]
      },
      {
       "output_type": "stream",
       "stream": "stderr",
       "text": [
        "[2013/Oct/17 14:14:34 DEBUG   ] Overall H balance: 0; formal charge: 0\n"
       ]
      },
      {
       "output_type": "stream",
       "stream": "stderr",
       "text": [
        "[2013/Oct/17 14:14:34 DEBUG   ] 5) Checking if frag is a salt/solvate...\n"
       ]
      },
      {
       "output_type": "stream",
       "stream": "stderr",
       "text": [
        "[2013/Oct/17 14:14:34 DEBUG   ] Fragment matches salt/solvate 'tetrazole'\n"
       ]
      },
      {
       "output_type": "stream",
       "stream": "stderr",
       "text": [
        "[2013/Oct/17 14:14:34 DEBUG   ] Starting fragment 'O'...\n"
       ]
      },
      {
       "output_type": "stream",
       "stream": "stderr",
       "text": [
        "[2013/Oct/17 14:14:34 DEBUG   ] 1) Check for non-organic elements...\n"
       ]
      },
      {
       "output_type": "stream",
       "stream": "stderr",
       "text": [
        "[2013/Oct/17 14:14:34 DEBUG   ] 2) Attempting to neutralize (first pass)...\n"
       ]
      },
      {
       "output_type": "stream",
       "stream": "stderr",
       "text": [
        "[2013/Oct/17 14:14:34 DEBUG   ] 0 positive/H, 0 positive/quat and 0 negative (of which 0 are acid) charges identified\n"
       ]
      },
      {
       "output_type": "stream",
       "stream": "stderr",
       "text": [
        "[2013/Oct/17 14:14:34 DEBUG   ] Overall H balance: 0; formal charge: 0\n"
       ]
      },
      {
       "output_type": "stream",
       "stream": "stderr",
       "text": [
        "[2013/Oct/17 14:14:34 DEBUG   ] 3) Applying rules...\n"
       ]
      },
      {
       "output_type": "stream",
       "stream": "stderr",
       "text": [
        "[2013/Oct/17 14:14:34 DEBUG   ] apply> mol = 'O'\n"
       ]
      },
      {
       "output_type": "stream",
       "stream": "stderr",
       "text": [
        "[2013/Oct/17 14:14:34 DEBUG   ] apply> starting pass 1...\n"
       ]
      },
      {
       "output_type": "stream",
       "stream": "stderr",
       "text": [
        "[2013/Oct/17 14:14:34 DEBUG   ] ...total of 0 hits in pass: finished.\n"
       ]
      },
      {
       "output_type": "stream",
       "stream": "stderr",
       "text": [
        "[2013/Oct/17 14:14:34 DEBUG   ] 4) Attempting to neutralize (second pass)...\n"
       ]
      },
      {
       "output_type": "stream",
       "stream": "stderr",
       "text": [
        "[2013/Oct/17 14:14:34 DEBUG   ] 0 positive/H, 0 positive/quat and 0 negative (of which 0 are acid) charges identified\n"
       ]
      },
      {
       "output_type": "stream",
       "stream": "stderr",
       "text": [
        "[2013/Oct/17 14:14:34 DEBUG   ] Overall H balance: 0; formal charge: 0\n"
       ]
      },
      {
       "output_type": "stream",
       "stream": "stderr",
       "text": [
        "[2013/Oct/17 14:14:34 DEBUG   ] 5) Checking if frag is a salt/solvate...\n"
       ]
      },
      {
       "output_type": "stream",
       "stream": "stderr",
       "text": [
        "[2013/Oct/17 14:14:34 DEBUG   ] Fragment matches salt/solvate 'water or hydroxide'\n"
       ]
      },
      {
       "output_type": "stream",
       "stream": "stderr",
       "text": [
        "[2013/Oct/17 14:14:34 WARNING ] No non-salt/solvate components\n"
       ]
      }
     ],
     "prompt_number": 28
    }
   ],
   "metadata": {}
  }
 ]
}