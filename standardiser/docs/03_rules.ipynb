{
 "metadata": {
  "name": ""
 },
 "nbformat": 3,
 "nbformat_minor": 0,
 "worksheets": [
  {
   "cells": [
    {
     "cell_type": "code",
     "collapsed": true,
     "input": [
      "%run setup.py\n",
      "\n",
      "reload(logging) # Seems to be required to get logging from modules working\n",
      "\n",
      "logging.basicConfig(level=logging.INFO, format=\"[%(asctime)s %(levelname)-8s] %(message)s\", datefmt=\"%Y/%b/%d %H:%M:%S\")\n",
      "\n",
      "sys.path.append(\"..\")"
     ],
     "language": "python",
     "metadata": {
      "slideshow": {
       "slide_type": "skip"
      }
     },
     "outputs": [],
     "prompt_number": 1
    },
    {
     "cell_type": "code",
     "collapsed": true,
     "input": [
      "from standardise import rules, neutralise, standardise\n",
      "\n",
      "from demo import *"
     ],
     "language": "python",
     "metadata": {},
     "outputs": [],
     "prompt_number": 2
    },
    {
     "cell_type": "markdown",
     "metadata": {
      "slideshow": {
       "slide_type": "skip"
      }
     },
     "source": [
      "# **`rules`**: apply structure-normalisation transformations\n",
      "\n",
      "This document describes the **`rules`** module, which encodes a set of rules that are applied in order to standardise molecular representation.\n",
      "\n",
      "### Notes\n",
      "\n",
      "Some notes on various aspects of the rules are available...\n",
      "\n",
      "* Some information about how the rules are applied is provided [here](Rule_application_strategy.ipynb).\n",
      "\n",
      "\n",
      "* A brief note on how the charge-neutralisation strategy relates to the rules given is [here](Neutralisation_strategy.ipynb).\n",
      "\n",
      "\n",
      "* It is importaint to remember that the product of the application of the rules is not claimed to be a canonical tautomer: there may be cases where different input tautomers will produce different outputs, and it is currently up to the user to track this if it is important. This issue is discussed further [here](Multiple_possible_tautomers.ipynb).\n",
      "\n",
      "\n",
      "* There a certain cases where rules are available that are not enabled by default. For example, in certain hydroxy-substituted heterocycles, a (non-intuitive) nonaromatic carbonyl is favoured over the aromatic hydroxy form. This particular issue is is discussed further [here](Tautomerism_and_aromaticity.ipynb).\n",
      "\n",
      "\n",
      "* A brief note on dealing with odd structures [here](Sanity_Checking.ipynb).\n",
      "\n",
      "\n",
      "* Documents on specific type of rule are linked in the appropriate section.\n",
      "\n",
      "### Further work\n",
      "\n",
      "I would be interested in missing rules, and in cases where rules need to be restricted (_i.e._ they are being applied inappropriately in some cases). I have attempted to highlight some cases where this might be an issue, in order to prompt discussion.\n"
     ]
    },
    {
     "cell_type": "markdown",
     "metadata": {},
     "source": [
      "### Usage\n",
      "\n",
      "The `rules` module is used in the same manner as the other modules..."
     ]
    },
    {
     "cell_type": "code",
     "collapsed": false,
     "input": [
      "mol = Chem.MolFromSmiles(\"Oc1nccc2cc[nH]c(=N)c12\")\n",
      "\n",
      "mol"
     ],
     "language": "python",
     "metadata": {},
     "outputs": [
      {
       "metadata": {},
       "output_type": "pyout",
       "png": "[encoded data removed]",
       "prompt_number": 51,
       "text": [
        "<rdkit.Chem.rdchem.Mol at 0x10c6ec980>"
       ]
      }
     ],
     "prompt_number": 51
    },
    {
     "cell_type": "code",
     "collapsed": false,
     "input": [
      "rules.apply(mol)"
     ],
     "language": "python",
     "metadata": {},
     "outputs": [
      {
       "output_type": "stream",
       "stream": "stderr",
       "text": [
        "[2014/Jan/15 16:03:30 INFO    ] rule 2 '2-hydroxy pyridine -> 2-pyridone' applied on pass 1\n"
       ]
      },
      {
       "output_type": "stream",
       "stream": "stderr",
       "text": [
        "[2014/Jan/15 16:03:30 INFO    ] rule 6 'hydropyridin-2-imine -> 2-amino-pyridine' applied on pass 1\n"
       ]
      },
      {
       "metadata": {},
       "output_type": "pyout",
       "png": "[encoded data removed]",
       "prompt_number": 52,
       "text": [
        "<rdkit.Chem.rdchem.Mol at 0x10c763b18>"
       ]
      }
     ],
     "prompt_number": 52
    },
    {
     "cell_type": "markdown",
     "metadata": {},
     "source": [
      "<p><a name=\"top\"></a></p>\n",
      "## Decription of the rules\n",
      "\n",
      "For reference, the SMARTS implementing the rules are shown below.\n",
      "\n",
      "Note that RDKit reaction SMARTS offer a certain amount of flexibility as to how one codes them up. For example, I prefer to use an asterisk on the product side where atoms don't change to emphasise those that do. I'd be interested if there are an issues with this approach that I'm unaware of."
     ]
    },
    {
     "cell_type": "code",
     "collapsed": false,
     "input": [
      "for x in rules.rule_set: x[\"tag\"] = re.sub(\"[ ,]\", \"_\", re.sub(\"[()>.]\", \"\", x[\"name\"]))\n",
      "\n",
      "HTML(Template(open(\"templates/rule_set.html\").read()).render(rule_set=rules.rule_set))"
     ],
     "language": "python",
     "metadata": {},
     "outputs": [
      {
       "html": [
        "<style>\n",
        ".monospace {font-family: \"Courier New\", Courier, monospace;}\n",
        "</style>\n",
        "\n",
        "<table>\n",
        "\t<tr>\n",
        "\t\t<th>N</th>\n",
        "\t\t<th>Name</th>\n",
        "\t\t<th>SMARTS</th>\n",
        "\t</tr>\n",
        "\n",
        "\t\n",
        "\t    <tr>\n",
        "\t\t    <td>1</td>\n",
        "\t\t    <td><a href=\"#hydroxy_imine_-_carboxamide\">hydroxy imine -> carboxamide</a></td>\n",
        "\t\t    <td>[OX2H1:1]-[C:2]=[NX2:3]>>[OH0:1]=[*:2]-[NH1:3]</td>\n",
        "\t    </tr>\n",
        "\t\n",
        "\t    <tr>\n",
        "\t\t    <td>2</td>\n",
        "\t\t    <td><a href=\"#2-hydroxy_pyridine_-_2-pyridone\">2-hydroxy pyridine -> 2-pyridone</a></td>\n",
        "\t\t    <td>[OX2H1:1]-[c:2]:[nX2:3]>>[OH0:1]=[*:2]:[nH1:3]</td>\n",
        "\t    </tr>\n",
        "\t\n",
        "\t    <tr>\n",
        "\t\t    <td>3</td>\n",
        "\t\t    <td><a href=\"#4-hydroxy_pyridine_-_4-pyridone_within-ring\">4-hydroxy pyridine -> 4-pyridone (within-ring)</a></td>\n",
        "\t\t    <td>[OX2H1:1]-[c:2]1:[c:3]:[a:4]:[nX2:5]:[a:6]:[a:7]:1>>[OH0:1]=[*:2]1:[*:3]:[*:4]:[nH1:5]:[*:6]:[*:7]:1</td>\n",
        "\t    </tr>\n",
        "\t\n",
        "\t    <tr>\n",
        "\t\t    <td>4</td>\n",
        "\t\t    <td><a href=\"#4-hydroxy_pyridine_-_4-pyridone_any\">4-hydroxy pyridine -> 4-pyridone (any)</a></td>\n",
        "\t\t    <td>[OX2H1:1]-[c:2]:[c:3]:[a:4]:[nX2:5]>>[OH0:1]=[*:2]:[*:3]:[*:4]:[nH1:5]</td>\n",
        "\t    </tr>\n",
        "\t\n",
        "\t    <tr>\n",
        "\t\t    <td>5</td>\n",
        "\t\t    <td><a href=\"#4-pyrimidone_-_2-pyrimidone_any\">4-pyrimidone -> 2-pyrimidone (any)</a></td>\n",
        "\t\t    <td>[nH!$(*c=O):1]:[a:2]:[nX2:3]:[c:4]=[O:5]>>[nH0:1]:[*:2]:[nH:3]:[*:4]=[O:5]</td>\n",
        "\t    </tr>\n",
        "\t\n",
        "\t    <tr>\n",
        "\t\t    <td>6</td>\n",
        "\t\t    <td><a href=\"#hydropyridin-2-imine_-_2-amino-pyridine\">hydropyridin-2-imine -> 2-amino-pyridine</a></td>\n",
        "\t\t    <td>[NH1+0:1]=[c:2]:[nH!$(*c=O):3]>>[NH2:1]-[*:2]:[nH0:3]</td>\n",
        "\t    </tr>\n",
        "\t\n",
        "\t    <tr>\n",
        "\t\t    <td>7</td>\n",
        "\t\t    <td><a href=\"#hydropyridin-2-imine_-_2-amino-pyridine_N-subst\">hydropyridin-2-imine -> 2-amino-pyridine (N-subst.)</a></td>\n",
        "\t\t    <td>[NH0+0:1]=[c:2]:[nH!$(*c=O):3]>>[NH1:1]-[*:2]:[nH0:3]</td>\n",
        "\t    </tr>\n",
        "\t\n",
        "\t    <tr>\n",
        "\t\t    <td>8</td>\n",
        "\t\t    <td><a href=\"#hydropyridin-4-imine_-_4-amino-pyridine\">hydropyridin-4-imine -> 4-amino-pyridine</a></td>\n",
        "\t\t    <td>[NH1+0:1]=[c:2]:[a:3]:,-[a:4]:[nH!$(*c=O):5]>>[NH2:1]-[*:2]:[*:3]:[*:4]:[nH0:5]</td>\n",
        "\t    </tr>\n",
        "\t\n",
        "\t    <tr>\n",
        "\t\t    <td>9</td>\n",
        "\t\t    <td><a href=\"#hydropyridin-4-imine_-_4-amino-pyridine_N-subst\">hydropyridin-4-imine -> 4-amino-pyridine (N-subst.)</a></td>\n",
        "\t\t    <td>[NH0+0:1]=[c:2]:[a:3]:,-[a:4]:[nH!$(*c=O):5]>>[NH1:1]-[*:2]:[*:3]:[*:4]:[nH0:5]</td>\n",
        "\t    </tr>\n",
        "\t\n",
        "\t    <tr>\n",
        "\t\t    <td>10</td>\n",
        "\t\t    <td><a href=\"#Fix_heterocyclic_tautomer_1\">Fix heterocyclic tautomer 1</a></td>\n",
        "\t\t    <td>[nH1r6!$(*1c(=O)aaaa1)!$(*1aac(=O)aa1):1]:[c:2]:[nX2r5:3]>>[nH0:1]:[*:2]:[nH1:3]</td>\n",
        "\t    </tr>\n",
        "\t\n",
        "\t    <tr>\n",
        "\t\t    <td>11</td>\n",
        "\t\t    <td><a href=\"#Fix_heterocyclic_tautomer_2\">Fix heterocyclic tautomer 2</a></td>\n",
        "\t\t    <td>[nH1r6!$(*1c(=O)aaaa1)!$(*1aac(=O)aa1):1]:[a:2]:[c:3]:[nX2r5:4]>>[nH0:1]:[*:2]:[*:3]:[nH1:4]</td>\n",
        "\t    </tr>\n",
        "\t\n",
        "\t    <tr>\n",
        "\t\t    <td>12</td>\n",
        "\t\t    <td><a href=\"#Fix_heterocyclic_tautomer_3\">Fix heterocyclic tautomer 3</a></td>\n",
        "\t\t    <td>[nH1r6!$(*1c(=O)aaaa1)!$(*1aac(=O)aa1):1]:[a:2]:[c:3]-[c:4]:[nX2r5:5]>>[nH0:1]:[*:2]:[*:3]:[*:4]:[nH1:5]</td>\n",
        "\t    </tr>\n",
        "\t\n",
        "\t    <tr>\n",
        "\t\t    <td>13</td>\n",
        "\t\t    <td><a href=\"#Fix_heterocyclic_tautomer_4\">Fix heterocyclic tautomer 4</a></td>\n",
        "\t\t    <td>[nH1r6!$(*1c(=O)aaaa1)!$(*1aac(=O)aa1):1]:[c:2]-[c:3]:[nX2r5:4]>>[nH0:1]:[*:2][*:3]:[nH1:4]</td>\n",
        "\t    </tr>\n",
        "\t\n",
        "\t    <tr>\n",
        "\t\t    <td>14</td>\n",
        "\t\t    <td><a href=\"#Enol_-_Ketone\">Enol -> Ketone</a></td>\n",
        "\t\t    <td>[OH:1][C:2]=[C:3]>>[O:1]=[C:2][C:3]</td>\n",
        "\t    </tr>\n",
        "\t\n",
        "\t    <tr>\n",
        "\t\t    <td>15</td>\n",
        "\t\t    <td><a href=\"#Fix_1_3_charge-seperated_systems_non-aromatic\">Fix 1,3 charge-seperated systems (non-aromatic)</a></td>\n",
        "\t\t    <td>[N,O,P,S;-1:1]-[A+0:2]=[N,O,P,S;+1:3]>>[*-0:1]=[*:2]-[*+0:3]</td>\n",
        "\t    </tr>\n",
        "\t\n",
        "\t    <tr>\n",
        "\t\t    <td>16</td>\n",
        "\t\t    <td><a href=\"#Fix_1_3_charge-seperated_systems_aromatic_1\">Fix 1,3 charge-seperated systems (aromatic 1)</a></td>\n",
        "\t\t    <td>[n,o,p,s;-1:1]:[a:2]=[N,O,P,S;+1:3]>>[*-0:1]:[*:2]-[*+0:3]</td>\n",
        "\t    </tr>\n",
        "\t\n",
        "\t    <tr>\n",
        "\t\t    <td>17</td>\n",
        "\t\t    <td><a href=\"#Fix_1_3_charge-seperated_systems_aromatic_2\">Fix 1,3 charge-seperated systems (aromatic 2)</a></td>\n",
        "\t\t    <td>[N,O,P,S;-1:1]-[a:2]:[n,o,p,s;+1:3]>>[*-0:1]=[*:2]:[*+0:3]</td>\n",
        "\t    </tr>\n",
        "\t\n",
        "\t    <tr>\n",
        "\t\t    <td>18</td>\n",
        "\t\t    <td><a href=\"#Fix_1_5_charge-seperated_systems_non-aromatic\">Fix 1,5 charge-seperated systems (non-aromatic)</a></td>\n",
        "\t\t    <td>[N,O,P,S;-1:1]-[A+0:2]=[A:3]-[A:4]=[N,O,P,S;+1:5]>>[*-0:1]=[*:2]-[*:3]=[*:4]-[*+0:5]</td>\n",
        "\t    </tr>\n",
        "\t\n",
        "\t    <tr>\n",
        "\t\t    <td>19</td>\n",
        "\t\t    <td><a href=\"#Fix_1_5_charge-seperated_systems_aromatic_1\">Fix 1,5 charge-seperated systems (aromatic 1)</a></td>\n",
        "\t\t    <td>[n,o,p,s;-1:1]:[a:2]:[a:3]:[c:4]=[N,O,P,S;+1:5]>>[*-0:1]:[*:2]:[*:3]:[c:4]-[*+0:5]</td>\n",
        "\t    </tr>\n",
        "\t\n",
        "\t    <tr>\n",
        "\t\t    <td>20</td>\n",
        "\t\t    <td><a href=\"#Fix_1_5_charge-seperated_systems_aromatic_2\">Fix 1,5 charge-seperated systems (aromatic 2)</a></td>\n",
        "\t\t    <td>[N,O,P,S;-1:1]-[c:2]:[a:3]:[a:4]:[n,o,p,s;+1:5]>>[*-0:1]=[c:2]:[*:3]:[*:4]:[*+0:5]</td>\n",
        "\t    </tr>\n",
        "\t\n",
        "\t    <tr>\n",
        "\t\t    <td>21</td>\n",
        "\t\t    <td><a href=\"#Fix_1_3_conjugated_cation_non-aromatic\">Fix 1,3 conjugated cation (non-aromatic)</a></td>\n",
        "\t\t    <td>[N,O;+0!H0:1]-[A:2]=[N!$(*[O-]),O;+1H0:3]>>[*+1:1]=[*:2]-[*+0:3]</td>\n",
        "\t    </tr>\n",
        "\t\n",
        "\t    <tr>\n",
        "\t\t    <td>22</td>\n",
        "\t\t    <td><a href=\"#Fix_1_3_conjugated_cation_aromatic_1\">Fix 1,3 conjugated cation (aromatic 1)</a></td>\n",
        "\t\t    <td>[n;+0!H0:1]:[c:2]=[N!$(*[O-]),O;+1H0:3]>>[*+1:1]:[*:2]-[*+0:3]</td>\n",
        "\t    </tr>\n",
        "\t\n",
        "\t    <tr>\n",
        "\t\t    <td>23</td>\n",
        "\t\t    <td><a href=\"#Fix_1_3_conjugated_cation_aromatic_2\">Fix 1,3 conjugated cation (aromatic 2)</a></td>\n",
        "\t\t    <td>[N,O;+0!H0:1]-[c:2]:[n!$(*[O-]),o;+1H0:3]>>[*+1:1]=[*:2]:[*+0:3]</td>\n",
        "\t    </tr>\n",
        "\t\n",
        "\t    <tr>\n",
        "\t\t    <td>24</td>\n",
        "\t\t    <td><a href=\"#Fix_1_5_conjugated_cation_non-aromatic\">Fix 1,5 conjugated cation (non-aromatic)</a></td>\n",
        "\t\t    <td>[N,O;+0!H0:1]-[A:2]=[A:3]-[A:4]=[N!$(*[O-]),O;+1H0:5]>>[*+1:1]=[*:2]-[*:3]=[*:4]-[*+0:5]</td>\n",
        "\t    </tr>\n",
        "\t\n",
        "\t    <tr>\n",
        "\t\t    <td>25</td>\n",
        "\t\t    <td><a href=\"#Fix_1_5_conjugated_cation_aromatic_1\">Fix 1,5 conjugated cation (aromatic 1)</a></td>\n",
        "\t\t    <td>[n;+0!H0:1]:[a:2]:[a:3]:[c:4]=[N!$(*[O-]),O;+1H0:5]>>[n+1:1]:[*:2]:[*:3]:[*:4]-[*+0:5]</td>\n",
        "\t    </tr>\n",
        "\t\n",
        "\t    <tr>\n",
        "\t\t    <td>26</td>\n",
        "\t\t    <td><a href=\"#Fix_1_5_conjugated_cation_aromatic_2\">Fix 1,5 conjugated cation (aromatic 2)</a></td>\n",
        "\t\t    <td>[N,O;+0!H0:1]-[c:2]:[a:3]:[a:4]:[n!$(*[O-]),o;+1H0:5]>>[*+1:1]=[c:2]:[*:3]:[*:4]:[*+0:5]</td>\n",
        "\t    </tr>\n",
        "\t\n",
        "\t    <tr>\n",
        "\t\t    <td>27</td>\n",
        "\t\t    <td><a href=\"#Fix_1_5_conjugated_cation_aromatic_3\">Fix 1,5 conjugated cation (aromatic 3)</a></td>\n",
        "\t\t    <td>[n;+0!H0:1]:[a:2]:[a:3]:[a:4]:[n!$(*[O-]);+1H0:5]>>[n+1:1]:[*:2]:[*:3]:[*:4]:[n+0:5]</td>\n",
        "\t    </tr>\n",
        "\t\n",
        "\t    <tr>\n",
        "\t\t    <td>28</td>\n",
        "\t\t    <td><a href=\"#Charge-seperate_sulphoxides\">Charge-seperate sulphoxides</a></td>\n",
        "\t\t    <td>[Sv4:1](=[O:2])[*:3]>>[S+:1](-[O-:2])[*:3]</td>\n",
        "\t    </tr>\n",
        "\t\n",
        "\t    <tr>\n",
        "\t\t    <td>29</td>\n",
        "\t\t    <td><a href=\"#Un-charge-seperate_sulphones\">Un-charge-seperate sulphones</a></td>\n",
        "\t\t    <td>[S+2:1]([O-:2])([O-:3])>>[S+0:1](=[O-0:2])(=[O-0:3])</td>\n",
        "\t    </tr>\n",
        "\t\n",
        "\t    <tr>\n",
        "\t\t    <td>30</td>\n",
        "\t\t    <td><a href=\"#Fix_hydrazine-diazonium_system\">Fix hydrazine-diazonium system</a></td>\n",
        "\t\t    <td>[NX3H$(*[CX4]):1]-[NX3H:2][CX4:5][NX2+:3]#[NX1:4]>>[N:1]=[NH+:2][C:5][N+0:3]=[NH:4]</td>\n",
        "\t    </tr>\n",
        "\t\n",
        "</table>"
       ],
       "metadata": {},
       "output_type": "pyout",
       "prompt_number": 42,
       "text": [
        "<IPython.core.display.HTML at 0x10c775850>"
       ]
      }
     ],
     "prompt_number": 42
    },
    {
     "cell_type": "markdown",
     "metadata": {},
     "source": [
      "<p><a name=\"Heteroatom_H-shift\"></a></p>\n",
      "## Heteroatom H-shifts\n",
      "\n",
      "These rules deal with relatively straigntforward shifts of protons between heteroatoms.\n",
      "\n",
      "Note that aza-derivatives of the illustrated species are also affected."
     ]
    },
    {
     "cell_type": "markdown",
     "metadata": {},
     "source": [
      "<p><a name=\"hydroxy_imine_-_carboxamide\"></a></p>\n",
      "### hydroxy imine -> carboxamide"
     ]
    },
    {
     "cell_type": "code",
     "collapsed": false,
     "input": [
      "demo(\"OC(C)=NC\")"
     ],
     "language": "python",
     "metadata": {},
     "outputs": [
      {
       "output_type": "stream",
       "stream": "stderr",
       "text": [
        "[2014/Jan/15 15:43:14 INFO    ] rule 1 'hydroxy imine -> carboxamide' applied\n"
       ]
      },
      {
       "html": [
        "<!-- NB the styling is inline as otherwise it is overridden by the Notebook stylesheets -->\n",
        "\n",
        "<table>\n",
        "\t<tr>\n",
        "\t\t<th style=\"text-align: center;\">Original</th>\n",
        "\t\t<th style=\"text-align: center;\">Transformed</th>\n",
        "\t</tr>\n",
        "\t<tr>\n",
        "\t\t<td><img src=\"data:image/png;base64,iVBORw0KGgoAAAANSUhEUgAAASwAAAEsCAIAAAD2HxkiAAAEpUlEQVR4nO3d207iYBhAUTqZ93/l\n",
        "zgWJOhyE0sNuYa14o2hbmm6/H0QdxnE8AZ0/9QHApxMhxEQIMRFCTIQQEyHERAgxEUJMhBATIcRE\n",
        "CDERQkyEEBMhxEQIMRFCTIQQEyHERAgxEUJMhBATIcRECDERQkyEEBMhxEQIMRFCTIQQEyHERAgx\n",
        "EUJMhBATIcRECDERQkyEEBMhxEQIMRFCTIQQEyHERAgxEUJMhBATIcRECDERQkyEEBMhxEQIMRFC\n",
        "TIQQEyHERAgxEUJMhBATIcRECDERQkyEEBMhxEQIMRFCTIQQEyHERAgxEUJMhBATIcRECDERQkyE\n",
        "EBMhxEQIMRFCTIQQEyHERAgxEUJMhBATIcRECDERQkyEEBMhxEQIMRFCTIQQEyHERAgxEUJMhBAT\n",
        "IcRECDERQkyEEBMhxEQIMRFCTIQQEyHERAgxEUJMhBATIcRECDERQkyEEBMhxEQIMRFCTIQQEyHE\n",
        "RAgxEUJMhBATIcREeMswPPjIMHy/HcXDO0Xkb30ABzQMp3G8++6eHehQP4lJONH1dTyOhxkpBzrU\n",
        "TyJCiFmO3vE2E+N8R76m93kYWpTuiQjvuLhMj9jkvWP+v8OLSNmeCJeznwlzkd+vR3W+UYohjwkn\n",
        "un5u42d7exiYP49hHG+HdXUvzp94rJ+5vA2TcLqLK/jmwjWZKb8c1bVbz5SaiolhdLIXNGUduPP9\n",
        "SnEzIlzBlimuvC8pbkCEq5m0ONxyF9PDGgbXyYqc3DWtN6Ze2/KM7wvDMJxOJ1fLGkS4vmVTfHlr\n",
        "S0xmI3ENzulWFlmdzll/ztz198aMxIWJcFsv9zA/v6l7fLBhKS5GhJubGsb8h3/Pf9VEVqeLcBIj\n",
        "z0SSPvx7eldG4lwiTD185c3Nm17b4JqMxDmcux24KGdnD/+e3r+R+CIR7sPN103vfgBek+ILRLgn\n",
        "Xy0dML+frE4ncbL2ZcLlW68/WYpfZTog+b0XER7NLtefzCHC45Dfm/LnLQ5Cge/LJDwU+b0jER6E\n",
        "/N6X5SjERAgxEUJMhBATIcRECDERQkyEEBMhxEQIMRFCTIQQEyHERAgxEUJMhBATIcRECDERQkyE\n",
        "EBMhxEQIMRFCTIQQEyHERAgxEUJMhBATIcRECDERQkyE+zL6P4SfR4QQEyHERAgxEUJMhBATIcRE\n",
        "CDERQkyEEBMhxEQIMRFCTIQQEyHERAgxEUJMhBATIcRECDERQkyEEBMhxEQIMRFCTIQQEyHERAgx\n",
        "EUJMhBATIcRECDERQkyEEBMhxEQIMRFCTIQQEyHERAgxEUJMhBATIcRECDERQkyEEBMhxEQIMRFC\n",
        "TIQQEyHERAgxEUJMhBATIcRECDERQkyEEBMhxEQIMRFCTIQQEyHERAgxEUJMhBATIcRECDERQkyE\n",
        "EBMhxEQIMRFCTIQQEyHERAgxEUJMhBATIcRECDERQkyEEBMhxEQIMRFCTIQQEyHERAgxEUJMhBAT\n",
        "IcRECDERQkyEEBMhxEQIMRFCTIQQEyHERAgxEUJMhBATIcRECDERQkyEEBMhxEQIMRFCTIQQEyHE\n",
        "RAgxEUJMhBATIcRECDERQkyEEBMhxEQIMRFC7B8bNuw0Xjy2WAAAAABJRU5ErkJggg==\n",
        "\"></td>\n",
        "\t\t<td><img src=\"data:image/png;base64,iVBORw0KGgoAAAANSUhEUgAAASwAAAEsCAIAAAD2HxkiAAAEqUlEQVR4nO3d3W6iYBRAUZjM+78y\n",
        "c9GkddQqys+GuFZ6o7aVUHa+A0Y7TtM0AJ0/9QbApxMhxEQIMRFCTIQQEyHERAgxEUJMhBATIcRE\n",
        "CDERQkyEEBMhxEQIMRFCTIQQEyHERAgxEUJMhBATIcRECDERQkyEEBMhxEQIMRFCTIQQEyHERAgx\n",
        "EUJMhBATIcRECDERQkyEEBMhxEQIMRFCTIQQEyHERAgxEUJMhBATIcRECDERQkyEEBMhxEQIMRFC\n",
        "TIQQEyHERAgxEUJMhBATIcRECDERQkyEEBMhxEQIMRFCTIQQEyHERAgxEUJMhBATIcRECDERQkyE\n",
        "EBMhxEQIMRFCTIQQEyHERAgxEUJMhBATIcRECDERQkyEEBMhxEQIMRFCTIQQEyHERAgxEUJMhBAT\n",
        "IcRECDERQkyEEBMhxEQIMRFCTIQQEyHERAgxEUJMhBATIcRECDERQkyEEBMhxEQIMRFCTIQQEyHE\n",
        "RAgxEUJMhBAT4TLjWG8BpyfCecbx5+vuQwd0d1OfPsTu/tYbcAbjOEzTrze/7xyGO/e37m4qB2Ml\n",
        "fOb2OJ6mn3Vjmq77PNSScrmpHJUI13CbIsxmHF3PV4dfBR5nOv1aDH+bnzkAEa7tcgI8SIp3O7y6\n",
        "qcmOcXQD+Ymiok5FhM/cXtuYecmxOlG8+0Szr9Dod3/G0RmujuCXxss9p9PHAc3r8Pu78iH6c4yT\n",
        "nf2qq0N55g5876dm2uCXS3E3InzX8hRX2fObti3FXYhwmfeiWivF1ZP+9XkcJxuyc9fwRgwLV7CN\n",
        "F8B7TzgOw+Bo2YIIV7LbieLu+f3/5A6Y9dmnq9r6RHGv+fPhJlgSVybCDWxxoniA/C5JcUUi3MaK\n",
        "S2I6fz5mOl2FnbilJSnevrZ+yL+UJXE5EW6vfRljF5bEJey7vZzq6ssbLIlvE+GO5oyX5yzwmxTf\n",
        "IMLdPUxxHMfp5s7TMZ2+xFuZdvf0LU7nP3wV+BIRRi5TPNrHQ7EvEaZ8PBQi7F1Np3we76w/Bh1+\n",
        "MCshxEQIMRFCTIQQEyHERAgxEUJMhBATIcRECDERQkyEEBMhxEQIMRFCTIQQEyHERAgxEUJMhBAT\n",
        "IcRECDERQkyEEBMhxEQIMRFCTIQQEyHERAgxEUJMhBATIcREeCyTf9n7eUQIMRFCTIQQEyHERAgx\n",
        "EUJMhBATIcRECDERQkyEEBMhxEQIMRFCTIQQEyHERAgxEUJMhBATIcRECDERQkyEEBMhxEQIMRFC\n",
        "TIQQEyHERAgxEUJMhBATIcRECDERQkyEEBMhxEQIMRFCTIQQEyHERAgxEUJMhBATIcRECDERQkyE\n",
        "EBMhxEQIMRFCTIQQEyHERAgxEUJMhBATIcRECDERQkyEEBMhxEQIMRFCTIQQEyHERAgxEUJMhBAT\n",
        "IcRECDERQkyEEBMhxEQIMRFCTIQQEyHERAgxEUJMhBATIcRECDERQkyEEBMhxEQIMRFCTIQQEyHE\n",
        "RAgxEUJMhBATIcRECDERQkyEEBMhxEQIMRFCTIQQEyHERAgxEUJMhBATIcRECDERQkyEEBMhxEQI\n",
        "MRFCTIQQEyHERAgxEUJMhBATIcRECDERQkyEEBMhxP4BDwT0L91O5XkAAAAASUVORK5CYII=\n",
        "\"></td>\n",
        "\t</tr>\n",
        "</table>"
       ],
       "metadata": {},
       "output_type": "pyout",
       "prompt_number": 4,
       "text": [
        "<IPython.core.display.HTML at 0x10c05ec90>"
       ]
      }
     ],
     "prompt_number": 4
    },
    {
     "cell_type": "markdown",
     "metadata": {},
     "source": [
      "[<a href=\"#top\">Top</a>]"
     ]
    },
    {
     "cell_type": "markdown",
     "metadata": {
      "slideshow": {
       "slide_type": "slide"
      }
     },
     "source": [
      "<p><a name=\"2-hydroxy_pyridine_-_2-pyridone\"></a></p>\n",
      "### 2-hydroxy pyridine -> 2-pyridone\n",
      "\n",
      "The hydroxy-pyrimidine input is used here to show that the 2-pyrimidone that is produced preferentially and not the 4-pyrimidone."
     ]
    },
    {
     "cell_type": "code",
     "collapsed": false,
     "input": [
      "demo(\"Oc1ncncc1\")"
     ],
     "language": "python",
     "metadata": {
      "slideshow": {
       "slide_type": "-"
      }
     },
     "outputs": [
      {
       "output_type": "stream",
       "stream": "stderr",
       "text": [
        "[2014/Jan/15 15:43:18 INFO    ] rule 2 '2-hydroxy pyridine -> 2-pyridone' applied\n"
       ]
      },
      {
       "html": [
        "<!-- NB the styling is inline as otherwise it is overridden by the Notebook stylesheets -->\n",
        "\n",
        "<table>\n",
        "\t<tr>\n",
        "\t\t<th style=\"text-align: center;\">Original</th>\n",
        "\t\t<th style=\"text-align: center;\">Transformed</th>\n",
        "\t</tr>\n",
        "\t<tr>\n",
        "\t\t<td><img src=\"data:image/png;base64,iVBORw0KGgoAAAANSUhEUgAAASwAAAEsCAIAAAD2HxkiAAAFXElEQVR4nO3c3W6bWBhAUTOa939l\n",
        "5iJVO7UT/Ie9z8FrqVeNJQhh+zsGmWVd1xPQ+afeAfh0IoSYCCEmQoiJEGIihJgIISZCiIkQYiKE\n",
        "mAghJkKIiRBiIoSYCCEmQoiJEGIihJgIISZCiIkQYiKEmAghJkKIiRBiIoSYCCEmQoiJEGIihJgI\n",
        "ISZCiIkQYiKEmAghJkKIiRBiIoSYCCEmQoiJEGIihJgIISZCiIkQYiKEmAghJkKIiRBiIoSYCCEm\n",
        "QoiJEGIihJgIISZCiIkQYiKEmAghJkKIiRBiIoSYCCEmQoiJEGIihJgIISZCiIkQYiKEmAghJkKI\n",
        "iRBiIoSYCCEmQoiJEGIihJgIISZCiIkQYiKEmAghJkKIiRBiIoSYCCEmQoiJEGIihJgIISZCiIkQ\n",
        "YiKEmAghJkKIiRBiIoSYCCEmQoiJEGIihJgIISZCiIkQYiKEmAghJkKIiRBiIoSYCCEmQoiJEGIi\n",
        "hJgIIfZvvQOHsixLst11XZPtsgsR7mZZliqGcNM8z3IUYiLcRzuL1nWtVsI8T4QQE+EORvhIZhjO\n",
        "S4QQE+GzRhiDXwzDSYkQYqO8i09qYwy+eihtbNffdC5u1r9KVcLXolSHE7EcfZxznV2I8IBcoZmL\n",
        "CB9kDLIXER6TYTgRET7CGGRHIjwsw3AWIrzbRGNQh1MQ4X2WxdfY2ZkID84wHJ8I77AsJ1OQ3Ynw\n",
        "+AzDwYnwVsYgLyLCm8xeoGE4MhFCTITXzT4GvxiGwxLhB9HhmER43QHGICMT4WcxDAckQoiJ8OMY\n",
        "hqMRIcRE+MflePh2YEwzRZbl178LbxqGv3fgbFs3HuiP4ZGHfznGLcHT6X+n9cbv86JT/2uLZ4fy\n",
        "OEd2fybhX9b1+pl5y2vGt55OL/wlLpM7xlF7DZPwiK6OwWU5nU7rxgt4IxGe+3rL3j45b3lNZoqB\n",
        "M8VOvosIvzF0Y7fbHINbL3iDs01/dpM+Ez5o0M84ty1Et17A24nwe4M2NovLw3eEpcWrWI7+6GqH\n",
        "w61ahxqDZ4dvoMM0HBH+cXmeDJfZXH46cN8e6A9mOXrF9jwcaNU61BjkHiK8bqDSOCIRPmuIRI3B\n",
        "mYnwJkOU9pOre6bAsYlwB6MkqrE5ifBWN1yhKUK0EJ2fCO8wysTjWES4m+CxEcbgIYjwPjMNw2l2\n",
        "9NOJ8G4bH//eOgxvn3LG4NhEuLNRnmVmIToPET6iL01jByLC/b08UXfnj0WED9ou7U2jUmOHIMLZ\n",
        "uC1xOCJ83BDD8IwCJyTCqWjsiJbVn/M5y7J1DLd/+hKeBTAbk/C1vMdxlQif1d8zPCP72YgQYiLc\n",
        "wXDDkKmIEGIi3Ef5ZcKN/2EGIpyZ6g7BE7h38/QwvOOq5q8roJ4Qfggi3JO7gjzAcnRyMz1vg++J\n",
        "cH46nJwIISbCQzAMZybCo3BNaFq+ygQxkxBiIoSYCCEmQoiJEGIihJgIISZCiIkQYiKEmAghJkKI\n",
        "iRBiIoSYCCEmQoiJEGIihJgIISZCiIkQYiKEmAghJkKIiRBiIoSYCCEmQoiJEGIihJgIISZCiIkQ\n",
        "YiKEmAghJkKIiRBiIoSYCCEmQoiJEGIihJgIISZCiIkQYiKEmAghJkKIiRBiIoSYCCEmQoiJEGIi\n",
        "hJgIISZCiIkQYiKEmAghJkKIiRBiIoSYCCEmQoiJEGIihJgIISZCiIkQYiKEmAghJkKIiRBiIoSY\n",
        "CCEmQoiJEGIihJgIISZCiIkQYiKEmAghJkKIiRBiIoSYCCEmQoiJEGIihJgIISZCiIkQYiKEmAgh\n",
        "JkKIiRBiIoSYCCEmQoiJEGIihJgIISZCiIkQYiKEmAghJkKIiRBi/wE8j0xj+yUsPQAAAABJRU5E\n",
        "rkJggg==\n",
        "\"></td>\n",
        "\t\t<td><img src=\"data:image/png;base64,iVBORw0KGgoAAAANSUhEUgAAASwAAAEsCAIAAAD2HxkiAAAFM0lEQVR4nO3d224aSQBFUTqa///l\n",
        "zoNH4/GNa+Fd1aylvESKBGl7c5rGhm3f9xPQ+VPfAXh1IoSYCCEmQoiJEGIihJgIISZCiIkQYiKE\n",
        "mAghJkKIiRBiIoSYCCEmQoiJEGIihJgIISZCiIkQYiKEmAghJkKIiRBiIoSYCCEmQoiJEGIihJgI\n",
        "ISZCiIkQYiKEmAghJkKIiRBiIoSYCCEmQoiJEGIihJgIISZCiIkQYiKEmAghJkKIiRBiIoSYCCEm\n",
        "QoiJEGIihJgIISZCiIkQYiKEmAghJkKIiRBiIoSYCCEmQoiJEGIihJgIISZCiIkQYiKEmAghJkKI\n",
        "iRBiIoSYCCEmQoiJEGIihJgIISZCiIkQYiKEmAghJkKIiRBiIoSYCCEmQoiJEGIihJgIISZCiIkQ\n",
        "YiKEmAghJkKIiRBiIoSYCCEmQoiJEGIihJgIISZCiIkQYiKEmAghJkKIiRBiIoSYCCEmQoiJEGIi\n",
        "hJgIIfZPfQcOZdu25Hb3fU9ulyFEOMy2bVUM4U3zOKejEBPhGO0W7ftenQnzOBFCTIQDzPCUzBiu\n",
        "S4QQE+GjZpjBN8ZwUSKE2CyP4os6M4PPHqUzt+truhYv1j9LVcLbSakOF+J09H6+1xlChAfkCs1a\n",
        "RHgnM8goIjwmY7gQEd7DDDKQCA/LGK5ChDdbaAZ1uAQR3mbb/Bo7g4nw4Izh/ER4g207WUGGE+Hx\n",
        "GcPJifBaZpAnEeFVVi/QGM5MhBAT4WWrz+AbYzgtEb4QHc5JhJcdYAaZ2TI/gcUo7z929wur6Lvr\n",
        "CpYQYpbwFS30M+ivwBJCTITvvj5F+vZJ0wGuLwaXSbft/Q8fecvDD47xkuB0Ph1WR/kjS/jBvl9+\n",
        "pL7m38xvf3t74l/4n3xN7hhHcBwRvqRtO51O+8lLCFMQ4WevM4ZMwnPCb7w1dtiR+P/jx7MfSw57\n",
        "EEeyhHdadQz/u9PymIYl/N6qjd3kdzr8el5x5NOMe4jwRxc7XO+stZrBT4dypUP2G0T47uv3xnqZ\n",
        "TctB/JnnhBec38OVzlo9G5yVCC9bqTQWJMJHrZGoGZyYCK+yRmk/UeDcRDjA2olSE+G1rrhCM2WI\n",
        "ZnB6IryBxeMZRDjMjG8oaAZXIMLbrDSGy9zRVyfCm515+jfjGJ7M4OxEONgsHToRXYcI7zFLaRyC\n",
        "CMfrEzWDSxHhnc6X1nfIOkR4OGZwNSK834xjqMAFiRBiPhjkUec/XMVHr3CRJXwuBXKRCB/lQigP\n",
        "EiHERDiAMeQRIoSYCMf4jTE88yGmV36+KVMS4VKkdUTegXuYh8fw3IsZ/77S4S3Bj0iEI3lVkDuI\n",
        "cDU/jaEz1WWJcEHfdvjpr5pchwszEBPhmlZ61zcuEOGyXAQ6Cr9oAzFLCDERQkyEEBMhxEQIMRFC\n",
        "TIQQEyHERAgxEUJMhBATIcRECDERQkyEEBMhxEQIMRFCTIQQEyHERAgxEUJMhBATIcRECDERQkyE\n",
        "EBMhxEQIMRFCTIQQEyHERAgxEUJMhBATIcRECDERQkyEEBMhxEQIMRFCTIQQEyHERAgxEUJMhBAT\n",
        "IcRECDERQkyEEBMhxEQIMRFCTIQQEyHERAgxEUJMhBATIcRECDERQkyEEBMhxEQIMRFCTIQQEyHE\n",
        "RAgxEUJMhBATIcRECDERQkyEEBMhxEQIMRFCTIQQEyHERAgxEUJMhBATIcRECDERQkyEEBMhxEQI\n",
        "MRFCTIQQEyHERAgxEUJMhBATIcRECDERQkyEEBMhxEQIMRFCTIQQEyHERAgxEUJMhBATIcRECLG/\n",
        "sCIwX6QQ3d4AAAAASUVORK5CYII=\n",
        "\"></td>\n",
        "\t</tr>\n",
        "</table>"
       ],
       "metadata": {},
       "output_type": "pyout",
       "prompt_number": 5,
       "text": [
        "<IPython.core.display.HTML at 0x10c05ee50>"
       ]
      }
     ],
     "prompt_number": 5
    },
    {
     "cell_type": "markdown",
     "metadata": {},
     "source": [
      "[<a href=\"#top\">Top</a>]"
     ]
    },
    {
     "cell_type": "markdown",
     "metadata": {},
     "source": [
      "Note that 2-hydroxy-imidazole is also affected..."
     ]
    },
    {
     "cell_type": "code",
     "collapsed": false,
     "input": [
      "demo(\"Oc1ncc[nH]1\")"
     ],
     "language": "python",
     "metadata": {},
     "outputs": [
      {
       "output_type": "stream",
       "stream": "stderr",
       "text": [
        "[2014/Jan/15 15:43:24 INFO    ] rule 2 '2-hydroxy pyridine -> 2-pyridone' applied\n"
       ]
      },
      {
       "html": [
        "<!-- NB the styling is inline as otherwise it is overridden by the Notebook stylesheets -->\n",
        "\n",
        "<table>\n",
        "\t<tr>\n",
        "\t\t<th style=\"text-align: center;\">Original</th>\n",
        "\t\t<th style=\"text-align: center;\">Transformed</th>\n",
        "\t</tr>\n",
        "\t<tr>\n",
        "\t\t<td><img src=\"data:image/png;base64,iVBORw0KGgoAAAANSUhEUgAAASwAAAEsCAIAAAD2HxkiAAAFNUlEQVR4nO3d23LqNgBAUdzp//+y\n",
        "+5A2Jw0k3AzbkteaPDGAmUw2kmzHXtZ1PQGdv+oPAEcnQoiJEGIihJgIISZCiIkQYiKEmAghJkKI\n",
        "iRBiIoSYCCEmQoiJEGIihJgIISZCiIkQYiKEmAghJkKIiRBiIoSYCCEmQoiJEGIihJgIISZCiIkQ\n",
        "YiKEmAghJkKIiRBiIoSYCCEmQoiJEGIihJgIISZCiIkQYiKEmAghJkKIiRBiIoSYCCEmQoiJEGIi\n",
        "hJgIISZCiIkQYiKEmAghJkKIiRBiIoSYCCEmQoiJEGIihJgIISZCiIkQYiKEmAghJkKIiRBiIoSY\n",
        "CCEmQoiJEGIihJgIISZCiIkQYiKEmAghJkKIiRBiIoSYCCEmQoiJEGIihJgIISZCiIkQYiKEmAgh\n",
        "JkKIiRBiIoSYCCEmQoiJEGIihJgIISZCiIkQYiKEmAghJkKIiRBiIoSYCCEmQoiJEGIihJgIISZC\n",
        "iIkQYiKEmAj3Z1muP8JERLhLqjsSEe7SuurwOES4I7o7pr/rD8Cf9tb1y6Mfg+H/HmJOImx8HfR+\n",
        "DE2HxyDC97kpvN9fL8gZifDlln/jWx8p6NseGh3OSISv8l97j8X3hQ5nJ8KNPdXex2vPX+iIxdSW\n",
        "Z7+nOZ1Om4x7V5eMz64p2Skj4VM2m3Oeve+VzExKJ2IkfMQL2/vq/M2vPoEBGQnv85Hfq765rq79\n",
        "LA5n5LS1u7127vD1zS/2dvUJjEaE+3Y1Mx2OT4T7c3Wk/fYEHQ5OhJtZNozhrkkpgxPhCExKpybC\n",
        "vbo65zQpnYUId+zexSFjEuG+OWJxACIcisXhjES4e45YzE6EI3DEYmoiHJDF4VxEOIh755w6HIcI\n",
        "x2FxOCkRDsXicEYiHJnF4RREOJp7xzod7p4IB3TvpPSlHS7Ln5/fN+rr4AcubzG+ixd9Or9a6bY+\n",
        "tvht0y4/9RAj4ZhuGevW9XQ6vXD0OU/OJXAeYiQc1g1/8curr4jDFkQ4ss8O91maUfE2Ihzcz/kt\n",
        "S31RWScP3MaacE59gdxMhBN6U4Hni1J7Rx9iOsoTvnWowIeIcDbvnoj+tK2Lhy65xHR0KpaCIxLh\n",
        "PBQ4KBFCTISTMAyOS4QzUODQRDg8BY5OhBAT4dgMgxMQ4WbeH8Oy+E+lGYhwVM7TnIYIISbCu215\n",
        "W+zHP4NhcB6W9Y/47DD57SlwMiJ8yvtrVOB8RLiN99SowCmJcGPtTJURifBV1MiNRPhyy7KcTuvJ\n",
        "f5bzAxG+j6uxcJFrzLzPxfu4qBERNrTHJ2fM9H65iZj7ix2BCHdBWkcmwl1wT7EjEyHE7JjZi4/B\n",
        "8HyHjRFyeiLckYsdur/Y9ExHISbCfbGH5oBEuDuO4x+Nc0chZiSEmAghJkKIiRBiIoSYCCEmQoiJ\n",
        "EGIihJgIISZCiIkQYiKEmAghJkKIiRBiIoSYCCEmQoiJEGIihJgIISZCiIkQYiKEmAghJkKIiRBi\n",
        "IoSYCCEmQoiJEGIihJgIISZCiIkQYiKEmAghJkKIiRBiIoSYCCEmQoiJEGIihJgIISZCiIkQYiKE\n",
        "mAghJkKIiRBiIoSYCCEmQoiJEGIihJgIISZCiIkQYiKEmAghJkKIiRBiIoSYCCEmQoiJEGIihJgI\n",
        "ISZCiIkQYiKEmAghJkKIiRBiIoSYCCEmQoiJEGIihJgIISZCiIkQYiKEmAghJkKIiRBiIoSYCCEm\n",
        "QoiJEGIihJgIISZCiIkQYiKEmAghJkKIiRBiIoSYCCEmQoiJEGIihJgIISZCiIkQYiKEmAghJkKI\n",
        "/QOTXiJmWph/EwAAAABJRU5ErkJggg==\n",
        "\"></td>\n",
        "\t\t<td><img src=\"data:image/png;base64,iVBORw0KGgoAAAANSUhEUgAAASwAAAEsCAIAAAD2HxkiAAAE/klEQVR4nO3d21LiWhRAUXKq//+X\n",
        "cx7sVlTsRsVM9mKM8sFbCSVO105IyLbv+wno/FffAXh0IoSYCCEmQoiJEGIihJgIISZCiIkQYiKE\n",
        "mAghJkKIiRBiIoSYCCEmQoiJEGIihJgIISZCiIkQYiKEmAghJkKIiRBiIoSYCCEmQoiJEGIihJgI\n",
        "ISZCiIkQYiKEmAghJkKIiRBiIoSYCCEmQoiJEGIihJgIISZCiIkQYiKEmAghJkKIiRBiIoSYCCEm\n",
        "QoiJEGIihJgIISZCiIkQYiKEmAghJkKIiRBiIoSYCCEmQoiJEGIihJgIISZCiIkQYiKEmAghJkKI\n",
        "iRBiIoSYCCEmQoiJEGIihJgIISZCiIkQYiKEmAghJkKIiRBiIoSYCCEmQoiJEGIihJgIISZCiIkQ\n",
        "YiKEmAghJkKIiRBiIoSYCCEmQoiJEGIihJgIISZCiIkQYiKEmAghJkKIiRBiIoSYCCEmQoiJEGIi\n",
        "hJgIISZCiInwDmzbh5/5y5eYQoT3QVoPTIT3Yd91+LBECLFf9R3gj6dhuO9vP29CTifCxnNZr6K7\n",
        "2OGbDzU5jgiPc57P+4HHwxLhj9t+x7dfFZ49NI9HhD/lT3tXxndGhw9m+/SfCH/19fb+9XNf3veQ\n",
        "zSLC2/ip9l7fxsv7HrVBLEe/5Yj2PrhhHY5hEn5F2d45j90IJuHnPOWX/eeyz2Yih619Wrx2OL91\n",
        "QY4gwsXpcH0iXJAD2WYR4c1sR8Zgl8wgIhzBMFyZCJdlUTqFCFdmUTqCCBfnGYv1iXAWHS5IhOuz\n",
        "cbg4EY5g43BlIpzCxuGyRDiUDtfhLIpB3pxj8XTO4QE1Wgx/j0k4ix4WZBKOcz79nIC/ApNwOhuH\n",
        "d0+EE1XPHG7byxtXsxwd6vgXwniz9LUSvppJONe+n06n7XTI3pqLl9AwD68jwsm2/BVxuIIIIWab\n",
        "cKxt23ZP1q/AJJzpd4GswCQc6FWBx6T4/vKm9o5eTYTcyJulrwKvJsJpyoWo8L7ENuEoNgVXJMI5\n",
        "FLgoEUJMhEMYg+sS4QQKXJoIl6fA1YkQYiJcmzE4gAhv5vgYts2ZShOIcFWOzRxDhBAT4acdelns\n",
        "D++DMTiHzfqveO4w+e0pcBgRfsvxNSpwHhHexjE1KnAkEd5Yu1JlRSL8KWrkSiL8cdu2nU77yXnn\n",
        "fECEx/EKLFzkNWaOc/GC1mpEhA3t8cwRM733R+CcX+Tzn9/M6kR4F6T1yER4F1xH7JGJEGJ2zNyL\n",
        "91dzeGJCjifCO3Kxw+r68xzGchRiIrwv9tA8IBHeHc/jPxrHjkLMJISYCCEmQoiJEGIihJgIISZC\n",
        "iIkQYiKEmAghJkKIiRBiIoSYCCEmQoiJEGIihJgIISZCiIkQYiKEmAghJkKIiRBiIoSYCCEmQoiJ\n",
        "EGIihJgIISZCiIkQYiKEmAghJkKIiRBiIoSYCCEmQoiJEGIihJgIISZCiIkQYiKEmAghJkKIiRBi\n",
        "IoSYCCEmQoiJEGIihJgIISZCiIkQYiKEmAghJkKIiRBiIoSYCCEmQoiJEGIihJgIISZCiIkQYiKE\n",
        "mAghJkKIiRBiIoSYCCEmQoiJEGIihJgIISZCiIkQYiKEmAghJkKIiRBiIoSYCCEmQoiJEGIihJgI\n",
        "ISZCiIkQYiKEmAghJkKIiRBiIoSYCCEmQoiJEGIihJgIISZCiIkQYiKEmAghJkKIiRBiIoSYCCEm\n",
        "Qoj9D2W09VM0gpBhAAAAAElFTkSuQmCC\n",
        "\"></td>\n",
        "\t</tr>\n",
        "</table>"
       ],
       "metadata": {},
       "output_type": "pyout",
       "prompt_number": 6,
       "text": [
        "<IPython.core.display.HTML at 0x107fdaf90>"
       ]
      }
     ],
     "prompt_number": 6
    },
    {
     "cell_type": "markdown",
     "metadata": {},
     "source": [
      "[<a href=\"#top\">Top</a>]"
     ]
    },
    {
     "cell_type": "markdown",
     "metadata": {
      "slideshow": {
       "slide_type": "skip"
      }
     },
     "source": [
      "<p><a name=\"4-hydroxy_pyridine_-_4-pyridone_within-ring\"></a></p>\n",
      "### 4-hydroxy pyridine -> 4-pyridone (within-ring)\n",
      "\n",
      "This more restrictive 'within-ring' rule was introduced as the more general '[4-hydroxy pyridine -> 4-pyridone (any)](#4-hydroxy_pyridine_-_4-pyridone_any)' (see below) rule alone can produce some unexpected effects in some circumstances; see the document [here](Hydroxy_pyridine_within_ring.ipynb) for more details."
     ]
    },
    {
     "cell_type": "code",
     "collapsed": false,
     "input": [
      "demo(\"Oc1ccncc1\")"
     ],
     "language": "python",
     "metadata": {
      "slideshow": {
       "slide_type": "skip"
      }
     },
     "outputs": [
      {
       "output_type": "stream",
       "stream": "stderr",
       "text": [
        "[2014/Jan/15 15:43:37 INFO    ] rule 3 '4-hydroxy pyridine -> 4-pyridone (within-ring)' applied\n"
       ]
      },
      {
       "html": [
        "<!-- NB the styling is inline as otherwise it is overridden by the Notebook stylesheets -->\n",
        "\n",
        "<table>\n",
        "\t<tr>\n",
        "\t\t<th style=\"text-align: center;\">Original</th>\n",
        "\t\t<th style=\"text-align: center;\">Transformed</th>\n",
        "\t</tr>\n",
        "\t<tr>\n",
        "\t\t<td><img src=\"data:image/png;base64,iVBORw0KGgoAAAANSUhEUgAAASwAAAEsCAIAAAD2HxkiAAAFJUlEQVR4nO3dwW7aUABFwVL1/3+Z\n",
        "LixFKZRgg+G8Z2aUVTZ2CafXwSiczufzL6Dzuz4B+HQihJgIISZCiIkQYiKEmAghJkKIiRBiIoSY\n",
        "CCEmQoiJEGIihJgIISZCiIkQYiKEmAghJkKIiRBiIoSYCCEmQoiJEGIihJgIISZCiIkQYiKEmAgh\n",
        "JkKIiRBiIoSYCCEmQoiJEGIihJgIISZCiIkQYiKEmAghJkKIiRBiIoSYCCEmQoiJEGIihJgIISZC\n",
        "iIkQYiKEmAghJkKIiRBiIoSYCCEmQoiJEGIihJgIISZCiIkQYiKEmAghJkKIiRBiIoSYCCEmQoiJ\n",
        "EGIihJgIISZCiIkQYiKEmAghJkKIiRBiIoSYCCEmQoiJEGIihJgIISZCiIkQYiKEmAghJkKIiRBi\n",
        "IoSYCCEmQoiJEGIihJgIISZCiIkQYiKEmAghJkKIiRBiIoSYCCEmQoiJEGIihJgIISZCiIkQYiKE\n",
        "2J/6BI7ldGqOez43x2UPlnA/VYHtoXmaJdzJVwbvH6Xl0KeTPZyUJYSYCPcQzuD3g7oonZMIn9YW\n",
        "eHFoHU5IhBAT4XNGmMGLEzCGsxEhxE7n/L/wef08g69epJ8P6sc6D0sIMUv4qGE3Z9gT4wZLCDER\n",
        "PmTktfEy6WxEuN3IBS50OBURQkyEG40/gwtjOA8RQkyEW8wygwtjOAkRQkyEq801gwtjOAMRQkyE\n",
        "68w4gwtjODwRrjBvgQsdjk2EEBPhPbPP4MIYDkyEEBPhPcuGTD2DC2M4KhFCTIQrHGAGF8ZwSCKE\n",
        "mAg/jDEcjwg/jw4HI8Jvrp+U//3O8jW+/FS/TuDiHNY8zp/E5xP+6+6n/J3Pc3we4M/vMfj+r9jd\n",
        "csSLx2fwhytlCf/19ezkGdfJeWBvs4TbjT+Gd99qd4z34h2FCK8sja18dg7Y4RSDM8VJvosI/+du\n",
        "h1NcXI08gxeHHv/BfCW/Ez5qzBf6XYhOSIQ3TLF1w7p+9Aa8bh+GCG+7u3WjjeFQM7h0+PWlwNv8\n",
        "TvhN8lmfB3YrvOvvf3ailvBHE43hUDPIFiKEmAjvmWIMzeDMRLjC+sySDteflQKHJMI9DPLkHuQ0\n",
        "2EiE6wx7UepCdH4ihJgIVxtwDM3gIYjwIfldwTWmOElEuM3dPXnnGK5fOTM4NhFuNMJdwTVciM5D\n",
        "hHt7T6UaOxARbpffu3d3/lhE+AJve+pr7BBE+JDwdoXbEocjwkeN+QqNAickwpd5RaUaO6LT2Y/z\n",
        "GUNVMdTJsJolhJgInzPOb4ZmcFoihJgInzbCGJrBmYlwD22HCpycCCHmFsV+2tdm/BynZQn3M86H\n",
        "HDEVfwZ/V2JgO0sIMRFCTIQQEyHERAgxEUJMhBATIcRECDERQkyEEBMhxEQIMRFCTIQQEyHERAgx\n",
        "EUJMhBATIcRECDERQkyEEBMhxEQIMRFCTIQQEyHERAgxEUJMhBATIcRECDERQkyEEBMhxEQIMRFC\n",
        "TIQQEyHERAgxEUJMhBATIcRECDERQkyEEBMhxEQIMRFCTIQQEyHERAgxEUJMhBATIcRECDERQkyE\n",
        "EBMhxEQIMRFCTIQQEyHERAgxEUJMhBATIcRECDERQkyEEBMhxEQIMRFCTIQQEyHERAgxEUJMhBAT\n",
        "IcRECDERQkyEEBMhxEQIMRFCTIQQEyHERAgxEUJMhBATIcRECDERQkyEEBMhxEQIMRFCTIQQEyHE\n",
        "RAgxEUJMhBATIcRECDERQkyEEBMhxEQIMRFCTIQQEyHERAgxEUJMhBD7CxYZE3YE/MzsAAAAAElF\n",
        "TkSuQmCC\n",
        "\"></td>\n",
        "\t\t<td><img src=\"data:image/png;base64,iVBORw0KGgoAAAANSUhEUgAAASwAAAEsCAIAAAD2HxkiAAAE4ElEQVR4nO3dy3ISYRhFUbB8/1fG\n",
        "AWXMxSA32f/XvVZlog66Q9ichiRyPJ1OB6Dzoz4B2DsRQkyEEBMhxEQIMRFCTIQQEyHERAgxEUJM\n",
        "hBATIcRECDERQkyEEBMhxEQIMRFCTIQQEyHERAgxEUJMhBATIcRECDERQkyEEBMhxEQIMRFCTIQQ\n",
        "EyHERAgxEUJMhBATIcRECDERQkyEEBMhxEQIMRFCTIQQEyHERAgxEUJMhBATIcRECDERQkyEEBMh\n",
        "xEQIMRFCTIQQEyHERAgxEUJMhBATIcRECDERQkyEEBMhxEQIMRFCTIQQEyHERAgxEUJMhBATIcRE\n",
        "CDERQkyEEBMhxEQIMRFCTIQQEyHERAgxEUJMhBATIcRECDERQkyEEBMhxEQIMRFCTIQQEyHERAgx\n",
        "EUJMhBATIcRECDERQkyEEBMhxEQIMRFCTIQQEyHERAgxEUJMhBATIcRECDERQkyEEBMhxEQIMRFC\n",
        "7Gd9AttyPDbHPZ2a4/IMlvB5qgLbQ/MwS/gkbxm8fpTOhz4e7eFQlhBiInyGcAbfH9RF6UwifFhb\n",
        "4KdD63AgEUJMhI9ZYQY/nYAxnEaEEDue8ofwuS7P4P9epMsH9WWdwxJCzBLea9nNWfbE+IYlhJgI\n",
        "77Ly2niZdBoR3m7lAs90OIoIISbCG60/g2fGcA4RQkyEt5gyg2fGcAgRQkyEV5s1g2fGcAIRQkyE\n",
        "15k4g2fGcHkivMLcAs90uDYRQkyE/zJ9Bs+M4cJECDG/T7gn21j1zbGEELOEO/N+DF/w/NC96wqW\n",
        "EGKWcH88M1yMJdwf365YzL4j/HovfPubC//EHY7HPx98tO8ID3tN68VjeH7vxLePfd7m39t9hO4T\n",
        "/9vXdy91m3+0+wj3yWszK/F22b8fmL/eHT1a8xIiPBwO33T46Y+bafL9J5K8aw0fuRzdGRei67GE\n",
        "v+3w1YLXdPj1KuOvF/87JsJ3Nt9hNYOfblgFfuTH1i7a2MXbxj6drfCc8KIt/YSXAlclQoiJ8F+2\n",
        "MYZmcGEivML0DhW4NhFCTITXmTuGZnB5IoSYCK82cQzN4AQivMuIDkecJCK8zdA9GXrauyHCG025\n",
        "KHUhOocIISbC260/hmZwFBFCTIR3WXkMzeA0fp/wAZfv7sl/36LAgSwhxCzhY5ZanqVOhqtZQoiJ\n",
        "8DHrvEJjBscSIcRE+LAVxtAMTibCZ2g7VOBwIoSYb1E8T/vajK/jWJbwecIMFDiZ96J4KjFwO0sI\n",
        "MRFCTIQQEyHERAgxEUJMhBATIcRECDERQkyEEBMhxEQIMRFCTIQQEyHERAgxEUJMhBATIcRECDER\n",
        "QkyEEBMhxEQIMRFCTIQQEyHERAgxEUJMhBATIcRECDERQkyEEBMhxEQIMRFCTIQQEyHERAgxEUJM\n",
        "hBATIcRECDERQkyEEBMhxEQIMRFCTIQQEyHERAgxEUJMhBATIcRECDERQkyEEBMhxEQIMRFCTIQQ\n",
        "EyHERAgxEUJMhBATIcRECDERQkyEEBMhxEQIMRFCTIQQEyHERAgxEUJMhBATIcRECDERQkyEEBMh\n",
        "xEQIMRFCTIQQEyHERAgxEUJMhBATIcRECDERQkyEEBMhxEQIMRFCTIQQEyHERAgxEUJMhBATIcRE\n",
        "CDERQkyEEBMhxEQIMRFCTIQQEyHERAgxEUJMhBD7BVgI3kfSBesKAAAAAElFTkSuQmCC\n",
        "\"></td>\n",
        "\t</tr>\n",
        "</table>"
       ],
       "metadata": {},
       "output_type": "pyout",
       "prompt_number": 7,
       "text": [
        "<IPython.core.display.HTML at 0x10c614390>"
       ]
      }
     ],
     "prompt_number": 7
    },
    {
     "cell_type": "markdown",
     "metadata": {},
     "source": [
      "[<a href=\"#top\">Top</a>]"
     ]
    },
    {
     "cell_type": "markdown",
     "metadata": {},
     "source": [
      "<p><a name=\"4-hydroxy_pyridine_-_4-pyridone_any\"></a></p>\n",
      "### 4-hydroxy pyridine -> 4-pyridone (any)\n",
      "\n",
      "This more general version of the rule above will work 'across rings', which may or may not be desirable..."
     ]
    },
    {
     "cell_type": "code",
     "collapsed": false,
     "input": [
      "demo(\"Oc1cccc2ccncc12\")"
     ],
     "language": "python",
     "metadata": {},
     "outputs": [
      {
       "output_type": "stream",
       "stream": "stderr",
       "text": [
        "[2014/Jan/15 15:43:41 INFO    ] rule 4 '4-hydroxy pyridine -> 4-pyridone (any)' applied\n"
       ]
      },
      {
       "html": [
        "<!-- NB the styling is inline as otherwise it is overridden by the Notebook stylesheets -->\n",
        "\n",
        "<table>\n",
        "\t<tr>\n",
        "\t\t<th style=\"text-align: center;\">Original</th>\n",
        "\t\t<th style=\"text-align: center;\">Transformed</th>\n",
        "\t</tr>\n",
        "\t<tr>\n",
        "\t\t<td><img src=\"data:image/png;base64,iVBORw0KGgoAAAANSUhEUgAAASwAAAEsCAIAAAD2HxkiAAAHGklEQVR4nO3d23KjOABFUZia//9l\n",
        "5iGTxLEBcxE+Elqr+qE7nXKwYVvi5ozTNA1Azj/pBYDeiRDCRAhhIoQwEUKYCCFMhBAmQggTIYSJ\n",
        "EMJECGEihDARQpgIIUyEECZCCBMhhIkQwkQIYSKEMBFCmAghTIQQJkIIEyGEiRDCRAhhIoQwEUKY\n",
        "CCFMhBAmQggTIYSJEMJECGEihDARQpgIIUyEECZCCBMhhIkQwkQIYSKEMBFCmAghTIQQJkIIEyGE\n",
        "iRDCRAhhIoQwEUKYCCFMhBAmQggTIYSJEMJECGEihDARQpgIIUyEECZCCBMhhIkQwkQIYSKEMBFC\n",
        "mAghTIQQJkIIEyGEiRDCRAhhIoQwEUKYCCFMhBAmQggTIYSJEMJECGEihDARQpgIIUyEECZCCBMh\n",
        "hIkQwkQIYSKcM45vvjKOv3/gnH/TC9CgcRymafGfsJORcKfX5KbJeMgZIoQw09EFBjc+RYQLnuac\n",
        "muQypqMQJsKdXg/DODrKOaaj+z11qEDOGSfb0C4/+XndKMR0FMJECGEi3OlnFuqkBYWIEMJECGEi\n",
        "hDAR7me3kKJECGEihDARQpgIz7FbyGkiPMSFo5QjQghzK1P3nmbUBvmPE2HfVj5hVY2fYjp61A1O\n",
        "2a+PgT7d+FOMhL2aLXD2ncXHCFxMhF16ux+4NM6brF5AhP3ZdSTm6QP/Z/8uyHN8xsw5zY0MRY6F\n",
        "Lu0otvIiVMZI2JNSZyNMVosSYTeuOB9oslqCCPuwscAzQ5nh8Sj7hKfVv5HtLXD92w7/6GpfnzQn\n",
        "6+8uWODX43z9mf0ps1/pjwhvLVvg7GOq7oUIb+r1irNggU+Pr8O/RHhahe/xr0tSSYHMEWFRNXT4\n",
        "2lVtBRoM/xJhCU+ny4I3H2zvKjsG6vCB84QFjOP3mZ7ZE9Yf275bKZC/RHjWb4HDu1uBLt3Wqyxw\n",
        "7bcYGwy/ifCUPwU++vCNeccOhBZfjL10OAyDK2bOWCxw4bvnv37+9a+4wLWR8N3/9sNIeNC+AocN\n",
        "1zoXuauopgKH76FOaetEeMTuAp+UmqzWeTqenUS4zziOwzAUm8OfufNAgXchwh3ODoAr9k5Wb1Gg\n",
        "yeoXEW61scACob49z3GLAvnhiplNPlfgo6f7gL5/xvP3LCzKpm+7ntMQbxkJ38sU+Ghp17H6AtlC\n",
        "hG/kC3w0Te9/lgJbYzq6pq4Ct2itQJPVQYQrqi1wmqZxdsttrUC+iHBetQWueVySepbKcPeOfcIZ\n",
        "TRb4pbbl2WQchhYXuxgj4bOGC6RNIvyjlQIXdwvrtbi0DT6XwkT4q5UCW6S0FfYJh2HzZdmFr96G\n",
        "YRhEOBgASet9OtpugSZ4t9F1hO0W2KKVd43O31D6jVCBVKLTCBVIPXqM8DYFdj6Lu40eI9yi/gJb\n",
        "ZLdwlghnKJBP6jHC9TddBfJhPUa4orkCe57F3YYI/2irwBZ513glQmrRbZ+dRtjt+q6B6caTTiO8\n",
        "E28orRMhtWjuqFgpIqQK3RY4iJAa9Fzg0HOEd9qVavq5dF7g0HOE1ECBg4+3IMUH9vwQ4c3Vua0b\n",
        "AB+J8Ca+dgtft+zp+xc5Pf4zS4FPuo5wacO9n5/n+Hj8JvLEO3nBd+k6wg49BvD54VGBs0TYr9fh\n",
        "8dJCFLhEhPdxeHb9gRoVuKL3CPvZLdziohq9wut6j/B+imzxBQ/kKPAtEd7Hz+ZecBw7eSBHgVuI\n",
        "8CYeN/eLZpVPD7vll1gpcAsR3sHS5n51jQcWiVdeqWFofIvZtfDORlTISNi2vZv71Wcj6rxUtXIi\n",
        "bNXJzf2KGg2Ax4iwSQU391I1KvAwEa6pc3J10eZ+pkYFnuG1+9/KZtTtfUAbn7gCTzISvtftfUBb\n",
        "xkYFnifCHbq9D2ipRgUWIcKD+rwPaO9FM2xRxaqtxMkN/brJaiUFchEjYTEXTVYVeHtW8K8rplhO\n",
        "vvGWdfzsolnlgYdVYCes5jXBCywV2A9repMPn5BQYFes7H2uPl/v0H+HRHhc8eHRANgna72AIjUq\n",
        "sFtWfEmHJ6sK7Jl1f5Xtw6MCO2f1X269RgViC/ic18mqAhlEmOJUBD9ECGH/pBcAeidCCBMhhIkQ\n",
        "wkQIYSKEMBFCmAghTIQQJkIIEyGEiRDCRAhhIoQwEUKYCCFMhBAmQggTIYSJEMJECGEihDARQpgI\n",
        "IUyEECZCCBMhhIkQwkQIYSKEMBFCmAghTIQQJkIIEyGEiRDCRAhhIoQwEUKYCCFMhBAmQggTIYSJ\n",
        "EMJECGEihDARQpgIIUyEECZCCBMhhIkQwkQIYSKEMBFCmAghTIQQJkIIEyGEiRDCRAhhIoQwEUKY\n",
        "CCFMhBAmQggTIYSJEMJECGEihDARQpgIIUyEECZCCBMhhIkQwkQIYSKEMBFCmAghTIQQJkIIEyGE\n",
        "iRDCRAhhIoQwEUKYCCFMhBAmQggTIYSJEMJECGH/ATBRkDy3XgtyAAAAAElFTkSuQmCC\n",
        "\"></td>\n",
        "\t\t<td><img src=\"data:image/png;base64,iVBORw0KGgoAAAANSUhEUgAAASwAAAEsCAIAAAD2HxkiAAAHGUlEQVR4nO3dWXLbMAJFUbKr979l\n",
        "9YfSMjVR4PgA4pzKh+M4tizhEuBkj7fbbQBy/pN+ANA7EUKYCCFMhBAmQggTIYSJEMJECGEihDAR\n",
        "QpgIIUyEECZCCBMhhIkQwkQIYSKEMBFCmAghTIQQJkIIEyGEiRDCRAhhIoQwEUKYCCFMhBAmQggT\n",
        "IYSJEMJECGEihDARQpgIIUyEECZCCBMhhIkQwkQIYSKEMBFCmAghTIQQJkIIEyGEiRDCRAhhIoQw\n",
        "EUKYCCFMhBAmQggTIYSJEMJECGEihDARQpgIIUyEECZCCBMhhIkQwkQIYSKEMBFCmAghTIQQJkII\n",
        "EyGEiRDCRAhhIoQwEUKYCCFMhBAmQggTIYSJEMJECGEihDARQpgIIUyEECZCCBMhhIkQwkQIYSKE\n",
        "MBFCmAgh7L/pB9CIcfx7+3bLPQ4uSIQFxvEpvOlfX/4JlrMc/eU9s9vtaWKEbUS4mSDZRoQQJkII\n",
        "EyGEifCX98MwjoiyK6coCrx0+F6gLNlAhL888pMZx7Ac/WV6Xh4OIEIIEyGEiXAbi1U2EyGEibCA\n",
        "6Y4jiRDCRLiZeZJtRAhhIixjuuMwIoQwEUKYCPdgscoG7qLo3suGw80ipzMTFrvkdPf+vYzjvz+c\n",
        "RYQdm58D1XiW8Wb5UW7+Bt+2bv/9WeBHTXxrrbFP2KWf+4Hf1t5tbWgaYSZcaGYUtjJAVx+JMT0e\n",
        "w0zYmS3HQk2PxxBhT/Y6G6HGXVmOLtTusZmjzwe+L1YrfBKqZCbsQ2GBWzYilzyPegrnCRdqcagt\n",
        "LfD9vyxyu/37QxkRXt2KAmc+bONXn75n5p86I8JLyxb48ZPzRoS7qmex+n7FWaTAwS82/k2EV1R+\n",
        "oNItFBVwdHS5x6Z9+suY6jk5Ud7VaQXen7GZa4z6JsJ9jMPwb4hla6ywwMfnf++w8KrxqxPhKs+j\n",
        "Zxz/f83Dx6P8p9VYbYHMEuFWfwUOXw7MnFNj/QU6QvOFCDd5KnBqvsbh4NMAhYdhdn8YP+nwE9eO\n",
        "rve1wC8f/fn925//Vgp847eM35kJV1pW4PA84ndcrDZbIA8iXGNxgS/2WqxWcjqebUS4zDiOwzDs\n",
        "tobfcmOeAq/CPuECWyfA4i/z4Z3zp9SaLdBu4WAmLHdSgUPBeY6rFMidCIucV+DUz13HQYFXIMLf\n",
        "MgVOPdf4d4mcAi9BhD/kC5x6XBxX4QUxrOVWpjl1FViitQJdQjOIcEa1Bd5ut/HjyG2tQO5E+Fm1\n",
        "Bc6ZPuDmHnzH7BN+0GSBd00+7L8jTX0yE75quEDaJMInrRT4dbewQVf6XtYR4Z9WCuRi7BMOw+6X\n",
        "ZcMSIjQBEtb7crTdAu1KXUbXEbZb4MV0vkHpN0IFUolOI1Qg9egxwssU2Pkq7jJ6jJAK9bxBEeGT\n",
        "bscBQT1G2PNGlwr1GOGVtLhBae4BH02ET1oc0225zFGxHYmQ88wX2O0WsNMIu329g8yB33Qa4ZU0\n",
        "sUFR4AwRvmpiTLelsMBuQxUhx1LgTyLkQAos0W+EV1p21vm9KLBQvxHOqHNMt0WB5fx4C3ZW+AN7\n",
        "/FyfBxGyJxPgCpajF1HDElqB63Qd4czArWFMt0WBq3UdYaMq3DoocAsRNqbCcazAjUTYkgrvQlDg\n",
        "dr1H2NBuYYXjWIG76D3CVpSP49M2HArci/OEtSs/qf0Y7o8Ojxv9CtyRCKu2aAJ8fOTjjYNqVOC+\n",
        "RDjnvluYGknrCpw6okYF7s4zNQyzIyY1mLYX+O2D728c+k0pcBEzYY0OKnA4ZaW6++e8PBFWp3y9\n",
        "N2wY7sGVKi9E+MPJu4Xn73HtVaMCVxNhRbLHPLbUqMAtRDgM6aOgd/UcdVxaY/ypa50IfzthhNVT\n",
        "4FRJjQrcToR5dRY49a1GBe5ChEkrLknLeqmxhod0AVW8tJU4eaAfdzKQtriLIkOBPIjwyTn3ASmQ\n",
        "Ka/xq2mHRzw5CuSFl3nO7hdYKpB3Xuki59x8MP1yXpd+eLGXOWGxetBnploiXC+4WOVKvOo72KVG\n",
        "BXbLC7+n1YtVBfbMa3+U8ulRgZ3z8h9uvkYFYgSc532xqkAGEaY4FcGDCCHMBdwQJkIIEyGEiRDC\n",
        "RAhhIoQwEUKYCCFMhBAmQggTIYSJEMJECGEihDARQpgIIUyEECZCCBMhhIkQwkQIYSKEMBFCmAgh\n",
        "TIQQJkIIEyGEiRDCRAhhIoQwEUKYCCFMhBAmQggTIYSJEMJECGEihDARQpgIIUyEECZCCBMhhIkQ\n",
        "wkQIYSKEMBFCmAghTIQQJkIIEyGEiRDCRAhhIoQwEUKYCCFMhBAmQggTIYSJEMJECGEihDARQpgI\n",
        "IUyEECZCCBMhhIkQwkQIYSKEMBFCmAghTIQQJkIIEyGEiRDCRAhhIoQwEUKYCCFMhBAmQggTIYSJ\n",
        "EMJECGEihDARQpgIIUyEECZCCBMhhIkQwkQIYf8DN9BlcSALr2cAAAAASUVORK5CYII=\n",
        "\"></td>\n",
        "\t</tr>\n",
        "</table>"
       ],
       "metadata": {},
       "output_type": "pyout",
       "prompt_number": 8,
       "text": [
        "<IPython.core.display.HTML at 0x10c5c9d10>"
       ]
      }
     ],
     "prompt_number": 8
    },
    {
     "cell_type": "markdown",
     "metadata": {},
     "source": [
      "Note that 5-membered heterocycles can also be affected  by this rule..."
     ]
    },
    {
     "cell_type": "code",
     "collapsed": false,
     "input": [
      "demo(\"Oc1n(C)ncc1\")"
     ],
     "language": "python",
     "metadata": {},
     "outputs": [
      {
       "output_type": "stream",
       "stream": "stderr",
       "text": [
        "[2014/Jan/15 15:44:13 INFO    ] rule 4 '4-hydroxy pyridine -> 4-pyridone (any)' applied\n"
       ]
      },
      {
       "html": [
        "<!-- NB the styling is inline as otherwise it is overridden by the Notebook stylesheets -->\n",
        "\n",
        "<table>\n",
        "\t<tr>\n",
        "\t\t<th style=\"text-align: center;\">Original</th>\n",
        "\t\t<th style=\"text-align: center;\">Transformed</th>\n",
        "\t</tr>\n",
        "\t<tr>\n",
        "\t\t<td><img src=\"data:image/png;base64,iVBORw0KGgoAAAANSUhEUgAAASwAAAEsCAIAAAD2HxkiAAAF9ElEQVR4nO3d0W4iuRZA0TC6///L\n",
        "zENrolxIAwW2t0nWeu0IkGD3cZWh6nQ+nz+Azj/1C4DfToQQEyHERAgxEUJMhBATIcRECDERQkyE\n",
        "EBMhxEQIMRFCTIQQEyHERAgxEUJMhBATIcRECDERQkyEEBMhxEQIMRFCTIQQEyHERAgxEUJMhBAT\n",
        "IcRECDERQkyEEBMhxEQIMRFCTIQQEyHERAgxEUJMhBATIcRECDERQkyEEBMhxEQIMRFCTIQQEyHE\n",
        "RAgxEUJMhBATIcRECDERQkyEEBMhxEQIMRFCTIQQEyHERAgxEUJMhBATIcRECDERQkyEEBMhxEQI\n",
        "MRFCTIQQEyHERAgxEUJMhBATIcRECDERQkyEEBMhxEQIMRFCTIQQEyHERAgxEUJMhBATIcRECDER\n",
        "QkyEEBMhxEQIMRFCTIQQEyHERAgxEUJMhBATIcRECDERQkyEEBMhxETIAKfTqX4Jb+x/9Qvgvf3J\n",
        "73w+1y/kjYmQ551OJ/m9znKUJylwFJOQwyxBxxIhxxiAw1mOcoACZzAJeYgl6Dwi5D4DcCrL0cL1\n",
        "1vbGm90KnM0kjJxOH9t/si1B1xBh5HzevEMDcBkRcunP0liBy4iwczUMvx4YVgnsPZ5/JhGm/r/D\n",
        "r5/+zyCXJfHfAFz0dHwS4VoPD5rPv1pTowEYEuFC3+5D/BmGf3dd48fQIA3AnAg3cK/Dz7/6NGo8\n",
        "GoA7cBp6lbuD7KmR9EqNCtyESbjE3UH3+QcHy3j60FGB+xDhctef/RHfWTt66KjAfYhwvttZXBT4\n",
        "chwXD3A98czA3fgC92SHptycODb+cjgfHyKc6+6UW/IdmcdOvpIR4SpzDgX5AUQ4zaEpN/kozTDc\n",
        "mQjneHxP4mPRmUodbkuE81mIcpMIJ1i7J/E4w3BPIhxtgz2JnZ6Q+0Q41B57Et++hPU/UORBIpzG\n",
        "oSCPEeE4O+1J8EZEOMh+exK8CxFOYCHKESIcYdc9Cd6CCF+2954E+xPha/bbk+DtiHAch4I8RYQv\n",
        "sCfBCCJ8lj0JBhHhCBaivECEE9iT4AgRjnBj7m1UoOG8KRE+6/pCgtf/tFGB7EuEL7h9bV0F8hgR\n",
        "vubbu7TAESIcSoccJ8KX3Tg4hAeIcASHf7xAhBMYhhwhwkEsSnmWCMfZZ1F6Ovlf4I2IcKh2x+JP\n",
        "e/J7N24SOtOa+3F+W90+Y5l7RDjaxbXm53WovZ9ChBNMveeD9n4cEc7xtcMhw1B7P5cIl3i6Q+39\n",
        "AiKc5pWDQ+39Jqezt3aqQ1eamdSeX/rvTYTz3e1wTXtjH5xxLEfXul6UDh9Tf0v6Ym085LkYwSRc\n",
        "4kZpo3p4ZJxe/413fwMiXGXGZUj/tuC8/fgOETcjwlUGfvSfa+/2I/gYdES40Isdjj1/o8NtiHCt\n",
        "o4vS14fe0cf3eVhOhMs90uHs9m4/l4/EWiJc7u6Z0gtr3iBnazoiLDzyG4v174uRGBFhZOWC83E6\n",
        "LIiws+0NDKW4lgj5jg4XcqEnvnN9QxvXj5pGhPzddYdSnECE3PS1Q/d7m0OE3KO9yUTIY3Q4jQgh\n",
        "JkKIiZDjPm96cXGy9PrcqbOpD3CNGQ66uEzOmvtt/GgmIUdcJzf1mv+/gwghZjnKUKbicSJkKN84\n",
        "Pc5yFGIi5Ijr0zDOjr7McpSDLjpU4Mv8qBdilqMQEyHERAgxEUJMhBATIcRECDERQkyEEBMhxEQI\n",
        "MRFCTIQQEyHERAgxEUJMhBATIcRECDERQkyEEBMhxEQIMRFCTIQQEyHERAgxEUJMhBATIcRECDER\n",
        "QkyEEBMhxEQIMRFCTIQQEyHERAgxEUJMhBATIcRECDERQkyEEBMhxEQIMRFCTIQQEyHERAgxEUJM\n",
        "hBATIcRECDERQkyEEBMhxEQIMRFCTIQQEyHERAgxEUJMhBATIcRECDERQkyEEBMhxEQIMRFCTIQQ\n",
        "EyHERAgxEUJMhBATIcRECDERQkyEEBMhxEQIMRFCTIQQEyHERAgxEUJMhBATIcRECDERQkyEEBMh\n",
        "xEQIMRFCTIQQEyHERAgxEUJMhBD7F5H6mldlnCo0AAAAAElFTkSuQmCC\n",
        "\"></td>\n",
        "\t\t<td><img src=\"data:image/png;base64,iVBORw0KGgoAAAANSUhEUgAAASwAAAEsCAIAAAD2HxkiAAAGDUlEQVR4nO3d0XLaSBRAQdjK//8y\n",
        "+8DGlTIYENLMGTbdb3FwUJV1MnckwOfL5XICOv/UBwB/OxFCTIQQEyHERAgxEUJMhBATIcRECDER\n",
        "QkyEEBMhxEQIMRFCTIQQEyHERAgxEUJMhBATIcRECDERQkyEEBMhxEQIMRFCTIQQEyHERAgxEUJM\n",
        "hBATIcRECDERQkyEEBMhxEQIMRFCTIQQEyHERAgxEUJMhBATIcRECDERQkyEEBMhxEQIMRFCTIQQ\n",
        "EyHERAgxEUJMhBATIcRECDERQkyEEBMhxEQIMRFCTIQQEyHERAgxEUJMhBATIcRECDERQkyEEBMh\n",
        "xEQIMRFCTIQQEyHERAgxEUJMhBATIcRECDERQkyEEBMhxEQIMRFCTIQQEyHERAgxEUJMhBATIcRE\n",
        "CDERQkyEEBMhxEQIMRFCTIQQEyHERAgxEUJMhBATIcRECDERQkyEEBMhBzifz/UhfLBf9QHw2a75\n",
        "XS6X+kA+mAh53/l8lt9+xlHepMCjWAnZzAh6LBGyjQXwcMZRNlDgCFZCXmIEHUeEPGcBHMo4OsXt\n",
        "veyvrzz4qzUocDQr4Szn8+nTTmUj6BwinOVy+awOLYDTiJDvruOwAqcR4UQ/LYYrbQI/arX+nxDh\n",
        "XHc7/PbH303+XpHmHNnsp+OLCNd17eFrmRyahwUwJMLprovhlodf/flNBwZjAcyJsLCxw69v+nLU\n",
        "8mgBXIHL0LOMWcj21KjARVgJpxh2/fN2WH2xKwWuQ4TTjTn3t24dFbgOEY436IrKD27vdzz9Ci0v\n",
        "4B5sgRvxCxwCj4hwpG+nf7QAvXUtlnlEOIsRkB+IcJi5W8HHLIYrE+EY653yOlyWCMerl0EWJ8IB\n",
        "VhpE/2QxXJMIj7b2ab7S/wn8R4SHWuOexN1DmPOWKN4gwmGc7LxGhMdZdSvI4kR4kLW3gqxMhANY\n",
        "BtlChEcwiLKDCHcziLKPCPdZ754EH0eEx/n2SUxWSF4jwh1+2go++I1LcEOE73oxMB3yjAiP8NrH\n",
        "2sNdIhzDFRpeJsIj3F3r7u4SSyscA3eI8F1bZ84lOmRFItzh6cxpKOUFItzn6cy53FDKckR4KEMp\n",
        "24lwt6ebQ3cseEiER7A5ZAcRDmBzyBYiPIg7FrxLhMcxlPIWER7KHQu2E+FIhlJeIMKjuWPBRiIc\n",
        "YPHN4fVd/+JfhgjHWHZz+Odz6XANIpxinc3h7TAsxZoIh9m6OZzm9nl1mBLhSJs2h+NKuF3uLhfX\n",
        "h9YhwsE2ZXZsCU8vwBhN13C+eBnHaE8/IPjYTxB+eh3o6eOdEnOJcIpNHb73E3nQ3iu/H1SKHRHO\n",
        "8jSz6wM2/Th+mh4fzMA6XI8IZzlw5nylvbef2m/XmE6EE+08v7du9h5/ryVxGSKca+veb+uit+mf\n",
        "0uEaRDjdKx0e2N7jf3nTaHrIAXBDhNM9yGDPwPn2ATx+Ch2OJ8LCK/fEh/5ctqblas1IIoyMGzjf\n",
        "PgajaUSEnf036I89hiuj6XQi/OvtHE2fPp5nRMjpdLIklryLgtPptPFNht4JdSgrIX+wxBVEyA0p\n",
        "zmUc5YbPv5hLhNxj1zeRCPmZz7+Ywp6QZx5vEVd4ycGHEyGvufsat/P5e5BOp+2Mo7zm7tWab1+8\n",
        "XMyrbxAhL7PKjSFCtri9aspuImQ7HR5KhBATIe+6vQzj6uhbftUHwCf71qEC3yJC9hHebsZRiIkQ\n",
        "YiKEmAghJkKIiRBiIoSYCCEmQoiJEGIihJgIISZCiIkQYiKEmAghJkKIiRBiIoSYCCEmQoiJEGIi\n",
        "hJgIISZCiIkQYiKEmAghJkKIiRBiIoSYCCEmQoiJEGIihJgIISZCiIkQYiKEmAghJkKIiRBiIoSY\n",
        "CCEmQoiJEGIihJgIISZCiIkQYiKEmAghJkKIiRBiIoSYCCEmQoiJEGIihJgIISZCiIkQYiKEmAgh\n",
        "JkKIiRBiIoSYCCEmQoiJEGIihJgIISZCiIkQYiKEmAghJkKIiRBiIoSYCCEmQoiJEGIihJgIISZC\n",
        "iIkQYiKEmAghJkKIiRBiIoSYCCEmQoiJEGIihJgIISZCiIkQYiKEmAghJkKI/Qs/nqdJPjb5mAAA\n",
        "AABJRU5ErkJggg==\n",
        "\"></td>\n",
        "\t</tr>\n",
        "</table>"
       ],
       "metadata": {},
       "output_type": "pyout",
       "prompt_number": 10,
       "text": [
        "<IPython.core.display.HTML at 0x10c5c9e90>"
       ]
      }
     ],
     "prompt_number": 10
    },
    {
     "cell_type": "markdown",
     "metadata": {},
     "source": [
      "[<a href=\"#top\">Top</a>]"
     ]
    },
    {
     "cell_type": "markdown",
     "metadata": {},
     "source": [
      "<p><a name=\"4-pyrimidone_-_2-pyrimidone_any\"></a></p>\n",
      "### 4-pyrimidone -> 2-pyrimidone (any)\n"
     ]
    },
    {
     "cell_type": "code",
     "collapsed": false,
     "input": [
      "demo(\"O=c1nc[nH]cc1\")"
     ],
     "language": "python",
     "metadata": {},
     "outputs": [
      {
       "output_type": "stream",
       "stream": "stderr",
       "text": [
        "[2014/Jan/15 15:44:15 INFO    ] rule 5 '4-pyrimidone -> 2-pyrimidone (any)' applied\n"
       ]
      },
      {
       "html": [
        "<!-- NB the styling is inline as otherwise it is overridden by the Notebook stylesheets -->\n",
        "\n",
        "<table>\n",
        "\t<tr>\n",
        "\t\t<th style=\"text-align: center;\">Original</th>\n",
        "\t\t<th style=\"text-align: center;\">Transformed</th>\n",
        "\t</tr>\n",
        "\t<tr>\n",
        "\t\t<td><img src=\"data:image/png;base64,iVBORw0KGgoAAAANSUhEUgAAASwAAAEsCAIAAAD2HxkiAAAFC0lEQVR4nO3dyXLTUABFQYni/39Z\n",
        "LFwJJCkcD4qP3lN3sQEWHvDxlYeIddu2Bej8qq8AnJ0IISZCiIkQYiKEmAghJkKIiRBiIoSYCCEm\n",
        "QoiJEGIihJgIISZCiIkQYiKEmAghJkKIiRBiIoSYCCEmQoiJEGIihJgIISZCiIkQYiKEmAghJkKI\n",
        "iRBiIoSYCCEmQoiJEGIihJgIISZCiIkQYiKEmAghJkKIiRBiIoSYCCEmQoiJEGIihJgIISZCiIkQ\n",
        "YiKEmAghJkKIiRBiIoSYCCEmQoiJEGIihJgIISZCiIkQYiKEmAghJkKIiRBiIoSYCCEmQoiJEGIi\n",
        "hJgIISZCiIkQYiKEmAghJkKIiRBiIoSYCCEmQoiJEGIihJgIISZCiIkQYiKEmAghJkKIiRBiIoSY\n",
        "CCEmQoiJEGIihJgIISZCiIkQYiKEmAghJkKIiRBiIoSYCCEmQoiJEGIihJgIISZCiIkQYiKEmAgh\n",
        "JkKI/a6vwFTWdU0ud9u25HLZhQh3s65rFUN40TzP4SjERLiPdou2bauOhHmeCCEmwh0c4SWZMRyX\n",
        "CCEmwmcdYQYvjOGgRAixozyLD+rKDP70KF25XP+mY/Fh/U+pSrgclOpwIA5HH+exzi5EOCHv0IxF\n",
        "hA8yg+xFhHMyhgMR4SPMIDsS4bSM4ShEeLeBZlCHQxDhfdbVj7GzMxFOzhgenwjvsK6LFWR3Ipyf\n",
        "MTw4Ed7KDPJDRHiT0Qs0hkcmQoiJ8Hujz+CFMTwsEX5vggIvdHhMIoTYMN/AYi9/v3b3glX06LqB\n",
        "JYSYJTyjgb6DfgaWEGLnjvDri6L3P7nyV+ML3iZd17+/+Oj0pzyc40PAg/t0J7vPPzr3Ei7Lsm3n\n",
        "fG7eLqcnfsFt/5rcWe/z/zl9hOe0rsuybIuPEA7h9Iejy9sT89eHo2drXkKEy7L8p8NPv52myX9v\n",
        "yE/fKEt7A4ejJ/NenTwOwxK+OeG7Ba/p8OtRhndHPxLhP6bvsJrBT3esAj/y9aWrJjt4m+zmzMJr\n",
        "wqveH6wTLKQCj0qEEBPhd+YYQzN4YCK8wegdKvDYRAgxEd5m3DE0g4cnQoiJ8GYjjqEZHIEIHzJE\n",
        "h0NcSUR4n0H3ZNCrfRoivNMoB6UORMchQoiJ8H7HH0MzOBQRQkyEDznyGJrB0fh5widcf7gnp29R\n",
        "4IAsIcQs4XMOuDzO4DIaSwgxET7ngO/QmMHRiBBiInzaAceQoYhwDzrkCSIc1tT/jempOAP3Tt5P\n",
        "Mv2aEi7b69OIKVjC/by+h+nP238OlnBXdon7WcLBGcPxiXB8OhycCCEmwikYw5GJcBbeExqWH2WC\n",
        "mCWEmAghJkKIiRBiIoSYCCEmQoiJEGIihJgIISZCiIkQYiKEmAghJkKIiRBiIoSYCCEmQoiJEGIi\n",
        "hJgIISZCiIkQYiKEmAghJkKIiRBiIoSYCCEmQoiJEGIihJgIISZCiIkQYiKEmAghJkKIiRBiIoSY\n",
        "CCEmQoiJEGIihJgIISZCiIkQYiKEmAghJkKIiRBiIoSYCCEmQoiJEGIihJgIISZCiIkQYiKEmAgh\n",
        "JkKIiRBiIoSYCCEmQoiJEGIihJgIISZCiIkQYiKEmAghJkKIiRBiIoSYCCEmQoiJEGIihJgIISZC\n",
        "iIkQYiKEmAghJkKIiRBiIoSYCCEmQoiJEGIihJgIISZCiIkQYiKEmAghJkKIiRBiIoSYCCEmQoiJ\n",
        "EGIihJgIISZCiIkQYiKE2B9MxARcdv29agAAAABJRU5ErkJggg==\n",
        "\"></td>\n",
        "\t\t<td><img src=\"data:image/png;base64,iVBORw0KGgoAAAANSUhEUgAAASwAAAEsCAIAAAD2HxkiAAAFMklEQVR4nO3dzVLiWgBGUXKr3/+V\n",
        "cwdU0doqBAjuc8Ja5aR7AmK2X/gRlnVdT0Dnv/oKwLsTIcRECDERQkyEEBMhxEQIMRFCTIQQEyHE\n",
        "RAgxEUJMhBATIcRECDERQkyEEBMhxEQIMRFCTIQQEyHERAgxEUJMhBATIcRECDERQkyEEBMhxEQI\n",
        "MRFCTIQQEyHERAgxEUJMhBATIcRECDERQkyEEBMhxEQIMRFCTIQQEyHERAgxEUJMhBATIcRECDER\n",
        "QkyEEBMhxEQIMRFCTIQQEyHERAgxEUJMhBATIcRECDERQkyEEBMhxEQIMRFCTIQQEyHERAgxEUJM\n",
        "hBATIcRECDERQkyEEBMhxEQIMRFCTIQQEyHERAgxEUJMhBATIcRECDERQkyEEBMhxEQIMRFCTIQQ\n",
        "EyHERAgxEUJMhBATIcRECDERQkyEEBMhxEQIMRFCTIQQEyHERAgxEUJMhBATIcRECDERQkyEEBMh\n",
        "xEQIsT/1FTiUZVmSy13XNblcdiHC3SzLUsUQXjTPczoKMRHuo92idV2rM2GeJ0KIiXAHI9wlM4bz\n",
        "EiHERPisEWbwzBhOSoQQG+W3+KSuzOCrR+nK5fqZzsWT9a9SlXA+KdXhRJyOPs6xzi5EeEAeoZmL\n",
        "CB9kBtmLCI/JGE5EhI8wg+xIhIdlDGchwrtNNIM6nIII77Ms/oydnYnw4Izh+ER4h2U5WUF2J8Lj\n",
        "M4aDE+FWZpAXEeEmsxdoDEcmQoiJ8LbZZ/DMGA5LhG9Eh2MS4W0HmEFGNs0rsNjL35fd/cIqOro2\n",
        "sIQQs4TvaKLXoL8DSwgxEX7w9T7St/9z/ppZ8DDp5Xab/KZ7BRF+dvMQuZzFOZi2Oz/Tevly030m\n",
        "ws/e5hBZz29P/Avf7NfXOrzNjbyRCO93gDFcltPptJ48hTAEEX5x1+/peTtkGN4G/zvnDq+sxNQn\n",
        "VB+v+au/C0u7gSV81KQnpZdrK49hWMIfTL11G/1Oh19PK47xZyn7sYQ/u7l1041hNYPnDi9fCvzM\n",
        "En7w7cExS2CDE97PLOFVRxpD9wZHJUKIifCWY4yhGRyYCDfYntmYHSpwbCLcg4ObJ4hwm3lPSs3g\n",
        "8EQIMRFuNuMYmsEZiPAh42R2xRRXEhHe5+aeDDiGJzM4OhHeaczMvnIiOg8R7m2WShmGCO83/nP3\n",
        "ZnAqInwBhz73EOFDRn66wgzORoSPGvO+nwInJMKXGbNSxuODQZ5jeXiaJYSYCJ/jnJOniRBiInya\n",
        "MeQ5ItyDDnmCCOdx5TNMt3y8KaPy5r87ubxt/ouO/vPYevvqI7KE+/mFPN7hEzLejyXclZnifiKc\n",
        "zU+fnWghpyXCCX3b4T//1OQ83CeEmAjn5BGaAxHhtDwIdBT+lAlilhBiIoSYCCEmQoiJEGIihJgI\n",
        "ISZCiIkQYiKEmAghJkKIiRBiIoSYCCEmQoiJEGIihJgIISZCiIkQYiKEmAghJkKIiRBiIoSYCCEm\n",
        "QoiJEGIihJgIISZCiIkQYiKEmAghJkKIiRBiIoSYCCEmQoiJEGIihJgIISZCiIkQYiKEmAghJkKI\n",
        "iRBiIoSYCCEmQoiJEGIihJgIISZCiIkQYiKEmAghJkKIiRBiIoSYCCEmQoiJEGIihJgIISZCiIkQ\n",
        "YiKEmAghJkKIiRBiIoSYCCEmQoiJEGIihJgIISZCiIkQYiKEmAghJkKIiRBiIoSYCCEmQoiJEGIi\n",
        "hJgIISZCiIkQYiKEmAghJkKIiRBiIoSYCCEmQoiJEGIihJgIISZCiIkQYiKEmAghJkKIiRBi/wMZ\n",
        "YBpuyyklTgAAAABJRU5ErkJggg==\n",
        "\"></td>\n",
        "\t</tr>\n",
        "</table>"
       ],
       "metadata": {},
       "output_type": "pyout",
       "prompt_number": 11,
       "text": [
        "<IPython.core.display.HTML at 0x10c6ffdd0>"
       ]
      }
     ],
     "prompt_number": 11
    },
    {
     "cell_type": "markdown",
     "metadata": {},
     "source": [
      "Note that this rule will work 'across-rings', as illustrated below.\n",
      "\n",
      "If this is not considered appropriate, a more restricted version on the rule that only works 'within-rings' could be enabled instead."
     ]
    },
    {
     "cell_type": "code",
     "collapsed": false,
     "input": [
      "demo(\"O=c1nc2[nH]ccn2cc1\")"
     ],
     "language": "python",
     "metadata": {},
     "outputs": [
      {
       "output_type": "stream",
       "stream": "stderr",
       "text": [
        "[2014/Jan/15 15:44:19 INFO    ] rule 5 '4-pyrimidone -> 2-pyrimidone (any)' applied\n"
       ]
      },
      {
       "html": [
        "<!-- NB the styling is inline as otherwise it is overridden by the Notebook stylesheets -->\n",
        "\n",
        "<table>\n",
        "\t<tr>\n",
        "\t\t<th style=\"text-align: center;\">Original</th>\n",
        "\t\t<th style=\"text-align: center;\">Transformed</th>\n",
        "\t</tr>\n",
        "\t<tr>\n",
        "\t\t<td><img src=\"data:image/png;base64,iVBORw0KGgoAAAANSUhEUgAAASwAAAEsCAIAAAD2HxkiAAAHM0lEQVR4nO3d3XLaSBSFUWlq3v+V\n",
        "mQsyjoxkmR9J+3T3WpULJ+WAbPrjoAbj+Xa7TUDOP+kDgNGJEMJECGEihDARQpgIIUyEECZCCBMh\n",
        "hIkQwkQIYSKEMBFCmAghTIQQJkIIEyGEiRDCRAhhIoQwEUKYCCFMhBAmQggTIYSJEMJECGEihDAR\n",
        "QpgIIUyEECZCCBMhhIkQwkQIYSKEMBFCmAghTIQQJkIIEyGEiRDCRAhhIoQwEUKYCCFMhBAmQggT\n",
        "IYSJEMJECGEihDARQpgIIUyEECZCCBMhhIkQwkQIYSKEMBFCmAghTIQQJkIIEyGEiRDCRAhhIoQw\n",
        "EUKYCCFMhBAmQggTIYSJEMJECGEihDARQpgIIUyEECZCCBMhhIkQwkQIYSKEMBFCmAghTIQQJkII\n",
        "EyGEiRDCRAhhIoQwEUKYCCFMhBAmQggTIYSJEMJECGEihDARQpgIIUyEECZCCBMhhIkQwkQIYSKE\n",
        "MBF2Yp7neZ7TR8E7/k0fAAeY5/l2u90/uP/L/a80YXZrte6rwId/nKTYCBE27NfSDMYmiLBVmwNw\n",
        "55PvH7i5CxJhk14q8OE/3j9wu9chwva8XeDDhUxSrEGEjTmkwOWl3T+wDIJE2JJjC3y45PsH1sP1\n",
        "RNiM8wp8uJb7BxbGZUTYgGfO3w4/x1PjZURYXfypCFs4ZxNhaXWeijAYzyPCug58KmI6ukbL5kAi\n",
        "LGqep2NvmQNrvGaLaBx+iqKiwwucFu0ZZdW4S6vlPq4uuE0+HIyG4YFMwkLOGIA/eRiMk9mYI8Iq\n",
        "rixwSY1xIiwhVeCSGlNGj/DhfVkiy65CgUu2cC42eoTT90W2/15JZyzHagUuye8aQ+9xvbrF9z3R\n",
        "v/9xzG+hDdKjmIQv+GnNrcfn+hPXE6/yDORK40Z44B35ZnLrT1Adm8aN8FSbsd1uOmTDoO/A7XyG\n",
        "OgaNcMepbyZ/H4Z9uN1u3nj/ECNGmB2DPXXIIUaMcIeHqVxvuAgrZGYYsjRchDuu7DN9P0AhY0UY\n",
        "HIPLq73shwbPZm/mEGNFuKPCw1TGNFCEMqOmgSLccXGfNmZYGiVCY5CyRolwhz7JGiJCmZ3HBunn\n",
        "hohwhz6J6z9CmVFc/xHWZIOUL51HuD8GDUkq6DxCLmBv5kM9R1h+DFq4TFPfEXK1eXam+4Zu3+ip\n",
        "/Bjs11eHvsPPMQljOjyVWr+zqtn4hD4noTEY8/WNXbZnNu4yCTnAxlS/3f78WTIYt3Q4CY3Bq+13\n",
        "tZ6NBuN3JiGf2XzYuemnwTj8bOxtLDQ3Bgse0gs2f+fGe//3jUvoRYcPR7nIJwVOtnD+6irC5sbg\n",
        "nuJvyXbgY8idGst++YfqKsL7Hl1Lpf2q4GT4Kb/PD3XULZy+luw0Tc1NvJ0DLnjW9NPvQz3jUJeX\n",
        "2dQN+qrG1uuT2urw96N95lcBX+CZk8CTamzn1nxDS4v1JQ11+MKhBmt8dRumyB1HC5pZqW9opcOX\n",
        "j/P6h6nHPhXRwo1ypTaW6dua6PD9g7xgfR91FQXPb8toYI1+qPMOpzPX9xmRq3GlgQX6ueodzvM8\n",
        "TX+O75PjPLaZD5+Lf/Xyn7yWHrdMa6/O4xTt8P8l9TfCL9kazy5w57p2ru5hm7SXXdOSS/MctTpc\n",
        "r/KfngS/+GFqnQ3Yh6veTK6LDiuty/OV6PDXIXN2jTuXU2En86f7jn4j7Opla78Kv67tyRg2X0u5\n",
        "/OshL5V++/DO9uTRdmSsCKdgh2/sKJxX41qRAjePofcah4twur7Dz9f34TU+KFjgUrXjOVqBc6SQ\n",
        "K84mzlvcB543Fi9wye5of068ES9b2Z/X2NYzb20d7XOGjnA6o8PUYHm7xpF+fLam0SOcDuywyOO6\n",
        "V58e7OVBXbtEOE2fr8Mi+T3o8ZFbl0bcHV17f4nWzO/uYU91fU9jBtbgfUcPclu9qWYdwzzh1igR\n",
        "fqxyfg92XqFKjgg/00p+FCbCwRiG9Yjwf+uluX73y51PbogOixHhgqVJgggXxhkR43ylLRDhqGwp\n",
        "leHJ+u92foK7desvSoc1iHBls8P1a03gIB6OQpgIt9i34EIi/IHzJa7iR5kgzCSEMBFCmAghTIQQ\n",
        "JkIIEyGEiRDCRAhhIoQwEUKYCCFMhBAmQggTIYSJEMJECGEihDARQpgIIUyEECZCCBMhhIkQwkQI\n",
        "YSKEMBFCmAghTIQQJkIIEyGEiRDCRAhhIoQwEUKYCCFMhBAmQggTIYSJEMJECGEihDARQpgIIUyE\n",
        "ECZCCBMhhIkQwkQIYSKEMBFCmAghTIQQJkIIEyGEiRDCRAhhIoQwEUKYCCFMhBAmQggTIYSJEMJE\n",
        "CGEihDARQpgIIUyEECZCCBMhhIkQwkQIYSKEMBFCmAghTIQQJkIIEyGEiRDCRAhhIoQwEUKYCCFM\n",
        "hBAmQggTIYSJEMJECGEihDARQpgIIUyEECZCCBMhhIkQwkQIYSKEMBFCmAghTIQQJkIIEyGE/Qc0\n",
        "vfL9F/KGhQAAAABJRU5ErkJggg==\n",
        "\"></td>\n",
        "\t\t<td><img src=\"data:image/png;base64,iVBORw0KGgoAAAANSUhEUgAAASwAAAEsCAIAAAD2HxkiAAAHPUlEQVR4nO3d0XaiSBiFUZjV7//K\n",
        "zAXdhggSgwWnqNp7zYXtqNHIlx/KaMZpmgYg57/0HYDeiRDCRAhhIoQwEUKYCCFMhBAmQggTIYSJ\n",
        "EMJECGEihDARQpgIIUyEECZCCBMhhIkQwkQIYSKEMBFCmAghTIQQJkIIEyGEiRDCRAhhIoQwEUKY\n",
        "CCFMhBAmQggTIYSJEMJECGEihDARQpgIIUyEECZCCBMhhIkQwkQIYSKEMBFCmAghTIQQJkIIEyGE\n",
        "iRDCRAhhIoQwEUKYCCFMhBAmQggTIYSJEMJECGEihDARQpgIIUyEECZCCBMhhIkQwkQIYSKEMBFC\n",
        "mAghTIQQJkIIEyGEiRDCRAhhIoQwEUKYCCFMhBAmQggTIYSJEMJECGEihDARQpgIIUyEECZCCBMh\n",
        "hIkQwkQIYSKEMBFCmAghTIQQJkIIEyGEiRDCRAhhIoQwEUKYCCFMhBAmQggTIYSJEMJECGEihDAR\n",
        "NmIcx3Ec0/eCI/6k7wAFjOM4TdN8Yj5n/ie3MHq27u5R4NOZgxRvQoQ39mNpBuMtiPCuNgfgzoXn\n",
        "E57uConwln5V4NMV5xOe93qI8H4OF/h0I4MU6yDCmylS4PLW5hM2gyAR3knZAp9ueT5he7ieCG/j\n",
        "vAKfvsp8woZxGRHewDvHb8WP8dR4GRHWLv5ShCWcs4mwavW8FGEwnkeE9Sr4UsRQukabTUEirNQ4\n",
        "DmWfmYI1XrNE1A/voqhR8QKHRXtGWW38SKvLPK4ueE4+HIyGYUEmYUXOGICvPA3GwWzMEWEtrixw\n",
        "SY1xIqxCqsAlNab0HuHT57JENrsaClyyhHOx3iMcvm9k+5+VdMbmWFuBS/K7RtdrXL9d4vue6NcV\n",
        "+/wWWiAtxST8hVfb3Hp8ri+4nng1z0Cu1G+EBX+Qbya3voDq2NRvhKfajG2adMiGTj+B2/EM9eg0\n",
        "wh2nfpj8PAzbME2TD94voscIs2OwpQ4poscId9hN5XrdRVhDZoYhS91FuOPKPtM/B6hIXxEGx+Dy\n",
        "y172psGzWZspoq8Id9Swm0qfOopQZtSpowh3XNynhRmWeonQGKRavUS4Q59kdRGhzM5jgfRzXUS4\n",
        "Q5/EtR+hzKhc+xHWyQIpD41HuD8GDUlq0HiEXMDazIdajrD6MWjDZRjajpCrjaMj3QOa/aCn6sdg\n",
        "ux4d+g6/xySMafBQav3JqmbjG9qchMZgzOMbu2zPbNxlElLAxlSfpr//LRmMWxqchMbg1fa7Ws9G\n",
        "g/E7k5DPbO52bno1GLufja2NhduNwQrv0i9s/s2NY9c9cAutaHB3lIt8UuBgCedLUxHebgzeWMF9\n",
        "yJ0a+3i+mopwXqNT2rle5ff5EOt1CafBTbbeDl/8dK/3Dq+9+nuoZxzgLW/zLt+fQ5qahLMa52Eb\n",
        "C4A7B4FnHOBt3maLKttYy6mlwzdWL2q5q/t+uwzzzt8QZxiGJifhLD8PP1w8rMqBx9LrAd4BzUY4\n",
        "BDtsOL/h6EsR3b8OseMOO0KfubTDo/lVukd6xi6l1+hXqnzuS7tiE//sd0fGYZgOXPFUZ8/zYzW2\n",
        "uGTaRYTD2R0e3jL+XfErwmO3U9yVe9Tvz9txfP4Tc01svb1EOJzU4cf5fV331UL8xU9QcFVz/0tv\n",
        "JtdEhx1FOJTt8PCs+PGKwRpreF3h1W5quxG2vDq6Vma99Lz8ns5/uvzZi4qVLOp28xr9Q18RDh92\n",
        "WOqdO29e8coaKylw8z60XmNfu6MPv+6w4BvnPvmGX7CnWu0OXru7o51GOLz/9FWS3/4tn/ElKmR1\n",
        "tD0/P4kFFz9P0luNLb5O2N0x4dKrJbeNy73v4oOrbg6c/molvKWuJ+Gs2E5NJWsbPb0nvQ0iHIbP\n",
        "O6wkP+7JRx4Ow7/90iM7dE9Xm1af6he0fjzrdxXtXJirdH1MuPR4w827Ed1i+rWyftg2k/CbnV/h\n",
        "/Kba6ffk3cdDkkn47BcvWvx8afiZCI+6S347v/pMHUT4wnrDfZxzl/weNjtcPzpCHBO+5oMYuIQI\n",
        "X2tpVaOlx9IcEXbDDK+VCHfdeoCsq3ucs/O/uJwIf3LrDrkDEUKYCN9gGHImEb7HIROn8VYmCDMJ\n",
        "IUyEECZCCBMhhIkQwkQIYSKEMBFCmAghTIQQJkIIEyGEiRDCRAhhIoQwEUKYCCFMhBAmQggTIYSJ\n",
        "EMJECGEihDARQpgIIUyEECZCCBMhhIkQwkQIYSKEMBFCmAghTIQQJkIIEyGEiRDCRAhhIoQwEUKY\n",
        "CCFMhBAmQggTIYSJEMJECGEihDARQpgIIUyEECZCCBMhhIkQwkQIYSKEMBFCmAghTIQQJkIIEyGE\n",
        "iRDCRAhhIoQwEUKYCCFMhBAmQggTIYSJEMJECGEihDARQpgIIUyEECZCCBMhhIkQwkQIYSKEMBFC\n",
        "mAghTIQQJkIIEyGEiRDCRAhhIoQwEUKYCCFMhBAmQggTIYSJEMJECGEihDARQpgIIUyEECZCCBMh\n",
        "hIkQwkQIYf8DG2j5CQneol4AAAAASUVORK5CYII=\n",
        "\"></td>\n",
        "\t</tr>\n",
        "</table>"
       ],
       "metadata": {},
       "output_type": "pyout",
       "prompt_number": 12,
       "text": [
        "<IPython.core.display.HTML at 0x10c6ffd90>"
       ]
      }
     ],
     "prompt_number": 12
    },
    {
     "cell_type": "markdown",
     "metadata": {},
     "source": [
      "[<a href=\"#top\">Top</a>]"
     ]
    },
    {
     "cell_type": "markdown",
     "metadata": {
      "slideshow": {
       "slide_type": "slide"
      }
     },
     "source": [
      "### hydropyridin-2-imine -> 2-amino-pyridine\n",
      "<p><a name=\"hydropyridin-2-imine_-_2-amino-pyridine\"></a></p>"
     ]
    },
    {
     "cell_type": "code",
     "collapsed": false,
     "input": [
      "demo(\"N=c1[nH]cncc1\")"
     ],
     "language": "python",
     "metadata": {},
     "outputs": [
      {
       "output_type": "stream",
       "stream": "stderr",
       "text": [
        "[2014/Jan/15 15:44:24 INFO    ] rule 6 'hydropyridin-2-imine -> 2-amino-pyridine' applied\n"
       ]
      },
      {
       "html": [
        "<!-- NB the styling is inline as otherwise it is overridden by the Notebook stylesheets -->\n",
        "\n",
        "<table>\n",
        "\t<tr>\n",
        "\t\t<th style=\"text-align: center;\">Original</th>\n",
        "\t\t<th style=\"text-align: center;\">Transformed</th>\n",
        "\t</tr>\n",
        "\t<tr>\n",
        "\t\t<td><img src=\"data:image/png;base64,iVBORw0KGgoAAAANSUhEUgAAASwAAAEsCAIAAAD2HxkiAAAFMElEQVR4nO3d207jSBRA0Xg0///L\n",
        "noe0hqYbnJvDrrLXekMgJRTeOb6EeFnX9QJ0/qmfAJydCCEmQoiJEGIihJgIISZCiIkQYiKEmAgh\n",
        "JkKIiRBiIoSYCCEmQoiJEGIihJgIISZCiIkQYiKEmAghJkKIiRBiIoSYCCEmQoiJEGIihJgIISZC\n",
        "iIkQYiKEmAghJkKIiRBiIoSYCCEmQoiJEGIihJgIISZCiIkQYiKEmAghJkKIiRBiIoSYCCEmQoiJ\n",
        "EGIihJgIISZCiIkQYiKEmAghJkKIiRBiIoSYCCEmQoiJEGIihJgIISZCiIkQYiKEmAghJkKIiRBi\n",
        "IoSYCCEmQoiJEGIihJgIISZCiIkQYiKEmAghJkKIiRBiIoSYCCEmQoiJEGIihJgIISZCiIkQYiKE\n",
        "mAghJkKIiRBiIoSYCCEmQoiJEGIihJgIISZCiIkQYiKEmAghJkKIiRBiIoSYCCEmQoiJEGIihJgI\n",
        "ISZCiP1bP4FDWZYledx1XZPHZRci3M2yLFUM4UPzOrujEBPhPtpZtK5rtSfM60QIMRHuYIRDMsNw\n",
        "XiKEmAhfNcIYvDIMJyVCiI3yKj6pjTH47qG08bj+pnNxsf5dqhKuO6U6nIjd0efZ1tmFCA/IGZq5\n",
        "iPBJxiB7EeExGYYTEeEzjEF2JMLDMgxnIcKHTTQGdTgFET5mWfwbOzsT4cEZhuMT4QOW5WIKsjsR\n",
        "Hp9hODgR3ssY5E1EeJfZCzQMRyZCiInwttnH4JVhOCwRnogOxyTC2w4wBhnZNO/AYi8fb7t701S0\n",
        "RT3IJISYSXhGE70H/QxMQoiJ8MPfh0hfHjQd4Pzi20+Tbizlnat8JiL85PTbw34s5d1E+Mm63t54\n",
        "7vmZ8a3Xjyd+329yjGX6ESI8pWW5XC7rxeWEIfgE7j9dX8G3N857foZvl8mE/EyEXzh4Y7838I4e\n",
        "fl+4L5fyjy9P36Td0SfNesjz/5M+7GvMfEzCr83a2EN+psNTLOVLTMJv3dxE59u6qjFo6m4S4Ye/\n",
        "N5X5MhvEl0t581tnJcIbtjucqVJHg6MS4W0zlcaERPiqORI1BgcmwrvMUdp3FDg2Ee5g7kSpifBe\n",
        "d5yhGTJEY3B4InyAicc7iHA3I36goDE4AxE+ZqZhOM0TPTsRPmzj8G/EYXgxBkcnwp2N0qEd0XmI\n",
        "8BmjlMYhiHB/faLG4FRE+KTt0voOmYcID8cYnI0InzfiMFTghEQIMTcGedX2zVXceoWbTML3UiA3\n",
        "ifBVToTyIhFCTIQ7MAx5hQghJsJ9/MQwdOfNgxLhVKR1RO5FsZuXh+HWxYxfVzoOfr+okxLhnlwV\n",
        "5AkinI07bx6OCCfkzpvH4sQMxEQ4p5k+9Y0bRDgtJ4GOwj/aQMwkhJgIISZCiIkQYiKEmAghJkKI\n",
        "iRBiIoSYCCEmQoiJEGIihJgIISZCiIkQYiKEmAghJkKIiRBiIoSYCCEmQoiJEGIihJgIISZCiIkQ\n",
        "YiKEmAghJkKIiRBiIoSYCCEmQoiJEGIihJgIISZCiIkQYiKEmAghJkKIiRBiIoSYCCEmQoiJEGIi\n",
        "hJgIISZCiIkQYiKEmAghJkKIiRBiIoSYCCEmQoiJEGIihJgIISZCiIkQYiKEmAghJkKIiRBiIoSY\n",
        "CCEmQoiJEGIihJgIISZCiIkQYiKEmAghJkKIiRBiIoSYCCEmQoiJEGIihJgIISZCiIkQYiKEmAgh\n",
        "JkKIiRBiIoSYCCEmQoiJEGIihJgIISZCiIkQYiKEmAghJkKIiRBiIoSYCCEmQoiJEGIihNh/8Y0y\n",
        "VxDUHE4AAAAASUVORK5CYII=\n",
        "\"></td>\n",
        "\t\t<td><img src=\"data:image/png;base64,iVBORw0KGgoAAAANSUhEUgAAASwAAAEsCAIAAAD2HxkiAAAFc0lEQVR4nO3c3W7aWBhAUTya939l\n",
        "z0WqaZsEY8Bkn2PWUm/aUNkx3nz+EV7Wdb0AnX/qFYB3J0KIiRBiIoSYCCEmQoiJEGIihJgIISZC\n",
        "iIkQYiKEmAghJkKIiRBiIoSYCCEmQoiJEGIihJgIISZCiIkQYiKEmAghJkKIiRBiIoSYCCEmQoiJ\n",
        "EGIihJgIISZCiIkQYiKEmAghJkKIiRBiIoSYCCEmQoiJEGIihJgIISZCiIkQYiKEmAghJkKIiRBi\n",
        "IoSYCCEmQoiJEGIihJgIISZCiIkQYiKEmAghJkKIiRBiIoSYCCEmQoiJEGIihJgIISZCiIkQYiKE\n",
        "mAghJkKIiRBiIoSYCCEmQoiJEGIihJgIISZCiIkQYiKEmAghJkKIiRBiIoSYCCEmQoiJEGIihJgI\n",
        "ISZCiIkQYiKEmAghJkKIiRBiIoSYCCEmQoiJEGIihJgIISZCiIkQYiKEmAghJkKIiRBiIoSYCCEm\n",
        "QoiJEGL/1itwKsuyJMtd1zVZLocQ4WGWZaliCBfN8xyOQkyEx2hn0bqu1ZEwzxMhxER4gBFOyQzD\n",
        "eYkQYiJ81ghj8INhOCkRQmyUT/FJbYzBVw+ljeV6T+fiZv2rVCV8HJTqcCIORx9nX+cQIjwhV2jm\n",
        "IsIHGYMcRYTnZBhORISPMAY5kAhPyzCchQjvNtEY1OEURHifZfE1dg4mwpMzDMcnwjssy8UU5HAi\n",
        "PD/DcHAi3MsY5EVEuMvsBRqGIxMhxER42+xj8INhOCwRvhEdjkmEt51gDDIyEb4Xw3BAIoSYCN+O\n",
        "YTgaEUJMhL99HQ/fDoxppsiy/PrzxauG4cYW3N6411f1HXjk4V/OcUvwcvljF9/4fY7d6T8W9MAW\n",
        "/PO/nOcNuINJ+Jd1vb1n7nnN+NbL5SW/xANb5/2q+8QkPKObY3BZLpfLuvGCxFuOwYsIv/r4KN/e\n",
        "Gfa8JpOP6WtbZ3vFxt2gLyfCbwzd2H6bY3DrBYcs+usW/PTXTxdmpt/cj3NO+KBBzwz3HYhuveDn\n",
        "vXeBFxFeM2hjE7EFdxPhVTc/nYfbzUYbg/uX8v99wrE26A9xTvjb133mJCeHP+bbLfjAj96MSXjD\n",
        "9rgbaBiONgbZTYS3DVQaZyTCZw2RqDE4MxHuMkRp19xcMwWOTYQHGCVRjc1JhHvtuEJThOhAdH4i\n",
        "vMMoE49zEeFhgsdGGIOnIML7zDQMp1nRdyfCu22c/v3oMNw/5YzBsYnwYKM8y8yB6DxE+Ii+NI2d\n",
        "iAiP9/JE3Z0/FxE+aLu0HxqVGjsFEc7GbYnTEeHjhhiGnyhwQiKcisbOaFm9nc9Zlq1tuP3Tl/As\n",
        "gNmYhK/lM46bRPis/p7hJ7KfjQghJsIDDDcMmYoIISbCY5RfJtz4F2Ygwpmp7hQ8gfswTw/DO65q\n",
        "/roC6gnhpyDCI7kryAMcjk5upudt8D0Rzk+HkxMhxER4CobhzER4Fq4JTctXmSBmEkJMhBATIcRE\n",
        "CDERQkyEEBMhxEQIMRFCTIQQEyHERAgxEUJMhBATIcRECDERQkyEEBMhxEQIMRFCTIQQEyHERAgx\n",
        "EUJMhBATIcRECDERQkyEEBMhxEQIMRFCTIQQEyHERAgxEUJMhBATIcRECDERQkyEEBMhxEQIMRFC\n",
        "TIQQEyHERAgxEUJMhBATIcRECDERQkyEEBMhxEQIMRFCTIQQEyHERAgxEUJMhBATIcRECDERQkyE\n",
        "EBMhxEQIMRFCTIQQEyHERAgxEUJMhBATIcRECDERQkyEEBMhxEQIMRFCTIQQEyHERAgxEUJMhBAT\n",
        "IcRECDERQkyEEBMhxEQIMRFCTIQQEyHERAgxEUJMhBATIcRECDERQkyEEBMhxEQIMRFCTIQQEyHE\n",
        "RAgxEULsP5F5XGFdUc1wAAAAAElFTkSuQmCC\n",
        "\"></td>\n",
        "\t</tr>\n",
        "</table>"
       ],
       "metadata": {},
       "output_type": "pyout",
       "prompt_number": 13,
       "text": [
        "<IPython.core.display.HTML at 0x10c6fff10>"
       ]
      }
     ],
     "prompt_number": 13
    },
    {
     "cell_type": "markdown",
     "metadata": {},
     "source": [
      "Note that the five-membered analogues such as that show below will also be affected..."
     ]
    },
    {
     "cell_type": "code",
     "collapsed": false,
     "input": [
      "demo(\"N=c1[nH]ccn(C)1\")"
     ],
     "language": "python",
     "metadata": {},
     "outputs": [
      {
       "output_type": "stream",
       "stream": "stderr",
       "text": [
        "[2014/Jan/15 15:44:36 INFO    ] rule 6 'hydropyridin-2-imine -> 2-amino-pyridine' applied\n"
       ]
      },
      {
       "html": [
        "<!-- NB the styling is inline as otherwise it is overridden by the Notebook stylesheets -->\n",
        "\n",
        "<table>\n",
        "\t<tr>\n",
        "\t\t<th style=\"text-align: center;\">Original</th>\n",
        "\t\t<th style=\"text-align: center;\">Transformed</th>\n",
        "\t</tr>\n",
        "\t<tr>\n",
        "\t\t<td><img src=\"data:image/png;base64,iVBORw0KGgoAAAANSUhEUgAAASwAAAEsCAIAAAD2HxkiAAAFrklEQVR4nO3c0XLaSBRAwdVW/v+X\n",
        "tQ9UHG8wIJA0Z2y6Ky9JCFZhHe5ITLys6/oP0Pm3PgB4dyKEmAghJkKIiRBiIoSYCCEmQoiJEGIi\n",
        "hJgIISZCiIkQYiKEmAghJkKIiRBiIoSYCCEmQoiJEGIihJgIISZCiIkQYiKEmAghJkKIiRBiIoSY\n",
        "CCEmQoiJEGIihJgIISZCiIkQYiKEmAghJkKIiRBiIoSYCCEmQoiJEGIihJgIISZCiIkQYiKEmAgh\n",
        "JkKIiRBiIoSYCCEmQoiJEGIihJgIISZCiIkQYiKEmAghJkKIiRBiIoSYCCEmQoiJEGIihJgIISZC\n",
        "iIkQYiKEmAghJkKIiRBiIoSYCCEmQoiJEGIihJgIISZCiIkQYiKEmAghJkKIiRBiIoSYCCEmQoiJ\n",
        "EGIihJgIISZCiIkQYiKEmAghJkKIiRBiIoSYCCEmQoiJEGIihJgIISbC1y3LUh8CP4EIX7eu67Is\n",
        "UmQnEe6yruslxfpA+MZEeAAdsocIj2FpystEeBhLU14jwoPpkGeJ8HiWpjxFhKewNGU7EZ5Ih2wh\n",
        "wnNZmvKQCE83+dLUe0RuWde1PoZ3cTnVZ3i9P1d3OQGWxZmQ+VUfwBu5nOTLknX40Z7epuL9LzBy\n",
        "JF4PvTuPdDIkvO6Z80bi9vCu/6HzYTwveunYkfg7vV3fUx2O55qwdMhV4sfY+/0kEvpmvO1N4YUO\n",
        "r9o78GCcFUN5uWexscND2nuYmQ5H8lp/D4fPPR3Ow46ZuVzvXfm4eXP5xc8jwumM2UP2cCfdzFvt\n",
        "fhgRTmdddfheRPjWdDgDEc5o2DBkBiKclEXp+xAhOoyJcF4WpW9ChFMb9sGgYRgS4Vw+qjtva+jt\n",
        "L63Dhgj5Q4cJEUJMhPyPYTieCPmbDgcTIV/Q4UgihJgI+ZphOIwIuUmHY4iQXXS4nwi5R2MDiJAH\n",
        "LErPJsJpTXRa38/Mz2XbSYQQEyGb3BqGxuB+ImSr69gUeAgRQkyEvMgYPIoIeYUCDyRCiImQpxmD\n",
        "xxIhz1Hg4UTIExR4BhFCTIRsZQyeRIRsosDz/KoPgN/G/8xt5mASzuHz3uj5/m+eMXgqk7B2ndxk\n",
        "p/uyfLF1mwOZhKnpC2QAk7DzV4HX+V0ekGa5LN4WTifCwlMDsLtho8AxXHAP91qBGx9/HAUOYxIO\n",
        "tGcAfnn7VCU/gkk4yp4B+PmRtz7AOPT7aAyOJMIhHt6DeeHBQ2pkABGebOcV4MbvTnfpyH4iPNOY\n",
        "Au8/yctPxSgiPMezRT21Xj3jAOi4O3qC8QPw2pZ7OcxBhEfbcw/m4eNfYwbOzd7R4yzL3rugZ9dy\n",
        "3fzHn9z5K04mwoM8uwQ9/CJwI2nNx3J0t533YB4+/ljr6pP42YhwnxnuwfDNiXCHCe/BbHFrGFqp\n",
        "RkS4w/aK5inw46tfd/jXbzU5ighPNlt+zMfd0TPNXOBlGDIBEZ5m/MeAz5rteN6VvaOn+RyhF5nb\n",
        "TMINdm40USB3iXC3O1dWEy5BmY8Id7t1h0N+bCNCiPmccJv7d/NtyGQHEW7zcDeJDnmV5SjERHgc\n",
        "e1B4iQgPZTnK8+yYgZhJCDERQkyEEBMhxEQIMRFCTIQQEyHERAgxEUJMhBATIcRECDERQkyEEBMh\n",
        "xEQIMRFCTIQQEyHERAgxEUJMhBATIcRECDERQkyEEBMhxEQIMRFCTIQQEyHERAgxEUJMhBATIcRE\n",
        "CDERQkyEEBMhxEQIMRFCTIQQEyHERAgxEUJMhBATIcRECDERQkyEEBMhxEQIMRFCTIQQEyHERAgx\n",
        "EUJMhBATIcRECDERQkyEEBMhxEQIMRFCTIQQEyHERAgxEUJMhBATIcRECDERQkyEEBMhxEQIMRFC\n",
        "TIQQEyHERAgxEUJMhBATIcRECDERQkyEEBMhxEQIMRFCTIQQEyHERAgxEUJMhBATIcRECDERQkyE\n",
        "EBMhxEQIsf8AgRXZSe2zbMoAAAAASUVORK5CYII=\n",
        "\"></td>\n",
        "\t\t<td><img src=\"data:image/png;base64,iVBORw0KGgoAAAANSUhEUgAAASwAAAEsCAIAAAD2HxkiAAAFyklEQVR4nO3dzXLiRhhAUZTK+78y\n",
        "WRA7zvCPpL6NOae8mIURKqzrr5E0eDkejweg81e9A/DpRAgxEUJMhBATIcRECDERQkyEEBMhxEQI\n",
        "MRFCTIQQEyHERAgxEUJMhBATIcRECDERQkyEEBMhxEQIMRFCTIQQEyHERAgxEUJMhBATIcRECDER\n",
        "QkyEEBMhxEQIMRFCTIQQEyHERAgxEUJMhBATIcRECDERQkyEEBMhxEQIMRFCTIQQEyHERAgxEUJM\n",
        "hBATIcRECDERQkyEEBMhxEQIMRFCTIQQEyHERAgxEUJMhBATIcRECDERQkyEEBMhxEQIMRFCTIQQ\n",
        "EyHERAgxEUJMhBATIcRECDERQkyEEBMhxEQIMRFCTIQQEyHERAgxEUJMhBATIcRECDERQkyEEBMh\n",
        "xEQIMRFCTIQQEyHERAgxEUJMhBATIcRECDERQkyEEBMhxEQIMRFCTISvW5al3gV+AxG+7ng8Lssi\n",
        "RVYS4SrH4/GUYr0jvDERbkCHrCHCbVia8jIRbsbSlNeIcGM65Fki3J6lKU8R4S4sTXmcCHekQx4h\n",
        "wn1ZmnKXCHc3+dLU74jccjwe6334FKdDfYbX+2d1pwNgWRwJmb/rHfggp4N8WbIOv9vT21T8/guM\n",
        "HInnQ+/GdzoYEl73zH4j8fHwzh/oeBjPi17adiR+pbfqZ6rD8bwnLG3yLvF77H1tREJvxq+9KbzQ\n",
        "4Vl7G+6Mo2IoL/csHuxwk/buZqbDkbzW72HzuafDebhjZi7n9658n7w5ffH7iHA6Y+4hu3sn3cy3\n",
        "2v0yIpzO8ajDzyLCj6bDGYhwRsOGITMQ4aQsSj+HCNFhTITzsij9ECKc2rALg4ZhSIRz+a5uv1tD\n",
        "rz+1Dhsi5D86TIgQYiLkfwzD8UTIn3Q4mAi5QIcjiRBiIuQyw3AYEXKVDscQIavocD0RcovGBhAh\n",
        "d1iU7k2E05rosL6dmc9lW0mEEBMhD7k2DI3B9UTIo85jU+AmRAgxEfIiY3ArIuQVCtyQCCEmQp5m\n",
        "DG5LhDxHgZsT4ftYlvxzSBW4B3+z/t2M/yxEdmYSvo8/qjsNxoGz0RjciUn4Vs4/G/gwaDYqcD8i\n",
        "fE9djWxOhG9uSI3G4K5E+FvsVuOyXLh1mw2J8NexUn03lhnzWZbD4bAcDv/+YNb/gC6eQX1ss8si\n",
        "292JcDJfwfwX4bfhNSpwDBFO47yQa3+qd/MaL21QgcN4TziHiwUednuDd3GzREzCCTwwl65+84OP\n",
        "epIxOJIIU9cG4GuPfXYL1zfsoBhJhJ01Bd7d1JqtMZYICxvmd3fL226fHYhwuP0KvP0s+z0X64hw\n",
        "rKfOwez0pCOfmge4RDHKmAF4kQsSc/OfeocIC/zjSU9fJ+d7pdKCSbizSfK7tg8uR0zAJNzTnAX+\n",
        "dO3OOAYyCXeTnIPhDZmEOzj//KWZCzQMaybhDmZO7qJTh2+327+FSQgxEXI4HCxKSyLki+VoxG1r\n",
        "EDMJr7t9Q8n5p9C7AYWXiPAlp3OJp6/bHcI9InzJtTW80xs8T4TruLzGai7W33R7rF0s0IVvniTC\n",
        "m87/JODPf99elOqQx1iOvkRjbEeE+3CGhodZjr7qZ2MXp6IOeYw7ZiBmOQoxEUJMhBATIcRECDER\n",
        "QkyEEBMhxEQIMRFCTIQQEyHERAgxEUJMhBATIcRECDERQkyEEBMhxEQIMRFCTIQQEyHERAgxEUJM\n",
        "hBATIcRECDERQkyEEBMhxEQIMRFCTIQQEyHERAgxEUJMhBATIcRECDERQkyEEBMhxEQIMRFCTIQQ\n",
        "EyHERAgxEUJMhBATIcRECDERQkyEEBMhxEQIMRFCTIQQEyHERAgxEUJMhBATIcRECDERQkyEEBMh\n",
        "xEQIMRFCTIQQEyHERAgxEUJMhBATIcRECDERQkyEEBMhxEQIMRFCTIQQEyHERAgxEUJMhBATIcRE\n",
        "CDERQkyEEBMhxEQIMRFCTIQQEyHERAgxEUJMhBATIcRECLF/AHnO5EM0EFhUAAAAAElFTkSuQmCC\n",
        "\"></td>\n",
        "\t</tr>\n",
        "</table>"
       ],
       "metadata": {},
       "output_type": "pyout",
       "prompt_number": 14,
       "text": [
        "<IPython.core.display.HTML at 0x10c5ce090>"
       ]
      }
     ],
     "prompt_number": 14
    },
    {
     "cell_type": "markdown",
     "metadata": {},
     "source": [
      "<p><a name=\"hydropyridin-2-imine_-_2-amino-pyridine_N-subst\"></a></p>\n",
      "### hydropyridin-2-imine -> 2-amino-pyridine (N-subst.)"
     ]
    },
    {
     "cell_type": "markdown",
     "metadata": {},
     "source": [
      "This is the N-substituted analogue of the rule above; a seperate rule is necessary as otherwise incorrect structures can result."
     ]
    },
    {
     "cell_type": "code",
     "collapsed": false,
     "input": [
      "demo(\"CN=c1[nH]cncc1\")"
     ],
     "language": "python",
     "metadata": {},
     "outputs": [
      {
       "output_type": "stream",
       "stream": "stderr",
       "text": [
        "[2014/Jan/15 15:44:58 INFO    ] rule 7 'hydropyridin-2-imine -> 2-amino-pyridine (N-subst.)' applied\n"
       ]
      },
      {
       "html": [
        "<!-- NB the styling is inline as otherwise it is overridden by the Notebook stylesheets -->\n",
        "\n",
        "<table>\n",
        "\t<tr>\n",
        "\t\t<th style=\"text-align: center;\">Original</th>\n",
        "\t\t<th style=\"text-align: center;\">Transformed</th>\n",
        "\t</tr>\n",
        "\t<tr>\n",
        "\t\t<td><img src=\"data:image/png;base64,iVBORw0KGgoAAAANSUhEUgAAASwAAAEsCAIAAAD2HxkiAAAGB0lEQVR4nO3d23aaWgBAUTij///L\n",
        "nIe0qU3UoIKLy5zDh450JCKysjeX4DhN0wB0/qsXAM5OhBATIcRECDERQkyEEBMhxEQIMRFCTIQQ\n",
        "EyHERAgxEUJMhBATIcRECDERQkyEEBMhxEQIMRFCTIQQEyHERAgxEUJMhBATIcRECDERQkyEEBMh\n",
        "xEQIMRFCTIQQEyHERAgxEUJMhBATIcRECDERQkyEEBMhxEQIMRFCTIQQEyHERAgxEUJMhBATIcRE\n",
        "CDERQkyEEBMhxEQIMRFCTIQQEyHERAgxEUJMhBATIcRECDERQkyEEBMhxEQIMRFCTIQQEyHERAgx\n",
        "EUJMhBATIcRECDERQkyEEBMhxEQIMRFCTIQQEyHERAgxEUJMhBATIcRECDERQkyEEBMhxEQIMRFC\n",
        "TIQQEyHERAgxEUJMhBATIcRECDERQkyEEBMhxEQIMRFCTIQQEyHERAgxEUJMhBATIcRECLFf9QKw\n",
        "V+M4fvxjmqZ2SfZOhDzgM7zhor1xHHX4CquPey6rG24Pejp8hXXHV1eHuznfZVt6jhXH8Ce6V/fx\n",
        "dPgca+2M/p1jDgtuAjp8glV2Lh/5rfqe6/BRzhPu1pfh7PIrt/9rmtYtcBiGaZrG7wvAbSLcM9v6\n",
        "IYhwz6Yp6fDHgc5g+BAR8rA5jelwPhHu3K3BcBz/eSz/tDpcjAj372qHH0dgPh+rPK0OlyFCnqfD\n",
        "RYjwEKIjNMMDHb5ncXZJhEfRnR+f16HzKTe5uOEQPjfw7t2cc6HMOIYLuF1GQpZhPHyaCFmMDp8j\n",
        "QpakwyeIcP82sEN4ac6xUB1eEiHLm9OYDj+JkFVobD4R7tzG5qKXfuxQqB9EyIrmdMgZI3Qp4zsZ\n",
        "7n50xgiPc0nxMV7F3Tt1nMEZIxyO1OGHbc/q5gyGR3o3HnXSCIfjdbhtDtLccd4IBx2+15kzu+/U\n",
        "EQ677nDDJyduud/haSs9e4TDrjvcIR1+J8Jh0OF77WfkfhMR7tMO56IznXAwFOFvBsPtONwvlh+I\n",
        "8C8dVr6PfqfqUIT/0CHvJ8KvdtDh4XYIT34DKBFesYMOORARXud+tbyNCG/a6LHyw81FEeE9G+3w\n",
        "WE6+QziI8Ec6ZG0i/NmGOjQXPSIRzrKJDvslYBW/6gXYjY8O3zoCXatuHIYjfYaPHcJBhA9ZvcMZ\n",
        "d8yd5n3+0X6Mw3CY1/IkEdYevyXgx7UEB+rw7LyXD3t1MFzoRpwH6PAAL2ERRsKHPbPZrHAHXOPh\n",
        "YYhwHW+577QOj8FbuLRb+a22nnfa4U4Xew1Gwmd93zX88hVbGPM4Wf+Cq4PeNP1+vIs/vNo7Eb7g\n",
        "PdfRjOPfx80F2VmH5qKXTEe356mcHKTZLxG+ZpGLaOZUN+MpdLhTInzZEx0uVN21b9pEh59z43xJ\n",
        "dkGEb7Faddd+TNDhlz3S+8++hV8TmyLCJXw/QvPG6q794NU7fKg67hPhQj47vP9xJ+9bnOU7vAxP\n",
        "dQsyMVjaZYT1un2xwzWGO3PR74yES9vSFvboeGiSmRDhwc3p0MHMlrnBKWxkEriRxdgal62dQn5d\n",
        "2ziO+7qw7p1MR1mLo6kzmR6ciJOH2yTCc1m2Q9UtQoSns+DJQxvPIkR4Rk4ebooIT+pOh6p7MxGe\n",
        "12WHJpkhEZ6aa2W2QIQQc8UMxEQIMRFCTIQQEyHERAgxEUJMhBATIcRECDERQkyEEBMhxEQIMRFC\n",
        "TIQQEyHERAgxEUJMhBATIcRECDERQkyEEBMhxEQIMRFCTIQQEyHERAgxEUJMhBATIcRECDERQkyE\n",
        "EBMhxEQIMRFCTIQQEyHERAgxEUJMhBATIcRECDERQkyEEBMhxEQIMRFCTIQQEyHERAgxEUJMhBAT\n",
        "IcRECDERQkyEEBMhxEQIMRFCTIQQEyHERAgxEUJMhBATIcRECDERQkyEEBMhxEQIMRFCTIQQEyHE\n",
        "RAgxEUJMhBATIcRECDERQkyEEBMhxEQIMRFCTIQQEyHERAgxEUJMhBATIcRECDERQkyEEBMhxEQI\n",
        "MRFCTIQQEyHERAgxEUJMhBATIcRECDERQkyEEBMhxEQIMRFCTIQQ+x88HB0wvtDxfQAAAABJRU5E\n",
        "rkJggg==\n",
        "\"></td>\n",
        "\t\t<td><img src=\"data:image/png;base64,iVBORw0KGgoAAAANSUhEUgAAASwAAAEsCAIAAAD2HxkiAAAF7ElEQVR4nO3d3XKiSACAUdja939l\n",
        "9iK7WSc/Bo36Qfc5lYuZSqZE5LNb6CHrtm0L0Pmr3gCYnQghJkKIiRBiIoSYCCEmQoiJEGIihJgI\n",
        "ISZCiIkQYiKEmAghJkKIiRBiIoSYCCEmQoiJEGIihJgIISZCiIkQYiKEmAghJkKIiRBiIoSYCCEm\n",
        "QoiJEGIihJgIISZCiIkQYiKEmAghJkKIiRBiIoSYCCEmQoiJEGIihJgIISZCiIkQYiKEmAghJkKI\n",
        "iRBiIoSYCCEmQoiJEGIihJgIISZCiIkQYiKEmAghJkKIiRBiIoSYCCEmQoiJEGIihJgIISZCiIkQ\n",
        "YiKEmAghJkKIiRBiIoSYCCEmQoiJEGIihJgIISZCiIkQYiKEmAghJkKIiRBiIoSYCCEmQoiJEGIi\n",
        "hJgIISZCiIkQYiKEmAghJkKIiRBiIoSYCCEmQoiJEGIihJgIISZCiIkQYiKEmAghJkKIiRBif9cb\n",
        "wFmt6/r2h23b2i05OxFyg/fwlov21nXV4W/YfVxzWd3y/aCnw9+w7/joy+Fuz79yLN3HjmP5L7rf\n",
        "fsbT4X3stRn9OcdcHngI6PAOdtksLsN76muuw1vZX6NY149treuybe/tvfJ11uFNXKIYyOcOX9se\n",
        "97FiZiDb9vHT3nOsPz3Ktm0//gzvRMjN9jSmw/1EOJZXDYY6fCARDkeHZyNC7qfDhxDhiF41GC43\n",
        "dPiazTklEQ7q8zXDt6+nPNSeDl/2tnA+IhzC2wH+vNVoP9Hhb4hwAi9ZNaPDu4mQh9HhfUTII+nw\n",
        "DiI8v+uzzZev4N5zLlSHl0TI4+1pTIfvRMhTaGw/EZ7cweail37sUKhvRMgT7emQGSO0lPGVDHc/\n",
        "mjHCcZYUX38W6Vz0Jp+fxxivz04zRriM1OGbY2e2ZzAc6dW41aQRLuN1eGxO0lwxb4TL2B0e73nN\n",
        "nNl1U0e4nLrDnR/5jjRTvd7htJXOHuFy6g5PSIefiXBZdPhaRxqbD0GE53TghTK/NOFgKMJ/GQyP\n",
        "44RvHb8iwv/psPJ59JuqQxH+YYQOzzwXnZMIPzpBh8Nl9tVvspmICL9wgg4ZiAi/dtb71Q43SM5A\n",
        "hN866LlymQ1HhNcctMOxTP6BcBHhj87UoUHynET4swN1KLMR+Z31u7x1GB/5e+4iyAmJcK+gw6+q\n",
        "W5dlGyi2/q3tAER4g6cfLjvGum1Z1nUdqMN1WYZ5LncSYe32WwK+rSUYqMPZeS1f7kE34hygwwGe\n",
        "wkMYCV/iCXfANR4OQ4RP9mV+DypHh2MQ4as8J5XzdnjSzX4GF+t3u3Kb6Cvf2rZ/v+AbIrzFURbO\n",
        "/MF/vDo7Ed7iQAvY/nC6Ds1FL4lwEKfrkHdOzNzou9VrBwjgvCdpJifC233Z4Ye/Rk0epMP3MTnf\n",
        "klMQ4WiSDj/MhK8/+hHeJg5FhHc56hmaNy/o8KbquE6E95qvw8vwVPdAJgYj+2WHzxjuzEU/MxKO\n",
        "7Nbx0CQzIcLB7enQycyWucEUDjIJPMhmHI0VM1PI19Os62pBz3dMR3kWZ1N3Mj2YiIuHxyTCuTy2\n",
        "Q9U9hAin88CLhw6ehxDhjFw8PBQRTupKh6p7MRHO67JDk8yQCKdmrcwRiBBiVsxATIQQEyHERAgx\n",
        "EUJMhBATIcRECDERQkyEEBMhxEQIMRFCTIQQEyHERAgxEUJMhBATIcRECDERQkyEEBMhxEQIMRFC\n",
        "TIQQEyHERAgxEUJMhBATIcRECDERQkyEEBMhxEQIMRFCTIQQEyHERAgxEUJMhBATIcRECDERQkyE\n",
        "EBMhxEQIMRFCTIQQEyHERAgxEUJMhBATIcRECDERQkyEEBMhxEQIMRFCTIQQEyHERAgxEUJMhBAT\n",
        "IcRECDERQkyEEBMhxEQIMRFCTIQQEyHERAgxEUJMhBATIcRECDERQkyEEBMhxEQIMRFCTIQQEyHE\n",
        "RAgxEUJMhBATIcRECDERQkyEEBMhxEQIMRFCTIQQEyHERAgxEUJMhBATIcRECDERQkyEEBMhxEQI\n",
        "MRFCTIQQEyHERAixfwA+xRQ2q6KHDwAAAABJRU5ErkJggg==\n",
        "\"></td>\n",
        "\t</tr>\n",
        "</table>"
       ],
       "metadata": {},
       "output_type": "pyout",
       "prompt_number": 15,
       "text": [
        "<IPython.core.display.HTML at 0x10c614350>"
       ]
      }
     ],
     "prompt_number": 15
    },
    {
     "cell_type": "markdown",
     "metadata": {},
     "source": [
      "[<a href=\"#top\">Top</a>]"
     ]
    },
    {
     "cell_type": "markdown",
     "metadata": {},
     "source": [
      "<p><a name=\"hydropyridin-4-imine_-_4-amino-pyridine\"></a></p>\n",
      "### hydropyridin-4-imine -> 4-amino-pyridine\n"
     ]
    },
    {
     "cell_type": "code",
     "collapsed": false,
     "input": [
      "demo(\"N=c1nc[nH]cc1\")"
     ],
     "language": "python",
     "metadata": {},
     "outputs": [
      {
       "output_type": "stream",
       "stream": "stderr",
       "text": [
        "[2014/Jan/15 15:47:29 INFO    ] rule 8 'hydropyridin-4-imine -> 4-amino-pyridine' applied\n"
       ]
      },
      {
       "html": [
        "<!-- NB the styling is inline as otherwise it is overridden by the Notebook stylesheets -->\n",
        "\n",
        "<table>\n",
        "\t<tr>\n",
        "\t\t<th style=\"text-align: center;\">Original</th>\n",
        "\t\t<th style=\"text-align: center;\">Transformed</th>\n",
        "\t</tr>\n",
        "\t<tr>\n",
        "\t\t<td><img src=\"data:image/png;base64,iVBORw0KGgoAAAANSUhEUgAAASwAAAEsCAIAAAD2HxkiAAAFBklEQVR4nO3d0VLaUABF0aTT///l\n",
        "9IGpddopAgnu3Ju13lofgJjtiYi4btu2AJ0f9R2AqxMhxEQIMRFCTIQQEyHERAgxEUJMhBATIcRE\n",
        "CDERQkyEEBMhxEQIMRFCTIQQEyHERAgxEUJMhBATIcRECDERQkyEEBMhxEQIMRFCTIQQEyHERAgx\n",
        "EUJMhBATIcRECDERQkyEEBMhxEQIMRFCTIQQEyHERAgxEUJMhBATIcRECDERQkyEEBMhxEQIMRFC\n",
        "TIQQEyHERAgxEUJMhBATIcRECDERQkyEEBMhxEQIMRFCTIQQEyHERAgxEUJMhBATIcRECDERQkyE\n",
        "EBMhxEQIMRFCTIQQEyHERAgxEUJMhBATIcRECDERQkyEEBMhxEQIMRFCTIQQEyHERAgxEUJMhBAT\n",
        "IcRECDERQkyEEBMhxEQIMRFCTIQQEyHERAgxEUJMhBATIcRECDERQkyEEBMhxEQIMRFCTIQQEyHE\n",
        "RAixn/UdmMq6rsntbtuW3C6HEOFh1nWtYghvmv1cjkJMhMdot2jbtupKmP1ECDERHuAM35IZw3GJ\n",
        "EGIi3OsMM3hjDAclQoid5av4oO7M4LtH6c7t+pyOxQ/r36Uq4XZRqsOBuBx9nXOdQ4hwQp6hGYsI\n",
        "X2QGOYoI52QMByLCV5hBDiTCaRnDUYjwaQPNoA6HIMLnrKtfY+dgIpycMTw/ET5hXRcryOFEOD9j\n",
        "eHIifJQZ5E1E+JDRCzSGZyZCiInwa6PP4I0xPC0Rfm2CAm90eE4ihNgwr8DiKH9edvemVXRGPckS\n",
        "QswSXtFAr0G/AksIsWtH+O83RR//c+dD43v706RXPbCvuXaEizPgbRzYh10+wm275umy3d6e+H2P\n",
        "/aoH9gWXj/Ca1nVZlm3x44RT8A7cv79m/3s6+kK+kwP7GBEuy/Kf0+Wvf05z6nx+IO94UJ+P26UO\n",
        "7Ktcjl7MxxnvQvQ0LOFvF3wi4Xs6vOCBfZIl/GT6cahmcPoDu4+XL9012cXbZA9nFpbwro+TdYIL\n",
        "KgWelQghJsKvzDGGZvDERPiA0TtU4LmJEGIifMy4Y2gGT0+EEBPhw0YcQzM4AhG+ZIgOh7iTiPA5\n",
        "g+7JoHf7MkT4pFEuSl2IjkOEEBPh884/hmZwKCKEmAhfcuYxNIOj8fuEO9w/3d/d5/0b9WkdhyWE\n",
        "mCXc54TLM8cfFr4SSwgxEe5zwmdozOBoRAgxEe52wjFkKCI8gg7ZQYTD8tc2Z+Ft8A/y8Wbv31PC\n",
        "bXv9NGIKlvA439+DP/MwBUt4KLvE8yzh4Izh+EQ4Ph0OToQQE+EUjOHIRDgLzwkNy68yQcwSQkyE\n",
        "EBMhxEQIMRFCTIQQEyHERAgxEUJMhBATIcRECDERQkyEEBMhxEQIMRFCTIQQEyHERAgxEUJMhBAT\n",
        "IcRECDERQkyEEBMhxEQIMRFCTIQQEyHERAgxEUJMhBATIcRECDERQkyEEBMhxEQIMRFCTIQQEyHE\n",
        "RAgxEUJMhBATIcRECDERQkyEEBMhxEQIMRFCTIQQEyHERAgxEUJMhBATIcRECDERQkyEEBMhxEQI\n",
        "MRFCTIQQEyHERAgxEUJMhBATIcRECDERQkyEEBMhxEQIMRFCTIQQEyHERAgxEUJMhBATIcRECDER\n",
        "QkyEEBMhxEQIMRFCTIQQEyHERAgxEUJMhBATIcRECDERQkyEEBMhxEQIMRFCTIQQEyHERAgxEUJM\n",
        "hBATIcRECDERQuwX9XIAWhoP1jEAAAAASUVORK5CYII=\n",
        "\"></td>\n",
        "\t\t<td><img src=\"data:image/png;base64,iVBORw0KGgoAAAANSUhEUgAAASwAAAEsCAIAAAD2HxkiAAAFbElEQVR4nO3d0U7bSBiA0Xi17//K\n",
        "3gtWCEpJnMTON+OcI65oKruDv/7GI8KyrusF6PxTnwC8OxFCTIQQEyHERAgxEUJMhBATIcRECDER\n",
        "QkyEEBMhxEQIMRFCTIQQEyHERAgxEUJMhBATIcRECDERQkyEEBMhxEQIMRFCTIQQEyHERAgxEUJM\n",
        "hBATIcRECDERQkyEEBMhxEQIMRFCTIQQEyHERAgxEUJMhBATIcRECDERQkyEEBMhxEQIMRFCTIQQ\n",
        "EyHERAgxEUJMhBATIcRECDERQkyEEBMhxEQIMRFCTIQQEyHERAgxEUJMhBATIcRECDERQkyEEBMh\n",
        "xEQIMRFCTIQQEyHERAgxEUJMhBATIcRECDERQkyEEBMhxEQIMRFCTIQQEyHERAgxEUJMhBATIcRE\n",
        "CDERQkyEEBMhxEQIMRFCTIQQEyHERAgxEUJMhBATIcRECDERQkyEEBMhxEQIMRFCTIQQEyHERAgx\n",
        "EUJMhBD7tz6BU1mWJTnuuq7JcdmFCHezLEsVQ3honud2FGIi3Ec7i9Z1re6EeZ4IISbCHYzwLZlh\n",
        "OC8RQkyEzxphDH4wDCclQoiN8r/4pK6MwaOH0pXj+prOxWb9UaoSPm5KdTgRt6OPc62zCxGekCc0\n",
        "cxHhg4xB9iLCczIMJyLCRxiD7EiEp2UYzkKEd5toDOpwCiK8z7L4MXZ2JsKTMwzHJ8I7LMvFFGR3\n",
        "Ijw/w3BwItzKGOQgItxk9gINw5GJEGIivG32MfjBMByWCN+IDsckwttOMAYZmQjfi2E4IBFCTIRv\n",
        "xzAcjQghJsIvfs6Hv37m42N8v5/qUcPwygJeX9uJVvUA3vLwu5t7guv6/7Uy+O7h5wV95ST3veg/\n",
        "DvTAsnz9K4Ov6jFMwu8+Gzu79XI55N/5wAK+X3V/MAnvN/4wvDkGl+VyuaxXXpAYdj0PJsIfPhrb\n",
        "eDUMeN3kk/y3Bbx+YgOu5Ku4Hf2bm/dUU1wuV8fgtRfscuifC7iu3z7+OKUplvQYInzU12cJ49h2\n",
        "I3rtBa/33gVeRPirt3lCcxQLuJkIf3dz1o02DEcbg9uP8rlPOMhKvpYHM1/89aJ5y8viQT8X8PMz\n",
        "d/3RmzEJr5poGI42BtlMhBAT4S1TDENjcGYi3GB7ZkmH289KgUMS4R4GubgHOQ3uJMJthr0pdSM6\n",
        "PxFCTISbDTgMjcFTEOFD8l3BLaY4SUR4n5vz5JXDcPuUMwbHJsI7jbAruIUb0XmIcG+vqVRjJyLC\n",
        "++V793bnz0WEB3jZpa+xUxDhQ8LtCtsSpyPCR435hEaBExLhYY6oVGNntKy+nM8YsIq3f9+k6ZiE\n",
        "EBPhcwb8ztAYnI0IISbCpw04DJmKCPegQ54gwmlt+ZWmzMCb/+7k6+9Le83hLnYjTsIk3M/re/D7\n",
        "Hk7BJNyVucT9TMLJGYbzE+H8dDg5EUJMhKdgGM5MhGfhmdC0/CgTxExCiIkQYiKEmAghJkKIiRBi\n",
        "IoSYCCEmQoiJEGIihJgIISZCiIkQYiKEmAghJkKIiRBiIoSYCCEmQoiJEGIihJgIISZCiIkQYiKE\n",
        "mAghJkKIiRBiIoSYCCEmQoiJEGIihJgIISZCiIkQYiKEmAghJkKIiRBiIoSYCCEmQoiJEGIihJgI\n",
        "ISZCiIkQYiKEmAghJkKIiRBiIoSYCCEmQoiJEGIihJgIISZCiIkQYiKEmAghJkKIiRBiIoSYCCEm\n",
        "QoiJEGIihJgIISZCiIkQYiKEmAghJkKIiRBiIoSYCCEmQoiJEGIihJgIISZCiIkQYiKEmAghJkKI\n",
        "iRBiIoSYCCEmQoiJEGIihJgIISZCiIkQYiKEmAghJkKIiRBiIoSYCCEmQoiJEGIihJgIISZCiP0H\n",
        "aXVOZlamTUEAAAAASUVORK5CYII=\n",
        "\"></td>\n",
        "\t</tr>\n",
        "</table>"
       ],
       "metadata": {},
       "output_type": "pyout",
       "prompt_number": 16,
       "text": [
        "<IPython.core.display.HTML at 0x10c6141d0>"
       ]
      }
     ],
     "prompt_number": 16
    },
    {
     "cell_type": "markdown",
     "metadata": {},
     "source": [
      "Note that, as with the analagous/reverse '[4-hydroxy pyridine -> 4-pyridone (any)](#4-hydroxy_pyridine_-_4-pyridone_any)' rule, this one may also work 'across rings'..."
     ]
    },
    {
     "cell_type": "code",
     "collapsed": false,
     "input": [
      "demo(\"N=c(c1)ccn2cc[nH]c12\")"
     ],
     "language": "python",
     "metadata": {},
     "outputs": [
      {
       "output_type": "stream",
       "stream": "stderr",
       "text": [
        "[2014/Jan/15 15:47:33 INFO    ] rule 8 'hydropyridin-4-imine -> 4-amino-pyridine' applied\n"
       ]
      },
      {
       "html": [
        "<!-- NB the styling is inline as otherwise it is overridden by the Notebook stylesheets -->\n",
        "\n",
        "<table>\n",
        "\t<tr>\n",
        "\t\t<th style=\"text-align: center;\">Original</th>\n",
        "\t\t<th style=\"text-align: center;\">Transformed</th>\n",
        "\t</tr>\n",
        "\t<tr>\n",
        "\t\t<td><img src=\"data:image/png;base64,iVBORw0KGgoAAAANSUhEUgAAASwAAAEsCAIAAAD2HxkiAAAG5ElEQVR4nO3d3XbaOACFUTNr3v+V\n",
        "PRdMHCcQY7Dlo5+9V29KGyOovsgI4t7meZ6AnH/SA4DRiRDCRAhhIoQwEUKYCCFMhBAmQggTIYSJ\n",
        "EMJECGEihDARQpgIIUyEECZCCBMhhIkQwkQIYSKEMBFCmAghTIQQJkIIEyGEiRDCRAhhIoQwEUKY\n",
        "CCFMhBAmQggTIYSJEMJECGEihDARQpgIIUyEECZCCBMhhIkQwkQIYSKEMBFCmAghTIQQJkIIEyGE\n",
        "iRDCRAhhIoQwEUKYCCFMhBAmQggTIYSJEMJECGEihDARQpgIIUyEECZCCBMhhIkQwkQIYSKEMBFC\n",
        "mAghTIQQJkIIEyGEiRDCRAhhIoQwEUKYCCFMhBAmQggTIYSJEMJECGEihDARQpgIIUyEECZCCBMh\n",
        "hIkQwkQIYSKEMBFCmAghTIQQJkIIEyGEiRDCRAhhIoQwEUKYCCFMhBAmQggTIYSJEMJE+OV2+/OW\n",
        "jT+Cw0S4Ii0SRLgyzzrkeiKEsH/TA6jMfTGc59+3WyEpRoQPnnb467ea5DxOR49RI4dZCZ95a4fm\n",
        "/jcfz2Ar9OtBNTHmAVgJ//DuBL3d6l0V72PzbmetbrNvh9M0Tc+3Y9744rVKntKdjVUy2oGJcJoO\n",
        "Frg+ylrqif2rvfV4Khkq0zSJcDqrwPXh1i57eve0t/H3h58GQaNHeHKB6+OulXuS321v+2vHngwp\n",
        "Q0dYqsD1HaydeGdH2ts+zsDzIWXcCIsXuL6ntSP3elZ724cddUqkDBrhdQWu73JxfL367Dj772LI\n",
        "WZEyYoS3W+hRvzvRT29v+3MFOgwZLsJYgasR/Pjt/g+LH2xvz3FqeIm4jGGYmZmekdfKF7h4DKN0\n",
        "ezuPFuzw6XPy+NH5+y0bf9SagT47WlGB0/Q9k+7OnfpHjvZrYFP5yb092mbT2m+UCOsqcPE441Pt\n",
        "PX5h6Q53LtR//YRnR4aIsNICF/N8aISfnXa+9NjhKYctNNqW9R9h7QUeUfr12+Mr1Y8XpSPt9X65\n",
        "g84jbKLAtwd55WJy/CXiKd8pur7cQc8RNlHge1Jblx+8RKzh3Y5GdBthVwXWMKF3dlhule73gpR9\n",
        "RthJgbXtYWxs1Vwz1E477GKy/tRcgc8HXO2HyF5mUGIHtZ6HX0BvK+FGgXXG+WJU9Q34z6VPe5/q\n",
        "KsI6M/tQ5Q/kxDPD2s66L9dVhNvmg++J88vBT9UM396iqwhldrVT3rqYBm1vMdZ1R++VpkfxrYdv\n",
        "GV/jv02vWnq89uk8//9rbF2thJPFMGLjXYqnt/vX+am3CF9S6UWcdu7WYYQyu973E66993UY4Usq\n",
        "LaXaDxjUrc8Im8is/hF+qMsHVdJYu6OL2rZJO2Gr8yPdRthCZuYr09RxhC+1UClD6DlCmV2j2xe3\n",
        "V+k5QmhC5xFuL4bBpbL3q/jxhs4jhPr1H2G1iyHc9R8hRdmVOW6ICC2G1GyICKFmo0RY1WJoa5S1\n",
        "USKEag0UYT2LYTfLoF2ZUwwUIdRprAjrWQxhMVaEUKHhIrQYUpvhIkx5TFvs3I0Y4cvFsND9dlad\n",
        "rdGzjBhhSqf/ux5H9Xm1tZdKX47Ntf/Yb9AIz7X/Qu/3xVCTrI0b4QeL4cMryfnrUG/drw75YdwI\n",
        "n9p+f6LE6WujQdqVOdHQET5uk14zsdY7NDUvjPcnR2ylDR3hlJthNXe4fGOS3zVGj/Ayj/N5fUsN\n",
        "HWovRYS1SHWovTgRVmQ5R70gB+3VQ4R1Wf6nzXJpHN9usTV6LhHWqMSpqaWvWiKs1Fkdnt6eH/U6\n",
        "nQjrNc+fn/iVa89Cejon97V7q8MSqXjLvjQRNmBPBqenYum7jAibcc2epPauJ8KWlOtQe0EibMzp\n",
        "HXrJFyfC9pzSoaWvHiJsUj1vXXCcCFsVf+uCs4iwYS9fzmmvCSJs3tMl0XZLQ0TYg6VDS1+LRNgJ\n",
        "S1+7RAhhLoMPYSKEMBFCmAghTIQQJkIIEyGEiRDCRAhhIoQwEUKYCCFMhBAmQggTIYSJEMJECGEi\n",
        "hDARQpgIIUyEECZCCBMhhIkQwkQIYSKEMBFCmAghTIQQJkIIEyGEiRDCRAhhIoQwEUKYCCFMhBAm\n",
        "QggTIYSJEMJECGEihDARQpgIIUyEECZCCBMhhIkQwkQIYSKEMBFCmAghTIQQJkIIEyGEiRDCRAhh\n",
        "IoQwEUKYCCFMhBAmQggTIYSJEMJECGEihDARQpgIIUyEECZCCBMhhIkQwkQIYSKEMBFCmAghTIQQ\n",
        "JkIIEyGEiRDCRAhhIoQwEUKYCCFMhBAmQggTIYSJEMJECGEihDARQpgIIUyEECZCCBMhhIkQwkQI\n",
        "YSKEMBFCmAghTIQQJkIIEyGEiRDCRAhhIoQwEUKYCCHsP6dO2BjsfKPsAAAAAElFTkSuQmCC\n",
        "\"></td>\n",
        "\t\t<td><img src=\"data:image/png;base64,iVBORw0KGgoAAAANSUhEUgAAASwAAAEsCAIAAAD2HxkiAAAHE0lEQVR4nO3d23KbSBhGUTQ17//K\n",
        "zIVqsGxJHBu+bnqtykXiyJgkvfMDQtZjHMcByPknvQPQOxFCmAghTIQQJkIIEyGEiRDCRAhhIoQw\n",
        "EUKYCCFMhBAmQggTIYSJEMJECGEihDARQpgIIUyEECZCCBMhhIkQwkQIYSKEMBFCmAghTIQQJkII\n",
        "EyGEiRDCRAhhIoQwEUKYCCFMhBAmQggTIYSJEMJECGEihDARQpgIIUyEECZCCBMhhIkQwkQIYSKE\n",
        "MBFCmAghTIQQJkIIEyGEiRDCRAhhIoQwEUKYCCFMhBAmQggTIYSJEMJECGEihDARQpgIIUyEECZC\n",
        "CBMhhIkQwkQIYSKEMBFCmAghTIQQJkIIEyGEiRDCRAhhIoQwEUKYCCFMhBAmQggTIYSJEMJECGEi\n",
        "hDARQpgIIUyEECZCCBMhhIkQwkQIYSKEMBFCmAghTIQQJkIIEyGEiRDCRAhhIoQwEUKYCL94PJY/\n",
        "AiWI8DvVcQkRfjeOOuQCItxIlpQmwlkfh+HjIUUKEuGSbwelUqQQEW40jsM4/vxShxz2b3oHqvN4\n",
        "/KpsGD4Nw9ePPH/y93Oq9P6noAIi/DFX08cOh6GNFL+N6w//3xDwGP0zDMNwcEHWOWFWHipXsrcd\n",
        "E+EwlBoJlaT4rb2ZU1lrIEqEswXuOMhMre817c08vvtlENR7hAsz8HWl1pni1vbmP7fvxZDSdYSr\n",
        "jkKP5HReikfam99Ox+shpd8It50HVpJiqfbmN9vrkkjpNMKdV2JKpXh8Xu3bzvov0eWqSOkxwsfj\n",
        "2J9693rd+oll25u25lJNZbqL8GiBLxv69cuCKZ4x91burVPEhL4iLFbgyxZ/fn7wRPHsY86GOnw/\n",
        "W5g+MvNbw4ppX6WObuAuX+Dw+37uTa+rWLwR/PmAgjv8vnbX7NjMI0+144s+a3z+aOrG+l4iPKXA\n",
        "yZ+ctqf4+PORk3Z1fV3xDneE1NT0e9VFhOcW+PQ+2Tal+L6FkxzpsJXx0tqN6feP8IoCJ0dSvMzu\n",
        "DucfXNz8y6mnH++/21SBw+0jvLTAycYUAzu5fspdeYr4vhsfO5yO2D/uW2sFDveOMFPgpPKpuGnK\n",
        "ndrht5m2YzsNFjjcOMJwgZPFq6BBm6Zc8Q5Xttfapc4d7vnK+loKnEzPcVXozyqfmSfvjxwuuQVv\n",
        "fYdH7g3MqWyxllBdgUuq2OH1NwDtezb/gttfm1XBP39RMwu6irX+pqK92nQj3u77b9ZsvDO3Ohyt\n",
        "aEG3aNPR5vxBrPa2uFWE88ZxVOmC97OvraeI3x7Jd7e6OvrMLL0XjTtyyfTjphS45FYRLqqt0non\n",
        "8/YOL7r99Y7uFmFtmTVsU4dX3v56O3eLcJFKN4i/lqIPN4xQZiWt67De4+oW3DDCRSrdxjw82T0j\n",
        "bCKzlqbH6362ss/t6Oh5wleeM9zM39Vp7jkJhzaGoWXNMNw4wkUtVEoX7hyhzK7hwP6gO0cITbh5\n",
        "hPPDMDgqm/1WDJR38wihfvePsNphCE/3j5BTuSpzXBcRGobUrIsIoWa9RFjVMHRplFe9RAjV6ijC\n",
        "eobhbcagqzJFdBQh1KmvCOsZhjDpK0KoUHcRGobUprsIUz6+pSwMfUa4OAxP+ro3q86l0VJ6jDCl\n",
        "g7e7ZA/f6OkUm95ljM51GmFZ69828zkMNcmrfiPcMQzfziTH/ze16evqkF/6jfCj+ecnzjh8bTRI\n",
        "V2UK6jrC98uk1yys1ys0NQ/G51+O2M7WdYRDboXV3OH0H5P8rtF7hJd5X89/3t8h3qH2UkRYi1SH\n",
        "2osTYUWmY9QLctBePURYl2cRp47E45dbXBotS4Q1OuPQ1OirlggrVarD4u15qVdxIqzXOO4/8Duv\n",
        "PYO0OAf3tdvU4RmpeMr+bCJswJoMiqdi9F1GhM245pqk9q4nwpac16H2gkTYmOIdOuWLE2F7inRo\n",
        "9NVDhE2q56kLjhNhq+JPXVCKCBu2eDqnvSaIsHkfR6LLLQ0R4R1MHRp9LRLhTRh97RIhhPk2+BAm\n",
        "QggTIYSJEMJECGEihDARQpgIIUyEECZCCBMhhIkQwkQIYSKEMBFCmAghTIQQJkIIEyGEiRDCRAhh\n",
        "IoQwEUKYCCFMhBAmQggTIYSJEMJECGEihDARQpgIIUyEECZCCBMhhIkQwkQIYSKEMBFCmAghTIQQ\n",
        "JkIIEyGEiRDCRAhhIoQwEUKYCCFMhBAmQggTIYSJEMJECGEihDARQpgIIUyEECZCCBMhhIkQwkQI\n",
        "YSKEMBFCmAghTIQQJkIIEyGEiRDCRAhhIoQwEUKYCCFMhBAmQggTIYSJEMJECGEihDARQpgIIUyE\n",
        "ECZCCBMhhIkQwkQIYSKEMBFCmAghTIQQJkIIEyGEiRDCRAhhIoQwEUKYCCFMhBAmQggTIYSJEMJE\n",
        "CGEihDARQpgIIUyEECZCCBMhhIkQwv4D5+YbAZp6V3MAAAAASUVORK5CYII=\n",
        "\"></td>\n",
        "\t</tr>\n",
        "</table>"
       ],
       "metadata": {},
       "output_type": "pyout",
       "prompt_number": 17,
       "text": [
        "<IPython.core.display.HTML at 0x10c614310>"
       ]
      }
     ],
     "prompt_number": 17
    },
    {
     "cell_type": "markdown",
     "metadata": {},
     "source": [
      "Note that there is no 'within-ring' analogue of this rule (or of the [substituted analogy](#hydropyridin-4-imine_-_4-amino-pyridine_N-subst) variant) yet, as I have not come across a case where this general version causes problems; however, it would be straightforward to create _e.g._ 'within-ring' and 'any' variants if necessary."
     ]
    },
    {
     "cell_type": "markdown",
     "metadata": {},
     "source": [
      "<p><a name=\"hydropyridin-4-imine_-_4-amino-pyridine_N-subst\"></a></p>\n",
      "### hydropyridin-4-imine -> 4-amino-pyridine (N-subst.)\n",
      "\n",
      "This is the N-substituted analogue of the rule above; a seperate rule is necessary as otherwise incorrect structures can result."
     ]
    },
    {
     "cell_type": "code",
     "collapsed": false,
     "input": [
      "demo(\"CN=c1nc[nH]cc1\")"
     ],
     "language": "python",
     "metadata": {},
     "outputs": [
      {
       "output_type": "stream",
       "stream": "stderr",
       "text": [
        "[2014/Jan/15 15:50:44 INFO    ] rule 9 'hydropyridin-4-imine -> 4-amino-pyridine (N-subst.)' applied\n"
       ]
      },
      {
       "html": [
        "<!-- NB the styling is inline as otherwise it is overridden by the Notebook stylesheets -->\n",
        "\n",
        "<table>\n",
        "\t<tr>\n",
        "\t\t<th style=\"text-align: center;\">Original</th>\n",
        "\t\t<th style=\"text-align: center;\">Transformed</th>\n",
        "\t</tr>\n",
        "\t<tr>\n",
        "\t\t<td><img src=\"data:image/png;base64,iVBORw0KGgoAAAANSUhEUgAAASwAAAEsCAIAAAD2HxkiAAAGIElEQVR4nO3d2XKbSABAUTQ1///L\n",
        "zEMyjmIhrAVxWc4pPaRiB2Gpr2g25zKO4wB0/qlXAM5OhBATIcRECDERQkyEEBMhxEQIMRFCTIQQ\n",
        "EyHERAgxEUJMhBATIcRECDERQkyEEBMhxEQIMRFCTIQQEyHERAgxEUJMhBATIcRECDERQkyEEBMh\n",
        "xEQIMRFCTIQQEyHERAgxEUJMhBATIcRECDERQkyEEBMhxEQIMRFCTIQQEyHERAgxEUJMhBATIcRE\n",
        "CDERQkyEEBMhxEQIMRFCTIQQEyHERAgxEUJMhBATIcRECDERQkyEEBMhxEQIMRFCTIQQEyHERAgx\n",
        "EUJMhBATIcRECDERQkyEEBMhxEQIMRFCTIQQEyHERAgxEUJMhBATIcRECDERQkyEEBMhxEQIMRFC\n",
        "TIQQEyHERAgxEUJMhBATIcRECDERQkyEEBMhxEQIMRFCTIQQEyHERAgxEUJMhBATIcT+rVeA3bpc\n",
        "/vx5HLv12D0R8rDr6m6/pMNXiZD7Zqqb/GYdvkSE/G0+vNvMrr9fhy+5jF61k3u2uh+XYEQ9SYSn\n",
        "9H548ws0qJ4hwnNYvLofn8K4epgIj+5efp9433X4Eifrj+I2ttskrh+f8G2xTx1cPTERHsjkoP9o\n",
        "dZNPd02HDxDhgYzjSoP+cvnzmFyNb9/MLOcJecCzIX37OHD+cJYIj+XX6H9/xD9S3fyz6PBhIjyc\n",
        "1zp8v7p7a3L9FDqcIsKz+kR1k0uwT/gTER7R5NBfp7r5lbExnCLCg/o29Ge+bWU6vOGKmUP4ymzy\n",
        "3dzC3bcuprnPlvAEtjDiHaS5z8l61uIk/h0iZEU6nCLC/ZvfIdwaHd6wT8jqdvFhsSJbQoiJcOf2\n",
        "NRdligghdsYILw4GsCVnjHAcx4N0uN+fYubS1teuet2zM0Y4HKnDX/a4Q3ik1/89J41wOF6Hu+Mu\n",
        "p/+dN8JBh2zD2U/W/+pwl7eSHODkxL1fAnCyT8azRzjsusMDmOzwZJe2nXo6+sW8lJAI9+kAc9Ev\n",
        "pz9CI8LfbAxLB/goeYMI/9Dhem6quwzjvS8dPlER/kWHrE+E3+2gwyPtEA7DcPrfOCPCCTvokAMR\n",
        "4bRxHGXIOkR410aPnB9uLooI52y0w2M5+Q7hIMIf6ZBPE+HPNtShuegRifAhm+iwXwM+wl0Uj1rq\n",
        "/8B9wlR1l2E40g0fdggHET7l4x3+uK0bx3EYjnXj1WUYDvOzvEiEtfnwpmJzA+TBeC+f9u7G8Pnq\n",
        "7ixm9+/dAX6ERdgSPu2VYbNQeH//I9vDgxDhZ3yguqnF6PAIvIVLu5ffx17nnXa409X+BFvCV93u\n",
        "Gn77GyOMxzhZ/4bJjd44/n6sxY1XeyfCN6xzHc3l8udxd0V21qG56DXT0e15KScHafZLhO9Z5CKa\n",
        "R6p74Cl0uFMifNsLHS5U3dQ/2kSHX3PjfE12QYSr+Fh1U4sJOvy2Rzr/7Fv4mNgUES7h9gjNitVN\n",
        "LfjjHT5VHfNEuJCvDmfyW/28xbJtXIenugWZGCztOsL6tX2zw09s7sxFb9kSLm1LI+zZ7aFJZkKE\n",
        "B/dIhw5mtswNTmEjk8CNrMbWuGztFPLr2i6Xy74urFuT6Sif4mjqg0wPTsTJw20S4bks26HqFiHC\n",
        "01nw5KHBswgRnpGTh5siwpOa6VB1KxPheV13aJIZEuGpuVZmC0QIMVfMQEyEEBMhxEQIMRFCTIQQ\n",
        "EyHERAgxEUJMhBATIcRECDERQkyEEBMhxEQIMRFCTIQQEyHERAgxEUJMhBATIcRECDERQkyEEBMh\n",
        "xEQIMRFCTIQQEyHERAgxEUJMhBATIcRECDERQkyEEBMhxEQIMRFCTIQQEyHERAgxEUJMhBATIcRE\n",
        "CDERQkyEEBMhxEQIMRFCTIQQEyHERAgxEUJMhBATIcRECDERQkyEEBMhxEQIMRFCTIQQEyHERAgx\n",
        "EUJMhBATIcRECDERQkyEEBMhxEQIMRFCTIQQEyHERAgxEUJMhBATIcRECDERQkyEEBMhxEQIMRFC\n",
        "TIQQEyHERAgxEUJMhBATIcRECDERQkyEEBMhxEQIMRFCTIQQEyHERAgxEUJMhBATIcRECDERQkyE\n",
        "EBMhxEQIsf8ACjr8Mh45H0UAAAAASUVORK5CYII=\n",
        "\"></td>\n",
        "\t\t<td><img src=\"data:image/png;base64,iVBORw0KGgoAAAANSUhEUgAAASwAAAEsCAIAAAD2HxkiAAAF90lEQVR4nO3d3XLaOACAUdjp+7+y\n",
        "9yI7WVL+DAE+WzpnetGZpGCCPiRslRyXZTkAnX/qA4DZiRBiIoSYCCEmQoiJEGIihJgIISZCiIkQ\n",
        "YiKEmAghJkKIiRBiIoSYCCEmQoiJEGIihJgIISZCiIkQYiKEmAghJkKIiRBiIoSYCCEmQoiJEGIi\n",
        "hJgIISZCiIkQYiKEmAghJkKIiRBiIoSYCCEmQoiJEGIihJgIISZCiIkQYiKEmAghJkKIiRBiIoSY\n",
        "CCEmQoiJEGIihJgIISZCiIkQYiKEmAghJkKIiRBiIoSYCCEmQoiJEGIihJgIISZCiIkQYiKEmAgh\n",
        "JkKIiRBiIoSYCCEmQoiJEGIihJgIISZCiIkQYiKEmAghJkKIiRBiIoSYCCEmQoiJEGIihJgIISZC\n",
        "iIkQYiKEmAghJkKIiRBiIoSYCCEmQoiJEGIihJgIISZCiIkQYiKEmAghJkKIiRBiIoTYn/oA2K3j\n",
        "8f+/L0t3HLsnQlY7re78Szp8lgi57kZ1F79Zh08RIT/dDu88s9Pv1+FTjouf2uQere7uLRhRDxLh\n",
        "lH4f3u0bNKgeIcI5vLy6u3dhXK0mwtFdy+8dz7sOn+Ji/SjOYztP4vTPO/x1sw+dXJ2YCAdycdC/\n",
        "o7rjce0Eq8MVRDiQZfnEoP++Cx2+iAj5BR2+ggjH8oHJcGVgOlxNhMPR4d6IkKc81yGXiHBEnzlD\n",
        "80SHJsNLRDio80JuXFd44b3cpcMzIhzC18hONqys6dCbw5tEOIHvQR9ulNHhdSLkFXT4CyLkRXT4\n",
        "LBHu3+3V5rvXoqd0+BQR8lJPdDg9EfJqOnyQCHduO2vRUzp8hAh5Dx2uNmOERycDPkOH68wY4bIs\n",
        "g3R4+1FUa9FTK8+F3v1sjqHNGOFhpA6/bHk+ebrDaUwa4WG8Drds5bp01qdj3ggPY3e4tcflGv11\n",
        "U0d42HWHK9/ybWelevdIZp0MZ4/wsOsOd+e7w2tBTtmhCA8HHX7S+z56eLdEuE/b3CjzEvNNhiL8\n",
        "j8lwQ/b42vELIvyfDjPL8vcPfqYORfjDCB3uei06JRH+bQcdDpfZ5L9mW4QX7KBDBiLCy5bzdym7\n",
        "MNwkOQMRXrXRU+UyG44Ib9loh2OZ/A3hQYR37alDk+Q+ifC+DXUosxH9qQ9gH746jEf+3VcCZe6T\n",
        "CNcKOrxU3fFwWAaKrX9p2wARPuDtw2XFXLccDsfjcaAOj4fDMI/lSSKs3Q7vUmxfewkG6nB2nsuP\n",
        "e7y6Kzez++dugIfwEmbCj3hReD//kflwECJ8s3d+4q0OxyDCT3lPKvvtcKeH/Q4u1q9241Oib3zp\n",
        "6yNVjDauE+EjtrJx5gf/8WrvRPiIDW1g+2F3HVqLnhLhIHbXId+cmHnQtd1rGwhgvydpJifCx13s\n",
        "cBu/a2EjHX7PyfmR7IIIR5N0+NdK+Pa9b+FlYlNE+JStnqH58oEOH6qO20T4rPk6PA1PdS9kYTCy\n",
        "X3b4junOWvScmXBkj86HFpkJEQ5uTYdOZrasDaawkUXgRg5ja+yYmUK+n+Z4PNrQc43lKO/ibOpK\n",
        "lgcTcfFwm0Q4l9d2qLqXEOF0Xnjx0OB5CRHOyMXDTRHhpG50qLoPE+G8Tju0yAyJcGr2ymyBCCFm\n",
        "xwzERAgxEUJMhBATIcRECDERQkyEEBMhxEQIMRFCTIQQEyHERAgxEUJMhBATIcRECDERQkyEEBMh\n",
        "xEQIMRFCTIQQEyHERAgxEUJMhBATIcRECDERQkyEEBMhxEQIMRFCTIQQEyHERAgxEUJMhBATIcRE\n",
        "CDERQkyEEBMhxEQIMRFCTIQQEyHERAgxEUJMhBATIcRECDERQkyEEBMhxEQIMRFCTIQQEyHERAgx\n",
        "EUJMhBATIcRECDERQkyEEBMhxEQIMRFCTIQQEyHERAgxEUJMhBATIcRECDERQkyEEBMhxEQIMRFC\n",
        "TIQQEyHERAgxEUJMhBATIcRECDERQkyEEBMhxEQIMRFCTIQQEyHERAgxEUJMhBATIcRECDERQkyE\n",
        "EBMhxEQIMRFCTIQQEyHERAgxEUJMhBD7FzP6/yj2KAB2AAAAAElFTkSuQmCC\n",
        "\"></td>\n",
        "\t</tr>\n",
        "</table>"
       ],
       "metadata": {},
       "output_type": "pyout",
       "prompt_number": 18,
       "text": [
        "<IPython.core.display.HTML at 0x10c7694d0>"
       ]
      }
     ],
     "prompt_number": 18
    },
    {
     "cell_type": "markdown",
     "metadata": {},
     "source": [
      "[<a href=\"#top\">Top</a>]"
     ]
    },
    {
     "cell_type": "markdown",
     "metadata": {},
     "source": [
      "<p><a name=\"Heterocyclic_tautomers\"></a></p>\n",
      "## Heterocyclic tautomers\n",
      "\n",
      "The following rules address incorrect protonation of some bicyclic heterocycles."
     ]
    },
    {
     "cell_type": "markdown",
     "metadata": {
      "slideshow": {
       "slide_type": "slide"
      }
     },
     "source": [
      "<p><a name=\"Fix_heterocyclic_tautomer_1\"></a></p>\n",
      "### Fix heterocyclic tautomer 1\n"
     ]
    },
    {
     "cell_type": "code",
     "collapsed": false,
     "input": [
      "demo(\"n1ccc2ccc[nH]c12\")"
     ],
     "language": "python",
     "metadata": {
      "slideshow": {
       "slide_type": "-"
      }
     },
     "outputs": [
      {
       "output_type": "stream",
       "stream": "stderr",
       "text": [
        "[2014/Jan/15 15:50:51 INFO    ] rule 10 'Fix heterocyclic tautomer 1' applied\n"
       ]
      },
      {
       "html": [
        "<!-- NB the styling is inline as otherwise it is overridden by the Notebook stylesheets -->\n",
        "\n",
        "<table>\n",
        "\t<tr>\n",
        "\t\t<th style=\"text-align: center;\">Original</th>\n",
        "\t\t<th style=\"text-align: center;\">Transformed</th>\n",
        "\t</tr>\n",
        "\t<tr>\n",
        "\t\t<td><img src=\"data:image/png;base64,iVBORw0KGgoAAAANSUhEUgAAASwAAAEsCAIAAAD2HxkiAAAGBklEQVR4nO3dy1IbSRBAUfXE/P8v\n",
        "axbyyBgw76pbpT5nZ1hAQF9ndilQH9fr9QJ0/qm/ATg7EUJMhBATIcRECDERQkyEEBMhxEQIMRFC\n",
        "TIQQEyHERAgxEUJMhBATIcRECDERQkyEEBMhxEQIMRFCTIQQEyHERAgxEUJMhBATIcRECDERQkyE\n",
        "EBMhxEQIMRFCTIQQEyHERAgxEUJMhBATIcRECDERQkyEEBMhxEQIMRFCTIQQEyHERAgxEUJMhBAT\n",
        "IcRECDERQkyEEBMhxEQIMRFCTIQQEyHERAgxEUJMhBATIcRECDERQkyEEBMhxEQIMRFCTIQQEyHE\n",
        "RAgxEUJMhBATIcRECDERQkyEEBMhxEQIMRFCTIQQEyHERAgxEULs3/ob4HK5XI7jSL7u9XpNvi5P\n",
        "ibB3HEcVQ/ilubOOQkyEsXYWXa/XahPmToQQE2FphVsywzAnQoiJMLPCGLwxDFsi5HLRYcrrhI03\n",
        "xuDoGBYZv9yJcDlVJLdhKNH5rKMB1zpPiZDf3BkmRDibMcgzIuQPhuF8IpxqizGow8lECDERznMc\n",
        "27xGZxjOJMJJjuOySYDMJkJeZxhOI8IZNh2DOpxDhMNtWiDTiJC3GIYTiHAsY5B3iZB3GIajiXAg\n",
        "Y5CPEOFAD1OgYTiUCPkQHY4jQoiJkI8yDAcRIcRE+CUvB8L9I298an+G4Qgi/KqHvhaVNpMIv+p6\n",
        "fdQO3/7zf8Pwx4mQz9niHTr24s1/v+E2DF9ekTsPCo3NJ8LvebXDZ//cuclnJDqCdZTfNJYQ4bc9\n",
        "7gnNMxIdRIQ/4SEuTY1V/NzHuM/GTX687xYo0XFMwjHu1+tDbKoKHEqEaCwmwmEeZRhKdDQRjrRD\n",
        "hxrLiZC3SHQCEQ629jDU2ApEeF5elliECMdbexj+jQKnEeFcy3SosXWIcIrdLneJziTCWVZaSjW2\n",
        "FBGejvOY1YhwopWG4d8ocD4RnovGFiTCudYehhJNiHC6rkONrUmE/CLRiggLxTDU2LJEeBZelliW\n",
        "CCMrndAosCVCiImws8YwNAZzIkyt0SEtEZ6aMbgCEdYMw9PzVKYl/OpveofG4ApEuIRfKcxNwgN3\n",
        "F2EdrXVPrfDg60WIEGIihJgIU7s9QY0RRHhqbgtX4HR0YebkOZiEnbcbU+BpiPDsbKQ5EUJMhEuy\n",
        "i56JCCMrZWYjbYkQYiJcz0pDkglEWJAZT4iQy8VtYUqEizEkz0eE0xk4/EmEncVmnY20IsKV2EVP\n",
        "SYQQE+Fca886G2lChMtYu0/GESHERDiRWcdrRLiGZfp0WzifCCEmQoh5MtYCltlF7zwybSaTEGIi\n",
        "hJgIawvsoi+PQ52RzuQduE/tVprbv5YIz8vpyyKsoyO93OiefaTbRRW4DpNwsON4K7Aigw+uoLfb\n",
        "QqFOIMLBrtd3OpxLVwsS4Vl86gzGgc1MIhxvgWH4qQFoWk7mYGaKW4cRBS7OJAzcepxwqVtBtyDC\n",
        "WZ4Mw9t1PnpFNQB3YR2d6M+rfOiK+vGojuNQYMtPP/bjq+lnV1AXQM46GvvZ1dQKuiMRLuH7r2I4\n",
        "g9mXCFdxv0X8QhoG4NZEuJD/V9PPRfKpM5iLAbge/ymu6IO1OIN5DH4x63o7GwPwYYhwad8fXwbg\n",
        "+rxYv7TbH/V9+e1eFLgFv6Q9fOG05mIF3YRJuIdPvf3ZrVgF7sIk3Mm7880A3JEI9/O31dQd4Kas\n",
        "o/t5dTVV4L785nZ13zytoLsT4d4MwAdgHd2bAh+ACCEmQoiJEGIihJgIISZCiIkQYiKEmAghJkKI\n",
        "iRBiIoSYCCEmQoiJEGIihJgIISZCiIkQYiKEmAghJkKIiRBiIoSYCCEmQoiJEGIihJgIISZCiIkQ\n",
        "YiKEmAghJkKIiRBiIoSYCCEmQoiJEGIihJgIISZCiIkQYiKEmAghJkKIiRBiIoSYCCEmQoiJEGIi\n",
        "hJgIISZCiIkQYiKEmAghJkKIiRBiIoSYCCEmQoiJEGIihJgIISZCiIkQYiKEmAghJkKIiRBiIoSY\n",
        "CCEmQoiJEGIihJgIISZCiIkQYiKEmAghJkKIiRBiIoSYCCEmQoj9B+nmQWC+cg1ZAAAAAElFTkSu\n",
        "QmCC\n",
        "\"></td>\n",
        "\t\t<td><img src=\"data:image/png;base64,iVBORw0KGgoAAAANSUhEUgAAASwAAAEsCAIAAAD2HxkiAAAF8klEQVR4nO3dy3LTShRAUekW///L\n",
        "vgODeQXbAal3t71WZQIM7Iq06xxJCd4vl8sGdP6r3wC8OxFCTIQQEyHERAgxEUJMhBATIcRECDER\n",
        "QkyEEBMhxEQIMRFCTIQQEyHERAgxEUJMhBATIcRECDERQkyEEBMhxEQIMRFCTIQQEyHERAgxEUJM\n",
        "hBATIcRECDERQkyEEBMhxEQIMRFCTIQQEyHERAgxEUJMhBATIcRECDERQkyEEBMhxEQIMRFCTIQQ\n",
        "EyHERAgxEUJMhBATIcRECDERQkyEEBMhxEQIMRFCTIQQEyHERAgxEUJMhBATIcRECDERQkyEEBMh\n",
        "xEQIMRFCTIQQEyHERAgxEUJMhBATIcRECDERQkyEEBMhxEQIMRFC7Ev9Bti2bdv3PXndy+WSvC4/\n",
        "EmFv3/cqhvClubGOQkyEsXYWXS6XahPmRoQQE2FphksywzAnQoiJMDPDGLwyDFsiZNt0mPKcsHFn\n",
        "DJ4dwyTjlxsRTqeK5DoMJTqedTTgXOdHIuQ7V4YJEY5mDPILEfITw3A8EQ61xBjU4WAihJgIx9n3\n",
        "ZZ7RGYYjiXCQfd8WCZDRRMjHDMNhRDjComNQh2OI8HSLFsgwIuQew3AAEZ7LGOQhEfKAYXg2EZ7I\n",
        "GOQZIjzRyxRoGJ5KhDxFh+cRIcREyLMMw5OIEGIiPMLv8+FFJ4ZheAYRHuThqbnvX79WoLSRRHiQ\n",
        "y+VBYLfnFdOf3/d//d8wPJwI+Zwl/oeOtYjwOC8xDDU2nggP9RId3iHRM4iQ7zSWEOHRXncYSvQk\n",
        "IjzBmplprCLCI3x47t4pcL5KHxYo0fOI8BzzZfYvFHgqEUZmqlRjLRGe5mFmM3V4h0TPJsIzrZCZ\n",
        "xnIiTE1fqUQHEOHJ5s5MYzMQYa2r1GOJSYjwfGveoVHgMCIca5rMNDYPEQ7x8HSfbBhKdCQRjjJT\n",
        "ZhqbiginMapS92NmI8KBZhqGf6LA8UQ4k/Mr1diERDjW3I8rJJoQ4XATP50nIcL5RJVKtCLCwjNL\n",
        "6fXrOBqblgjfhccS0xJhZKbHFQpsiRBiIuzMMQyNwZwIU3N0SEuEb80YnIEIa4bh2/tSvwG2bdu+\n",
        "9je8Q2NwBiKcwtcUxibhA3cnYR2t3UoYPpR88PUkRAgxEUJMhKluF2UeInxrLgtnIEKIibBjF2Xb\n",
        "NhFiI82JEGIihJgIIzNdENpIWyKEmAghJsLCTLsoORGybS4LUyKEmAiHM3D4mQg7k10Q2kgrIoSY\n",
        "CCEmwrHmfjhhI02IEGIihJgIB5p7F6UiQn7isnA8EUJMhBDzyVh8wEemjWQSQkyEEBMhH3xGmnuk\n",
        "I/l8wrd2Lc3lX0uE78vdl0lYRw/1+wp3+5s7/1RQ4DxEeLTpL6X2fX+mQJeFw1hHj3a5bPs+7U+H\n",
        "GoATEuG7+NQ9GDdsRhLhCf40DLvt7lMD0LQcTITn+LDDX/44qkkFTk6Er8wKugQRnuY6DDsG4Co8\n",
        "ojhTd1orcCG++7HrsDzwIFhBl2MdjV3P/6OeLBqAKxLhFP79Cf9nZ5oC5yHCWdzu4/xFGp8dgJsV\n",
        "dCYinMi31fRzM8oKujqHZEZPDiv3YF6DCOd1f2oZgC/DsZnaIeNLgZNzeBbw1xVZQZfgJ2YW8He/\n",
        "X3tNV4HzE+Earh0+n6IVdCEO1WIe1mUFXY4I13MnMwNwRdbR9Vyv9H5fTRW4KIdtYbeRaAVdmgiX\n",
        "ZwCuzjq6PAWuToQQEyHERAgxEUJMhBATIcRECDERQkyEEBMhxEQIMRFCTIQQEyHERAgxEUJMhBAT\n",
        "IcRECDERQkyEEBMhxEQIMRFCTIQQEyHERAgxEUJMhBATIcRECDERQkyEEBMhxEQIMRFCTIQQEyHE\n",
        "RAgxEUJMhBATIcRECDERQkyEEBMhxEQIMRFCTIQQEyHERAgxEUJMhBATIcRECDERQkyEEBMhxEQI\n",
        "MRFCTIQQEyHERAgxEUJMhBATIcRECDERQkyEEBMhxEQIMRFCTIQQEyHERAgxEUJMhBATIcRECDER\n",
        "QkyEEBMhxEQIMRFCTIQQEyHE/gfKJD5o9t0BuAAAAABJRU5ErkJggg==\n",
        "\"></td>\n",
        "\t</tr>\n",
        "</table>"
       ],
       "metadata": {},
       "output_type": "pyout",
       "prompt_number": 19,
       "text": [
        "<IPython.core.display.HTML at 0x10c614210>"
       ]
      }
     ],
     "prompt_number": 19
    },
    {
     "cell_type": "markdown",
     "metadata": {},
     "source": [
      "Note that polycyclic pyridones and pyrimidones should _not_ be affected by these rules, _i.e._ the proton should remain on the six-membered ring..."
     ]
    },
    {
     "cell_type": "code",
     "collapsed": false,
     "input": [
      "rules.apply(s2m(\"c1cc(=O)[nH]c2nccn12\"))"
     ],
     "language": "python",
     "metadata": {},
     "outputs": [
      {
       "metadata": {},
       "output_type": "pyout",
       "png": "[encoded data removed]",
       "prompt_number": 20,
       "text": [
        "<rdkit.Chem.rdchem.Mol at 0x10c649d70>"
       ]
      }
     ],
     "prompt_number": 20
    },
    {
     "cell_type": "markdown",
     "metadata": {},
     "source": [
      "[<a href=\"#top\">Top</a>]"
     ]
    },
    {
     "cell_type": "markdown",
     "metadata": {
      "slideshow": {
       "slide_type": "slide"
      }
     },
     "source": [
      "<p><a name=\"Fix_heterocyclic_tautomer_2\"></a></p>\n",
      "### Fix heterocyclic tautomer 2\n"
     ]
    },
    {
     "cell_type": "code",
     "collapsed": false,
     "input": [
      "demo(\"c1cnc2c[nH]ccc12\")"
     ],
     "language": "python",
     "metadata": {
      "slideshow": {
       "slide_type": "-"
      }
     },
     "outputs": [
      {
       "output_type": "stream",
       "stream": "stderr",
       "text": [
        "[2014/Jan/15 15:50:53 INFO    ] rule 11 'Fix heterocyclic tautomer 2' applied\n"
       ]
      },
      {
       "html": [
        "<!-- NB the styling is inline as otherwise it is overridden by the Notebook stylesheets -->\n",
        "\n",
        "<table>\n",
        "\t<tr>\n",
        "\t\t<th style=\"text-align: center;\">Original</th>\n",
        "\t\t<th style=\"text-align: center;\">Transformed</th>\n",
        "\t</tr>\n",
        "\t<tr>\n",
        "\t\t<td><img src=\"data:image/png;base64,iVBORw0KGgoAAAANSUhEUgAAASwAAAEsCAIAAAD2HxkiAAAGOklEQVR4nO3d0W7bSBJAUXEx///L\n",
        "2gfvBLNxpMhjsW91eA4CBI6BmIBwU0W2Yx33+/0GdP5TXwBcnQghJkKIiRBiIoSYCCEmQoiJEGIi\n",
        "hJgIISZCiIkQYiKEmAghJkKIiRBiIoSYCCEmQoiJEGIihJgIISZCiIkQYiKEmAghJkKIiRBiIoSY\n",
        "CCEmQoiJEGIihJgIISZCiIkQYiKEmAghJkKIiRBiIoSYCCEmQoiJEGIihJgIISZCiIkQYiKEmAgh\n",
        "JkKIiRBiIoSYCCEmQoiJEGIihJgIISZCiIkQYiKEmAghJkKIiRBiIoSYCCEmQoiJEGIihJgIISZC\n",
        "iIkQYiKEmAghJkKIiRBiIoSYCCEmQoiJEGIihJgIISZCiIkQYiK8gON4+CdPPsUqIrwGaQ32V30B\n",
        "3G632/HdSO4PP3H/+7fj+PsDZhFh7ziOuzwuTISX8WgY2lRrIowtHYO/7PCnDzW5nAczEBNhKbgb\n",
        "/BiGTCLC6/EQaBjP5TKDHor+mI1DrudiTMLGbwv89snhV/y4EptqQYQTDRqSnE+EgYmNGYYdEY6T\n",
        "JarDiAhXmzgGSYlwljhRw7AgwqWMQT4T4TqvHEv0iRqGy4lwihEF/kSHS4hwkYmNPbLLdf4pRDjC\n",
        "uEQtpQuJcIVxjTGJCE+3x/OYzwzDVUQYG1ogC4nwXHs3ZhguIcLSBonq8HwiPNEGjTGACDPbJGoY\n",
        "nkyEZ9mmMWoiPMWuxxKPGIZnEmFgswI5mQjf789szDA8jQhX2zhRHZ5DhG+2cWNERLjUHokex/9+\n",
        "fWYYnkCE77RHY8/5adzLifCd7vf7k5+cLVF+SYTrbFCgxgoifLPnw3C03xYo0XOIkNco8DQifL8t\n",
        "h6HGOiLkBRI9kwhPsdkw1FhKhGfZrMMnJHoyEV6exmoiPNEGw9CxxAAi5DEFLiHCc40ehhqbQYQ8\n",
        "INFVRHi6ocNQY2OIcIVxHXoeM4kI+WTUvxcXIMJFBg3D16ecMbiECPl/FtHlRLjOiGGosXlEuNSI\n",
        "Dp+QaEGEV6KxkUS4WjYMHUtMJUJut5sCSyIMBMNQY4P9VV8ASzxvT6Ipk7Ax/TEpC4kwM6VDY7Am\n",
        "QoiJsNQPQ2NwABFemAJnEGGsH4bURHhVxuAYzgl74TDU3wQinGL1uxfagcewjvaad/D17vNjiBBi\n",
        "IoSYCC/MRjqDCGPNDSGTiHA05/hXIMJrs5EOIMLS813UpnoRIoSYCCEmwsyUXdRtYU2EEBMhxEQ4\n",
        "0ernojbSlAgbjh/4QYQQE+E48ZC0kS4nwsDEXXTa9VyJCCEmwlkmDklOJsLV5mbmoCIiwkHm9smZ\n",
        "RAgxEfIPNtKCCJd6snDaRS9LhBATIcS8F8U6e+yiQy7jSkxCiIkQYiJcZPIu6jyi5Z7w0j7ycxvY\n",
        "EuF1HYf8RrCOxqpd9FmBn9dTC+uZRLhCftf3T8fxwgxU3UIijC2O8yO/33/N+12Hy4hwhfv9fhxH\n",
        "/j5nbgJnEuEi9/v9I8Xkq7+0gv7EMFxFhEslHb66gn6mwyVEuNri1fT1AfgxLVnPOWHg42HM2Y9M\n",
        "Pzp/8Us8bNUwPJ9JmDl1Nf0o/LsFfvAw52SDzq+u6Uvz6u1/oW9bm0CEI7xrNf3S3+PEYgjr6Ahv\n",
        "WU0VuCmTcJB/vZpaQbcmwnG+upoagLsT4UQvTrYvDsA3PwHiXUQ41/MR98UB6IWey2sz2vfjMQDn\n",
        "E+F036nIANyCF2kP/+Jpzc0A3IRzwj186SDxS9+zRk6E23jxv19YQbfjBdvPo8ysoJsyCffzy9XU\n",
        "Crovk3BXP+aeAbg7Ee7NHeAfwDq6NwX+AUQIMRFCTIQQEyHERAgxEUJMhBATIcRECDERQkyEEBMh\n",
        "xEQIMRFCTIQQEyHERAgxEUJMhBATIcRECDERQkyEEBMhxEQIMRFCTIQQEyHERAgxEUJMhBATIcRE\n",
        "CDERQkyEEBMhxEQIMRFCTIQQEyHERAgxEUJMhBATIcRECDERQkyEEBMhxEQIMRFCTIQQEyHERAgx\n",
        "EUJMhBATIcRECDERQkyEEBMhxEQIMRFCTIQQEyHERAgxEUJMhBATIcRECDERQkyEEBMhxEQIMRFC\n",
        "TIQQEyHERAgxEUJMhBATIcRECDERQkyEEBMhxEQIMRFC7L/VHlxaNk4AeQAAAABJRU5ErkJggg==\n",
        "\"></td>\n",
        "\t\t<td><img src=\"data:image/png;base64,iVBORw0KGgoAAAANSUhEUgAAASwAAAEsCAIAAAD2HxkiAAAGI0lEQVR4nO3d7W7TWBRAUWfE+7+y\n",
        "50eGaqAtTah9973xWkJCfIgYhd1zcl2a277vG9D5p74AuDoRQkyEEBMhxEQIMRFCTIQQEyHERAgx\n",
        "EUJMhBATIcRECDERQkyEEBMhxEQIMRFCTIQQEyHERAgxEUJMhBATIcRECDERQkyEEBMhxEQIMRFC\n",
        "TIQQEyHERAgxEUJMhBATIcRECDERQkyEEBMhxEQIMRFCTIQQEyHERAgxEUJMhBATIcRECDERQkyE\n",
        "EBMhxEQIMRFCTIQQEyHERAgxEUJMhBATIcRECDERQkyEEBMhxEQIMRFCTIQQEyHERAgxEUJMhBAT\n",
        "IcRECDERQkyEEBMhxEQIMRFCTIQQEyHERAgxEUJMhBATIcREeD2329c/w0AivCTVzeRHfQFs27bd\n",
        "vlvF/ujv239+d7v9/AExEfZut9uuhwuzjl7VfRgyARHGyjGowzmIEGIiLPWvBg3DCYjw8t4+Cqgx\n",
        "IsJMNgY/fFAFdkTY+LLAb985/P2P++/bhwzDlAhndPyQlNnERBjoz2PeU2lHhNM5K9EvM9NhRISj\n",
        "xXfnf15EcwF8RIRziTdVlRZEOFT/alBm8xHhOI/clugPbFQ6nAhnMa7AxzPT4RAiHGSKKfegVa7z\n",
        "VYhwCqMTdbtiJiIcYcYxKLNpiPB0a5zHvKfSUUQYc+8eEZ5r0in3IJUOIcJSn6gTmgmI8ER9Y4+Q\n",
        "WU2EmTUS3VR6OhGeZZnGNpnFRHiKVW9LfEalZxJhYMYCZdYR4fFmbOz7VHoaEY42b6JuV0REeLB5\n",
        "G3uEzAoiHGrtRDeVnkKER1q+sU1mgfX/0UzmDx2+QqJvZa7+F5mJSTjO8gVyDhEebN/3g99GYh7G\n",
        "4DlEyGMUeBoRHu+VhyEnECEPMAbPJMJTGIY8ToRneZ0OjcGTiRBiIjzRKwxDY/B8IuRzChxChOd6\n",
        "hWHIyUTIJ4zBUUR4OsOQPxPhCOt1aAwOJELeWevjxfpEOMh6w3AzBgcRIb+yiA4nwnGWHIacT4RD\n",
        "zd6hMVgQIcREONq8w9AYjIiQbdsUWBJhYN5hSEGEGIMxETYMQ96IMDNLh8ZgTYQQE2GpH4bG4ARE\n",
        "eGEKnIMIY/0wpCbCqzIGp/GjvgDKYai/GYhwFqPfvdAOPA3raK95B19viz0NEUJMhBAT4YXZSOcg\n",
        "wljzgpCZiBBiIrw2G+kE3CcsfbiLnn3j3vY7GxFORyRXYx2FmAgzs5yLellYEyHERAgxEWIjjYmw\n",
        "McsLQiYgQoiJkF/ZSIcTYWDGXXS267kSEUJMhBAT4Wgz7qJ3blRERAgxEUJMhPyPjbQgwqHmfUFI\n",
        "R4QQEyHEfHmLcdbYRee/wpdjEkJMhBAT4SDJVzdkCSIs3d8eVIoXJ8LYvu/etv7iRDiFuMP3D/32\n",
        "M3/4JQ4iwhEeuTkRr6bS6ohwIuVquu86rIhwhKemnNOaq/EZM4Pc19EHP2nmqd98mPswfP+IPhyc\n",
        "zCQc6qltM1hNP1xK9/2XbxxNhKNZTfmNCANPHcCMPq1xQjOcCDN/MRLPvqS3Bxv0QGzbtm0r/Oea\n",
        "V/f4Acy9wwOfsnvX/gm0RDiFpw5Cjzo1/fAolPFEOIunptz3R6IC5yHCuQwYiVbQ2YhwOs+OxKee\n",
        "QQNwQiKc1OGnNYcf6nAUEc7rwJG4xteYuirPzey+348CJ+dm/ey+c5v+/skACpycZ2gNf/GKTn6r\n",
        "MAnX8OxnkCpwIZ6qxXw5Ep2CLkeES/ps0BmAK7KOLunD1VSBi/K0Lext87SCLk2EyzMAV2cdXZ4C\n",
        "VydCiIkQYiKEmAghJkKIiRBiIoSYCCEmQoiJEGIihJgIISZCiIkQYiKEmAghJkKIiRBiIoSYCCEm\n",
        "QoiJEGIihJgIISZCiIkQYiKEmAghJkKIiRBiIoSYCCEmQoiJEGIihJgIISZCiIkQYiKEmAghJkKI\n",
        "iRBiIoSYCCEmQoiJEGIihJgIISZCiIkQYiKEmAghJkKIiRBiIoSYCCEmQoiJEGIihJgIISZCiIkQ\n",
        "YiKEmAghJkKIiRBiIoSYCCEmQoiJEGIihJgIISZCiIkQYiKEmAghJkKIiRBiIoSYCCEmQoiJEGIi\n",
        "hJgIISZCiIkQYv8CtX5PT/LMge8AAAAASUVORK5CYII=\n",
        "\"></td>\n",
        "\t</tr>\n",
        "</table>"
       ],
       "metadata": {},
       "output_type": "pyout",
       "prompt_number": 21,
       "text": [
        "<IPython.core.display.HTML at 0x10c769e50>"
       ]
      }
     ],
     "prompt_number": 21
    },
    {
     "cell_type": "markdown",
     "metadata": {},
     "source": [
      "[<a href=\"#top\">Top</a>]"
     ]
    },
    {
     "cell_type": "markdown",
     "metadata": {
      "slideshow": {
       "slide_type": "slide"
      }
     },
     "source": [
      "<p><a name=\"Fix_heterocyclic_tautomer_3\"></a></p>\n",
      "### Fix heterocyclic tautomer 3\n"
     ]
    },
    {
     "cell_type": "code",
     "collapsed": false,
     "input": [
      "demo(\"n1ccc2c[nH]ccc12\")"
     ],
     "language": "python",
     "metadata": {
      "slideshow": {
       "slide_type": "-"
      }
     },
     "outputs": [
      {
       "output_type": "stream",
       "stream": "stderr",
       "text": [
        "[2014/Jan/15 15:50:53 INFO    ] rule 12 'Fix heterocyclic tautomer 3' applied\n"
       ]
      },
      {
       "html": [
        "<!-- NB the styling is inline as otherwise it is overridden by the Notebook stylesheets -->\n",
        "\n",
        "<table>\n",
        "\t<tr>\n",
        "\t\t<th style=\"text-align: center;\">Original</th>\n",
        "\t\t<th style=\"text-align: center;\">Transformed</th>\n",
        "\t</tr>\n",
        "\t<tr>\n",
        "\t\t<td><img src=\"data:image/png;base64,iVBORw0KGgoAAAANSUhEUgAAASwAAAEsCAIAAAD2HxkiAAAGM0lEQVR4nO3c0U4UWxBA0ekb//+X\n",
        "5z6gREUGUPrsOvRaMTHAS8eZTVWfjnPc7/cb0PmvvgC4OhFCTIQQEyHERAgxEUJMhBATIcRECDER\n",
        "QkyEEBMhxEQIMRFCTIQQEyHERAgxEUJMhBATIcRECDERQkyEEBMhxEQIMRFCTIQQEyHERAgxEUJM\n",
        "hBATIcRECDERQkyEEBMhxEQIMRFCTIQQEyHERAgxEUJMhBATIcRECDERQkyEEBMhxEQIMRFCTIQQ\n",
        "EyHERAgxEUJMhBATIcRECDERQkyEEBMhxEQIMRFCTIQQEyHERAgxEUJMhBATIcRECDERQkyEEBMh\n",
        "xEQIMRFCTIQQEyHERAgxEUJMhBATIcRECDERQkyEEBMhxER4Acfx6nce/IhVRHgN0hrsW30B3G63\n",
        "2/Gvkdxf/cH9x1/H8eMLZhFh7ziOuzwuTISX8dowtKnWRBhbOgb/2OFvX2pyOQczEBNhKbgbfBqG\n",
        "TCLC63EINIxzucygQ9Hn2Tjkei7GJGy8WeA/Pzn8iOcrsakWRDjRoCHJ+UQYmNiYYdgR4ThZojqM\n",
        "iHC1iWOQlAhniRM1DAsiXMoY5CURrvOexxJ9oobhciKcYkSBv9HhEiJcZGJjr9nlOr8KEY4wLlFL\n",
        "6UIiXGFcY0wiwtPtcR7zkmG4ighjQwtkIRGea+/GDMMlRFjaIFEdnk+EJ9qgMQYQYWabRA3Dk4nw\n",
        "LNs0Rk2Ep9j1scRrDMMziTCwWYGcTISf72s2ZhieRoSrbZyoDs8hwk+2cWNERLjUHokex/c/LxmG\n",
        "JxDhZ9qjscd8GvdyIvxM9/v9wSdnS5Q/EuE6GxSosYIIP9njYTjamwVK9Bwi5H0UeBoRfr4th6HG\n",
        "OiLkHSR6JhGeYrNhqLGUCM+yWYcPSPRkIrw8jdVEeKINhqHHEgOIkNcpcAkRnmv0MNTYDCLkFRJd\n",
        "RYSnGzoMNTaGCFcY16HzmElEyAujfl9cgAgXGTQM3z/ljMElRMivLKLLiXCdEcNQY/OIcKkRHT4g\n",
        "0YIIr0RjI4lwtWwYeiwxlQi53W4KLIkwEAxDjQ32rb4AlnjcnkRTJmFj+jEpC4kwM6VDY7AmQoiJ\n",
        "sNQPQ2NwABFemAJnEGGsH4bUPKKYIezQGKyZhL377ZYlqMABTMIRvqewNonjOCQ4gUlY605H3I4O\n",
        "IUKIiRBiIkx5UocIL85t4QRORwczJ6/BJOw8bkyBlyHCq7OR5kQIMRGOZBe9EhFGJmVmI22JEGIi\n",
        "nGfSkGQBERZkxk9EyO3mtjAlwmEMyesR4XIGDr8SYWfYrLORVkQ4iV30kkQIMRGuNXvW2UgTIhxj\n",
        "dp+cR4QQE+FCZh1/IsIZxvTptnA9EUJMhBA77vX+w5xd9NlxeGOsYxJCTIQQE2FtwC768jjUGelK\n",
        "PoH70p5Kc/vXEuF1OX0Zwjp6ppcb3W/f6XZRBc5hEp7sOB4FVmTwzhX06bZQqAuI8GT3+xsdrqWr\n",
        "gUR4FR86g3Fgs5IIzzdgGH5oAJqWizmYWeKpw4gChzMJA089LnirW0G3IMJVfhqGT+/zs1dUA3AX\n",
        "1tGFfn2Xn7qivj+q4zgU2PKvH/v01fSjK6g3QM46Gvvc1dQKuiMRjvDvTzGcwexLhFM83yL+RRoG\n",
        "4NZEOMiP1fRjkXzoDOZmAM7jl+JE76zFGczX4IWZ63E2BuCXIcLR/n18GYDzeVg/2tN/6vvrj3tR\n",
        "4Ba8SHv4i9OamxV0EybhHj708WdPxSpwFybhTt6cbwbgjkS4n9dWU3eAm7KO7uePq6kC9+WV29Xz\n",
        "5mkF3Z0I92YAfgHW0b0p8AsQIcRECDERQkyEEBMhxEQIMRFCTIQQEyHERAgxEUJMhBATIcRECDER\n",
        "QkyEEBMhxEQIMRFCTIQQEyHERAgxEUJMhBATIcRECDERQkyEEBMhxEQIMRFCTIQQEyHERAgxEUJM\n",
        "hBATIcRECDERQkyEEBMhxEQIMRFCTIQQEyHERAgxEUJMhBATIcRECDERQkyEEBMhxEQIMRFCTIQQ\n",
        "EyHERAgxEUJMhBATIcRECDERQkyEEBMhxEQIMRFCTIQQEyHERAgxEUJMhBATIcRECDERQkyEEBMh\n",
        "xEQIMRFCTIQQEyHERAgxEUJMhBATIcRECLH/AWvkWmbQVU5ZAAAAAElFTkSuQmCC\n",
        "\"></td>\n",
        "\t\t<td><img src=\"data:image/png;base64,iVBORw0KGgoAAAANSUhEUgAAASwAAAEsCAIAAAD2HxkiAAAGFUlEQVR4nO3d224TSQBF0e4R///L\n",
        "ngeTjJjcHOKqXWWvJSQEg8CMsznV3VzOy+VyAJ1/6hcAz06EEBMhxEQIMRFCTIQQEyHERAgxEUJM\n",
        "hBATIcRECDERQkyEEBMhxEQIMRFCTIQQEyHERAgxEUJMhBATIcRECDERQkyEEBMhxEQIMRFCTIQQ\n",
        "EyHERAgxEUJMhBATIcRECDERQkyEEBMhxEQIMRFCTIQQEyHERAgxEUJMhBATIcRECDERQkyEEBMh\n",
        "xEQIMRFCTIQQEyHERAgxEUJMhBATIcRECDERQkyEEBMhxEQIMRFCTIQQEyHERAgxEUJMhBATIcRE\n",
        "CDERQkyEEBMhxEQIMRFCTIQQEyHERAgxEUJMhBATIcRECDERPp/z/PprmEiET0l1K/lVvwCO4zjO\n",
        "n1ZxufXbXV4+O8+XLxATYe88z4senpjj6LO6jiELEGGsnEEdrkGEEBNhqb8aNIYLEOHTe/1VQI0R\n",
        "EWayGXz3B1VgR4SNLwv88ZPD/393vz+9yximRLii+4+kzBYmwkB/P+YtlXZEuJxRiX6ZmQ4jIpwt\n",
        "fjr/8iKaF8B7RLiW+KSq0oIIp+qvBmW2HhHOc8tjif6GjUqnE+Eq5hV4e2Y6nEKEkyyxcjfa5XU+\n",
        "ChEuYXaiHlesRIQzrDiDMluGCIfb437MWyqdRYQxz+4R4ViLrtyNVDqFCEt9ou7QLECEA/WN3UJm\n",
        "NRFm9kj0UOlwIhxlm8YOmcVEOMSujyU+otKRRBhYsUCZdUR4fys29nMqHUaEs62bqMcVERHe2bqN\n",
        "3UJmBRFOtXeih0qHEOE9bd/YIbPA/h80i/mkw0dI9LXM3X8iK7GE82xfIGOI8M4ul8ud/xmJdZjB\n",
        "MUTIbRQ4jAjv75HHkAFEyA3M4EgiHMIYcjsRjvI4HZrBwUQIMREO9AhjaAbHEyEfU+AUIhzrEcaQ\n",
        "wUTIB8zgLCIczhjyORHOsF+HZnAiEfLGXr9e7E+Ek+w3hocZnESE/MlBdDoRzrPlGDKeCKdavUMz\n",
        "WBAhxEQ427pjaAYjIuQ4DgWWRBhYdwwpiBAzGBNhwxjySoSZVTo0gzURQkyEpX4MzeACRPjEFLgG\n",
        "Ecb6MaT2q34BHMeR/hE+M1izhL3LcSQJnocCl2AJl/A7hclJOAavwRLWursjLkcXIUKIiRBiIkx5\n",
        "UocIn5zLwhWIEGIeUXQ+OouOniZH38VYwmfnRJqzhOuxVE/GEkJMhJGVHk44kbZECDERQkyEhZXO\n",
        "ouREyHG4LEyJEGIinM7g8CcRdha7IHQirYgQYiKEmAjnWvvhhBNpQoQQEyHERDjR2mdRKiLkDy4L\n",
        "5xMhxEQIsfPi+oQ3ztMHxjyWEGIihJgIOd7eDnWPdCZ/5eFTu5bm8q8lwufl7ssiHEfv6u0R7vVr\n",
        "PvlPBQWuQ4T3tvyl1HmetxTosnAax9F7u1yO81z2d4cawAWJ8Fl86x6MGzYziXCAj8awO919awCt\n",
        "5WQiHOPdDif/O4T//TgKXJoIH5kj6BZEOMx1DDsGcBceUYzUfVgrcCP+78euY3nHN8ERdDuOo7Hr\n",
        "x/+9niwawB2JcAk/f8L/3U1T4DpEuIrX+zh/kcZ3B/BwBF2JCBfycjT93kY5gu7OW7KiG8fKPZjH\n",
        "IMJ1fb5aBvBheG+Wdpf5UuDivD0b+OuKHEG34HfMbODv/nztNV0Frk+Ee7h2eHuKjqAb8VZt5su6\n",
        "HEG3I8L9fJKZAdyR4+h+rld6b4+mCtyUt21jr5PoCLo1EW7PAO7OcXR7CtydCCEmQoiJEGIihJgI\n",
        "ISZCiIkQYiKEmAghJkKIiRBiIoSYCCEmQoiJEGIihJgIISZCiIkQYiKEmAghJkKIiRBiIoSYCCEm\n",
        "QoiJEGIihJgIISZCiIkQYiKEmAghJkKIiRBiIoSYCCEmQoiJEGIihJgIISZCiIkQYiKEmAghJkKI\n",
        "iRBiIoSYCCEmQoiJEGIihJgIISZCiIkQYiKEmAghJkKIiRBiIoSYCCEmQoiJEGIihJgIISZCiIkQ\n",
        "YiKEmAghJkKIiRBiIoSYCCEmQoiJEGIihJgIISZCiIkQYiKEmAghJkKIiRBiIoSYCCEmQoj9C06j\n",
        "N2273rkZAAAAAElFTkSuQmCC\n",
        "\"></td>\n",
        "\t</tr>\n",
        "</table>"
       ],
       "metadata": {},
       "output_type": "pyout",
       "prompt_number": 22,
       "text": [
        "<IPython.core.display.HTML at 0x10c769590>"
       ]
      }
     ],
     "prompt_number": 22
    },
    {
     "cell_type": "markdown",
     "metadata": {},
     "source": [
      "[<a href=\"#top\">Top</a>]"
     ]
    },
    {
     "cell_type": "markdown",
     "metadata": {
      "slideshow": {
       "slide_type": "slide"
      }
     },
     "source": [
      "<p><a name=\"Fix_heterocyclic_tautomer_4\"></a></p>\n",
      "### Fix heterocyclic tautomer 4\n"
     ]
    },
    {
     "cell_type": "code",
     "collapsed": false,
     "input": [
      "demo(\"c1cnc2ccc[nH]c12\")"
     ],
     "language": "python",
     "metadata": {
      "slideshow": {
       "slide_type": "-"
      }
     },
     "outputs": [
      {
       "output_type": "stream",
       "stream": "stderr",
       "text": [
        "[2014/Jan/15 15:50:54 INFO    ] rule 13 'Fix heterocyclic tautomer 4' applied\n"
       ]
      },
      {
       "html": [
        "<!-- NB the styling is inline as otherwise it is overridden by the Notebook stylesheets -->\n",
        "\n",
        "<table>\n",
        "\t<tr>\n",
        "\t\t<th style=\"text-align: center;\">Original</th>\n",
        "\t\t<th style=\"text-align: center;\">Transformed</th>\n",
        "\t</tr>\n",
        "\t<tr>\n",
        "\t\t<td><img src=\"data:image/png;base64,iVBORw0KGgoAAAANSUhEUgAAASwAAAEsCAIAAAD2HxkiAAAGEklEQVR4nO3d207jSBRA0Xg0///L\n",
        "noeMMgw0IQFcuype660biUQkW+fYxWXb9/0CdP6qnwCcnQghJkKIiRBiIoSYCCEmQoiJEGIihJgI\n",
        "ISZCiIkQYiKEmAghJkKIiRBiIoSYCCEmQoiJEGIihJgIISZCiIkQYiKEmAghJkKIiRBiIoSYCCEm\n",
        "QoiJEGIihJgIISZCiIkQYiKEmAghJkKIiRBiIoSYCCEmQoiJEGIihJgIISZCiIkQYiKEmAghJkKI\n",
        "iRBiIoSYCCEmQoiJEGIihJgIISZCiIkQYiKEmAghJkKIiRBiIoSYCCEmQoiJEGIihJgIISZCiIkQ\n",
        "YiKEmAghJkKIiRBiIoSYCCEmQoiJEGIihJgIISZCiIkQYiKEmAgh9nf9BLhcLpdt25LH3fc9eVze\n",
        "EmFv27YqhvChubGOQkyEsXYW7ftebcLciBBiIizNcElmGOZECDERZmYYg1eGYUuEXC46TDknbNwZ\n",
        "g0fHMMn45UaE06kiuQ5DiY5nHQ14r/OWCPmPK8OECEczBnlHhPyPYTieCIdaYgzqcDARQkyE42zb\n",
        "Mmd0huFIIhxk2y6LBMhoIuTPDMNhRDjComNQh2OI8HCLFsgwIuQew3AAER7LGORLIuQLhuHRRHgg\n",
        "Y5BHiPBAL1OgYXgoEfIQHR5HhBATIY8yDA8iQoiJ8Fs+DoTb/9z50PoMwyOI8Lte+r2otJFE+F37\n",
        "/qod3v/xf8Pw14mQ5yzxGzrW4pf//sB1GH58R648KDQ2ngh/5o8dvvvnyk2+I9EjWEf5j8YSIvyx\n",
        "171D845EDyLC3/ASb02NVXzdj3GbjYt8eb8sUKLHMQmPcXu/vsSmqsBDiRCNxUR4mFcZhhI9mgiP\n",
        "tEKHGsuJkHskOoAIDzb3MNTYDER4Xo4lJiHC4809DD+jwGFEONY0HWpsHiIcYrW3u0RHEuEoMy2l\n",
        "GpuKCE/H/ZjZiHCgmYbhZxQ4ngjPRWMTEuFYcw9DiSZEOFzXocbmJEL+JdGKCAvFMNTYtER4Fo4l\n",
        "piXCyEx3aBTYEiHERNiZYxgagzkRpubokJYIT80YnIE/CFO7/RZ9w/CsTMIJdLPIEJyBSTiF7atz\n",
        "vAMe0uCdhUnYay7M3BOahgghJkKIifDEbKRzEGHMSR0inNpmRp2ACM/NRjoBEZbu76I21ZMQIcRE\n",
        "CDERZmbZRV0W1kQIMRFCTIQzGn1f1EaaEmHD8QM3IoSYCKcTD0kb6XAiDMy4i872fM5EhBAT4Vxm\n",
        "HJIcTISjzZuZg4qICCcyb58cSYQQEyFv2EgLIhzqzsJpFz0tEUJMhBDztyjGWWMXneRpnIlJCDER\n",
        "QkyEg8y8izqPaLkmPLVrfi4DWyI8r22T3xSso7FqF71X4Mf11MJ6JBGOkF/1vbVtD8xA1Q0kwtjg\n",
        "OK/5ff2Y+67DYUQ4wr7v27blf+fMReCcRDjIvu/XFJNHf2gFfccwHEWEQyUdPrqCfqTDIUQ42uDV\n",
        "9PEBeJ2WjOecMHC9GXP0LdNr5w8+xKetGobHMwkzh66m18J/WuCVmzkHm+j86pyemle//gl929oM\n",
        "RDiF31pNn/o8TiwmYR2dwq+spgpclEk4kW+vplbQpYlwOs+upgbg6kQ4owcn25MD8JfvAPFbRDiv\n",
        "+yPuyQHohZ6X12ZqP4/HAJyfCGf3k4oMwCV4kdbwjbs1FwNwEc4J1/DUQeJT37NGToTLePDHL6yg\n",
        "y/GCreezzKygizIJ1/PH1dQKui6TcFW3uWcArk6Ea3MF+AKso2tT4AsQIcRECDERQkyEEBMhxEQI\n",
        "MRFCTIQQEyHERAgxEUJMhBATIcRECDERQkyEEBMhxEQIMRFCTIQQEyHERAgxEUJMhBATIcRECDER\n",
        "QkyEEBMhxEQIMRFCTIQQEyHERAgxEUJMhBATIcRECDERQkyEEBMhxEQIMRFCTIQQEyHERAgxEUJM\n",
        "hBATIcRECDERQkyEEBMhxEQIMRFCTIQQEyHERAgxEUJMhBATIcRECDERQkyEEBMhxEQIMRFCTIQQ\n",
        "EyHERAgxEUJMhBATIcRECDERQkyEEBMhxEQIMRFCTIQQEyHERAgxEUJMhBATIcRECLF/ANweQ1J4\n",
        "2z3HAAAAAElFTkSuQmCC\n",
        "\"></td>\n",
        "\t\t<td><img src=\"data:image/png;base64,iVBORw0KGgoAAAANSUhEUgAAASwAAAEsCAIAAAD2HxkiAAAGBElEQVR4nO3dwW7bVhBAUbHo//8y\n",
        "u1DhJo1rSw357lA6B17FRiRAupkhn+1s+77fgM4f9ROAdydCiIkQYiKEmAghJkKIiRBiIoSYCCEm\n",
        "QoiJEGIihJgIISZCiIkQYiKEmAghJkKIiRBiIoSYCCEmQoiJEGIihJgIISZCiIkQYiKEmAghJkKI\n",
        "iRBiIoSYCCEmQoiJEGIihJgIISZCiIkQYiKEmAghJkKIiRBiIoSYCCEmQoiJEGIihJgIISZCiIkQ\n",
        "YiKEmAghJkKIiRBiIoSYCCEmQoiJEGIihJgIISZCiIkQYiKEmAghJkKIiRBiIoSYCCEmQoiJEGIi\n",
        "hJgIISZCiIkQYiKEmAghJkKIiRBiIoSYCCEmQoiJEGIihJgIISZCiP1ZPwFut9tt27bkcfd9Tx6X\n",
        "H4mwt21bFUP40HywjkJMhLF2Fu37Xm3CfBAhxERYmnBJZhjmRAgxEWYmjME7w7AlQm43HaacEza+\n",
        "GINnxzBk/PJBhONUkdyHoUTXs44GvNf5kQj5hyvDhAhXMwb5FxHyE8NwPREudYkxqMPFRAgxEa6z\n",
        "bZc5ozMMVxLhItt2u0iArCZCPmcYLiPCFS46BnW4hghPd9ECWUaEfMUwXECE5zIG+ZYI+YZheDYR\n",
        "nsgY5BEiPNHLFGgYnkqEPESH5xEhxETIowzDk4gQYiI8wq/z4UUnhmF4BhEe5Nu35rb9/XEFSltJ\n",
        "hAfZ928C+zivGP/+/vrH/w3Dw4mQ51ziN3RciwiP8xLDUGPrifBQL9HhFyR6BhHyD40lRHi01x2G\n",
        "Ej2JCE9wzcw0VhHhET59735R4LxKvy1QoucR4TnmZfY7FHgqEUYmVaqxlghP821mkzr8gkTPJsIz\n",
        "XSEzjeVEmBpfqUQXEOHJZmemsQlEWOsqdSwxhAjPd807NApcRoRrjclMY3OIcIlv3+7DhqFEVxLh\n",
        "KpMy09goIhxjVaXux0wjwoUmDcP/osD1RDjJ+ZVqbCARrjX7uEKiCREuN/h0noQI54kqlWhFhIVH\n",
        "ltL7x3E0NpYI34VjibFEGJl0XKHAlgghJsLOjGFoDOZEmJrRIS0RvjVjcII/6yfw9j5+bb5h+K5M\n",
        "wgH2Pelvu90MwQlMwjEWr4XbpsAhTMJec2HmntAYIoSYCCEmwjdmI51BhDEndYgQYiJ8bzbSAURY\n",
        "sotyEyHkRAgxEWam7KIuC2sihJgIISZCbKQxETamXBAygAghJkJ+ZiNdToSBibvotOfzTkQIMRFC\n",
        "TISrTdxF7xxUREQIMRFCTIT8wEZaEOFScy8I6YgQYiKEmP+LYp1r7KLzn+HLMQkhJkKIiXCRT3fR\n",
        "zUkAImzt+75tmxTfnAhj+77fU6yfCBkRjhB3+OtDf/zJF5/iICJc4ZHDiXg1lVZHhIOUq+m+67Ai\n",
        "whWemnLu1rwb3zGzyH0dffCbZp764sPch+Gvj+ifg5OZhEs9tW0Gq+mnS+m+//TB0US4mtWUfxFh\n",
        "4KkbMKvv1rhDs5wIM3NXUzvnWlf44ZqXdk/rwVfhqS9+7C+83URXE+EIT90IPequ6ae3QlnPOjrC\n",
        "/1hNf3M7VeAcJuEgz26b/28kWkGnEeE4p66mBuBAIpzojLs1h9/U4SginOvAkXiN3zH1rrw2o/1+\n",
        "PAbgfCKc7ncqMgAvwYt0Dc/fgDEAL8M54TU8dZB4L1aBVyHCy3jwjN4KejlesOv5r8ysoBdlEl7P\n",
        "p6upFfS6TMKr+ph7BuDVifDaXAG+AOvotSnwBYgQYiKEmAghJkKIiRBiIoSYCCEmQoiJEGIihJgI\n",
        "ISZCiIkQYiKEmAghJkKIiRBiIoSYCCEmQoiJEGIihJgIISZCiIkQYiKEmAghJkKIiRBiIoSYCCEm\n",
        "QoiJEGIihJgIISZCiIkQYiKEmAghJkKIiRBiIoSYCCEmQoiJEGIihJgIISZCiIkQYiKEmAghJkKI\n",
        "iRBiIoSYCCEmQoiJEGIihJgIISZCiIkQYiKEmAghJkKIiRBiIoSYCCEmQoiJEGIihJgIISZCiIkQ\n",
        "YiKEmAghJkKIiRBiIoSYCCEmQoiJEGIihJgIISZCiIkQYiKE2F98xVNMnrcBHQAAAABJRU5ErkJg\n",
        "gg==\n",
        "\"></td>\n",
        "\t</tr>\n",
        "</table>"
       ],
       "metadata": {},
       "output_type": "pyout",
       "prompt_number": 23,
       "text": [
        "<IPython.core.display.HTML at 0x10c769710>"
       ]
      }
     ],
     "prompt_number": 23
    },
    {
     "cell_type": "markdown",
     "metadata": {},
     "source": [
      "[<a href=\"#top\">Top</a>]"
     ]
    },
    {
     "cell_type": "markdown",
     "metadata": {},
     "source": [
      "<p><a name=\"Enol_-_Ketone\"></a></p>\n",
      "### Enol -> Ketone\n",
      "\n",
      "This rule appears straightforward, but raises certain issues which are discussed [here](Keto-enol_tautomerism.ipynb)."
     ]
    },
    {
     "cell_type": "code",
     "collapsed": false,
     "input": [
      "demo(\"OC(C)=C(C)C\")"
     ],
     "language": "python",
     "metadata": {},
     "outputs": [
      {
       "output_type": "stream",
       "stream": "stderr",
       "text": [
        "[2014/Jan/15 15:50:54 INFO    ] rule 14 'Enol -> Ketone' applied\n"
       ]
      },
      {
       "html": [
        "<!-- NB the styling is inline as otherwise it is overridden by the Notebook stylesheets -->\n",
        "\n",
        "<table>\n",
        "\t<tr>\n",
        "\t\t<th style=\"text-align: center;\">Original</th>\n",
        "\t\t<th style=\"text-align: center;\">Transformed</th>\n",
        "\t</tr>\n",
        "\t<tr>\n",
        "\t\t<td><img src=\"data:image/png;base64,iVBORw0KGgoAAAANSUhEUgAAASwAAAEsCAIAAAD2HxkiAAAE3klEQVR4nO3d0W4aOxRA0Zmr/v8v\n",
        "Tx+iRpDcqqFlZh+TtR6RAk7sjT0khP04jg3o/FcPAL47EUJMhBATIcRECDERQkyEEBMhxEQIMRFC\n",
        "TIQQEyHERAgxEUJMhBATIcRECDERQkyEEBMhxEQIMRFCTIQQEyHERAgxEUJMhBATIcRECDERQkyE\n",
        "EBMhxEQIMRFCTIQQEyHERAgxEUJMhBATIcRECDERQkyEEBMhxEQIMRFCTIQQEyHERAgxEUJMhBAT\n",
        "IcRECDERQkyEEBMhxEQIMRFCTIQQEyHERAgxEUJMhBATIcRECDERQkyEEBMhxEQIMRFCTIQQEyHE\n",
        "RAgxEUJMhBATIcRECDERQkyEEBMhxEQIMRFCTIQQEyHERAgxEUJMhBATIcRECDERQkyEEBMhxEQI\n",
        "MRFCTIQQEyHERAgxEUJMhBATIcRECDERQkyEEBMhxEQIMRFCTIQQEyHERAgxEUJMhCfa970ewnO8\n",
        "zDcy034cRz2GV/a2fNf9Ia8+/iWI8AorLuUVx7woEV5nlWW9yjhfhgivNnyJ77slcTU/8cbAtT78\n",
        "2eGFjVsK38ecRT9nJN+TCGNtAPKbQIQjJDEMPBJ/T6ZhkMtStAGOIsJxTt2g5DeQCCc6KRXnz5nM\n",
        "ylxPTNEGOJkIp/vHfuQ3nwjX8BcnSfmtQoTLeCgql38LMVWL+WOKNsDliHBJ/1ua/BYlwoW9Vye/\n",
        "pYlwcfu+b9uxbZt5XJb/MbM88a1OhBATIcR+1APgNO//p9Dl4mx2QoiJEGIihJgIISZCiIkQYiKE\n",
        "mAghJkKIiRBiIoSYCCEmQoiJEGIihJgIISZCiIkQYiKEmAghJkKIiRBiIoSYCCEmQoiJEGIihJgI\n",
        "ISZCiIkQYj4a7XX5RLRF2AkhJkKIiRBirgmX9evTsPdtO1z+rcxOuKb3z6PftuM49n3fb25hLbsn\n",
        "0cXcxnY/d28dmtDliHAdH/a630ycFJcjwhV8Lb/7rzCzyzBVsz2e382X2hLXIMLBfn/598h9SHE6\n",
        "EY70jPzu70+Kc4lwmH84f37hvk33RGZljDPzu3kQW+I4IhzgkvzuH1CKg4iw9uzLv0ce2eyPYBo6\n",
        "XX43Q7Al9vwB9wBdA2/5SbElwtSMdS/FluMod1woXs9bmbjjjVHX87T3DPv+8WD54ZYBr8E8yun0\n",
        "Mq4Jz/c5yBVWtgvFyziOnuxzcsfx8bfzgx3H8XZArQfyykTIn9kJT+U4+iT2Cv6WCJ/k8wsz8DWO\n",
        "oxAT4ck+vwyzyKujXMZx9HwfOlQg9/yyHmKOoxATIcRECDERQkyEEBMhxEQIMRFCTIQQEyHERAgx\n",
        "EUJMhBATIcRECDERQkyEEBMhxEQIMRFCTIQQEyHERAgxEUJMhBATIcRECDERQkyEEBMhxEQIMRFC\n",
        "TIQQEyHERAgxEUJMhBATIcRECDERQkyEEBMhxEQIMRFCTIQQEyHERAgxEUJMhBATIcRECDERQkyE\n",
        "EBMhxEQIMRFCTIQQEyHERAgxEUJMhBATIcRECDERQkyEEBMhxEQIMRFCTIQQEyHERAgxEUJMhBAT\n",
        "IcRECDERQkyEEBMhxEQIMRFCTIQQEyHERAgxEUJMhBATIcRECDERQkyEEBMhxEQIMRFCTIQQEyHE\n",
        "RAgxEUJMhBATIcRECDERQkyEEBMhxEQIMRFC7Cek/ljqft4NfwAAAABJRU5ErkJggg==\n",
        "\"></td>\n",
        "\t\t<td><img src=\"data:image/png;base64,iVBORw0KGgoAAAANSUhEUgAAASwAAAEsCAIAAAD2HxkiAAAE60lEQVR4nO3d21IcNxRA0VEq///L\n",
        "nYck1EBswmW699Gw1htUDSWPtC0J3Hgdx3EDOn/UA4CfToQQEyHERAgxEUJMhBATIcRECDERQkyE\n",
        "EBMhxEQIMRFCTIQQEyHERAgxEUJMhBATIcRECDERQkyEEBMhxEQIMRFCTIQQEyHERAgxEUJMhBAT\n",
        "IcRECDERQkyEEBMhxEQIMRFCTIQQEyHERAgxEUJMhBATIcRECDERQkyEEBMhxEQIMRFCTIQQEyHE\n",
        "RAgxEUJMhBATIcRECDERQkyEEBMhxEQIMRFCTIQQEyHERAgxEUJMhBATIcRECDERQkyEEBMhxEQI\n",
        "MRFCTIQQEyHERAgxEUJMhBATIcRECDERQkyEEBMhxEQIMRFCTIQQEyHERAgxEUJMhBATIcRECDER\n",
        "QkyEEBMhxEQIMRFCTIQQEyHERAgxEUJMhBATIcRECDERQkyEEBMhxEQIMRFCTIQQE+GJ1lr1EB7j\n",
        "af4gM63jOOoxPLO/l+++b/Lu49+CCK+w41LeccybEuF1dlnWu4zzaYjwasOX+FqWxNW8442Ba334\n",
        "3w5PbNxS+DnmLPo5I/mZRBhrA5DfBCIcIYlh4JH4ZzINg1yWog1wFBGOc+oGJb+BRDjRSak4f85k\n",
        "VuZ6YIo2wMlEON03+5HffCLcwxdOkvLbhQi38amoXP82Yqo2878p2gC3I8It/bI0+W1KhBt7qU5+\n",
        "WxPh5tZat9txu93M47b8jpntiW93IoSYCCEmQoiJEGIihJgIISZCiIkQYiKEmAghJkKIiRBiIoSY\n",
        "CCEmQoiJEGIihJgIISZCiIkQYiKEmAghJkKIiRBiIoSYCCEmQoiJEGIihJgIISZCiIkQYiLc01q3\n",
        "tepB8Bh/1gPgk7T3dOyEW7kv0H9S/yzshJuQ3/MS4Xhvzp8KfDoiHOwj+R3HWutQ5s7M31SfOX+u\n",
        "tW63m6nclAjn+er1T4qbchyd5MvXv7v8pLgdEc7wvfxev/SfFHW4C1M1wJd//PDuC22JuxBh6iEb\n",
        "4LuvkuJ8Iow86vz5sRdKcTIRFr52/vz2T+1dFGcyK9c65/r3mS9jSxxHhFc5//r3mbFIcRARnu/a\n",
        "69/HOZ0OYRpGuuofbdsSJxDhPJc/tSTFlggnSZ9akmJFhDOMeWjQRfF63vEBhj01b0u8mAjP8cGu\n",
        "huV3T4qXEeEJ1npV1JsPXz55b+osSPECIny03yX38slN8rvnongqzxNea/D58x0KPJUIC9Y0d/zy\n",
        "38spkNdEeC0F8h8ifLTjePutl19+qwb+5U54gjcdKpB3ifAcwuPDHEchJkKIiRBiIoSYCCEmQoiJ\n",
        "EGIihJgIISZCiIkQYiKEmAghJkKIiRBiIoSYCCEmQoiJEGIihJgIISZCiIkQYiKEmAghJkKIiRBi\n",
        "IoSYCCEmQoiJEGIihJgIISZCiIkQYiKEmAghJkKIiRBiIoSYCCEmQoiJEGIihJgIISZCiIkQYiKE\n",
        "mAghJkKIiRBiIoSYCCEmQoiJEGIihJgIISZCiIkQYiKEmAghJkKIiRBiIoSYCCEmQoiJEGIihJgI\n",
        "ISZCiIkQYiKEmAghJkKIiRBiIoSYCCEmQoiJEGIihJgIISZCiIkQYiKEmAghJkKIiRBiIoSYCCEm\n",
        "QoiJEGIihJgIISZCiIkQYiKEmAghJkKIiRBiIoSYCCEmQoiJEGIihNhfadt/4pY2tDgAAAAASUVO\n",
        "RK5CYII=\n",
        "\"></td>\n",
        "\t</tr>\n",
        "</table>"
       ],
       "metadata": {},
       "output_type": "pyout",
       "prompt_number": 24,
       "text": [
        "<IPython.core.display.HTML at 0x10c769f10>"
       ]
      }
     ],
     "prompt_number": 24
    },
    {
     "cell_type": "markdown",
     "metadata": {},
     "source": [
      "[<a href=\"#top\">Top</a>]"
     ]
    },
    {
     "cell_type": "markdown",
     "metadata": {},
     "source": [
      "<p><a name=\"Charge-seperated_systems\"></a></p>\n",
      "## Charge-seperated systems\n",
      "\n",
      "The following rules address cases in which positive and negative formal charges are in conjugation, and the molecule can be neutralised _via_ successive rearrangement of adjacent double and single bonds.\n",
      "\n",
      "There are certain issues with these rules systems which are discusssed in the document available [here](Charge-separated_systems.ipynb)."
     ]
    },
    {
     "cell_type": "markdown",
     "metadata": {
      "slideshow": {
       "slide_type": "slide"
      }
     },
     "source": [
      "<p><a name=\"Fix_1_3_charge-seperated_systems_non-aromatic\"></a></p>\n",
      "### Fix 1,3 charge-seperated systems (non-aromatic)\n"
     ]
    },
    {
     "cell_type": "code",
     "collapsed": false,
     "input": [
      "demo(\"C[N-]C(C)=[N+](C)C\")"
     ],
     "language": "python",
     "metadata": {},
     "outputs": [
      {
       "output_type": "stream",
       "stream": "stderr",
       "text": [
        "[2014/Jan/15 15:50:55 INFO    ] rule 15 'Fix 1,3 charge-seperated systems (non-aromatic)' applied\n"
       ]
      },
      {
       "html": [
        "<!-- NB the styling is inline as otherwise it is overridden by the Notebook stylesheets -->\n",
        "\n",
        "<table>\n",
        "\t<tr>\n",
        "\t\t<th style=\"text-align: center;\">Original</th>\n",
        "\t\t<th style=\"text-align: center;\">Transformed</th>\n",
        "\t</tr>\n",
        "\t<tr>\n",
        "\t\t<td><img src=\"data:image/png;base64,iVBORw0KGgoAAAANSUhEUgAAASwAAAEsCAIAAAD2HxkiAAAFCElEQVR4nO3dy04jSRRFUbLV///L\n",
        "rgElVCpo40ebHTdyLTFkYAlvnSQTHMflcnkDOv/ULwDOToQQEyHERAgxEUJMhBATIcRECDERQkyE\n",
        "EBMhxEQIMRFCTIQQEyHERAgxEUJMhBATIcRECDERQkyEEBMhxEQIMRFCTIQQEyHERAgxEUJMhBAT\n",
        "IcRECDERQkyEEBMhxEQIMRFCTIQQEyHERAgxEUJMhBATIcRECDERQkyEEBMhxEQIMRFCTIQQEyHE\n",
        "RAgxEUJMhBATIcRECDERQkyEEBMhxEQIMRFCTIQQEyHERAgxEUJMhBATIcRECDERQkyEEBMhxEQI\n",
        "MRFCTIQQEyHERAgxEUJMhBATIcRECDERQkyEEBMhxEQIMRFCTIQQEyHERAgxEUJMhBATIcRECDER\n",
        "QkyEEBMhxEQIMRFCTIQQEyHERDjecRz1S+ApIpztOI7L5VK/Cp4iQoiJcDAzuAcRQkyEU5nBbYhw\n",
        "JAXuRIQQE+E8ZnAzIhxGgfsRIcREOIkZ3JIIISbCMczgrkQ4gwI3JkKIiXAAM7g3Ea7uON4UuDcR\n",
        "QkyESzuONyu4PRFCTITrMoMnIcJFKfA8RAgxEa7IDJ6KCCEmwhWZwVMRIcRECDERQkyEEBPhj/t8\n",
        "kpmzzc5NhIW7qjuO319s6t/6BazouWM3rz1e+P3s4XK543n8+ze/7fAI338nf0mEX4jfKPNj+5IC\n",
        "/4vL0cjHvt34ze9clO5IhJ3PHX787vf5l8DhHZrBK1yOruT9bbrd5agCr7OEKReliLD3eSL2Gg0z\n",
        "+C0R/rjr1X08Ffxy7ozhjkS4mL+CHM4M3kKE08wZQwXeSITr+XYM53TILUS4vJmlmcHbiXBJ3759\n",
        "1x5DBd5FhKva6w4NV4hwrFXH0AzeS4QLc4fmHEQ4x4TSnKb4ABGubdQdmu3+8vyHiHB57tDsToTz\n",
        "rTGGZvBhIpzAGG5NhAN97rAeQzP4DBEOMeoODXcR4RyrXpSawSeJcCPGcCZ/YTTNn4Et8LMzg8+z\n",
        "hJMtsHgKfJ4Ip/Gu344IB1r1Dg2PESHERDiTMdyICLfwug4dafp6zqIY66+P0H9FG5uejbEaSzjZ\n",
        "z7Rx14EZ3M8SznbkR5ryNEvIDYzhK1nCwX70c83eO7xyV9YgP0qEPEp1/xOXo1MFH+/povQ1RDhS\n",
        "9gG71u8FRMhVux8kvAIRzuNz5jcjQoiJcBgzuB8RTqLALYkQYiIcwwzuSoQQE+EMZnBjIhxAgXsT\n",
        "IcREuDozuD0RLk2BZyBCiIlwXWbwJEQIMREuygyehwhXpMBTESHERLgcM3g2IoSYCNdiBk9IhAtR\n",
        "4DmJEGIiXIUZPC0RQkyESzCDZybCJSjwzEQIMRFCTIQQEyHERAgxEUJMhBATIcRECDERQkyEEBMh\n",
        "xEQIMRFCTIQQEyHERAgxEUJMhBATIcRECDERQkyEEBMhxEQIMRFCTIQQEyHERAgxEUJMhBATIcRE\n",
        "CDERQkyEEBMhxEQIMRFCTIQQEyHERAgxEUJMhBATIcRECDERQkyEEBMhxEQIMRFCTIQQEyHERAgx\n",
        "EUJMhBATIcRECDERQkyEEBMhxEQIMRFCTIQQEyHERAgxEUJMhBATIcRECDERQkyEEBMhxEQIMRFC\n",
        "TIQQEyHERAgxEUJMhBATIcRECDERQkyEEBMhxEQIMRFCTIQQEyHERAgxEUJMhBATIcRECDERQkyE\n",
        "EBMhxEQIMRFCTIQQ+wX4mxVtGTTK/QAAAABJRU5ErkJggg==\n",
        "\"></td>\n",
        "\t\t<td><img src=\"data:image/png;base64,iVBORw0KGgoAAAANSUhEUgAAASwAAAEsCAIAAAD2HxkiAAAE1UlEQVR4nO3dW07jWABF0bjV85+y\n",
        "6yP1gZoqOsEJ+z7WGoGlsHWMHbjHeZ43oPNPfQGwOxFCTIQQEyHERAgxEUJMhBATIcRECDERQkyE\n",
        "EBMhxEQIMRFCTIQQEyHERAgxEUJMhBATIcRECDERQkyEEBMhxEQIMRFCTIQQEyHERAgxEUJMhBAT\n",
        "IcRECDERQkyEEBMhxEQIMRFCTIQQEyHERAgxEUJMhBATIcRECDERQkyEEBMhxEQIMRFCTIQQEyHE\n",
        "RAgxEUJMhBATIcRECDERQkyEEBMhxEQIMRFCTIQQEyHERAgxEUJMhBATIcRECDERQkyEEBMhxEQI\n",
        "MRFCTIQQEyHERAgxEUJMhBATIcRECDERQkyEEBMhxEQIMRFCTIQQEyHERAgxEUJMhBATIcRECDER\n",
        "QkyEEBMhxEQIMRFCTIQQE+H0juOoL4FLRDi34zjO86yvgktECDERTswMrkGEEBPhrMzgMkQ4JQWu\n",
        "RIQQE+F8zOBiRDgZBa5HhBAT4UzM4JJECDERTsMMrkqEc1DgwkQIMRFOwAyuTYSjO46bAtcmQoiJ\n",
        "cGjHcbOCyxMhxEQ4LjO4CREOSoH7ECHERDgiM7gVEUJMhCMyg1sRIcRECDERQkyEEBNh6vOpZs45\n",
        "248Ia6rb3r/1BYzo2rGbj75e+P0e4jy9m9+cCP/AH9Hyk9yODuA+huxKhGPQ4cZECDERDuPjGFrF\n",
        "nYhwJB8fCOlwGyJM/fExrPw2I8LBGMP9iBBiIhyPMdyMCIenw9WJcEi+N7cTEY7KTek2RAgxEQ7M\n",
        "GO5BhPPQ4aJEODZPaDYgwuG5KV2dCCEmwhkYw6WJcEI6XIsIJ+EJzboO/1lsJh838PMH9+6F9KPy\n",
        "HpYQYpZwNl+PIROyhDPzhGYJIpyN9VuOCCfkteFaRAgxEc7JGC5EhEv4mQ4dafoejkab1n/OkPmZ\n",
        "N/WOUnwDSziz87zdbj86Rk6PegNLOLfDkabzs4Q8yRi+mggndhzRtw51+FIihJgIZ5XN4J0xfB0R\n",
        "Tiku8C6/gFWIkId9ru48zeF1IpzPEDPI64iQS/xueJ0IJ2MG1yPCmYxZoDG8SIQQE+E0xpzBO2N4\n",
        "hQghJsI5jDyDd8bw20Q4gfEL5AoR8jLG8HtEOLq5ZvA8b4cQnyTCoc1VIN8jQl7sPE9j+BQRjssM\n",
        "bkKEvJ4xfIoIBzX7DOrwcSIc0ewF8hQR8i7G8EEiHM5KM6jDR4gQYiIcy0ozeGcM/5cIB7JegTxC\n",
        "hLydMfyaCEex9gzq8AsihJgIh7D2DN4Zw79Z/7OHwVlCiIkQYiKEmAghJkKIiRBiIoSYCCEmQoiJ\n",
        "EGIihJgIISZCiIkQYiKEmAghJkKIiRBiIoSYCCEmQoiJEGIihJgIISZCiIkQYiKEmAghJkKIiRBi\n",
        "IoSYCCEmQoiJEGIihJgIISZCiIkQYiKEmAghJkKIiRBiIoSYCCEmQoiJEGIihJgIISZCiIkQYiKE\n",
        "mAghJkKIiRBiIoSYCCEmQoiJEGIihJgIISZCiIkQYiKEmAghJkKIiRBiIoSYCCEmQoiJEGIihJgI\n",
        "ISZCiIkQYiKEmAghJkKIiRBiIoSYCCEmQoiJEGIihJgIISZCiIkQYiKEmAghJkKIiRBiIoSYCCEm\n",
        "QoiJEGIihJgIISZCiIkQYiKE2C8n9uRUvsoxBQAAAABJRU5ErkJggg==\n",
        "\"></td>\n",
        "\t</tr>\n",
        "</table>"
       ],
       "metadata": {},
       "output_type": "pyout",
       "prompt_number": 25,
       "text": [
        "<IPython.core.display.HTML at 0x10c769ed0>"
       ]
      }
     ],
     "prompt_number": 25
    },
    {
     "cell_type": "markdown",
     "metadata": {},
     "source": [
      "Note that cases where the terminal negatively-charged atom is part of _e.g._ an N-oxide will not now be touched. This modification was motivated by molecules such as [CHEMBL8248](https://www.ebi.ac.uk/chembl/compound/inspect/CHEMBL8248), where application of the basic rule was undesirable."
     ]
    },
    {
     "cell_type": "markdown",
     "metadata": {},
     "source": [
      "[<a href=\"#top\">Top</a>]"
     ]
    },
    {
     "cell_type": "markdown",
     "metadata": {
      "slideshow": {
       "slide_type": "slide"
      }
     },
     "source": [
      "<p><a name=\"Fix_1_3_charge-seperated_systems_aromatic_1\"></a></p>\n",
      "### Fix 1,3 charge-seperated systems (aromatic 1)\n"
     ]
    },
    {
     "cell_type": "code",
     "collapsed": false,
     "input": [
      "demo(\"[n-]1c(=[N+](C)C)cccc1\")"
     ],
     "language": "python",
     "metadata": {
      "slideshow": {
       "slide_type": "-"
      }
     },
     "outputs": [
      {
       "output_type": "stream",
       "stream": "stderr",
       "text": [
        "[2014/Jan/15 15:50:55 INFO    ] rule 16 'Fix 1,3 charge-seperated systems (aromatic 1)' applied\n"
       ]
      },
      {
       "html": [
        "<!-- NB the styling is inline as otherwise it is overridden by the Notebook stylesheets -->\n",
        "\n",
        "<table>\n",
        "\t<tr>\n",
        "\t\t<th style=\"text-align: center;\">Original</th>\n",
        "\t\t<th style=\"text-align: center;\">Transformed</th>\n",
        "\t</tr>\n",
        "\t<tr>\n",
        "\t\t<td><img src=\"data:image/png;base64,iVBORw0KGgoAAAANSUhEUgAAASwAAAEsCAIAAAD2HxkiAAAFn0lEQVR4nO3dS3bbOBQAUbFP73/L\n",
        "7IHcTuIP9XGoIsB7R5lZRFB4tGhby7quF6DzT/0C4OxECDERQkyEEBMhxEQIMRFCTIQQEyHERAgx\n",
        "EUJMhBATIcRECDERQkyEEBMhxEQIMRFCTIQQEyHERAgxEUJMhBATIcRECDERQkyEEBMhxEQIMRFC\n",
        "TIQQEyHERAgxEUJMhBATIcRECDERQkyEEBMhxEQIMRFCTIQQEyHERAgxEUJMhBATIcRECDERQkyE\n",
        "EBMhxEQIMRFCTIQQEyHERAgxEUJMhBATIcRECDERQkyEEBMhxEQIMRFCTIQQEyHERAgxEUJMhBAT\n",
        "IcRECDERQkyEEBMhxEQIMRFCTIQQEyHERAgxEUJMhBATIcRECDERQkyEEBMhxEQIMRFCTIQQEyHE\n",
        "RAgxEUJMhBATIcRECDERQkyEEBMhxEQIMRFCTIQQEyHERAgxEUJMhBATIcRECDERQkyEEBMhxEQI\n",
        "MRFC7N/6BWSWZVnXtX4V+1qW5fVfdPpV/evm34gb5u6wurq5V3UPbkchduoI13VNbtheIBxHE6/q\n",
        "Tk4dIRzB2SOc8tjOvyubclX3c/YIISfC2Y7tfAxeTbaquxIhxA5xah7BQQbID21cxa5zaeOLTrCq\n",
        "ezvvT8zMZ3vHJzFcb0p1uM3t6Bvfw1AR4SQOO3CcbjeJ8BfbhYQIZ3DYMXjldNsmwj/YLryeCId3\n",
        "8DF45XTbIMKPbJedWNjviPAL67qOsluGGINsE+HAhivQMPySCL+2rhe7hdcQ4aiGG4NXhuFnIvyW\n",
        "YchriHDLYTscdAxeGYYf+C2Kn9l1Mw2bGQ8xCW844DAcegxeGYa/G/6/82wmKPDdTNfyEyYhxEQ4\n",
        "kslGh5vSKxFCTITDmGwMXhmGFxFCToSbPh/S0bE9xxj8cugZhh7W37IsDzw0P/dm2jbHObIHk/CW\n",
        "AzytXy6XuTfvyYehSfgzH+bkPif9268YPzSTD2Z7DJ58SJqEdzjAMGRiIrzP5w6X5fI+oPZO9H1K\n",
        "jHkWGIPbRPisdX1r4/0fe3+5q9E61NhNIrybm9IdSPQiwsd83i6v3EADDkON3UOEm/7fQL+2vS31\n",
        "90j0SoS3HejRwFDD0PsxdxLhDQcqcCgau58IRzPUMPyORH8nwi0HHYOH71BjDxHhtw5a4Pgk+oEI\n",
        "x3TgYaixR4nwa8bgTiT6mQiHdchh6LHEE0T4hWVZBtsqx+hQY88R4Ucj7aRRXuflchlrYV9LhIM7\n",
        "zE2pxp4mwj/YSTuxsBtEOL4DDEPvx/yECH+xV55j3X5IhFM4wDD8jkRvEuGb4fdK1OHw63YAImRH\n",
        "Er2Hvzt6uUyzV15+CZOsW80k5HnbBUr0TiK0V3ZhVe8nQoidPUIH9h6s6kPOHiHkTh3hVAe2zzMd\n",
        "1qkjnM3xflyGe5z3OeGEB/b10zLuu6g7gn0y6dlWdX/njfDke+WOqz/1+ryS29G5+OioAZ13Ek7r\n",
        "803phyzPfQtwQCI8AdUdm9vRGbkpHYoIJ2X6jWO6t+lhNCYhxEQIMRFCTIQQEyHERAgxEUJMhBAT\n",
        "IcRECDERQkyEEBMhxEQIMRFCTIQQEyHERAgxEUJMhBATIcRECDERQkyEEBMhxEQIMRFCTIQQEyHE\n",
        "RAgxEUJMhBATIcRECDERQkyEEBMhxEQIMRFCTIQQEyHERAgxEUJMhBATIcRECDERQkyEEBMhxEQI\n",
        "MRFCTIQQEyHERAgxEUJMhBATIcRECDERQkyEEBMhxEQIMRFCTIQQEyHERAgxEUJMhBATIcRECDER\n",
        "QkyEEBMhxEQIMRFCTIQQEyHERAgxEUJMhBATIcRECDERQkyEEBMhxEQIMRFCTIQQEyHERAgxEUJM\n",
        "hBATIcRECDERQkyEEBMhxEQIMRFCTIQQEyHERAgxEUJMhBATIcRECDERQkyEEBMhxP4DLWygV0Sk\n",
        "M9cAAAAASUVORK5CYII=\n",
        "\"></td>\n",
        "\t\t<td><img src=\"data:image/png;base64,iVBORw0KGgoAAAANSUhEUgAAASwAAAEsCAIAAAD2HxkiAAAFo0lEQVR4nO3d23LaSBRAUTQ1///L\n",
        "zAOZXBwQYBt2d2utyjtSV28dWXLwdj6fT0Dnn/oA4OhECDERQkyEEBMhxEQIMRFCTIQQEyHERAgx\n",
        "EUJMhBATIcRECDERQkyEEBMhxEQIMRFCTIQQEyHERAgxEUJMhBATIcRECDERQkyEEBMhxEQIMRFC\n",
        "TIQQEyHERAgxEUJMhBATIcRECDERQkyEEBMhxEQIMRFCTIQQEyHERAgxEUJMhBATIcRECDERQkyE\n",
        "EBMhxEQIMRFCTIQQEyHERAgxEUJMhBATIcRECDERQkyEEBMhxEQIMRFCTIQQEyHERAgxEUJMhBAT\n",
        "IcRECDERQkyEEBMhxEQIMRFCTIQQEyHERAgxEUJMhBATIcRECDERQkyEEBMhxEQIMRFCTIQQEyHE\n",
        "RAgxEUJMhBATIcRECDERQkyEEBMhxEQIMRFCTIQQEyHERAgxEUJMhBATIcRECDERQkyEEBMhxEQI\n",
        "MRFC7N/6ADLbtp3P5/ooXmvbtvd/6PKr+u3W34g71u6wOru1V/UV3I5C7NARns/n5IbtDcJxtPCq\n",
        "vsihI4QRHD3CJS/b+U9lS67q6xw9QsiJcLXLdj4GLxZb1ZcSIcSGuGqOYJAB8kU7Z/HSubTzoQus\n",
        "6qsd9zdm1rO/45MYLjelOtzndvQHP8NQEeEihh04rm53ifAX24WECFcw7Bi8cHXbJ8I/2C68nwin\n",
        "N/gYvHB12yHCj2yXF7Gwt4jwivP5PMtumWIMsk+EE5uuQMPwKhFedz6f7BbeQ4Szmm4MXhiGfxPh\n",
        "TYYh7yHCPcN2OOkYvDAMPxAhxER4x4DDcOoxeGEY/k6Ek1mgwAsd/iTC+5bY84xLhDNZZgxeGIYX\n",
        "IoSYCKex2Bi8MAxPIoScCB/29wX7jZfwm2Nw2378m8HVoWcY+srDZ2zblUel7Qb6+R7z6rGNZMnb\n",
        "6W9hEj4jenO/nU5rb96DD0OT8Mtef3U/78+6GYbh/hg8+JA0CZ804K+x/W7kY+MGET7v/R3+nBK3\n",
        "PnfsMWIM7hPhJB7vcLBhqLG7RPgpg9+UzkOiJxF+3vu3zoTDUGOPEOFDtu1adbbX10j0QoT3DfTk\n",
        "f6ph6HnMg0R4x0AFTkVjjxPhbKYahrdI9Hci3DPoGHw8s6hDjT1FhDcNWuAjxj5uiX4gwjkNfFOq\n",
        "sWeJ8LqJx+DYJPo3EU5ryGHotcQniPCKbdsm2ypjPAjV2OeI8KOZdtLd4xzpdcVMC/teIpzcMJlp\n",
        "7NNE+IcFd9IYlS64sN9HhPMb4N295zFfIcJflt0rLz6pZdftXUS4hCFfV/z/gRK9Q4Q/TL9Xosym\n",
        "X7cBiPAwxnt3z4XvHT2dltkrl2++2TmR7z7HRdatZhLyefsFSvRBIlxrrwxzIkut6ouJEGJHj9AF\n",
        "+xWs6lOOHiHkDh3hshfsMf+eKTccOsKV1f+pgscd9z3h4hfsa+8MnwzzkxmvvKqvcdwID7hXnjzj\n",
        "w61Pxe3ouvzpqEmIcGk6nIEIISbC1RmGwxPhARzvEdRcln5MDzMwCSEmQoiJEGIihJgIISZCiIkQ\n",
        "YiKEmAghJkKIiRBiIoSYCCEmQoiJEGIihJgIISZCiIkQYiKEmAghJkKIiRBiIoSYCCEmQoiJEGIi\n",
        "hJgIISZCiIkQYiKEmAghJkKIiRBiIoSYCCEmQoiJEGIihJgIISZCiIkQYiKEmAghJkKIiRBiIoSY\n",
        "CCEmQoiJEGIihJgIISZCiIkQYiKEmAghJkKIiRBiIoSYCCEmQoiJEGIihJgIISZCiIkQYiKEmAgh\n",
        "JkKIiRBiIoSYCCEmQoiJEGIihJgIISZCiIkQYiKEmAghJkKIiRBiIoSYCCEmQoiJEGIihJgIISZC\n",
        "iIkQYiKEmAghJkKIiRBiIoSYCCEmQoiJEGIihJgIISZCiIkQYiKEmAghJkKIiRBiIoSYCCH2HxnP\n",
        "s1ul95dtAAAAAElFTkSuQmCC\n",
        "\"></td>\n",
        "\t</tr>\n",
        "</table>"
       ],
       "metadata": {},
       "output_type": "pyout",
       "prompt_number": 26,
       "text": [
        "<IPython.core.display.HTML at 0x10c769a10>"
       ]
      }
     ],
     "prompt_number": 26
    },
    {
     "cell_type": "markdown",
     "metadata": {},
     "source": [
      "[<a href=\"#top\">Top</a>]"
     ]
    },
    {
     "cell_type": "markdown",
     "metadata": {
      "slideshow": {
       "slide_type": "skip"
      }
     },
     "source": [
      "<p><a name=\"Fix_1_3_charge-seperated_systems_aromatic_2\"></a></p>\n",
      "### Fix 1,3 charge-seperated systems (aromatic 2)\n",
      "\n",
      "Note that it is not clear here whether, when the starting structure contains an amide anion, that the uncharged imine produced is more or less desirable that the original zwitterion or even than the cationic methyl-pyridine that would be produced by protonation of the amide anion."
     ]
    },
    {
     "cell_type": "code",
     "collapsed": false,
     "input": [
      "demo(\"C[n+]1c([N-](C))cccc1\")"
     ],
     "language": "python",
     "metadata": {
      "slideshow": {
       "slide_type": "skip"
      }
     },
     "outputs": [
      {
       "output_type": "stream",
       "stream": "stderr",
       "text": [
        "[2014/Jan/15 15:50:56 INFO    ] rule 17 'Fix 1,3 charge-seperated systems (aromatic 2)' applied\n"
       ]
      },
      {
       "html": [
        "<!-- NB the styling is inline as otherwise it is overridden by the Notebook stylesheets -->\n",
        "\n",
        "<table>\n",
        "\t<tr>\n",
        "\t\t<th style=\"text-align: center;\">Original</th>\n",
        "\t\t<th style=\"text-align: center;\">Transformed</th>\n",
        "\t</tr>\n",
        "\t<tr>\n",
        "\t\t<td><img src=\"data:image/png;base64,iVBORw0KGgoAAAANSUhEUgAAASwAAAEsCAIAAAD2HxkiAAAGLUlEQVR4nO3d0XaiyAJAUbhr/v+X\n",
        "vQ+ZlbETNWAbT0HtvfohDyahgWMVlMb1crksQOd/9QbA7EQIMRFCTIQQEyHERAgxEUJMhBATIcRE\n",
        "CDERQkyEEBMhxEQIMRFCTIQQEyHERAgxEUJMhBATIcRECDERQkyEEBMhxEQIMRFCTIQQEyHERAgx\n",
        "EUJMhBATIcRECDERQkyEEBMhxEQIMRFCTIQQEyHERAgxEUJMhBATIcRECDERQkyEEBMhxEQIMRFC\n",
        "TIQQEyHERAgxEUJMhBATIcRECDERQkyEEBMhxEQIMRFCTIQQEyHERAgxEUJMhBATIcRECDERQkyE\n",
        "EBMhxEQIMRFCTIQQEyHERAgxEUJMhBATIcRECDERQkyEEBMhxEQIMRFCTIQQEyHERAgxEUJMhBAT\n",
        "IcRECLF/6g3gwNZ1/fjicrm0W3JoImSHz+o+fLa3rqsOn2bf8YPr8B6cLTp8mh3HV/eGuy3f6HR6\n",
        "gr3G89Xd/FHOqL1cE87ohdXx9zxvzWLjpd1LfpGTahf767TC4U6Hu9hZZzPI2p0Ot3NNeEJvOPt/\n",
        "TP1yuehwI7vpVH71vH/iqlKHWxgJeeQvb+cYD7cQIX94+e0cHf7I3jmPp8/1N6xe6PABI+Gk3rZs\n",
        "+PkrdHiPCCfy5vDYSITnN8jKocHwHjvlJI5yfh9lO9/Jn7fgrT7Gw3orxiJC3k2HX4jwDA43x9Ph\n",
        "NRHS0OEnEZLR4QcRHt7h5qLXdLjMGaGjzlBmjNCz71AcjhkjXBz4wUx+OCaNcDnLgT/0BeG1cxyO\n",
        "58wbIaOZtsOpI5z2qLfs8y+mjnA5eIenmYt+ONl/Z7vZI1wO3uHhTFvaAyJcFh2SEuG/DtehIeU0\n",
        "RPifw3V4OA+eOGZ+ThEhxET4h6MMhjOPG+cjwq+O0uHhmIveI8IbdMg7ifC2y+UiQ95DhHddLsuY\n",
        "Hd6dvK3roFtsLvqQCB8ZtsMbPjf0MFvMv0R4Rjo8FBH+YKDBcF2XdV3X9d5H43598DBMOB8T4c/K\n",
        "Dj8u875f7N3coIE7vEefi8+iGM6ucu7dnvnxMW/0ODMRLj6VaQiPw3swvq3rjca+DNw3H8NIRBh5\n",
        "EN7jZrY0dpAODYMfRPhGT4f3/cF7O4zIbAsR/rJXhff9e3d1OOpgyCLCX7TlBubf2DvWDdahQfKT\n",
        "JYrNvp/xGxu4XP7791rXP3C8RQuZbSTCPfauH/xGeA+M1yFbiHCPMe52/GFLYzocmwiPb8gOrdFv\n",
        "J8KdBhwMl6c6ZBgi3O97h9ev8KwS3dvhgE8ls7JE8QqDDDJ7Xyjza4sW5qK7GAmfMuakdNnwdOAm\n",
        "zXhE+KxDPJdHN2kMdLuYGJzRlnczRe94Mhf9zkh4RkMuWnCPCE9Kh8chwvOyeHgQIjy1XR3+fpAu\n",
        "CG+yTnh2W1ZT3pLfb/+K4xLhBIrB50t1BsAHRMjLXIenuu1EyPMMdy8hQna4im5dVPciIuSR+6+r\n",
        "kd/LiHAO398w8fAtFJ/tGereQITT2PPGJe29k8X6aQz79qvpiZBlWbxwtCTCmRgMhyTCydz7AznX\n",
        "X/BebsxM7+MmzGB/JH8qRsL5mJQORoRTuvkRTkREOIc/G1tX1Q1EhBATIcREOB33QUcjQoiJEGIi\n",
        "nIu56IBECDERQkyEEBPhRFwQjkmEEBPhVLx5YkQinIUPYxmWCCEmQoiJcArmoiMTIcRECDERnp+5\n",
        "6OBECDERQkyEJ2cuOj4RQkyEEBPhmZmLHoIIISZCiInwtMxFj0KEEBPhaRkGj0KEEBMhxEQIMRFC\n",
        "TIQQEyHERAgxEUJMhBATIcRECDERQkyEEBMhxEQIMRFCTIQQEyHERAgxEUJMhBATIcRECDERQkyE\n",
        "EBMhxEQIMRFCTIQQEyHERAgxEUJMhBATIcRECDERQkyEEBMhxEQIMRFCTIQQEyHERAgxEUJMhBAT\n",
        "IcRECDERQkyEEBMhxEQIMRFCTIQQEyHERAgxEUJMhBATIcRECDERQkyEEBMhxEQIMRFCTIQQEyHE\n",
        "RAgxEUJMhBATIcRECDERQkyEEBMhxEQIMRFCTIQQEyHERAgxEUJMhBATIcRECDERQkyEEBMhxEQI\n",
        "MRFCTIQQEyHERAgxEUJMhBATIcT+D8+dG3dgRE3tAAAAAElFTkSuQmCC\n",
        "\"></td>\n",
        "\t\t<td><img src=\"data:image/png;base64,iVBORw0KGgoAAAANSUhEUgAAASwAAAEsCAIAAAD2HxkiAAAGH0lEQVR4nO3d23KiWABAUZya//9l\n",
        "5iFTadsYxOsGzlqVh66UURrYnsMl5jTP8wR0/qkXAEYnQoiJEGIihJgIISZCiIkQYiKEmAghJkKI\n",
        "iRBiIoSYCCEmQoiJEGIihJgIISZCiIkQYiKEmAghJkKIiRBiIoSYCCEmQoiJEGIihJgIISZCiIkQ\n",
        "YiKEmAghJkKIiRBiIoSYCCEmQoiJEGIihJgIISZCiIkQYiKEmAghJkKIiRBiIoSYCCEmQoiJEGIi\n",
        "hJgIISZCiIkQYiKEmAghJkKIiRBiIoSYCCEmQoiJEGIihJgIISZCiIkQYiKEmAghJkKIiRBiIoSY\n",
        "CCEmQoiJEGIihJgIISZCiIkQYiKEmAghJkKIiRBiIoSYCCEmQoiJEGIihJgIISZCiIkQYiKEmAgh\n",
        "JkKI/VsvADt2Op2+/jHPc7skuyZC7vBd3Zfv9k6nkw4fZt1xw3l4C3uLDh9mxXHpt+FuzQ/anR5g\n",
        "rfF4dVefyh51L8eEI3phdTzP+9YoVh7aveSF7FR3sb4OKxzudHgXK+toNnLtTofrOSY8oA/s/TdT\n",
        "n+dZhytZTYfy1v3+gaNKHa5hJGTJk6dzjIdriJC/vPx0jg5vsnaO4+F9/QNXL3S4wEg4qI9dNvx+\n",
        "CR3+RoQD+XB4rCTC49vIlUOD4W+slIPYy/69l+X8JB9vwUd9jYf1UmyLCPk0HV4Q4RHsbo6nw3Mi\n",
        "pKHDbyIko8MvIty93c1Fz+lwGjNCW51NGTFC776bYnOMGOFkw2/M4Jtj0Aino2z4XR8QnjvG5njM\n",
        "uBGyNcN2OHSEw271lnV+YegIp513eJi56JeD/XfWGz3Caecd7s6wpS0Q4TTpkJQI/7e7Dg0phyHC\n",
        "P3bX4e4svHGM/J4iQoiJ8C97GQxHHjeOR4SX9tLh7piL/kaEV+iQTxLhdfM8y5DPEOGv5nnaZod7\n",
        "nLyZiy4Q4ZLNdsiRiBBiPgb/hq/BcBPTpdNpmqbTNG1hWe5iwrlMhLeVHf42G97KG8Oz9DmJcKXP\n",
        "dXjrGPTPIuykQ5ndJMK13tjhcngXL3n+4J10yDIR3uGVHS6Et/wCF2ds99yhQfKLCO/z1D7zcHg/\n",
        "H7yTDmW2hgjf7FXh/fzZnXTITSJ8tbsO8J6x8zsJDJLfXKx/yM+9/+s7V6uY5z9fr3X+hNsLUmYr\n",
        "GQkftTADrPY8k9J9MhI+6ups8B3D3TRNp9P/X1cX4+KR7I2RcKvW57TJkzTLc1Ez1XMifMJrr98/\n",
        "c0Znkx2ykgif82SHLzyVqsPdEuHHvenK4bShDs1F7yLCp928XvexK4drFobtEeEr/Nz1Pxnegmgw\n",
        "NNDdxcTg1dZcSPjwMmxpE5uL/mQkfJtwV9vMwSFruFj/am+6Q+2BxTjnQHHDRHhcOtwJER7axjp0\n",
        "QHiVY8Kj28ZFC39WYIEIB1B0eFGdAXCBCHmZ8/BUt54Ix/CewdBw9xIiHMYrOjx7gtOkuhdxtool\n",
        "G7735jiMhOP5eQPN3985D091HyDCIV27ke27PeF9mAiHdO13kbVXcccMxEQ4qm3cScMkwqHpcBtE\n",
        "CDERjs1guAEiHJ6zojURjmeeLwc/HaZECDERQkyEw/HZa1sjQoiJEGIiHIu56AaJEGIihJgIISbC\n",
        "gTgg3CYRQkyEQ/ELE1skwlH4YyybJUKIiRBiIhyCueiWiRBiIoSYCI/PXHTjRAgxEUJMhAdnLrp9\n",
        "IoSYCCEmwiMzF90FEUJMhBAT4WGZi+6FCCEmwsMyDO6FCCEmQoiJEGIihJgIISZCiIkQYiKEmAgh\n",
        "JkKIiRBiIoSYCCEmQoiJEGIihJgIISZCiIkQYiKEmAghJkKIiRBiIoSYCCEmQoiJEGIihJgIISZC\n",
        "iIkQYiKEmAghJkKIiRBiIoSYCCEmQoiJEGIihJgIISZCiIkQYiKEmAghJkKIiRBiIoSYCCEmQoiJ\n",
        "EGIihJgIISZCiIkQYiKEmAghJkKIiRBiIoSYCCEmQoiJEGIihJgIISZCiIkQYiKEmAghJkKIiRBi\n",
        "IoSYCCEmQoiJEGIihJgIISZCiIkQYiKEmAghJkKIiRBiIoSYCCEmQoiJEGIihJgIISZCiIkQYiKE\n",
        "mAghJkKI/QfISxxhtPStzgAAAABJRU5ErkJggg==\n",
        "\"></td>\n",
        "\t</tr>\n",
        "</table>"
       ],
       "metadata": {},
       "output_type": "pyout",
       "prompt_number": 27,
       "text": [
        "<IPython.core.display.HTML at 0x10c770650>"
       ]
      }
     ],
     "prompt_number": 27
    },
    {
     "cell_type": "markdown",
     "metadata": {},
     "source": [
      "Note that the anionic atom may also be an oxygen, [CHEMBL1985737](https://www.ebi.ac.uk/chembl/compound/inspect/CHEMBL1985737), being an example where this rule is applied. In this case, the pyrimidone is the desired product and the question about the suitability of the rule do not apply..."
     ]
    },
    {
     "cell_type": "code",
     "collapsed": false,
     "input": [
      "demo(\"[O-]c1[n+](C)cccc1\")"
     ],
     "language": "python",
     "metadata": {},
     "outputs": [
      {
       "output_type": "stream",
       "stream": "stderr",
       "text": [
        "[2014/Jan/15 15:50:56 INFO    ] rule 17 'Fix 1,3 charge-seperated systems (aromatic 2)' applied\n"
       ]
      },
      {
       "html": [
        "<!-- NB the styling is inline as otherwise it is overridden by the Notebook stylesheets -->\n",
        "\n",
        "<table>\n",
        "\t<tr>\n",
        "\t\t<th style=\"text-align: center;\">Original</th>\n",
        "\t\t<th style=\"text-align: center;\">Transformed</th>\n",
        "\t</tr>\n",
        "\t<tr>\n",
        "\t\t<td><img src=\"data:image/png;base64,iVBORw0KGgoAAAANSUhEUgAAASwAAAEsCAIAAAD2HxkiAAAFn0lEQVR4nO3d0ZLaNgBA0XWn///L\n",
        "7gNTmiWkC0b2leGct2QGLIzuSgYGlnVdv4DOX/UA4NOJEGIihJgIISZCiIkQYiKEmAghJkKIiRBi\n",
        "IoSYCCEmQoiJEGIihJgIISZCiIkQYiKEmAghJkKIiRBiIoSYCCEmQoiJEGIihJgIISZCiIkQYiKE\n",
        "mAghJkKIiRBiIoSYCCEmQoiJEGIihJgIISZCiIkQYiKEmAghJkKIiRBiIoSYCCEmQoiJEGIihJgI\n",
        "ISZCiIkQYiKEmAghJkKIiRBiIoSYCCEmQoiJEGIihJgIISZCiIkQYiKEmAghJkKIiRBiIoSYCCEm\n",
        "QoiJEGIihJgIISZCiIkQYiKEmAghJkKIiRBiIoSYCCEmQoiJEGIihJgIISZCiIkQYiKEmAghJkKI\n",
        "iRBiIoSYCCEmQoiJEGIihJgIISZCiIkQYiKEmAghJkKIiRBiIoSYCCEmQoiJEGIifMKyLPUQBniP\n",
        "R/FOlnVd6zGcyWUGn/SkXQd/6kfxfkS4xekm8d0Bn+5RvCsRbrcs5zh7/z9OKebOMY2mNfkMfnx4\n",
        "Z/mD8pac+gHmnMHPjmryPyhvbMbZc0ZTzeBXBjPVA/kQIhwpn8GjBpA/kI8iwvGq3enw4865zX4/\n",
        "zvIuDl5J9jucJfEAItzRMSvJU0fZNiQp7kqE+7p8RGync7ztzjcXZXe6E6f1CMNTfP0Ot6VoSdyD\n",
        "CI8zJMWxPUtxBiI82uaK9tvZulBsiZCvLxeKKWeQ/9idJkTILbvTg4mwsyy3V3i//0/kld3ptht+\n",
        "sr/rAXy2aaq7caloQ1HXG+rwcSJMreu0HX69kCJP8UVPE5vjG5nWdb1+LQ17EGHtshhO79KhFPdg\n",
        "OzqB3zel17n+6zv0u34O9QF2pzsR4ZSu1c0316U4nO3oHE6yKb1yoTiQCKfx+6oy/TpjJRxChJ27\n",
        "M3hZ7i+J1pz3JUKIiRBiIoSYCCEmQoiJEGIihJgIISZCiIkQYiKEmAghJkKIiRBiIoSYCCEmQoiJ\n",
        "EGIihJgIISZCiIkQYiKEmAghJkK28zX4Q/hBGLbwgzADifAkppnu8htOhDxKfjsRIQ9ZlkV+OxEh\n",
        "P7AA7k2Ec/j3ZcZlpukuv2OIcAK/vNB//fnbfOpv239OMvhzsdFP/fo+2/cnIpzN2w4tv81EGLl5\n",
        "m/sPz8LBM1t+CREe7rH8vt9i96dpc0heNX2dM3isP+8/f7rdjquNy7+WCI+yNb/v9zF43tt/zkCE\n",
        "+3t+//nT/Q1oQH7zEOGeRuf3/b43Pncu/2bjtO5mxP7zpyM8nZPLvwmJcAd7LoD3jrbvazb73TkX\n",
        "Ihzq2Py+H3n8U2n/eQxneZz9958/HX/YqmUBPJLPjo7WTdxLMy/2I7/jiXCoCebu5hTlV7EdfWeP\n",
        "X9S5/As59W/ux/XNApgT4fPqF2A2uFua/CYhwicty7fwbv45t2t18puKCJ9xN7lTdfjl8m8+voH7\n",
        "4yhwNiKEmPcJ7+k+fcYHEuE9quNAtqPPWNfbRfJsr8owISvhk246VCAvE+HzhMdQtqMQEyHERAgx\n",
        "EUJMhBATIcRECDERQkyEEBMhxEQIMRFCTIQQEyHERAgxEUJMhBATIcRECDERQkyEEBMhxEQIMRFC\n",
        "TIQQEyHERAgxEUJMhBATIcRECDERQkyEEBMhxEQIMRFCTIQQEyHERAgxEUJMhBATIcRECDERQkyE\n",
        "EBMhxEQIMRFCTIQQEyHERAgxEUJMhBATIcRECDERQkyEEBMhxEQIMRFCTIQQEyHERAgxEUJMhBAT\n",
        "IcRECDERQkyEEBMhxEQIMRFCTIQQEyHERAgxEUJMhBATIcRECDERQkyEEBMhxEQIMRFCTIQQEyHE\n",
        "RAgxEUJMhBATIcRECDERQkyEEBMhxEQIMRFCTIQQEyHERAgxEUJMhBATIcRECDERQuwfs5E26cCM\n",
        "TG8AAAAASUVORK5CYII=\n",
        "\"></td>\n",
        "\t\t<td><img src=\"data:image/png;base64,iVBORw0KGgoAAAANSUhEUgAAASwAAAEsCAIAAAD2HxkiAAAFtklEQVR4nO3d0XLaOABA0Xpn//+X\n",
        "vQ9smYR2ErAtX5mc89bMAMLVjSQSyLKu6y+g8089APjpRAgxEUJMhBATIcRECDERQkyEEBMhxEQI\n",
        "MRFCTIQQEyHERAgxEUJMhBATIcRECDERQkyEEBMhxEQIMRFCTIQQEyHERAgxEUJMhBATIcRECDER\n",
        "QkyEEBMhxEQIMRFCTIQQEyHERAgxEUJMhBATIcRECDERQkyEEBMhxEQIMRFCTIQQEyHERAgxEUJM\n",
        "hBATIcRECDERQkyEEBMhxEQIMRFCTIQQEyHERAgxEUJMhBATIcRECDERQkyEEBMhxEQIMRFCTIQQ\n",
        "EyHERAgxEUJMhBATIcRECDERQkyEEBMhxEQIMRFCTIQQEyHERAgxEUJMhBATIcRECDERQkyEEBMh\n",
        "xEQIMRFCTIQQEyHERAgxEUJMhBATIcRECDERQkyEEBMhxEQIMRFCTIQQEyHERAgxEb5gWZZ6CAd4\n",
        "j2fxTpZ1XesxXMltBl/0ot0Hf+ln8X5EuMXlJvFfB3y5Z/GuRLjdslzj6n09TinmrjGNpjX5DH5+\n",
        "eFf5hvKWXPoDzDmDXx3V5N9Q3tiMs+eKpprBewYz1RP5IUR4pHwGHzWA/In8KCI8XrU7Pfxx59xm\n",
        "vx9XeYiTV5JxD2dJPIEIBzpnJXnpUbYNSYpDiXCs26+IDbrG2+58c1F2p4O4rGc4PMX9d7gtRUvi\n",
        "CCI8zyEpHtuzFGcgwrNtrmjcztZBsSXCxktFDT1Y/n4IB8WMK1j6tq4T8vv8cHanARHyyO70ZCKc\n",
        "w7I8rnd/fuVEe3an2274k/1bD4Df0uoe3CraUNT9hjp8nginsa5TdfhrR4q8xAc98Y11Xe8fS8MI\n",
        "IpzJbTGc0q1DKY5gOzqZ+Tald3ang4iQ10jxcLaj85l4U3rnoHggEU7pIiuMlfAQtqNzuM3m+8Ky\n",
        "rlfpkP2shBATIcRECDERQkyEEBMhxEQIMRFCTIQQEyHERAgxEUJMhBATIcRECDERQkyEEBMhxEQI\n",
        "MRFCTIQQEyHERAgxEUJMhGznY/AP4RO453C12ewPwhxIhDX5/XgiTH0scPo/xiS/QUQYechvesuy\n",
        "yG8QEZ7uYbmbfmZbAEcT4Ym+zW9dp1pw5HeOif7L39zT+89Jpv62bweTDP5aRDjepuNfOJu3PbT8\n",
        "NrMdHWnb8e/DbD55ZssvIcIxduT3+Xb/pzh6im8OaapD7EW5ggNs+/HDl7cauto4/rVEeKj9C+C5\n",
        "r9nYf85AhAc5ZP/53K0OaUB+8xDhETbsP3f/yH7zYczxbzYu6z4Djn+vPPjLOTn+TUiEWw0+/r0y\n",
        "kLGv2Yy7c25E+LoTj3/PG7FXtP88h6s83lm/sX3gqmUBPJMIBzv9LUs7+5Hf+UQ4TPqWpW2v2bx6\n",
        "Ew4hwgGmecfg84c6x7+QS3+0yd4y/+36ZgHMifA5z6Q1WX4f/bU0+U1ChE9Ylk9RPfzz10T7z6/d\n",
        "q5PfVET4nT+T+/jFi+T3kePfbLyf8CDXmdYKnI0IdzOn2cffothHgewmQoiJ8Dt/fjr9X1+qga2c\n",
        "CZ/w0KECOZQInyM8hrEdhZgIISZCiIkQYiKEmAghJkKIiRBiIoSYCCEmQoiJEGIihJgIISZCiIkQ\n",
        "YiKEmAghJkKIiRBiIoSYCCEmQoiJEGIihJgIISZCiIkQYiKEmAghJkKIiRBiIoSYCCEmQoiJEGIi\n",
        "hJgIISZCiIkQYiKEmAghJkKIiRBiIoSYCCEmQoiJEGIihJgIISZCiIkQYiKEmAghJkKIiRBiIoSY\n",
        "CCEmQoiJEGIihJgIISZCiIkQYiKEmAghJkKIiRBiIoSYCCEmQoiJEGIihJgIISZCiIkQYiKEmAgh\n",
        "JkKIiRBiIoSYCCEmQoiJEGIihJgIISZCiIkQYiKEmAghJkKIiRBiIoSYCCEmQoiJEGIihJgIISZC\n",
        "iIkQYiKEmAghJkKIiRBi/wG4Q1zoOPk7wAAAAABJRU5ErkJggg==\n",
        "\"></td>\n",
        "\t</tr>\n",
        "</table>"
       ],
       "metadata": {},
       "output_type": "pyout",
       "prompt_number": 28,
       "text": [
        "<IPython.core.display.HTML at 0x10c7706d0>"
       ]
      }
     ],
     "prompt_number": 28
    },
    {
     "cell_type": "markdown",
     "metadata": {},
     "source": [
      "[<a href=\"#top\">Top</a>]"
     ]
    },
    {
     "cell_type": "markdown",
     "metadata": {
      "slideshow": {
       "slide_type": "skip"
      }
     },
     "source": [
      "<p><a name=\"Fix_1_5_charge-seperated_systems_non-aromatic\"></a></p>\n",
      "### Fix 1,5 charge-seperated systems (non-aromatic)\n"
     ]
    },
    {
     "cell_type": "code",
     "collapsed": false,
     "input": [
      "demo(\"C[N-]C=CC=[N+](C)C\")"
     ],
     "language": "python",
     "metadata": {
      "slideshow": {
       "slide_type": "skip"
      }
     },
     "outputs": [
      {
       "output_type": "stream",
       "stream": "stderr",
       "text": [
        "[2014/Jan/15 15:50:56 INFO    ] rule 18 'Fix 1,5 charge-seperated systems (non-aromatic)' applied\n"
       ]
      },
      {
       "html": [
        "<!-- NB the styling is inline as otherwise it is overridden by the Notebook stylesheets -->\n",
        "\n",
        "<table>\n",
        "\t<tr>\n",
        "\t\t<th style=\"text-align: center;\">Original</th>\n",
        "\t\t<th style=\"text-align: center;\">Transformed</th>\n",
        "\t</tr>\n",
        "\t<tr>\n",
        "\t\t<td><img src=\"data:image/png;base64,iVBORw0KGgoAAAANSUhEUgAAASwAAAEsCAIAAAD2HxkiAAAFwUlEQVR4nO3d0XKqyAJAUZm6///L\n",
        "zoNTKW80xii4u2Gtx5wTaIw7jQ2a5Xw+n4DOP/UA4OhECDERQkyEEBMhxEQIMRFCTIQQEyHERAgx\n",
        "EUJMhBATIcRECDERQkyEEBMhxEQIMRFCTIQQEyHERAgxEUJMhBATIcRECDERQkyEEBMhxEQIMRFC\n",
        "TIQQEyHERAgxEUJMhBATIcRECDERQkyEEBMhxEQIMRFCTIQQEyHERAgxEUJMhBATIcRECDERQkyE\n",
        "EBMhxEQIMRFCTIQQEyHERAgxEUJMhBATIcRECDERQkyEEBMhxEQIMRFCTIQQEyHERAgxEUJMhBAT\n",
        "IcRECDERQkyEEBMhxEQIMRFCTIQQEyHERAgxEUJMhBATIcRECDERQkyEEBMhxEQIMRFCTIQQEyHE\n",
        "RAgxEUJMhBATIcRECDERQkyEEBMhxEQIMRFCTIQQEyHERAgxEUJMhBATIcRECDERQkyEEBMhxEQI\n",
        "MRFCTIQQEyHERAgxETKiZVnqIXyOCCEmQoiJEGIihJgIISZChrMsy/l8rkfxOSKEmAghJkKIiRBi\n",
        "IoSYCCEmQoiJEGIihJgIGcvRbpc5iRByIoSYCCEmQoiJkNEca1XmJELIiRBiIoTYkSK8/TzZI33C\n",
        "7BSW5XSwC/Wn07EiPKmOER0swvNZh4zmYBHCeI4XocmQwfyvHkDh0uH1CsC3LA+4OEDnEBH+vuZ2\n",
        "95+PuVSXOubjvfMILzPcnR/tkyelU3R4fSDjj5Ybu43wx/y+PN/hLxvq3L3yOeZQ+dkO38W8TjW3\n",
        "z++hHqhff30MNVoe2k+Ey7JcbsBf84AGTPGnNaQBh8pz9hDh5e+bb3Uggzy5nxyGZd4JzR3htvn9\n",
        "/56+f+Vjj9tfdz3Ib43Hbl+7HvjV7KwRfi6/q11+/8rWe395Whu/w9sX7geOcL7V0SC/i8ser5/f\n",
        "2y2cvnlW+cmhvuz2lomjmum2tWVZLh9KWc7et7te9ya4Zfl+3e/lg916qJuaaKhvm2MmzGa/uzaa\n",
        "Z96Z/X4awN2hDvIwnkyG/xk9wrHyu3Z7rf/l59P7+T32bajhqentrh/cxzvgKfQ2xo1w3Py+vD/P\n",
        "rJjf4+9d8VfGa54/vfx6VEf+0a9q1tXRsXzyKsKbK5+DrPHenf2OulgqwpW8djH9p//2zi4+tp2/\n",
        "7uhxYw+r23eSIlzVg+f3x848w23e3fJKG99xhyJc27q3Vm96G9rqtaxyqvxwPvzrJqcgwm3cTXGc\n",
        "/H7ay8s7enO0f3lL5P6mRBFu5uX32n7+JuwVX6m+k9/T376zKVGEIwnfA/FCh+te3vz7we7mb/ru\n",
        "5DDmNs791s90NdI1kgkuJj9BhKlx8vvy/ALvaZTT7NmnxLlHP7GR3327+mdnbH+wU3c48dAnNsXn\n",
        "o72/wHu7kS0Pdt5TUxEWZlnde+eXRTTVzzglzjdiRlefaU/X4WTDZVwjLTLNdWoqQt42Un7XZpkS\n",
        "5xglg6rPPH81RYcTDJFBTbHGO8Op6bjvrGcOAz+5Ly75jTwljjsyOIiZPvIQdkmEEBMhxEQIMRFC\n",
        "TIQQEyHERAgxEUJMhBATIcRECDERQkyEEBMhxEQIMRFCTIQQEyHERAgxEUJMhBATIcRECDERQkyE\n",
        "EBMhxEQIMRFCTIQQEyHERAgxEUJMhBATIcRECDERQkyEEBMhxEQIMRFCTIQQEyHERAgxEUJMhBAT\n",
        "IcRECDERQkyEEBMhxEQIMRFCTIQQEyHERAgxEUJMhBATIcRECDERQkyEEBMhxEQIMRFCTIQQEyHE\n",
        "RAgxEUJMhBATIcRECDERQkyEEBMhxEQIMRFCTIQQEyHERAgxEUJMhBATIcRECDERQkyEEBMhxEQI\n",
        "MRFCTIQQEyHERAgxEUJMhBATIcRECDERQkyEEBMhxEQIMRFCTIQQEyHERAgxEUJMhBATIcRECDER\n",
        "QkyEEBMhxEQIMRFCTIQQEyHERAgxEUJMhBD7F3kWrhnKHeJTAAAAAElFTkSuQmCC\n",
        "\"></td>\n",
        "\t\t<td><img src=\"data:image/png;base64,iVBORw0KGgoAAAANSUhEUgAAASwAAAEsCAIAAAD2HxkiAAAFuklEQVR4nO3c0W7iOABA0WS1///L\n",
        "2Qe0FYI2hRK4iXPO00hDO7bGNwYHmJdlmYDOP/UA4OxECDERQkyEEBMhxEQIMRFCTIQQEyHERAgx\n",
        "EUJMhBATIcRECDERQkyEEBMhxEQIMRFCTIQQEyHERAgxEUJMhBATIcRECDERQkyEEBMhxEQIMRFC\n",
        "TIQQEyHERAgxEUJMhBATIcRECDERQkyEEBMhxEQIMRFCTIQQEyHERAgxEUJMhBATIcRECDERQkyE\n",
        "EBMhxEQIMRFCTIQQEyHERAgxEUJMhBATIcRECDERQkyEEBMhxEQIMRFCTIQQEyHERAgxEUJMhBAT\n",
        "IcRECDERQkyEEBMhxEQIMRFCTIQQEyHERAgxEUJMhBATIcRECDERQkyEEBMhxEQIMRFCTIQQEyHE\n",
        "RAgxEUJMhBATIcRECDERQkyEEBMhxEQIMRFCTIQQEyHERAgxEUJMhBATIcRECDERQkyEEBMhxMaM\n",
        "cJ7negjwqDEjhAMRIcRECDERQkyEEBMhxEQIMRFCTIQQGzDCeZ6XZalHAY8aMEJ2xVsIfyVCiIkQ\n",
        "YiKEmAghJkKIiRBiIoTYkBG6U8+RDBkhHIkIeSNvIXyECCEmQoiNFuE8T57+cCyjRQiHI0KIiRBi\n",
        "IoSYCCE2WoSORjmc0SJkZ1wUfydCiIkQYiKEmAh5F28hfNAQEd5/vawvnOU4hohwUh0HNkqEy6JD\n",
        "DmqUCL8lS45goAi/3Qx1yO4NFOGkQw5prAh/Ms9S/Dz3Jx70bz2Ara2c0BzivtX14Pc/WrYw4k74\n",
        "tXaX5XYd73lLvB/bbofKps7xtZD3q3lXs/41tl2Nlq2NEuHXOl6Zzs1azye+cmnY+VWDTQ0R4eN1\n",
        "7WRxPziMvV01eI8hIpyO0+GzXe3kqvG4+9OvQ5yHpUaJcHpyvX5+cf95WztWh5fRXo9QhL8Z6HT0\n",
        "/n965cDjqQe/6ObY8/7Mdt1RznivX5bvcHg7NtZ9wstivV4B9xfm9QdveM3edge7X9n72WEk95qB\n",
        "dsIvr2yJm2wy97/kwd3v8oM/DeDbLbH102hths8Y6DXhvc+f1rxynnmUs6Vvx3B9c+Xmz/M8LcvK\n",
        "MxKGjnD64GnNJrcTDtHh+iB/iPD+L/kyeoTT+zvc9m7ens94H5npTWd3O6AO750gwotXFvcjd9LX\n",
        "f+FT9tbhs+P57T6hp6Y3ThPhtN3i/sz+s/lV491jeP53n2fprTtThBevvO668eH7++v/4rbBfORC\n",
        "o8OL80U4vby41x+/uQ+f1nz2Dauemk4njXB6ocM9v+H7Dw9e+cEPznSez7oOp2k6b4QXe7jh9qC3\n",
        "driDj2vM8zxN0zlX47kjnA7V4fT+M9567ufcEs8452/sbC2uedMZ726mfMItUYT/2+ui/N6Bznj/\n",
        "5FRb4omm+rtHviNjP451xvu883R4lnmO6VhnvM87yVNTER7fsc6Wnjf8ljji5wnP5pPfElBYlmWe\n",
        "53msSV0b/BpzLsc6W3reqFuinXAge/vc/dZG3RJFOJbrDkfcNJZluaRYD2RLY+7vcCB2QoiJEGIi\n",
        "hJgIISZCiIkQYiKEmAghJkKIiRBiIoSYCCEmQoiJEGIihJgIISZCiIkQYiKEmAghJkKIiRBiIoSY\n",
        "CCEmQoiJEGIihJgIISZCiIkQYiKEmAghJkKIiRBiIoSYCCEmQoiJEGIihJgIISZCiIkQYiKEmAgh\n",
        "JkKIiRBiIoSYCCEmQoiJEGIihJgIISZCiIkQYiKEmAghJkKIiRBiIoSYCCEmQoiJEGIihJgIISZC\n",
        "iIkQYiKEmAghJkKIiRBiIoSYCCEmQoiJEGIihJgIISZCiIkQYiKEmAghJkKIiRBiIoSYCCEmQoiJ\n",
        "EGIihJgIISZCiIkQYiKEmAghJkKIiRBiIoSYCCEmQoiJEGIihJgIISZCiIkQYiKEmAghJkKIiRBi\n",
        "IoSYCCEmQoiJEGIihJgIISZCiP0HVkiWMWQ5u0AAAAAASUVORK5CYII=\n",
        "\"></td>\n",
        "\t</tr>\n",
        "</table>"
       ],
       "metadata": {},
       "output_type": "pyout",
       "prompt_number": 29,
       "text": [
        "<IPython.core.display.HTML at 0x10c769f90>"
       ]
      }
     ],
     "prompt_number": 29
    },
    {
     "cell_type": "markdown",
     "metadata": {},
     "source": [
      "Note that cases where the terminal negatively-charged atom is part of _e.g._ an N-oxide will not now be touched. This modification was motivated by molecules such as [CHEMBL1186335](https://www.ebi.ac.uk/chembl/compound/inspect/CHEMBL1186335), where application of the basic rule was undesirable."
     ]
    },
    {
     "cell_type": "markdown",
     "metadata": {},
     "source": [
      "[<a href=\"#top\">Top</a>]"
     ]
    },
    {
     "cell_type": "markdown",
     "metadata": {
      "slideshow": {
       "slide_type": "skip"
      }
     },
     "source": [
      "<p><a name=\"Fix_1_5_charge-seperated_systems_aromatic_1\"></a></p>\n",
      "### Fix 1,5 charge-seperated systems (aromatic 1)\n"
     ]
    },
    {
     "cell_type": "code",
     "collapsed": false,
     "input": [
      "demo(\"[n-]1ccc(=[N+](C)C)cc1\")"
     ],
     "language": "python",
     "metadata": {
      "slideshow": {
       "slide_type": "skip"
      }
     },
     "outputs": [
      {
       "output_type": "stream",
       "stream": "stderr",
       "text": [
        "[2014/Jan/15 15:50:57 INFO    ] rule 19 'Fix 1,5 charge-seperated systems (aromatic 1)' applied\n"
       ]
      },
      {
       "html": [
        "<!-- NB the styling is inline as otherwise it is overridden by the Notebook stylesheets -->\n",
        "\n",
        "<table>\n",
        "\t<tr>\n",
        "\t\t<th style=\"text-align: center;\">Original</th>\n",
        "\t\t<th style=\"text-align: center;\">Transformed</th>\n",
        "\t</tr>\n",
        "\t<tr>\n",
        "\t\t<td><img src=\"data:image/png;base64,iVBORw0KGgoAAAANSUhEUgAAASwAAAEsCAIAAAD2HxkiAAAFX0lEQVR4nO3d21LcOBRA0fbU/P8v\n",
        "ex4ghHDpyxD3luS1Ku+4FW0dJS5g2/f9AnT+qR8Azk6EEBMhxEQIMRFCTIQQEyHERAgxEUJMhBAT\n",
        "IcRECDERQkyEEBMhxEQIMRFCTIQQEyHERAgxEUJMhBATIcRECDERQkyEEBMhxEQIMRFCTIQQEyHE\n",
        "RAgxEUJMhBATIcRECDERQkyEEBMhxEQIMRFCTIQQEyHERAgxEUJMhBATIcRECDERQkyEEBMhxEQI\n",
        "MRFCTIQQEyHERAgxEUJMhBATIcRECDERQkyEEBMhxEQIMRFCTIQQEyHERAgxEUJMhBATIcRECDER\n",
        "QkyEEBMhxEQIMRFCTIQQEyHERAgxEUJMhBATIcRECDERQkyEEBMhxEQIMRFCTIQQEyHERAgxEUJM\n",
        "hBATIcRECDERQkyEEBMhxEQIMRFCTIQQEyHERAgxEUJMhBATIcRECDERQkyEEBMhxEQIMRFCTIQQ\n",
        "EyHE/q0fILNt277v9VMca9u253/R5Vf1r1t/I16xdofVp1t7VY/gOgqxU0e473tyYXuCcBwtvKoH\n",
        "OXWEMIKzR7jksZ3/q2zJVT3O2SPkIDq8nwhX2y75GORRIuQoi51uxznvy/r3XrbLAgPkyqc4tIcF\n",
        "li4kwnVcP0eSTpY53Q7lOvrK3YmKCBcx7MBxut0kwt9sl4NY2OtEuIJhxyD3EOEfnNkHsbBXiHB6\n",
        "xuDsRPiRM/sg+75b1y+J8AsTbZe5xuC+X2ZZ2GcS4cTmKpDviPBrzuyDWNjPRDgrY3AZIvyWM/sg\n",
        "FvYDEV4z7HYxBlfiuyh+5tBG183s5XRb9/M9xiS8YcBhaAwuxl/nZBS4HpMQYiKciTG4JBFCTITT\n",
        "MAZXJUKIifCqz28novcVS43BYVZ1EF7W3/LQS+Vzb6YHeFX/jkl4ywBv67fLZbUNO8CqjsMk/JkP\n",
        "J/oxp/vrtxibHosyCe/g2D6CVf1FhPf5vGO27fI2oI7eTG8DcLFd+92qvv05B9fR/+sljKddEd/2\n",
        "69qX0oU/2vdMwru5Ph3BqorwMZ/P6Wee3AtfSs9toVfARxrlDviW3xBP8zMrfZafMQlvG6XAy0LD\n",
        "UIHviPCGgQpkUSKczQLD0Bj8kwivGXQMTt2hAj8R4bcGLZDliHBOkw5DY/ArIvyaMcjTiHBa0w1D\n",
        "Y/AbIvzCtm2T7ZPxOxz/CTsi/GimHyQxy3O+N+MzH0yEk5viUuoiepUI/zDTGGQVIpzf4MPQGLxF\n",
        "hL8ZgyREuIRhh6ExeAdn/6sVxuD1Hf/832eqwPuYhBCb//j/G1YYgy/GGT7jPMnwTEKIiXChMXgZ\n",
        "5n9ojMFHiBBiZ49wqTH4Ih+GxuCDzh7hmsIOFfi4U0e44BhkQn4XxaLe/+6K5Ktzt/NOwvXHYPXp\n",
        "1l7VA6y+EWF4552EMAgRQkyEEBMhxEQIMRFCTIQQEyHERAgxEUJMhBATIcRECDERQkyEEBMhxEQI\n",
        "MRFCTIQQEyHERAgxEUJMhBATIcRECDERQkyEEBMhxEQIMRFCTIQQEyHERAgxEUJMhBATIcRECDER\n",
        "QkyEEBMhxEQIMRFCTIQQEyHERAgxEUJMhBATIcRECDERQkyEEBMhxEQIMRFCTIQQEyHERAgxEUJM\n",
        "hBATIcRECDERQkyEEBMhxEQIMRFCTIQQEyHERAgxEUJMhBATIcRECDERQkyEEBMhxEQIMRFCTIQQ\n",
        "EyHERAgxEUJMhBATIcRECDERQkyEEBMhxEQIMRFCTIQQEyHERAgxEUJMhBATIcRECDERQkyEEBMh\n",
        "xEQIMRFCTIQQEyHERAgxEUJMhBATIcRECDERQkyEEBMhxEQIMRFCTIQQ+w9o405dFdZ3vQAAAABJ\n",
        "RU5ErkJggg==\n",
        "\"></td>\n",
        "\t\t<td><img src=\"data:image/png;base64,iVBORw0KGgoAAAANSUhEUgAAASwAAAEsCAIAAAD2HxkiAAAFsElEQVR4nO3d3VLbOhhA0fhM3/+V\n",
        "cy7oUErzCzhbkte6ZiaORlufcWi6nc/nE9D5r74AODoRQkyEEBMhxEQIMRFCTIQQEyHERAgxEUJM\n",
        "hBATIcRECDERQkyEEBMhxEQIMRFCTIQQEyHERAgxEUJMhBATIcRECDERQkyEEBMhxEQIMRFCTIQQ\n",
        "EyHERAgxEUJMhBATIcRECDERQkyEEBMhxEQIMRFCTIQQEyHERAgxEUJMhBATIcRECDERQkyEEBMh\n",
        "xEQIMRFCTIQQEyHERAgxEUJMhBATIcRECDERQkyEEBMhxEQIMRFCTIQQEyHERAgxEUJMhBATIcRE\n",
        "CDERQkyEEBMhxEQIMRFCTIQQEyHERAgxEUJMhBATIcRECDERQkyEEBMhxEQIMRFCTIQQEyHERAgx\n",
        "EUJMhBATIcRECDERQkyEEBMhxEQIMRFCTIQQEyHERAgxEUJMhBATIcRECDERQkyEEBMhxEQIMRFC\n",
        "TIQQ+1VfQGbbtvP5XF/FvrZte/2LLr+qP279jXjD2h1W727tVd2D21GIHTrC8/mc3LC9QDiOFl7V\n",
        "nRw6QhjB0SNc8tjOfytbclX3c/QI2YkOHyfC1bZLPgZ5lgjZy2Kn236O+2H9R2/bZYEBcuNd7NrD\n",
        "AksXEuE6bp8jSSfLnG67cjv6m3snKiJcxLADx+l2lwj/sF12YmFvE+EKhh2DPEKEf3Fm78TC3iDC\n",
        "6RmDsxPhZ87snZzPZ+t6kQgvmGi7zDUGz+fTLAv7SiKc2FwFco0IL3Nm78TC/kuEszIGlyHCq5zZ\n",
        "O7Gwn4jwlmG3izG4EhESGPZ0S4jwjgG3izG4GBFOZpkCl3gTP0OE99ku7EqEM1lmDPKRCCEmwmkY\n",
        "g6sSIa+ybcM9aB6DCB/27wZ64Za6Ogbfdvb4m/v9Cj9darqqg/CVh8/YtguPSttN8/455sVrm8K8\n",
        "V/5DTMJnRJ/cb6fT3Jv046L929uAfw/xWibht+1/ip9vz7rBh+GxA3uESfikwY/tka/tdP3AGnxV\n",
        "dybC571+x7zv3WuvO+AAfHP7RvSjA3cowkk83uFRt/K8RPglBz62n/D4GHz/mUOuqgi/6vV3gHMN\n",
        "w7vXcPEHhr2v3pMIH7JtV56t84hrC6XD0+kkwkcM9OR/lmF490b0/QdGWdmSCO8YqEAWJcLZjD8M\n",
        "jcEnifCWQcfg45m9vsPHL2nElW2I8KpBC3zEINc9yGUMT4RzGvOm1I3ol4jwsonHILMR4bRGG4bG\n",
        "4FeJ8IJt2ybbJ/mfyAz4iGgeIvxspu9TunudyW+Gd/+1BH8T4eTyTwVPbkS/S4R/mWkMPmiESrlJ\n",
        "hPNrP7s3Br9NhH8sOAbf7PemTNefIMIljPBxhTH4VSL8bfox+Prf/dyI/hARHoYnNKOa/Pj/IdOP\n",
        "wXcvHj5vL2cMfo8v/+UbBPYT3I4uNAZPw9xzGoPPECHEjh7hUmPwTT4MjcEnHT3CNYUdKvB5h45w\n",
        "wTHIhDwdXdTH/y8teXUedtxJuP4YrN7d2qu6g9U3IgzvuJMQBiFCiIkQYiKEmAghJkKIiRBiIoSY\n",
        "CCEmQoiJEGIihJgIISZCiIkQYiKEmAghJkKIiRBiIoSYCCEmQoiJEGIihJgIISZCiIkQYiKEmAgh\n",
        "JkKIiRBiIoSYCCEmQoiJEGIihJgIISZCiIkQYiKEmAghJkKIiRBiIoSYCCEmQoiJEGIihJgIISZC\n",
        "iIkQYiKEmAghJkKIiRBiIoSYCCEmQoiJEGIihJgIISZCiIkQYiKEmAghJkKIiRBiIoSYCCEmQoiJ\n",
        "EGIihJgIISZCiIkQYiKEmAghJkKIiRBiIoSYCCEmQoiJEGIihJgIISZCiIkQYiKEmAghJkKIiRBi\n",
        "IoSYCCEmQoiJEGIihJgIISZCiIkQYiKEmAghJkKIiRBiIoSYCCEmQoiJEGIihJgIISZCiIkQYiKE\n",
        "mAghJkKIiRBi/wMgJ3tlFhp7ugAAAABJRU5ErkJggg==\n",
        "\"></td>\n",
        "\t</tr>\n",
        "</table>"
       ],
       "metadata": {},
       "output_type": "pyout",
       "prompt_number": 30,
       "text": [
        "<IPython.core.display.HTML at 0x10c769290>"
       ]
      }
     ],
     "prompt_number": 30
    },
    {
     "cell_type": "markdown",
     "metadata": {},
     "source": [
      "[<a href=\"#top\">Top</a>]"
     ]
    },
    {
     "cell_type": "markdown",
     "metadata": {
      "slideshow": {
       "slide_type": "skip"
      }
     },
     "source": [
      "<p><a name=\"Fix_1_5_charge-seperated_systems_aromatic_2\"></a></p>\n",
      "### Fix 1,5 charge-seperated systems (aromatic 2)\n",
      "\n",
      "Note that it is not clear here whether the uncharged imine produced is more or less desirable that the original zwitterion or even than the cationic methyl-pyridine that would be produced by protonation of the amide anion."
     ]
    },
    {
     "cell_type": "code",
     "collapsed": false,
     "input": [
      "demo(\"C[n+]1ccc([N-]C)cc1\")"
     ],
     "language": "python",
     "metadata": {
      "slideshow": {
       "slide_type": "skip"
      }
     },
     "outputs": [
      {
       "output_type": "stream",
       "stream": "stderr",
       "text": [
        "[2014/Jan/15 15:50:58 INFO    ] rule 20 'Fix 1,5 charge-seperated systems (aromatic 2)' applied\n"
       ]
      },
      {
       "html": [
        "<!-- NB the styling is inline as otherwise it is overridden by the Notebook stylesheets -->\n",
        "\n",
        "<table>\n",
        "\t<tr>\n",
        "\t\t<th style=\"text-align: center;\">Original</th>\n",
        "\t\t<th style=\"text-align: center;\">Transformed</th>\n",
        "\t</tr>\n",
        "\t<tr>\n",
        "\t\t<td><img src=\"data:image/png;base64,iVBORw0KGgoAAAANSUhEUgAAASwAAAEsCAIAAAD2HxkiAAAGFklEQVR4nO3d23LaSBRAUZia//9l\n",
        "5sETF7EN5iJpd0trVR5SuWDFsDndSJDz5XI5AZ1/6gOAoxMhxEQIMRFCTIQQEyHERAgxEUJMhBAT\n",
        "IcRECDERQkyEEBMhxEQIMRFCTIQQEyHERAgxEUJMhBATIcRECDERQkyEEBMhxEQIMRFCTIQQEyHE\n",
        "RAgxEUJMhBATIcRECDERQkyEEBMhxEQIMRFCTIQQEyHERAgxEUJMhBATIcRECDERQkyEEBMhxEQI\n",
        "MRFCTIQQEyHERAgxEUJMhBATIcRECDERQkyEEBMhxEQIMRFCTIQQEyHERAgxEUJMhBATIcRECDER\n",
        "QkyEEBMhxEQIMRFCTIQQEyHERAgxEUJMhBATIcRECDERQkyEEBMhxEQIMRFCTIQQEyHERAgxEUJM\n",
        "hBATIcRECDERQkyEEBMhxEQIMRFCTIQQEyHERAgxEUJMhBATIcRECDERQkyEEBMhxEQIMRFC7N/6\n",
        "AHjD+fz1Vy6X4jh4iwgn8b23W39Mh7MR4WAejO3TR3LXf0uHszlf3GGJZ2M7/bbU/HKD7tZ5mITr\n",
        "e224PetyeSVsBmASruORHtb4zl9/XffsJEzCFQzyoqXN4SRMwqV9Flh9Y20OZ+Nk/e58qc5GcXgi\n",
        "nNb5fDMw028qIlzUZmvRzy/0SIeG4dhEOL9HGtPhwES4nC1fknlk42dzOAkRbuVjC7dgCS90yJBE\n",
        "uImVhuQjt2ZzODwRLqQ6PfhsYzocjwj3xeZwQiJc39pD0uZwciJcQn6p2rMdGoYjEeFePNu/Doch\n",
        "wrfdH4PVyUObw3mIcL9sDichwjVtv1e0OZyQCN+TvyTznc3hbES4R2NuDr9/Ff2fTicRvmWcl2Tu\n",
        "azu8vmJWdT/xGTM79eXD1378vJk1PqDt/g1+fMX8WWkwIlzHCE/5z3b4Qh4j/DPnJ8JXPbjabJ/1\n",
        "n511dzp8/HZ+/YYYhn8T4d79Out+HJhLJXfnkO68enSwREX4kllekvnuwQ5v2eYa9IMR4QE8vDk8\n",
        "n06X61/Z7JCOzSmKY3j8SprL5f8fGx/SgYnweZOuRX87nvN55Y9j/3H8/nAYKx7CmER4JJ8P+tGe\n",
        "IK4ccKHq/6JY1LBj8Derj8EnHeoshknIiA41D0XIoI7ToQiXYy3KS0TIuA4yDEV4w2He/Db4GPxz\n",
        "EcGeifC2Zy99/jDwA3pSl8tl3x2K8LZnr2Pe5kKTQ9p3hyL86tH7ehePicHXogdx9Au4v6f012PS\n",
        "m9+G8TEMd/mUcaAIr9Yzz7xV4M6b3z5+sseHxZj22uFuI/y+hVjszvu4nfkn5IwP6F12uJMIV0zu\n",
        "dJjTVZPYX4cTR3gd3up3yfcOJ38Q7OxxPDX3xFvmXZPOHuHsx3/NKQqmtKczhyJ8y6S7xX2Mkd10\n",
        "KMJ3TdrhPuyjQxEuYK4O9zEG90SEy5irwz3ZwTAUIdObvUMRLmaKYbjXtejU/ygRLmmKDhmNCBfW\n",
        "vhP8/Met3516YuzVxJetDWuzixvXvWKWrYhwGpLbK+uTtbw5DBdPzlp0WCbhWp5alJpyRybCFd3v\n",
        "cNO3YjEwS5TVjbAOHOEYuMUpCoiJcHX5RVXG4ODsCbeQfCzK1JdTHornyO2s1OGt2NyzsxDhphY/\n",
        "eXgS2/wsRwelt+MwCbf2ZRhaTCLCgNP0XBMhxJwnhJgIISZCiIkQYiKEmAghJkKIiRBiIoSYCCEm\n",
        "QoiJEGIihJgIISZCiIkQYiKEmAghJkKIiRBiIoSYCCEmQoiJEGIihJgIISZCiIkQYiKEmAghJkKI\n",
        "iRBiIoSYCCEmQoiJEGIihJgIISZCiIkQYiKEmAghJkKIiRBiIoSYCCEmQoiJEGIihJgIISZCiIkQ\n",
        "YiKEmAghJkKIiRBiIoSYCCEmQoiJEGIihJgIISZCiIkQYiKEmAghJkKIiRBiIoSYCCEmQoiJEGIi\n",
        "hJgIISZCiIkQYiKEmAghJkKIiRBiIoSYCCEmQoiJEGIihJgIISZCiIkQYiKEmAghJkKIiRBiIoSY\n",
        "CCEmQoiJEGIihJgIISZCiIkQYiKEmAghJkKIiRBiIoSYCCEmQoiJEGIihJgIISZCiIkQYiKE2H/U\n",
        "ruRXKJSKigAAAABJRU5ErkJggg==\n",
        "\"></td>\n",
        "\t\t<td><img src=\"data:image/png;base64,iVBORw0KGgoAAAANSUhEUgAAASwAAAEsCAIAAAD2HxkiAAAF40lEQVR4nO3d21LbSBRAUXtq/v+X\n",
        "NQ+ElAsw44ukrW6tVXlIEbAN8ua0LMm5LstyATr/1A8Azk6EEBMhxEQIMRFCTIQQEyHERAgxEUJM\n",
        "hBATIcRECDERQkyEEBMhxEQIMRFCTIQQEyHERAgxEUJMhBATIcRECDERQkyEEBMhxEQIMRFCTIQQ\n",
        "EyHERAgxEUJMhBATIcRECDERQkyEEBMhxEQIMRFCTIQQEyHERAgxEUJMhBATIcRECDERQkyEEBMh\n",
        "xEQIMRFCTIQQEyHERAgxEUJMhBATIcRECDERQkyEEBMhxEQIMRFCTIQQEyHERAgxEUJMhBATIcRE\n",
        "CDERQkyEEBMhxEQIMRFCTIQQEyHERAgxEUJMhBATIcRECDERQkyEEBMhxEQIMRFCTIQQEyHERAgx\n",
        "EUJMhBATIcRECDERQkyEEBMhxEQIMRFCTIQQEyHERAgxEUJMhBATIcRECDERQkyEEBMhxEQIsX/r\n",
        "B8AbrtevH1mW4nHwFhEO4ntv9z5Nh6MR4cE8GNtfH8ndfpUOR3NdbLDEs7Fd/m+p+eUGbdZxmITb\n",
        "e224PWtZXgmbAzAJt/FID1v85G/v15YdhEm4gYO8aGnncBAm4dr+Flj9YO0cjsbB+ul8qc6O4uFZ\n",
        "jo7p930/L9IMRYSr2mgt+trxjL9fZefw2ER4PA8m91RXOjwwL8ys57UxuEVy927ctj4kk3Bfmyb3\n",
        "4+3YOTw8Ee7i9xI2HVB2Dg9PhCt5fC3aZqDD4xHhLtrn/ZdFadKh8+nuE+E57LxzaEf0GV4dXUN+\n",
        "qtqDNhpHO7/aNB2T8KxeXpRKbm0m4dtGGYMfnj1yKLntmYQn8+DOYXhM5XxEeD7PHjmU3MZE+J6x\n",
        "1qI/+rHDcb+dAbme8JTyaw6/3+OJj2qYhG8YegzudgT/3pt9OHfnkwhPbIsj+I/f4Me961CEZ/fm\n",
        "6d1PJccdInzV0GvRe37pcIveDMPL5SJCft453G3E6VCEL5psDH7v8JfPZG0i5HK5/Onwerkstx/Z\n",
        "8a4//nrOoeg4IZ8+nv7L8ufP/nd91rfjEOHzJluLfrpedzyb3zk6N0TIsZxwGLqUictl5zH4gFPt\n",
        "HJqEHNGp5qEIOajzdChCDrcWPRsRclwnGYYifMDUF78dfAx+nkQwMxE+ZvbnwZEtyzJ3hyJ8zEkW\n",
        "Rkc1d4fOHf3qVP+b2MHXoidx9gjvvffCD1x0k/oYhlP+yjhRhDfrmVcvFdBhatYOp43w+y7EfBvv\n",
        "TSM+oafscJII90vOKzS1+TocOMLb8HbdJJ8dDr0ynex5PDRb4i3jdjh6hKM//luOEzKkmY4civAt\n",
        "g+4hzjFGpulQhO8atMM5zNGhCFcwVodzjMGZiHAdY3U4kwmGoQgZ3ugdinA1QwzDWdeiQ39TIlzT\n",
        "EB1yNCJcWXsl+PXTvX8demLMauDT1g5rt5MbnaQ+BxEOQ3Kzsj7ZypvDcPXkrEUPyyTcylOLUlPu\n",
        "zES4od87zC7F4mAsUTZ3hHXgER4D9zhEATERbi4/qcoYPDj7hHtI3hZl6NMpT8XvyP1s1OG92GzZ\n",
        "UYhwV6sfPLyIbXyWowelt/MwCff2ZRhaTCLCgMP03BIhxBwnhJgIISZCiIkQYiKEmAghJkKIiRBi\n",
        "IoSYCCEmQoiJEGIihJgIISZCiIkQYiKEmAghJkKIiRBiIoSYCCEmQoiJEGIihJgIISZCiIkQYiKE\n",
        "mAghJkKIiRBiIoSYCCEmQoiJEGIihJgIISZCiIkQYiKEmAghJkKIiRBiIoSYCCEmQoiJEGIihJgI\n",
        "ISZCiIkQYiKEmAghJkKIiRBiIoSYCCEmQoiJEGIihJgIISZCiIkQYiKEmAghJkKIiRBiIoSYCCEm\n",
        "QoiJEGIihJgIISZCiIkQYiKEmAghJkKIiRBiIoSYCCEmQoiJEGIihJgIISZCiIkQYiKEmAghJkKI\n",
        "iRBiIoSYCCEmQoiJEGIihJgIISZCiIkQYiKEmAghJkKIiRBiIoSYCCEmQoiJEGIihJgIISZCiIkQ\n",
        "YiKE2H+w6M9VqmpX2wAAAABJRU5ErkJggg==\n",
        "\"></td>\n",
        "\t</tr>\n",
        "</table>"
       ],
       "metadata": {},
       "output_type": "pyout",
       "prompt_number": 31,
       "text": [
        "<IPython.core.display.HTML at 0x10c6ffe50>"
       ]
      }
     ],
     "prompt_number": 31
    },
    {
     "cell_type": "markdown",
     "metadata": {},
     "source": [
      "[<a href=\"#top\">Top</a>]"
     ]
    },
    {
     "cell_type": "markdown",
     "metadata": {},
     "source": [
      "<p><a name=\"Conjugated_cations\"></a></p>\n",
      "## Conjugated cations\n",
      "\n",
      "This set of rules affects molecules where a non-protonated atom bearing a positive charge (most commonly a quaternary nitrogen) is conjugated with a neutral nitrogen bearing a hydrogen atom.\n",
      "\n",
      "There are certain issues with these rules systems which are discusssed in the document available [here](Conjugated_cations_and_charge_neutralisation.ipynb)."
     ]
    },
    {
     "cell_type": "markdown",
     "metadata": {
      "slideshow": {
       "slide_type": "fragment"
      }
     },
     "source": [
      "<p><a name=\"Fix_1_3_conjugated_cation_non-aromatic\"></a></p>\n",
      "### Fix 1,3 conjugated cation (non-aromatic)\n"
     ]
    },
    {
     "cell_type": "code",
     "collapsed": false,
     "input": [
      "demo(\"CNC=[N+](C)C\")"
     ],
     "language": "python",
     "metadata": {
      "slideshow": {
       "slide_type": "-"
      }
     },
     "outputs": [
      {
       "output_type": "stream",
       "stream": "stderr",
       "text": [
        "[2014/Jan/15 15:50:59 INFO    ] rule 21 'Fix 1,3 conjugated cation (non-aromatic)' applied\n"
       ]
      },
      {
       "html": [
        "<!-- NB the styling is inline as otherwise it is overridden by the Notebook stylesheets -->\n",
        "\n",
        "<table>\n",
        "\t<tr>\n",
        "\t\t<th style=\"text-align: center;\">Original</th>\n",
        "\t\t<th style=\"text-align: center;\">Transformed</th>\n",
        "\t</tr>\n",
        "\t<tr>\n",
        "\t\t<td><img src=\"data:image/png;base64,iVBORw0KGgoAAAANSUhEUgAAASwAAAEsCAIAAAD2HxkiAAAFB0lEQVR4nO3d0Y6iSABA0WGz///L\n",
        "7IOzxojaSoO30HPeujtRUnK7CkGc5nn+A3T+qTcAvp0IISZCiIkQYiKEmAghJkKIiRBiIoSYCCEm\n",
        "QoiJEGIihJgIISZCiIkQYiKEmAghJkKIiRBiIoSYCCEmQoiJEGIihJgIISZCiIkQYiKEmAghJkKI\n",
        "iRBiIoSYCCEmQoiJEGIihJgIISZCiIkQYiKEmAghJkKIiRBiIoSYCCEmQoiJEGIihJgIISZCiIkQ\n",
        "YiKEmAghJkKIiRBiIoSYCCEmQoiJEGIihJgIISZCiIkQYiKEmAghJkKIiRBiIoSYCCEmQoiJEGIi\n",
        "hJgIISZCiIkQYiKEmAghJkKIiRBiIoSYCCEmQoiJEGIihJgIISZCiIkQYiKEmAghJkKIiRBiIoSY\n",
        "CCEmQoiJEGIihJgIISZCiIkQYiKEmAghJkKIiRBiIoSYCCEmQoiJEGIihJgIISZCiIkQYiKEmAgh\n",
        "JkKIiRBiIoSYCCEmQlaapqnehA8hQoiJEGIihJgIISZC1pimaZ7neis+hAghJkKIiRBiIoSYCCEm\n",
        "QoiJEGIihJgIISZCXuZymW2JEGIihJgIISZCiImQFbwrsyURQkyEEBMhr5mmP84RbkuEEBMhxES4\n",
        "qeVNqc+/efAnvpsItyYtXiTCrc2zDnmJCHmBt0b38G+9AZ/oNBku99bjz5AK3IMI93Gzw6sfj98k\n",
        "m7Ac3YagWM1M+Cvn9m6s07xDw3NEuNKprx+OkZ7s8KnH4mO5Wchrpmk6fZBng2Fb9um1+EoifNbp\n",
        "K9q3H66rFAd5OZbvKjk7sRvL0R9M/0ey13+rqyXrOEtT1b2LCG/bvb1Ly0PHEQK4d7aTrYnw2l7L\n",
        "zsdOT3c1JY4cwOCbdygi/OutU989y6Xp+zfm8klNhm8hwmjquyc8RLx5NmXZ4dWHswYZtyP76gjH\n",
        "yu/szYeIr15RcF45jzZuh/XVEQ6X39l7DhGfPFHp0p+dfXWEo9tpabriIoFlh8P+/zogJ+uHt+GF\n",
        "Nbtdo+Pw8DdEeBC/mYg2ae+JzhwnriPC41jR4e/ze/FJdbiCCA/lyag2nPpefxBL01eJ8Gget7FH\n",
        "fqv2EN/m+zwjdUw/njN449R3//HsXU8xTId1r8MB8rt44CEvhxiMCI/sMp6R2ls8j93sEaPzld7+\n",
        "oX4dPmBovkl6Qw0d3mNcvsMY97NxiHiTCD/deNd8mhKvGI4PNcbUd48OL7kD9ydazn6D7fHzPE8/\n",
        "nur8Gj7K9LkGC+/KuUNTolUBMUtTy1FilqYipGcmBEoihJgIISZCiIkQYiKEmAghJkKIiRBiIoSY\n",
        "CCEmQoiJEGIihJgIISZCiIkQYiKEmAghJkKIiRBiIoSYCCEmQoiJEGIihJgIISZCiIkQYiKEmAgh\n",
        "JkKIiRBiIoSYCCEmQoiJEGIihJgIISZCiIkQYiKEmAghJkKIiRBiIoSYCCEmQoiJEGIihJgIISZC\n",
        "iIkQYiKEmAghJkKIiRBiIoSYCCEmQoiJEGIihJgIISZCiIkQYiKEmAghJkKIiRBiIoSYCCEmQoiJ\n",
        "EGIihJgIISZCiIkQYiKEmAghJkKIiRBiIoSYCCEmQoiJEGIihJgIISZCiIkQYiKEmAghJkKIiRBi\n",
        "IoSYCCEmQoiJEGIihJgIISZCiIkQYiKEmAghJkKIiRBiIoSYCCEmQoiJEGIihJgIISZCiIkQYiKE\n",
        "mAghJkKIiRBiIoTYf/g/KjeZtytTAAAAAElFTkSuQmCC\n",
        "\"></td>\n",
        "\t\t<td><img src=\"data:image/png;base64,iVBORw0KGgoAAAANSUhEUgAAASwAAAEsCAIAAAD2HxkiAAAFAElEQVR4nO3d0XKTUBRA0eD4/7+M\n",
        "D3Wc2MRIuMAmyVrjg9poMWX3cG9oneZ5vgCdH/UBwKcTIcRECDERQkyEEBMhxEQIMRFCTIQQEyHE\n",
        "RAgxEUJMhBATIcRECDERQkyEEBMhxEQIMRFCTIQQEyHERAgxEUJMhBATIcRECDERQkyEEBMhxEQI\n",
        "MRFCTIQQEyHERAgxEUJMhBATIcRECDERQkyEEBMhxEQIMRFCTIQQEyHERAgxEUJMhBATIcRECDER\n",
        "QkyEEBMhxEQIMRFCTIQQEyHERAgxEUJMhBATIcRECDERQkyEEBMhxEQIMRFCTIQQEyHERAgxEUJM\n",
        "hBATIcRECDERQkyEEBMhxEQIMRFCTIQQEyHERAgxEUJMhBATIcRECDERQkyEEBMhxEQIMRFCTIQQ\n",
        "EyHERAgxEUJMhBATIcRECDERQkyEEBMhxEQIMRFCTIQQEyHERAgxEUJMhBATIcRECDERQkyEEBPh\n",
        "qGma6kPgtYkQYiKEmAghJsIh0zTN81wfBa9NhBATIcRECDERQkyEXC5uOUiJcD1bo2xChBATIcRE\n",
        "iOvqmAghJkKIiXAll3BsRYQQEyHERLjam1yLuq7OiRBiIoSYCCEmQoiJcI1putjLYCsi/Gi2Rs9A\n",
        "hBATIcRECDERfjgLwp4IISbCNWwosiERfi6vdp6ECCEmQoiJEGIivHH7DeH//M6DN8FaIrxHWhxI\n",
        "hPfM89t3aGv0PES4qXdPlz38rA/grL6G4e2weJfMjMHzEOG/3e3w2y9v92y+fuIcZzERbuSrOist\n",
        "nmdN+NAH7NCQE+H/PDXZjEGe51uMbOR2YHpiWcYkXGyafv+46yX2Ud3xc0oiXOb6ZH3Q4b/2Ts/j\n",
        "hIf08US4zPK6Ttjh9QC31XQ+IlxspMPqvA/fNYuJ8BnL62qXiLfL1+vjMQxPRoRPWl5XskS8/bxw\n",
        "exiX7x1KsiXC5z1V12EdLszvHqOx5XXCAbcn/cJHPn7wyDH89zCu3/r3ba5ueq2YhAPaJeLA6Lt7\n",
        "VF9/2kg8nkk47NlZtPCRW73HVX+9k+JIItzI6kvT5c//gXfG6fBIItzO8kiezam4MdUS8TAi3NTm\n",
        "Hdb3hRuJBxDhDsYvTev2rvnffPfm+d3HyKsX35zgA6TDXXlydzNyafr48YVpmi6Xi7NlDyLc07oO\n",
        "T/wRMRL34Dnd3yavDZ6GDjfnjpn9nfArDAfM8zy9+D/hbER4iHfsUIpbEeFRvn1F34ub59lI3Irr\n",
        "e4ZYIo4zCRliHo4TIaMsEQeJkA1YIo4QIZvR4ToiZEs2aVYQIcRECDERQkyEEBMhxEQIMRFCTIQQ\n",
        "EyHERAgxEUJMhBATIcRECDERQkyEEBMhxEQIMRFCTIQQEyHERAgxEUJMhBATIcRECDERQkyEEBMh\n",
        "xEQIMRFCTIQQEyHERAgxEUJMhBATIcRECDERQkyEEBMhxEQIMRFCTIQQEyHERAgxEUJMhBATIcRE\n",
        "CDERQkyEEBMhxEQIMRFCTIQQEyHERAgxEUJMhBATIcRECDERQkyEEBMhxEQIMRFCTIQQEyHERAgx\n",
        "EUJMhBATIcRECDERQkyEEBMhxEQIMRFCTIQQEyHERAgxEUJMhBATIcRECDERQkyEEBMhxEQIMRFC\n",
        "TIQQEyHERAgxEUJMhBATIcRECDERQkyEEBMhxEQIMRFCTIQQEyHERAgxEUJMhBATIcRECDERQkyE\n",
        "EBMhxH4BU50XU0bzzKsAAAAASUVORK5CYII=\n",
        "\"></td>\n",
        "\t</tr>\n",
        "</table>"
       ],
       "metadata": {},
       "output_type": "pyout",
       "prompt_number": 32,
       "text": [
        "<IPython.core.display.HTML at 0x10c769ad0>"
       ]
      }
     ],
     "prompt_number": 32
    },
    {
     "cell_type": "markdown",
     "metadata": {},
     "source": [
      "[<a href=\"#top\">Top</a>]"
     ]
    },
    {
     "cell_type": "markdown",
     "metadata": {
      "slideshow": {
       "slide_type": "slide"
      }
     },
     "source": [
      "<p><a name=\"Fix_1_3_conjugated_cation_aromatic_1\"></a></p>\n",
      "### Fix 1,3 conjugated cation (aromatic 1)\n"
     ]
    },
    {
     "cell_type": "code",
     "collapsed": false,
     "input": [
      "demo(\"[nH]1c(=[N+](C)C)cccc1\")"
     ],
     "language": "python",
     "metadata": {
      "slideshow": {
       "slide_type": "skip"
      }
     },
     "outputs": [
      {
       "output_type": "stream",
       "stream": "stderr",
       "text": [
        "[2014/Jan/15 15:50:59 INFO    ] rule 22 'Fix 1,3 conjugated cation (aromatic 1)' applied\n"
       ]
      },
      {
       "html": [
        "<!-- NB the styling is inline as otherwise it is overridden by the Notebook stylesheets -->\n",
        "\n",
        "<table>\n",
        "\t<tr>\n",
        "\t\t<th style=\"text-align: center;\">Original</th>\n",
        "\t\t<th style=\"text-align: center;\">Transformed</th>\n",
        "\t</tr>\n",
        "\t<tr>\n",
        "\t\t<td><img src=\"data:image/png;base64,iVBORw0KGgoAAAANSUhEUgAAASwAAAEsCAIAAAD2HxkiAAAFpElEQVR4nO3dwVriSBhAUTLfvP8r\n",
        "ZxY4drdiAO1wU5VzVroCquvWH4k2y7quF6DzT/0E4OxECDERQkyEEBMhxEQIMRFCTIQQEyHERAgx\n",
        "EUJMhBATIcRECDERQkyEEBMhxEQIMRFCTIQQEyHERAgxEUJMhBATIcRECDERQkyEEBMhxEQIMRFC\n",
        "TIQQEyHERAgxEUJMhBATIcRECDERQkyEEBMhxEQIMRFCTIQQEyHERAgxEUJMhBATIcRECDERQkyE\n",
        "EBMhxEQIMRFCTIQQEyHERAgxEUJMhBATIcRECDERQkyEEBMhxEQIMRFCTIQQEyHERAgxEUJMhBAT\n",
        "IcRECDERQkyEEBMhxEQIMRFCTIQQEyHERAgxEUJMhBATIcRECDERQkyEEBMhxEQIMRFCTIQQEyHE\n",
        "RAgxEUJMhBATIcRECDERQkyEEBMhxEQIMRFCTIQQEyHERAgxEUJMhBATIcRECDERQkyEEBMhxEQI\n",
        "MRFC7N/6CWSWZVnXtX4W+1qW5fUPOv2q/nXzb8QNc3dYvbq5V3UPLkchduoI13VNLtheIBxHE6/q\n",
        "Tk4dIRzB2SOc8tjOfyqbclX3c/YIISfC2Y7tfAxeTbaquxIhxA5xah7BQQbID228il3n0saDTrCq\n",
        "ezvvb8zMZ3vHJzFcL0p1uM3l6Bs/w1AR4SQOO3CcbneJ8BfbhYQIZ3DYMXjldNsmwj/YLryeCId3\n",
        "8DF45XTbIMKPbJedWNiviPCGdV1H2S1DjEG2iXBgwxVoGN4kwtvW9WK38BoiHNVwY/DKMPxMhF8y\n",
        "DHkNEW45bIeDjsErw/ADf0XxM7tupmEz4ykm4R0HHIZDj8Erw/B3w/9zns0EBb6b6bX8hEkIMRGO\n",
        "ZLLR4aL0SoQQE+EwJhuDV4bhRYSQE+Gmz4d0dGzPMQZvDj3D0M36e5bliZvm595M2+Y4R/ZgEt5z\n",
        "gLv1y+Uy9+Y9+TA0CX/mw5zc56R/+xPjp2bywWyPwZMPSZPwAQcYhkxMhI/53OGyXN4H1N6Jvk+J\n",
        "Mc8CY3CbCL9rXd/aeP9i74e7Gq1Djd0lwoe5KN2BRC8ifM7n7fLKDTTgMNTYI0S46f8N9Gvb21J/\n",
        "j0SvRHjfgW4NDDUMvR/zIBHecaACh6Kxx4lwNEMNw69I9Hci3HLQMXj4DjX2FBF+6aAFjk+iH4hw\n",
        "TAcehhp7lghvMwZ3ItHPRDisQw5DtyW+QYQ3LMsy2FY5Roca+x4RfjTSThrleV4ul7EW9rVEOLjD\n",
        "XJRq7NtE+Ac7aScWdoMIx3eAYej9mJ8Q4S/2yvdYtx8S4RQOMAy/ItG7RPhm+L0SdTj8uh2ACNmR\n",
        "RB/h/x29XKbZKy9/CZOsW80k5Pu2C5Tog0Ror+zCqj5OhBA7e4QO7D1Y1aecPULInTrCeQ7sjQ8z\n",
        "ffnnnM6zqq9y6gincrzfleFB571PONuBff2ojGde0b1sv1n1VKv6EueN0F65twBnX5+XOW+EE/pq\n",
        "GLpSPTYRzuVmhx++1eTBeGMGYiKcjg8zHY0IZ3T695zGMtfb9DAgkxBiIoSYCCEmQoiJEGIihJgI\n",
        "ISZCiIkQYiKEmAghJkKIiRBiIoSYCCEmQoiJEGIihJgIISZCiIkQYiKEmAghJkKIiRBiIoSYCCEm\n",
        "QoiJEGIihJgIISZCiIkQYiKEmAghJkKIiRBiIoSYCCEmQoiJEGIihJgIISZCiIkQYiKEmAghJkKI\n",
        "iRBiIoSYCCEmQoiJEGIihJgIISZCiIkQYiKEmAghJkKIiRBiIoSYCCEmQoiJEGIihJgIISZCiIkQ\n",
        "YiKEmAghJkKIiRBiIoSYCCEmQoiJEGIihJgIISZCiIkQYiKEmAghJkKIiRBiIoSYCCEmQoiJEGIi\n",
        "hJgIISZCiIkQYiKEmAghJkKIiRBiIoSYCCEmQoiJEGIihJgIISZCiIkQYiKEmAghJkKIiRBi/wFR\n",
        "xaBdhwIfyAAAAABJRU5ErkJggg==\n",
        "\"></td>\n",
        "\t\t<td><img src=\"data:image/png;base64,iVBORw0KGgoAAAANSUhEUgAAASwAAAEsCAIAAAD2HxkiAAAFwUlEQVR4nO3dy3LbOBRAQXNq/v+X\n",
        "NQtmEsfW07Z0ALC7skhWolA4vDTpSNvpdHoDOv/UBwBHJ0KIiRBiIoSYCCEmQoiJEGIihJgIISZC\n",
        "iIkQYiKEmAghJkKIiRBiIoSYCCEmQoiJEGIihJgIISZCiIkQYiKEmAghJkKIiRBiIoSYCCEmQoiJ\n",
        "EGIihJgIISZCiIkQYiKEmAghJkKIiRBiIoSYCCEmQoiJEGIihJgIISZCiIkQYiKEmAghJkKIiRBi\n",
        "IoSYCCEmQoiJEGIihJgIISZCiIkQYiKEmAghJkKIiRBiIoSYCCEmQoiJEGIihJgIISZCiIkQYiKE\n",
        "mAghJkKIiRBiIoSYCCEmQoiJEGIihJgIISZCiIkQYiKEmAghJkKIiRBiIoSYCCEmQoiJEGIihJgI\n",
        "ISZCiIkQYiKEmAghJkKIiRBiIoSYCCEmQoiJEGIihJgIISZCiIkQYiKEmAghJkKIiRBiIoSYCCEm\n",
        "QoiJEGL/1geQ2bbtdDrVR/Fc27a9/kWXX9Uft/5GvGLtDqt3t/aqPoPLUYgdOsLT6ZRcsL1AOI4W\n",
        "XtUnOXSEMIKjR7jkaTv/qWzJVX2eo0cIORGudtrOx+BusVV9KhFCbIiz5ggGGSDfdOVdPHUuXXnR\n",
        "BVb12Y77GzPrub7jkxj2i1IdXudy9Bc/w1AR4SKGHTjObjeJ8A/bhYQIVzDsGNw5u10nwr/YLrye\n",
        "CKc3+BjcObtdIcKPbJcnsbCXiPCM0+k0y26ZYgxynQgnNl2BhuFZIjzvdHqzW3gNEc5qujG4Mww/\n",
        "E+FFhiGvIcJrhu1w0jG4Mww/ECHERHjDgMNw6jG4MwzfE+FkFihwp8PfRHjbEnuecYlwJsuMwZ1h\n",
        "uBMhxEQ4jcXG4M4wfBMh5ER4t88n7Beewi+OwW379WcGZ4eeYegjDx+xbWdulbYb6PdzzLPHNpIl\n",
        "L6d/hEn4iOjJ/fb2tvbmPfgwNAm/7fln99P1WTfDMLw+Bg8+JE3CBw34a2zvjXxsXCDCx72+w99T\n",
        "4tLrjj1GjMHrRDiJ+zscbBhq7CYRfsngF6XzkOibCL/u9VtnwmGosXuI8C7bdq462+t7JLoT4W0D\n",
        "3fmfahi6H3MnEd4wUIFT0dj9RDibqYbhJRJ9T4TXDDoG788s6lBjDxHhRYMWeI+xj1uiH4hwTgNf\n",
        "lGrsUSI8b+IxODaJfibCaQ05DD2W+AIRnrFt22RbZYwboRr7GhF+NNNOunmcIz2umGlhX0uEkxsm\n",
        "M419mQj/suBOGqPSBRf254hwfgM8u3c/5jtE+Meye+XJb2rZdXsVES5hyMcV/7+gRG8Q4S/T75Uo\n",
        "s+nXbQAiPIzxnt2z87mjb2/L7JX7Hxv+kEXWrWYS8nXXC5TonURorzyFVb2fCCF29AidsJ/Bqj7k\n",
        "6BFC7tARTn/CvvK9pd1Xmk6/qi936AhXUP/nCb7vuM8JFzlh79+K8b03ciHkL+a9wqq+1nEjPPpe\n",
        "eZfuhZU49vq80HEjXMelYehKdRIiXMLZDj/88/M9m/0vB78iGIAIj2evzoc6DsPd0VX43tJpiXAh\n",
        "D002Y3AYS9ymh5mZhBATIcRECDERQkyEEBMhxEQIMRFCTIQQEyHERAgxEUJMhBATIcRECDERQkyE\n",
        "EBMhxEQIMRFCTIQQEyHERAgxEUJMhBATIcRECDERQkyEEBMhxEQIMRFCTIQQEyHERAgxEUJMhBAT\n",
        "IcRECDERQkyEEBMhxEQIMRFCTIQQEyHERAgxEUJMhBATIcRECDERQkyEEBMhxEQIMRFCTIQQEyHE\n",
        "RAgxEUJMhBATIcRECDERQkyEEBMhxEQIMRFCTIQQEyHERAgxEUJMhBATIcRECDERQkyEEBMhxEQI\n",
        "MRFCTIQQEyHERAgxEUJMhBATIcRECDERQkyEEBMhxEQIMRFCTIQQEyHERAgxEUJMhBATIcRECDER\n",
        "QkyEEBMhxEQIMRFCTIQQEyHERAgxEUJMhBD7D6Jvv2MeP0RAAAAAAElFTkSuQmCC\n",
        "\"></td>\n",
        "\t</tr>\n",
        "</table>"
       ],
       "metadata": {},
       "output_type": "pyout",
       "prompt_number": 33,
       "text": [
        "<IPython.core.display.HTML at 0x10c770c50>"
       ]
      }
     ],
     "prompt_number": 33
    },
    {
     "cell_type": "markdown",
     "metadata": {},
     "source": [
      "[<a href=\"#top\">Top</a>]"
     ]
    },
    {
     "cell_type": "markdown",
     "metadata": {
      "slideshow": {
       "slide_type": "skip"
      }
     },
     "source": [
      "<p><a name=\"Fix_1_3_conjugated_cation_aromatic_2\"></a></p>\n",
      "### Fix 1,3 conjugated cation (aromatic 2)\n",
      "\n",
      "Note that this rule leads to an iminium-containing species, which is likely to be less aromatic than the original molecule."
     ]
    },
    {
     "cell_type": "code",
     "collapsed": false,
     "input": [
      "demo(\"CNc1[n+](C)cccc1\")"
     ],
     "language": "python",
     "metadata": {
      "slideshow": {
       "slide_type": "-"
      }
     },
     "outputs": [
      {
       "output_type": "stream",
       "stream": "stderr",
       "text": [
        "[2014/Jan/15 15:51:00 INFO    ] rule 23 'Fix 1,3 conjugated cation (aromatic 2)' applied\n"
       ]
      },
      {
       "html": [
        "<!-- NB the styling is inline as otherwise it is overridden by the Notebook stylesheets -->\n",
        "\n",
        "<table>\n",
        "\t<tr>\n",
        "\t\t<th style=\"text-align: center;\">Original</th>\n",
        "\t\t<th style=\"text-align: center;\">Transformed</th>\n",
        "\t</tr>\n",
        "\t<tr>\n",
        "\t\t<td><img src=\"data:image/png;base64,iVBORw0KGgoAAAANSUhEUgAAASwAAAEsCAIAAAD2HxkiAAAGQklEQVR4nO3d3W6b3BZAUTj63v+V\n",
        "OReurMRxHP9g5saMcVU1bYow04sNuJmXZZmAzv/qDYCjEyHERAgxEUJMhBATIcRECDERQkyEEBMh\n",
        "xEQIMRFCTIQQEyHERAgxEUJMhBATIcRECDERQkyEEBMhxEQIMRFCTIQQEyHERAgxEUJMhBATIcRE\n",
        "CDERQkyEEBMhxEQIMRFCTIQQEyHERAgxEUJMhBATIcRECDERQkyEEBMhxEQIMRFCTIQQEyHERAgx\n",
        "EUJMhBATIcRECDERQkyEEBMhxEQIMRFCTIQQEyHERAgxEUJMhBATIcRECDERQkyEEBMhxEQIMRFC\n",
        "TIQQEyHERAgxEUJMhBATIcRECDERQkyEEBMhxEQIMRFCTIQQEyHERAgxEUJMhBATIcRECDERQkyE\n",
        "EBMhxEQIMRFCTIQQEyHERAgxEUJMhBATIcRECDERQkyEEBMhxES4qXme601gOCLc1LIsOuSCCLd2\n",
        "6lCKnIkwsCyLkciZCDM65ESEJR0yiTBniYgIe5aIByfCUejwsEQ4kF106OR5dfOyLPU28M3pEB/w\n",
        "dfm6YfPsyFmNXTmooY7yq+8Lw75Z7M5ArzQXRujwz9JG2Mi9sweHNs9T8vqcV333HB46fJHdN7pT\n",
        "Dpu9Ss+dZOrwFfbdPmwwEl9c41kiPk2Eu/G+Dlfsx0h8gl22J+t2OM/TNK0/vnT4KPvriN69ztTh\n",
        "Q+ysAzk/6PLca/5QWpaI9xPh53uxve/f6rEDxki8h33EYx4dcTr8kwe4d+jn89MbPlH96AevdvFU\n",
        "ekuE+1Qf1k90KMXfiHCflmV3HRqJvxHhJ9rqWH90xOnwKhHu1gDDcLJEXIMI9+xnh/P873fOv9ho\n",
        "QywRnyfCz7Is/+4Gnn+x3b9sifgkEe7cPSelW01FS8TniHD/fk687ua4JeITRLhDF42dF4FXFYe4\n",
        "JeJDRPjRVnxs9EEPpXXwJaIIeRenpncSIe912LTuJ8Kd604476fD20TIFlx9uUGEbOTPJeJhP3ko\n",
        "ws815JmqU9OfRMjWjjnubhAhxEQIMRHumcXVRxDhR9j/Kuuwl0YnEX6sIS+NcpUIISZCiIkQYiKE\n",
        "mAjpHfnS6CTCHbtx/dOl0V0RIcSOGKGn+BnKESP0aRqGcsQIJx/0ZiQHjXA6/H+zxziOG+HJB3a4\n",
        "t0ujB78/MYlw2mmHeyuNG0Q4TZaIpP6rN2AUpzOiTzg12vv2H49J+M0uT03ZORFeGrrD008anOdp\n",
        "mubJ0PsQIrxixCXijx/0OfSbxd0+4fz/ZdaE1w20RLwo7cv2nDvsN5IXiPCWZVnmOTrp+znlrm3H\n",
        "QG8Wv/NOcZsI/3D6mfCbHj/35ff968uYHcrvHiL826nD6d3XQR5v7/ufHajD82J1kO0ZnAjvcjqW\n",
        "3jUSX8vvy1/ql4j5BuzRKO+de7Fyh79fdHntu279sj43+sYZ3S2T8DHrHDMrjb7fbHlqavS9ToTb\n",
        "enN+X77rezu06luRCDf0tcD3H7vvWCKu2N4HPGmwFhFubsPRseJdxBV7dgZ7wcr4EJ7u8B2jzyF3\n",
        "QYRP+XmR9Pw7N76UerRDo28zTkefNUZa97t/ibhWM0bfnUT4rOB5tlfduUQcagF5BCI8nPfdvTD6\n",
        "niPCF/w2DIe/+L56h0bfK0T4mqsd/rwwM55V7iIafasQ4XG9chfR6FuRCF92/qTTPj10amr0vYMI\n",
        "13CADo2+93Gznn+uZmb0bUCEfHMeiUbfZkTIJfltTIQQ85//QkyEEBMhxEQIMRFCTIQQEyHERAgx\n",
        "EUJMhBATIcRECDERQkyEEBMhxEQIMRFCTIQQEyHERAgxEUJMhBATIcRECDERQkyEEBMhxEQIMRFC\n",
        "TIQQEyHERAgxEUJMhBATIcRECDERQkyEEBMhxEQIMRFCTIQQEyHERAgxEUJMhBATIcRECDERQkyE\n",
        "EBMhxEQIMRFCTIQQEyHERAgxEUJMhBATIcRECDERQkyEEBMhxEQIMRFCTIQQEyHERAgxEUJMhBAT\n",
        "IcRECDERQkyEEBMhxEQIMRFCTIQQEyHERAgxEUJMhBATIcRECDERQkyEEBMhxEQIMRFCTIQQEyHE\n",
        "RAgxEUJMhBATIcRECDERQkyEEBMhxEQIMRFCTIQQEyHERAgxEUJMhBD7P85epSDl3KssAAAAAElF\n",
        "TkSuQmCC\n",
        "\"></td>\n",
        "\t\t<td><img src=\"data:image/png;base64,iVBORw0KGgoAAAANSUhEUgAAASwAAAEsCAIAAAD2HxkiAAAGW0lEQVR4nO3d0XKiWBRAUZya//9l\n",
        "5sEeqzXGgAIbwlrVD12dTkIp28MFTC7jOA5A5596A+DsRAgxEUJMhBATIcRECDERQkyEEBMhxEQI\n",
        "MRFCTIQQEyHERAgxEUJMhBATIcRECDERQkyEEBMhxEQIMRFCTIQQEyHERAgxEUJMhBATIcRECDER\n",
        "QkyEEBMhxEQIMRFCTIQQEyHERAgxEUJMhBATIcRECDERQkyEEBMhxEQIMRFCTIQQEyHERAgxEUJM\n",
        "hBATIcRECDERQkyEEBMhxEQIMRFCTIQQEyHERAgxEUJMhBATIcRECDERQkyEEBMhxEQIMRFCTIQQ\n",
        "EyHERAgxEUJMhBATIcRECDERQkyEEBMhxEQIMRFCTIQQEyHERAgxEUJMhBATIcRECDERQkyEEBMh\n",
        "xEQIMRFCTIQQEyHERAgxEUJMhBATIcRECDERQkyEEBMhxEQIMRFu6nK51JvA7ohwU+M46pAHItza\n",
        "tUMpciPCwDiORiI3IszokCsRlnTIIMKcJSIi7FkinpwI90KHpyXCHTlEhw6eF3cZx7HeBu5cd/Ed\n",
        "Pi9/b9jlYs9ZjIdyp3a1lz99Xdjti8Xh7OiZ5sEeOvyxtD1s5NF5BHftchmS5+e26puye+jwQx6+\n",
        "vbvmsNmz9N5Bpg4/4bE7hg1G4odrPEvEt4nwMNbrcMF+jMQ3eMiOZNkOL5dhGJYfXzqcy+N1MIss\n",
        "EddeZ+pwFg/WIb03Em83urz3nM9KyxJxOhEe1fQOP2zv/kvN22GMxCk8Rr/ZGoedc0ecDn/kBu6D\n",
        "+3ov9fV8y+XPqFx8/5/7xqtD3JXeEuHxPdvF18jv/uvP7lCK3xHh8Y3j0w7X/7bzOjQSvyNC3jd3\n",
        "xOnwKRH+CtEwHCwRlyDC36LrcLBE/IwIWYYl4ttE+Iukw3CwRHyXCH+X+rK4JeIb3M1wfAvelrYc\n",
        "N5pOZxKyilmHpidfIoqQtTg0nUiErOu0aU0nwoPb5YLwgQ5fEyFbcIH+BRGykR+XiKd956EI2ZRD\n",
        "069EyNbOOe5eECHERAgxER6ZxdWvIMJf4firrNOeGh1ECDkRQkyEEBMhxEQIMRHSO/Op0UGEB3aE\n",
        "NzExhQghdsYI3cXPrpwxQu+mYVfOGOHgjd7syUkjHE7/Y/bYj/NGeKXD3MmvTwwiHA7aoesTv4gI\n",
        "h8ESkZQI/7BEpCLCOzpkeyJ8tOsOL5c/f4bh+nuM6g1iASJ8Yo9LxP/bu9n1i8VkTo0Ow/BvvQE7\n",
        "dd0zdrGLPJT21/bcOuw3kg+I8JVxHC+X6KDv65R7th07erH4nleK10T4g+vvgd90/5mW3/3Hx312\n",
        "KL8pRPiza4fD2udB5rd3/3931OFtsbqT7dk5EU5y3ZfWGomf5ffXJ/VLxHwDjmgvr50n9f1Jl8++\n",
        "6tZP63ujbz+ju2USFhYafd/Z8tDU6PucCGvv7b4/LVLX7tCqb0EijHzS3tTvsPwSccH2fsGdBktx\n",
        "UH4QHxzBLjISF+zZEewDEe7eEidv3u5wjdFnl3sgwjm+XqO4/cuLD739vR589kzN7dDo24w14Uwb\n",
        "3D6zzrnT6UvEpZox+iYS4Uzr3ca28nWLYfKNprtaQJ6BCLfyIt3187v/2mtdvTD63iPC+b4bhnPP\n",
        "uW/b3v33WbhDo+8TInzL0w6/nph5+pfb/eAvPnd9i1xFNPoWIcL1vbj7O913P3kvotG3IBG+6+lA\n",
        "m/Xp+zDr0NToW4MIPzCrw7/32p3twVM6NPrW42L9+rZ4R/ACnmZm9G1AhNy5jUSjbzMi5JH8NiZC\n",
        "iPnhvxATIcRECDERQkyEEBMhxEQIMRFCTIQQEyHERAgxEUJMhBATIcRECDERQkyEEBMhxEQIMRFC\n",
        "TIQQEyHERAgxEUJMhBATIcRECDERQkyEEBMhxEQIMRFCTIQQEyHERAgxEUJMhBATIcRECDERQkyE\n",
        "EBMhxEQIMRFCTIQQEyHERAgxEUJMhBATIcRECDERQkyEEBMhxEQIMRFCTIQQEyHERAgxEUJMhBAT\n",
        "IcRECDERQkyEEBMhxEQIMRFCTIQQEyHERAgxEUJMhBATIcRECDERQkyEEBMhxEQIMRFCTIQQEyHE\n",
        "RAgxEUJMhBATIcRECDERQkyEEBMhxEQIMRFCTIQQEyHERAgxEUJMhBATIcRECDERQkyEEBMhxEQI\n",
        "MRFCTIQQEyHE/gOr/cAE6Su8xAAAAABJRU5ErkJggg==\n",
        "\"></td>\n",
        "\t</tr>\n",
        "</table>"
       ],
       "metadata": {},
       "output_type": "pyout",
       "prompt_number": 34,
       "text": [
        "<IPython.core.display.HTML at 0x10c770350>"
       ]
      }
     ],
     "prompt_number": 34
    },
    {
     "cell_type": "markdown",
     "metadata": {},
     "source": [
      "[<a href=\"#top\">Top</a>]"
     ]
    },
    {
     "cell_type": "markdown",
     "metadata": {},
     "source": [
      "Note that this also applies to five-membered heterocycles..."
     ]
    },
    {
     "cell_type": "code",
     "collapsed": false,
     "input": [
      "demo(\"CNc1[n+](C)cco1\")"
     ],
     "language": "python",
     "metadata": {},
     "outputs": [
      {
       "output_type": "stream",
       "stream": "stderr",
       "text": [
        "[2014/Jan/15 15:51:00 INFO    ] rule 23 'Fix 1,3 conjugated cation (aromatic 2)' applied\n"
       ]
      },
      {
       "html": [
        "<!-- NB the styling is inline as otherwise it is overridden by the Notebook stylesheets -->\n",
        "\n",
        "<table>\n",
        "\t<tr>\n",
        "\t\t<th style=\"text-align: center;\">Original</th>\n",
        "\t\t<th style=\"text-align: center;\">Transformed</th>\n",
        "\t</tr>\n",
        "\t<tr>\n",
        "\t\t<td><img src=\"data:image/png;base64,iVBORw0KGgoAAAANSUhEUgAAASwAAAEsCAIAAAD2HxkiAAAF5ElEQVR4nO3d0XaaWABAUZg1///L\n",
        "zENa66ghqOABuvdbEluVxfFeLqjjNE0D0PmnfgDwtxMhxEQIMRFCTIQQEyHERAgxEUJMhBATIcRE\n",
        "CDERQkyEEBMhxEQIMRFCTIQQEyHERAgxEUJMhBATIcRECDERQkyEEBMhxEQIMRFCTIQQEyHERAgx\n",
        "EUJMhBATIcRECDERQkyEEBMhxEQIMRFCTIQQEyHERAgxEUJMhBATIcRECDERQkyEEBMhxEQIMRFC\n",
        "TIQQEyHERAgxEUJMhBATIcRECDERQkyEEBMhxEQIMRFCTIQQEyHERAgxEUJMhBATIcRECDERQkyE\n",
        "EBMhxEQIMRFCTIQQEyHERAgxEUJMhBATIcRECDERQkyEEBMhxEQIMRFCTIQQEyHERAgxEUJMhBAT\n",
        "IcRECDERQkyEEBMhxEQIsX/rB8DhjeN4/eM0TdUjOSgR8rObzG5cVzd/Sx4avW7xx1VC1zE9tZOM\n",
        "o53qOUbCk7oekb5L4n7UurqljD7Gi9YZjeP/wrv+cUmcK9y//eoJRsLTuSlwGIZp+vNLbeyPUxSs\n",
        "b5omKzTLiZDXKW0VImQTBsPlRMjrlLYKEZ7O1zLMtfulmg89EIkuYnX0jG463LLAr9KckHiHkfCk\n",
        "Lick5LF7IuRdM9NOM9IlRHhS0XEgLxAh2zIY/kiErEBp7xAhm5PoPBGyDqW9TIR8gkRniPCMXCJz\n",
        "KCLkQyT6HRFCTIQnFA4388OdwfAhEUJMhKzMcPcsEZ7Nzt9YJNF7ImR9SnuKCPk0id4QIcREyCac\n",
        "q1hOhKey81UZHhIhWzEYLiRCiImQDRkMlxDheTw4IBzHB19CyM6I8C/4VpM0xZmFIstIX0T4a1J0\n",
        "zhRvvip0T89RgRciHIZhmKbptMcnNx/CvY/nqMBrIvzjtB0O+xoSFXjD5rj11eHhNsvSPfsmv48/\n",
        "TQXes0UeO9i+Mo7jMEzD4qiKFA/66vYBh9rVPusYHf7O6VeEX/aX4jE2ZsSmmbPrF+/7hF77TsLt\n",
        "v8lQgfNsnZ/tax+6X1O5P0H/3Z8W/p+rPtl9bb1dsoEW2cWe9GN+392yS3EX2233bKOlyqnpJ6Na\n",
        "L0UFLmQzPefTHzD/fhLvHyi+dL8KXM6WetrX/rn5Zlt3cvjZNRsFPsXGetFWQ+LyA783/+fNZqe+\n",
        "qPtZInzdykPidvnN3MsLKc7+EwW+QITvWmG3+/z1K+/MTufemqTAV4gwFV7JufZdK/Bl/9YPgGEY\n",
        "ggupf93jJcX35tYKfIeRMLWTnXf7K9eYIUJ+u6Rol/gsb+pdyf3a5s1Mb/7Ge6C9iAjXs8+0nnLz\n",
        "WRh8hAjXc/NmIlhGhDxylCn0KThFsaqvwfB+RnfEPXgnK7d/ARGu7WGHM++73a3vXlBYm+koLznE\n",
        "68hBiHADp1mhOc0T2TcRbuM0s7j7Di+fHVx/iPBpOCZcyX11l9/M/OmILhedHvpZ7ImRkJ+YlG5M\n",
        "hCxwssF8Z0TII99UZ0TcggghJkKIiRBiIoSYCCEmQoiJEGIi5AkuntmCCCEmQoiJEGIi5FkOClcm\n",
        "QoiJEGIihJgIec40TaNzhasSIcRECDERQkyEEBMhxETI0yyQrkuEEBMhxEQIMRFCTIQQEyGvsEC6\n",
        "IhFCTIQQEyHERMiLJt8TuhIRQkyEEBMhxEQIMRFCTIQQEyHERAgxEUJMhBATIcRECDERQkyEEBMh\n",
        "xEQIMRFCTIQQEyHERAgxEUJMhBATIcRECDERQkyEEBMhxEQIMRFCTIQQEyHERAgxEUJMhBATIcRE\n",
        "CDERQkyEEBMhxEQIMRFCTIQQEyHERAgxEUJMhBATIcRECDERQkyEEBMhxEQIMRFCTIQQEyHERAgx\n",
        "EUJMhBATIcRECDERQkyEEBMhxEQIMRFCTIQQEyHERAgxEUJMhBATIcRECDERQkyEEBMhxEQIMRFC\n",
        "TIQQEyHERAgxEUJMhBATIcRECDERQkyEEBMhxEQIMRFCTIQQEyHERAgxEUJMhBATIcRECDERQkyE\n",
        "EBMhxP4Dh4DGK8jyjv8AAAAASUVORK5CYII=\n",
        "\"></td>\n",
        "\t\t<td><img src=\"data:image/png;base64,iVBORw0KGgoAAAANSUhEUgAAASwAAAEsCAIAAAD2HxkiAAAF8UlEQVR4nO3d0XaaWABAUZ3V//9l\n",
        "5sFO6mg0oBcO2L1XX5KaQOk93AvGeJ6m6QR0/ql3AP52IoSYCCEmQoiJEGIihJgIISZCiIkQYiKE\n",
        "mAghJkKIiRBiIoSYCCEmQoiJEGIihJgIISZCiIkQYiKEmAghJkKIiRBiIoSYCCEmQoiJEGIihJgI\n",
        "ISZCiIkQYiKEmAghJkKIiRBiIoSYCCEmQoiJEGIihJgIISZCiIkQYiKEmAghJkKIiRBiIoSYCCEm\n",
        "QoiJEGIihJgIISZCiIkQYiKEmAghJkKIiRBiIoSYCCEmQoiJEGIihJgIISZCiIkQYiKEmAghJkKI\n",
        "iRBiIoSYCCEmQoiJEGIihJgIISZCiIkQYiKEmAghJkKIiRBiIoSYCCEmQoiJEGIihJgIISZCiIkQ\n",
        "YiKEmAghJkKIiRBiIoSYCCH2q94BDu98Pl9/OE1TtScHJUJ+dpPZjevqnj+Sb52dt/jjKqHrmBYN\n",
        "kvPZoFrGTPihrmekR0ncz1pXj5TRZpy0PtH5/L/wrj+cE+eA7RtXC5gJP85NgafTaZr+fFIb++Mp\n",
        "CsabpskdmvlEyOuUNoQIWYXJcD4R8jqlDSHCj3O5DXPt/lbNRjsi0VncHf1ENx2uWeClNE9IvMNM\n",
        "+KG+npCQx+6JkHc9WXZakc4hwg8VXQfyAhGyLpPhj0TIAEp7hwhZnUSfEyFjKO1lImQLEn1ChJ/I\n",
        "j8gcigjZiEQfESHERPiBwunm+XRnMvyWCCEmQgYz3S0lwk+z8xcWSfSeCBlPaYuIkK1J9IYIISZC\n",
        "VuG5ivlE+FF2fleGb4mQtZgMZxIhxETIikyGc4jwc7ggPCgReleTdT05LzhrXIjw96JIihtT4BcR\n",
        "nk6n0zRNrk+2pMBrIvxDh9tQ4A0R/s9xl6ZHGdlH2c8tOSLfO9hYOZ/Pp9N02vVb0l9ObUc6qls5\n",
        "1FDb1jE6/G/S/h3hxf52+xgHM+LQPLPrk/fNmnnD9yRcSoHPOTo/29cYur9evdm3naW4r6O3Sw7Q\n",
        "LLsYST/m9+iR3Z7v4rjtnmM0V7k0fS2qOkUFzuQwLbP1L5h/P6RodarA+RypxS6jevXDNnYe2zZF\n",
        "BS7iYL1orSlx/oXfm995tf93b9S9lAhfN3hKXC+/J1sZvQkFvkCE+/DmcnHp+WCd1akCX/Or3gGu\n",
        "vHnfZdGGvr5w0ISuwJeZCQ9ryMJy0OpUge8Q4dGscen4xup0o3vFH02Ex7H2nZvlKZoAh/B6wvfc\n",
        "h3FzrfX8wfO3clPI5c9Y19/wZosPdkqBQ4jwbau+Avjb/NZz8/2f/tMUOIq7o2+73GkcPiTDn/y8\n",
        "bOuAv17goMyEnUejfOPZ75Gv7Q5cV/MdM+EIjybDpYO1ft3DQ67/1iTCQb7t8NHLbe+fKN9tfhcr\n",
        "Lbk5nU4ibHwt8+6HtYH+9xHhOPcT2qKv3TmT4WrcmBlq0Rg93IB+5yzDYyJ8z5P15JO/mvFUOH8P\n",
        "y9HC4ebALybDFZgJWei4Z5C9EiE/uaru9yyow6FECDERQkyEEBMhxEQIMRFCTIQQEyEL+IGZNYgQ\n",
        "YiKEmAghJkKWclE4mAghJkKIiRBiImSZaZrOniscSoQQEyHERAgxEUJMhBATIYu5QTqWCCEmQoiJ\n",
        "EGIihJgIISZCXuEG6UAihJgIISZCiImQF03epXAQEUJMhBATIcRECDERQkyEEBMhxEQIMRFCTIQQ\n",
        "EyHERAgxEUJMhBATIcRECDERQkyEEBMhxEQIMRFCTIQQEyHERAgxEUJMhBATIcRECDERQkyEEBMh\n",
        "xEQIMRFCTIQQEyHERAgxEUJMhBATIcRECDERQkyEEBMhxEQIMRFCTIQQEyHERAgxEUJMhBATIcRE\n",
        "CDERQkyEEBMhxEQIMRFCTIQQEyHERAgxEUJMhBATIcRECDERQkyEEBMhxEQIMRFCTIQQEyHERAgx\n",
        "EUJMhBATIcRECDERQkyEEBMhxEQIMRFCTIQQEyHERAgxEUJMhBATIcRECDERQkyEEBMhxEQIMRFC\n",
        "TIQQEyHERAgxEUJMhBATIcT+BajJ0yKZ/mZUAAAAAElFTkSuQmCC\n",
        "\"></td>\n",
        "\t</tr>\n",
        "</table>"
       ],
       "metadata": {},
       "output_type": "pyout",
       "prompt_number": 35,
       "text": [
        "<IPython.core.display.HTML at 0x10c770a50>"
       ]
      }
     ],
     "prompt_number": 35
    },
    {
     "cell_type": "markdown",
     "metadata": {},
     "source": [
      "[<a href=\"#top\">Top</a>]"
     ]
    },
    {
     "cell_type": "markdown",
     "metadata": {
      "slideshow": {
       "slide_type": "skip"
      }
     },
     "source": [
      "<p><a name=\"Fix_1_5_conjugated_cation_non-aromatic\"></a></p>\n",
      "### Fix 1,5 conjugated cation (non-aromatic)\n"
     ]
    },
    {
     "cell_type": "code",
     "collapsed": false,
     "input": [
      "demo(\"CNC=CC=[N+](C)C\")"
     ],
     "language": "python",
     "metadata": {
      "slideshow": {
       "slide_type": "skip"
      }
     },
     "outputs": [
      {
       "output_type": "stream",
       "stream": "stderr",
       "text": [
        "[2014/Jan/15 15:51:01 INFO    ] rule 24 'Fix 1,5 conjugated cation (non-aromatic)' applied\n"
       ]
      },
      {
       "html": [
        "<!-- NB the styling is inline as otherwise it is overridden by the Notebook stylesheets -->\n",
        "\n",
        "<table>\n",
        "\t<tr>\n",
        "\t\t<th style=\"text-align: center;\">Original</th>\n",
        "\t\t<th style=\"text-align: center;\">Transformed</th>\n",
        "\t</tr>\n",
        "\t<tr>\n",
        "\t\t<td><img src=\"data:image/png;base64,iVBORw0KGgoAAAANSUhEUgAAASwAAAEsCAIAAAD2HxkiAAAFwElEQVR4nO3dy3LiOABAUTw1///L\n",
        "zIKuVIZXAzZcCZ+z66SDZcJFRjZkOR6PB6DzTz0A2DsRQkyEEBMhxEQIMRFCTIQQEyHERAgxEUJM\n",
        "hBATIcRECDERQkyEEBMhxEQIMRFCTIQQEyHERAgxEUJMhBATIcRECDERQkyEEBMhxEQIMRFCTIQQ\n",
        "EyHERAgxEUJMhBATIcRECDERQkyEEBMhxEQIMRFCTIQQEyHERAgxEUJMhBATIcRECDERQkyEEBMh\n",
        "xEQIMRFCTIQQEyHERAgxEUJMhBATIcRECDERQkyEEBMhxEQIMRFCTIQQEyHERAgxEUJMhBATIcRE\n",
        "CDERQkyEEBMhxEQIMRFCTIQQEyHERAgxEUJMhBATIcRECDERQkyEEBMhxEQIMRFCTIQQEyHERAgx\n",
        "EUJMhBATIcRECDERQkyEEBMhxEQIMRFCTIQQEyHERAgxEUJMhBATIcRECDERQkyEEBMhxEQIMRFC\n",
        "TIQQEyHERAgxEUJMhIxoWZZ6CJ8jQoiJEGIihJgIISZCiImQ4SzLcjwe61F8jgghJkKIiRBiIoSY\n",
        "CCEmQoiJEGIihJgIISZCxrK3y2UOIoScCCEmQoiJEGIiZDT7WpU5iBByIoSYCCG2mwgvP0z25yt3\n",
        "vsVnLcthZyfqD4cdRXiQFoPaU4THow4Z0J4ihCH9Ww/gs06T4eXLDjMknZ1FeLjR4dk/NckHORxl\n",
        "IDtcGj18/Ux4mtLOf7WPr9BMsWT+e1/GHy0XvjbC6/n9eKrDezeUunqGc8yhctsXvot5m2ouH99D\n",
        "3VF/fQYZarTc9T0RLstyugB/yx0aMMWzIf2MZ8Ch8phviPD0983ftSODPLgfHMatRBnY3BG+N7//\n",
        "b+n8Kx+7357d9CDPGvddvnbd8avZWSP8XH6/Nnn+lXdv/eVpbfwOL1+47zjC+VZHg/xOTlv8/fh+\n",
        "38LpyqPKTw71ZbeuXtqfmU7WL8ty+lDKcvZ+9yVvy3J+3u/lnZ366ryJhrraHDNhNvtd9aZ5Zs3s\n",
        "d2sAV4c6yN14MBn+MXqEY+X32+Xp/pcfT+vzu+9sqOGh6eWmLzs8e7P1gL/6rY0b4bj5/Vg/z2yY\n",
        "3/2f3fAp4zWPH17+3Ksj/+o3Nevq6Fg+eRZh5crnIGu8V2e/vS6WinAjr51Mv/Xf1mziY7fz7Ibu\n",
        "N3a3uu9OUoSbuvP4/tiRZ3ibV295oxv/4g5FuLVtL61+62Vom9eyyaHy3fnw2Zucggjf42qK4+R3\n",
        "aysvb2jlaJ95S+T3TYkifJuX32v7+YuwN3yluia/h3/8y6ZEEY4kfA/ECx1ue3rz+Z39mr/p+yW7\n",
        "Mbdxrrd+pKuRzpFMcDL5ASJMjZPfj8cXeA+jHGbPPiXOPfqJjfzu280/O+P9Ozt1hxMPfWJTfD7a\n",
        "+gXeyxt5587Oe2gqwsIsq3trniyiqX7GKXG+ETO6+kh7ug4nGy7jGmmRaa5DUxGy2kj5/TbLlDjH\n",
        "KBlUfeT5V1N0OMEQGdQUa7wzHJqO+8565jDwg/vklN/IU+K4I4OdmOkjD+EriRBiIoSYCCEmQoiJ\n",
        "EGIihJgIISZCiIkQYiKEmAghJkKIiRBiIoSYCCEmQoiJEGIihJgIISZCiIkQYiKEmAghJkKIiRBi\n",
        "IoSYCCEmQoiJEGIihJgIISZCiIkQYiKEmAghJkKIiRBiIoSYCCEmQoiJEGIihJgIISZCiIkQYiKE\n",
        "mAghJkKIiRBiIoSYCCEmQoiJEGIihJgIISZCiIkQYiKEmAghJkKIiRBiIoSYCCEmQoiJEGIihJgI\n",
        "ISZCiIkQYiKEmAghJkKIiRBiIoSYCCEmQoiJEGIihJgIISZCiIkQYiKEmAghJkKIiRBiIoSYCCEm\n",
        "QoiJEGIihJgIISZCiIkQYiKEmAghJkKIiRBiIoSYCCEmQoiJEGIihJgIISZCiIkQYiKEmAghJkKI\n",
        "iRBiIoSYCCEmQoiJEGIihJgIISZCiIkQYv8BjKKqHyqcHNsAAAAASUVORK5CYII=\n",
        "\"></td>\n",
        "\t\t<td><img src=\"data:image/png;base64,iVBORw0KGgoAAAANSUhEUgAAASwAAAEsCAIAAAD2HxkiAAAFx0lEQVR4nO3c0W7iOABA0WS1///L\n",
        "2Qe0VQUtJS1wY+ecp860ZZyRbwxOYN22bQE6/9QDgLMTIcRECDERQkyEEBMhxEQIMRFCTIQQEyHE\n",
        "RAgxEUJMhBATIcRECDERQkyEEBMhxEQIMRFCTIQQEyHERAgxEUJMhBATIcRECDERQkyEEBMhxEQI\n",
        "MRFCTIQQEyHERAgxEUJMhBATIcRECDERQkyEEBMhxEQIMRFCTIQQEyHERAgxEUJMhBATIcRECDER\n",
        "QkyEEBMhxEQIMRFCTIQQEyHERAgxEUJMhBATIcRECDERQkyEEBMhxEQIMRFCTIQQEyHERAgxEUJM\n",
        "hBATIcRECDERQkyEEBMhxEQIMRFCTIQQEyHERAgxEUJMhBATIcRECDERQkyEEBMhxEQIMRFCTIQQ\n",
        "EyHERAgxEUJMhBATIcRECDERQkyEEBMhxEQIMRFCTIQQEyHERAgxEUJMhBATIcRECDERQkyEEJsz\n",
        "wnVd6yHAo+aMEAYiQoiJEGIihJgIISZCiIkQYiKEmAghNmGE67pu21aPAh41YYQcilsIfyRCiIkQ\n",
        "YiKEmAghJkKIiRBiIoTYlBG6Us9IpowQRiJCXsgthI8QIcRECLHZIlzXxdMfxjJbhDAcEUJMhBAT\n",
        "IcRECLHZIrQ1ynBmi5CDcVL8mQghJkKIiRBiIuRV3EL4oKEivP0Y2Y+/ufMtOLahIlykxYRGi3Db\n",
        "dMhkRovw16TLUf1bD2C/y2J4+5JfZoxpwAiXbzq8+uPtns3lCxt2HMyYEe5yqc5++dv5/37QsBHO\n",
        "ukPz+aDM4nMYeWNm1xw9/oRe1+vTypRnGW6c42Mhb2fzoY76x9gONVqebZYIP+bxncO5muv5gd85\n",
        "NRz8rMFTTRHh43UdZHI/OIyjnTV4jSkiXMbpcG9XBzlrPO52F9q+9E9miXDZOV/fP7l/vayN1eHt\n",
        "xVgR/mTk3dEru+6heecNN1fbntu2e1/3dm054Mbp55flBxzegQ17nfBLH9flP9y5S+bLH37iOfu5\n",
        "K9jtzD7OCiO5v5loJfzwlyXxKYvM7YM8uPpdfvG7AXy5JLa+G63FcI+JXhPeev9uzV/2M0fZW/py\n",
        "DJ8vrlx9va7Ltrlv946pI1zeuFvzlMsJQ3R4f5DfRHj7TT7MHuHy+g6fezXvyHu8jxzpVWc3K6AO\n",
        "b50gwou/TO5HrqTff8Bdjtbh3vH8dJ3QU9Mrp4lwed7kfs/68/SzxqvHsP+xzzP17jtThBd/ed11\n",
        "5c3X9+//i88N5i0nGh1enC/C5c+T+/7PP92bd2vee8Oqp6bLSSNc/tDhkW/4/sUP3/nFNx7pup51\n",
        "Hi7Lct4IL45wwe1BL+3wAG/XWNd1WZZzzsZzR7gM1eHy+j3e+tjPuSSe8Zi/cLC5eM+L9ngPc8gn\n",
        "XBJF+L+jTsqvDbTH+yunWhJPdKg/e+QzMo5jrD3e/c7T4VmOc05j7fHud5KnpiIc31h7S/tNvyTO\n",
        "+H7Cs3nnpwQUtm1b13Wd66A+m/wccy5j7S3tN+uSaCWcyNHed/9ssy6JIpzL5w5nXDS2bbukWA/k\n",
        "meZc32EgVkKIiRBiIoSYCCEmQoiJEGIihJgIISZCiIkQYiKEmAghJkKIiRBiIoSYCCEmQoiJEGIi\n",
        "hJgIISZCiIkQYiKEmAghJkKIiRBiIoSYCCEmQoiJEGIihJgIISZCiIkQYiKEmAghJkKIiRBiIoSY\n",
        "CCEmQoiJEGIihJgIISZCiIkQYiKEmAghJkKIiRBiIoSYCCEmQoiJEGIihJgIISZCiIkQYiKEmAgh\n",
        "JkKIiRBiIoSYCCEmQoiJEGIihJgIISZCiIkQYiKEmAghJkKIiRBiIoSYCCEmQoiJEGIihJgIISZC\n",
        "iIkQYiKEmAghJkKIiRBiIoSYCCEmQoiJEGIihJgIISZCiIkQYiKEmAghJkKIiRBiIoSYCCEmQoiJ\n",
        "EGIihJgIISZCiIkQYiKEmAghJkKIiRBiIoSYCCEmQoj9B/sWni/WaGF7AAAAAElFTkSuQmCC\n",
        "\"></td>\n",
        "\t</tr>\n",
        "</table>"
       ],
       "metadata": {},
       "output_type": "pyout",
       "prompt_number": 36,
       "text": [
        "<IPython.core.display.HTML at 0x10c770f50>"
       ]
      }
     ],
     "prompt_number": 36
    },
    {
     "cell_type": "markdown",
     "metadata": {},
     "source": [
      "[<a href=\"#top\">Top</a>]"
     ]
    },
    {
     "cell_type": "markdown",
     "metadata": {
      "slideshow": {
       "slide_type": "skip"
      }
     },
     "source": [
      "<p><a name=\"Fix_1_5_conjugated_cation_aromatic_1\"></a></p>\n",
      "### Fix 1,5 conjugated cation (aromatic 1)\n"
     ]
    },
    {
     "cell_type": "code",
     "collapsed": false,
     "input": [
      "demo(\"[nH]1ccc(=[N+](C)C)cc1\")"
     ],
     "language": "python",
     "metadata": {
      "slideshow": {
       "slide_type": "skip"
      }
     },
     "outputs": [
      {
       "output_type": "stream",
       "stream": "stderr",
       "text": [
        "[2014/Jan/15 15:51:02 INFO    ] rule 25 'Fix 1,5 conjugated cation (aromatic 1)' applied\n"
       ]
      },
      {
       "html": [
        "<!-- NB the styling is inline as otherwise it is overridden by the Notebook stylesheets -->\n",
        "\n",
        "<table>\n",
        "\t<tr>\n",
        "\t\t<th style=\"text-align: center;\">Original</th>\n",
        "\t\t<th style=\"text-align: center;\">Transformed</th>\n",
        "\t</tr>\n",
        "\t<tr>\n",
        "\t\t<td><img src=\"data:image/png;base64,iVBORw0KGgoAAAANSUhEUgAAASwAAAEsCAIAAAD2HxkiAAAFa0lEQVR4nO3d0VLcOBRAQXtr//+X\n",
        "vQ9QJMDgYRY8x5K7K+/xKDq6Cg5h3bZtATr/1A8AVydCiIkQYiKEmAghJkKIiRBiIoSYCCEmQoiJ\n",
        "EGIihJgIISZCiIkQYiKEmAghJkKIiRBiIoSYCCEmQoiJEGIihJgIISZCiIkQYiKEmAghJkKIiRBi\n",
        "IoSYCCEmQoiJEGIihJgIISZCiIkQYiKEmAghJkKIiRBiIoSYCCEmQoiJEGIihJgIISZCiIkQYiKE\n",
        "mAghJkKIiRBiIoSYCCEmQoiJEGIihJgIISZCiIkQYiKEmAghJkKIiRBiIoSYCCEmQoiJEGIihJgI\n",
        "ISZCiIkQYiKEmAghJkKIiRBiIoSYCCEmQoiJEGIihJgIISZCiIkQYiKEmAghJkKIiRBiIoSYCCEm\n",
        "QoiJEGIihJgIISZCiIkQYiKEmAghJkKIiRBiIoSYCCEmQoiJEGIihJgIISZCiIkQYiKEmAghJkKI\n",
        "iRBi/9YPkFnXddu2+imOta7r83/T6Vf1182/EXfM3WH16eZe1SO4jkLs0hFu25Zc2J4gHEcTr+pB\n",
        "Lh0hnMHVI5zy2M7/Vjblqh7n6hFyEB1+nwhn2y75GORRIuQok51ux7nuy/q/vWyXCQbIzqc4tIcJ\n",
        "li4kwnnsnyNJJ9OcbodyHX3l7kRFhJM47cBxut0lwj9sl4NY2H0inMFpxyDfIcJ3nNkHsbA7RDg8\n",
        "Y3B0IvzImX2Qbdus600ivGGg7TLWGNy2ZZSFfSYRDmysAvmKCG9zZh/Ewn4mwlEZg9MQ4Zec2Qex\n",
        "sB+IcM9pt4sxOBPfRfEzhzY6b2Yvp9u8n+8xJuEdJxyGxuBk/HEORoHzMQkhJsKRGINTEiHERDgM\n",
        "Y3BWIoSYCHd9fjsRva+YZwzuLOlpVvvJvKy/56GXytfYND/lPf17JuE9J3hbvy7LVHv2BEt6Kibh\n",
        "z3w41I854F+/xdgAmZQIv8G/dPx1Xy3pJSek6+j3fL5BrevyNqCO3jpvm3WmPXrzUrpt735dgwj/\n",
        "r7dd8pztMmWHLMsiwgf4csKvs6TLsojwMZ8n3jOvTFMOw8vcOXfM8gr4YGf5usxbfqd4mp+Z6bP8\n",
        "jEl431kKXCYahgr8iwjvOFGBTEqEo5lgGBqD74lwz0nH4NAdKvATEX7ppAUyHRGOadBhaAzeIsLb\n",
        "jEGeRoTDGm4YGoNfEOEN67oOtk/O3+H5n7Ajwo9G+o8kRnnOv434zAcT4eCGuJS6iO4S4TsjjUFm\n",
        "IcLxnXwYGoP3iPAPY5CECKdw2mFoDH6Ds//VDGNwf8c//+eZKvB7TEKIjX/8/4YZxuCL8wyf8zzJ\n",
        "6ZmEEBPhRGNwOc1XaIzBR4gQYlePcKox+CIfhsbgg64e4ZzCDhX4uEtHOOEYZEB+KtOk3v6H+eRS\n",
        "6mh7xHUn4fxjsPp0c6/qAWbfiHB6152EcBIihJgIISZCiIkQYiKEmAghJkKIiRBiIoSYCCEmQoiJ\n",
        "EGIihJgIISZCiIkQYiKEmAghJkKIiRBiIoSYCCEmQoiJEGIihJgIISZCiIkQYiKEmAghJkKIiRBi\n",
        "IoSYCCEmQoiJEGIihJgIISZCiIkQYiKEmAghJkKIiRBiIoSYCCEmQoiJEGIihJgIISZCiIkQYiKE\n",
        "mAghJkKIiRBiIoSYCCEmQoiJEGIihJgIISZCiIkQYiKEmAghJkKIiRBiIoSYCCEmQoiJEGIihJgI\n",
        "ISZCiIkQYiKEmAghJkKIiRBiIoSYCCEmQoiJEGIihJgIISZCiIkQYiKEmAghJkKIiRBiIoSYCCEm\n",
        "QoiJEGIihJgIISZCiIkQYiKEmAghJkKIiRBiIoSYCCEmQoiJEGIihJgIISZCiIkQYiKEmAgh9h/a\n",
        "MVxHlYR8xgAAAABJRU5ErkJggg==\n",
        "\"></td>\n",
        "\t\t<td><img src=\"data:image/png;base64,iVBORw0KGgoAAAANSUhEUgAAASwAAAEsCAIAAAD2HxkiAAAFvElEQVR4nO3d0VLbOBiAUbyz7//K\n",
        "3gs6LG2TkECcT5LPGe6YDopGn38TU9j2fX8DOv/UC4CzEyHERAgxEUJMhBATIcRECDERQkyEEBMh\n",
        "xEQIMRFCTIQQEyHERAgxEUJMhBATIcRECDERQkyEEBMhxEQIMRFCTIQQEyHERAgxEUJMhBATIcRE\n",
        "CDERQkyEEBMhxEQIMRFCTIQQEyHERAgxEUJMhBATIcRECDERQkyEEBMhxEQIMRFCTIQQEyHERAgx\n",
        "EUJMhBATIcRECDERQkyEEBMhxEQIMRFCTIQQEyHERAgxEUJMhBATIcRECDERQkyEEBMhxEQIMRFC\n",
        "TIQQEyHERAgxEUJMhBATIcRECDERQkyEEBMhxEQIMRFCTIQQEyHERAgxEUJMhBATIcRECDERQkyE\n",
        "EBMhxEQIMRFCTIQQEyHERAgxEUJMhBATIcRECDERQkyEEBMhxEQIMRFCTIQQEyHERAgxEUJMhBAT\n",
        "IcRECLF/6wVktm3b971exbG2bXv9F11+V59u/YN4w9odVq9u7V09gttRiJ06wn3fkxu2FwjH0cK7\n",
        "epBTRwgjOHuES1628+/KltzV45w9Qg6iw/uJcLXjko9BHiVCjrLY1e04531Y/9n7cVlggNx4FYf2\n",
        "sMDWhUS4jtvXkaSTZa5uh3I7+ot7JyoiXMSwA8fV7Usi/J/jchAbe5sIVzDsGOQeIvyNa/ZBbOwN\n",
        "IpyeMTg7Ef7JNfsg+77b14tEeMFEx2WuMbjvb7Ns7CuJcGJzFcg1IrzMNfsgNvZvIpyVMbgMEV7l\n",
        "mn0QG/sHEd4y7HExBlciQgLDXt0SIvzCgMfFGFyMCCezTIFLvIjnEOHXHBcOJcKZLDMG+UyEEBPh\n",
        "NIzBVYkQYiK8299PKl747OLqGNy2Xx+Du7F76caOwK88fMS2XXirtD0xH88xL65tKOOvMGISPiJ6\n",
        "cr+9va1weAf8uYcxmIQ/dvzVfb896wYfhj9f1Ziv63lE+KD3Ez/smRh5bW/Xd+/cE9Lt6ONef1v1\n",
        "cWqvfd1hw/t7wRd3b99/+/j8zz+G/LqhinAS93e40mH9aPKPONciwm/xHsM9blwv7N4nIvyu11+Y\n",
        "5xqGt9fw0O6tOwPfeWPmLtt26U+LrX44nunaTxpc/NTJNtYk/NpA7zjOMgw/f/Ub+V377MmI8AsD\n",
        "FciiRDib8YehMfggEd4y6Bi8P7PXd3j/kkbc2YYIrxq0wHsMsu5BljE8Ec5pzJtSN6LfIsLLJh6D\n",
        "zEaE0xptGBqD3yXCC7Ztm+yc5D8iM+BbRPMQ4Z9m+n1KX64z+c7w9qpm2dsXEuHk8qeCb25Ef0qE\n",
        "v5lpDN5phEq5SYTza5/dG4M/JsL/LTgG3x33okzXZxDhEkZ4XGEMfpcIf5l+DL7+ez83ok8iwtPw\n",
        "Ds2oJr/8P8n0Y/DDi4fPtf8a//qVzMyvt+AHBPYMbkcXGoNvw9xzGoOPECHEzh7hUmPwXT4MjcEH\n",
        "nT3CNYUdKvBxp45wwTHIhLw7uqjPfy8t+erc7byTcP0xWL26tXf1AKsfRBjeeSchDEKEEBMhxEQI\n",
        "MRFCTIQQEyHERAgxEUJMhBATIcRECDERQkyEEBMhxEQIMRFCTIQQEyHERAgxEUJMhBATIcRECDER\n",
        "QkyEEBMhxEQIMRFCTIQQEyHERAgxEUJMhBATIcRECDERQkyEEBMhxEQIMRFCTIQQEyHERAgxEUJM\n",
        "hBATIcRECDERQkyEEBMhxEQIMRFCTIQQEyHERAgxEUJMhBATIcRECDERQkyEEBMhxEQIMRFCTIQQ\n",
        "EyHERAgxEUJMhBATIcRECDERQkyEEBMhxEQIMRFCTIQQEyHERAgxEUJMhBATIcRECDERQkyEEBMh\n",
        "xEQIMRFCTIQQEyHERAgxEUJMhBATIcRECDERQkyEEBMhxEQIMRFCTIQQEyHERAgxEUJMhBATIcRE\n",
        "CDERQkyEEBMhxEQIMRFCTIQQEyHE/gPwgZRU2K2tuwAAAABJRU5ErkJggg==\n",
        "\"></td>\n",
        "\t</tr>\n",
        "</table>"
       ],
       "metadata": {},
       "output_type": "pyout",
       "prompt_number": 37,
       "text": [
        "<IPython.core.display.HTML at 0x10c770a90>"
       ]
      }
     ],
     "prompt_number": 37
    },
    {
     "cell_type": "markdown",
     "metadata": {},
     "source": [
      "[<a href=\"#top\">Top</a>]"
     ]
    },
    {
     "cell_type": "markdown",
     "metadata": {
      "slideshow": {
       "slide_type": "skip"
      }
     },
     "source": [
      "<p><a name=\"Fix_1_5_conjugated_cation_aromatic_2\"></a></p>\n",
      "### Fix 1,5 conjugated cation (aromatic 2)\n",
      "\n",
      "Note that this rule leads to an iminium-containing species, which is likely to be less aromatic than the original molecule.\n",
      "\n",
      "This rule should be used with caution."
     ]
    },
    {
     "cell_type": "code",
     "collapsed": false,
     "input": [
      "demo(\"CNc1cc[n+](C)cc1\")"
     ],
     "language": "python",
     "metadata": {
      "slideshow": {
       "slide_type": "skip"
      }
     },
     "outputs": [
      {
       "output_type": "stream",
       "stream": "stderr",
       "text": [
        "[2014/Jan/15 15:51:03 INFO    ] rule 26 'Fix 1,5 conjugated cation (aromatic 2)' applied\n"
       ]
      },
      {
       "html": [
        "<!-- NB the styling is inline as otherwise it is overridden by the Notebook stylesheets -->\n",
        "\n",
        "<table>\n",
        "\t<tr>\n",
        "\t\t<th style=\"text-align: center;\">Original</th>\n",
        "\t\t<th style=\"text-align: center;\">Transformed</th>\n",
        "\t</tr>\n",
        "\t<tr>\n",
        "\t\t<td><img src=\"data:image/png;base64,iVBORw0KGgoAAAANSUhEUgAAASwAAAEsCAIAAAD2HxkiAAAGRElEQVR4nO3dQVLbShRAUflX9r9l\n",
        "/QEJ5QKMZbB8u6VzKqOQgCC6fu1WZF/WdV2Azn/1AcDZiRBiIoSYCCEmQoiJEGIihJgIISZCiIkQ\n",
        "YiKEmAghJkKIiRBiIoSYCCEmQoiJEGIihJgIISZCiIkQYiKEmAghJkKIiRBiIoSYCCEmQoiJEGIi\n",
        "hJgIISZCiIkQYiKEmAghJkKIiRBiIoSYCCEmQoiJEGIihJgIISZCiIkQYiKEmAghJkKIiRBiIoSY\n",
        "CCEmQoiJEGIihJgIISZCiIkQYiKEmAghJkKIiRBiIoSYCCEmQoiJEGIihJgIISZCiIkQYiKEmAgh\n",
        "JkKIiRBiIoSYCCEmQoiJEGIihJgIISZCiIkQYiKEmAghJkKIiRBiIoSYCCEmQoiJEGIihJgIISZC\n",
        "iIkQYiKEmAghJkKIiRBiIoSYCCEmQoiJEGIihJgIISZCiIkQYiKEmAghJkKIiRBiIoSYCCH2pz4A\n",
        "apfLx99Z1+I4zkuEZ/K5t1t/TIcvJMIj2hjbu7fkrv+WDl/osvpZT+1nvW38bM6NlxDhPJ7b28av\n",
        "4vTYn+Xo2LaE99xO1vXh2vkdk3Bg4b7l9Zd2huzMJBzVewZ5AzZpduZiPV/5UJ0F6p5EeHqXy9eN\n",
        "6fBVRDikl61F37/Qlg7Zhwj5526HhuE+RDieV27JPLrm1OEORDibt6dwT4zhboeeHO5MhFPZaUje\n",
        "/Ww63JMIB1NdHrz73M8mzW5EyFds0ryQCOex95C0SROZOMLL8U6C/L+q2aQpTBzhuq4H7PCWl/Vp\n",
        "k+blJo5wOViH+Rh8Z5PmteaO8CzaPm3S7Gz6CA81DMdhk+aFpo9wOUaH46xF33ly+CrHubP+cpn5\n",
        "e/kmwnHWovP+eMd2nDvr3+bhlB0OOAa/NN4t9tcroCn/6ZdlOVKEx5T3+eF1n9IOPz/pmDe8a4eK\n",
        "cOJhOLKow6Mm99mhIlxm7DCfdVvs/DqIV5/7CMvLR011vm42U4fDbsl89uUmzefBeG9UegeaD442\n",
        "Cd9MMw9Hy2y769IeWaCOt7nTO8J1wmMasM9bFwYfWayO892M47ARHuEK/oB+0JB/hXsOG+Hyt8P6\n",
        "IL4x4Kzb4suj9Q4Wv3DkCJd5z43B+9zY4fsLUj33lakO55gbM9fezo0xT+aJbfmBvr/3qJ/+tw4+\n",
        "Ccc10ZWJ7WZdeMROEaFz43U+P3BM91DycqeIcBmtwyONwavj/Hvssxz5MM4S4TJah/DPiSJcPEbv\n",
        "yf7Ljx1/d3QgHwbxAdaiPIMI9/Htwvdy6xYB7Z2SCJ9h+3PNdV2WZZ3rPo8NrEV/Q4SPezC5Gx+Z\n",
        "5D4P9ifCezYmJyd+6ky7o59z+uYd279vb10//nrcYe7zsBb9pZNNwp+dL7udYhalLOeahMuPLtjv\n",
        "XMjs89AY/L2TRcjzTfwIMoiTLUeX27c2dePIovTkzhfhcqPD9J0VJu1wxmMekOXoKGZ/csiPnTVC\n",
        "t1T8mjH4LGeNcBnx8rpheE5nivCbm76HuR9chyd0pggnMUWH1qJPJEKIiXBE+TC8/HPro8bgE53y\n",
        "OuEMXnnl8DzvBDgmEY5rpw4lNxrritH9ssOnJ2ct+nQm4aGYcjMS4ejuLkqvw5PcjCwt5jDIInCQ\n",
        "wzgYlyjmkF+0YD8iZCtjcCeeE06juufQBN6bx7bJ7NfhrdicIXsT4Xx+3+GXvTkTKpajR2a4TcEk\n",
        "nNKHYSi2qYlwVq7RH4YIIeY6IcRECDERQkyEEBMhxEQIMRFCTIQQEyHERAgxEUJMhBATIcRECDER\n",
        "QkyEEBMhxEQIMRFCTIQQEyHERAgxEUJMhBATIcRECDERQkyEEBMhxEQIMRFCTIQQEyHERAgxEUJM\n",
        "hBATIcRECDERQkyEEBMhxEQIMRFCTIQQEyHERAgxEUJMhBATIcRECDERQkyEEBMhxEQIMRFCTIQQ\n",
        "EyHERAgxEUJMhBATIcRECDERQkyEEBMhxEQIMRFCTIQQEyHERAgxEUJMhBATIcRECDERQkyEEBMh\n",
        "xEQIMRFCTIQQEyHERAgxEUJMhBATIcRECDERQkyEEBMhxEQIMRFCTIQQEyHERAgxEUJMhBATIcRE\n",
        "CDERQkyEEBMhxEQIMRFCTIQQEyHERAgxEUJMhBATIcRECDERQkyEEBMhxP4HGb76QMbLzdUAAAAA\n",
        "SUVORK5CYII=\n",
        "\"></td>\n",
        "\t\t<td><img src=\"data:image/png;base64,iVBORw0KGgoAAAANSUhEUgAAASwAAAEsCAIAAAD2HxkiAAAGMElEQVR4nO3d21biSABA0TBr/v+X\n",
        "Mw9OO4x4AUk4qcrey4deakuUOqkiCXBZ13UBOn/VGwBnJ0KIiRBiIoSYCCEmQoiJEGIihJgIISZC\n",
        "iIkQYiKEmAghJkKIiRBiIoSYCCEmQoiJEGIihJgIISZCiIkQYiKEmAghJkKIiRBiIoSYCCEmQoiJ\n",
        "EGIihJgIISZCiIkQYiKEmAghJkKIiRBiIoSYCCEmQoiJEGIihJgIISZCiIkQYiKEmAghJkKIiRBi\n",
        "IoSYCCEmQoiJEGIihJgIISZCiIkQYiKEmAghJkKIiRBiIoSYCCEmQoiJEGIihJgIISZCiIkQYiKE\n",
        "mAghJkKIiRBiIoSYCCEmQoiJEGIihJgIISZCiIkQYiKEmAghJkKIiRBiIoSYCCEmQoiJEGIihJgI\n",
        "ISZCiIkQYiKEmAghJkKIiRBiIoSYCCEmQoiJEGIihJgIISZCiIkQYiKEmAghJkKIiRBiIoTY3/UG\n",
        "ULtcPn5mXYvtOC8Rnsltb199mw5fSIQzujO2d2/JXf8vHb7QZfW3HtrvervzpxkbLyHCcWzb2523\n",
        "Ynjsz3L02O4Jb9tO1vXh2nmOmfDAwuOW1zdthOzMTHhU7xnkDThIszMn6/nMh+osUPckwnO7XP77\n",
        "+ECHr2I5ekg7rUV/cXxVe/sT4bzu7Of7zq879OBwHyI8nt9Ng5skd8+t6HBrIhzTa5J7/yGuaNuT\n",
        "CIfyfXv7taHDPYnwYO5fi744AwdpdiPCobTzj4M0+3CekN8yMW5k4Agv8w2C41yq9hVn8HcwcITr\n",
        "uk7Y4fHpcGsDR7hM1uHxp8F3x9/CoYwdIZnrDqfZD0aGj3CqyXBc7oInDB/hMkeHA61F33lwuJEZ\n",
        "Ilzm6HBE1x0OtPs4mKle3uJyGfPXGXEavPa2/cXGX+95h7zrl2VxxQwbeNUVbbeLnXHDuzZVhG+L\n",
        "0jnuGGZN7taEQ3awDkdfi27hKrcZlpePmmomfGM+zNxe1f3Zdd7fvpzNGe+1CSNcBupwvmnwjuqm\n",
        "+V23MmeEZN4O0vy/M9V9b5LzhLecOWQU00a4/NthvRHfmG8t+sZz8B80c4SL8VDxd3/E5BEuxgOH\n",
        "N3+EBzXrWvSdnd/dThGh8dCYdf+ytVNEuBytw0mnwcvtqfa5fsGdnCXC5Wgdwh8ninCxX96TFyL9\n",
        "NVfMvJDLt/iMCPfx7cL3cqanCPAjEW7h/sea67osyzrc861+Yi36DBE+7sHkvvjKIM/zYH8ivFv1\n",
        "tmTM7gRHR2/juX5roR+/+VPr+vHjcdM8z8Na9EnnmAk3GSY7DDSLUpZTzITLoc/Tjz4fmgafd44I\n",
        "f23kPF7Fn+hZ51iOLp+/7MKyvCSz65v4bNawKD2500S4fNHhV2+o8OEf9xfyq6oH7XDEbT6gM0X4\n",
        "kLex9eMjnvuPpv78LUN2yPNOFuGTR2i2S24CdhlbOVmEy4Md3vNWmNsNRJPhObnLb9RXxozS4Sjb\n",
        "eXznmwkfUgyyIebD42/hQER4w9jitZysP6L8MprLH1991TS4ITPhQb1yUXqedwI8JhEe104dSu5o\n",
        "rCuO7skON0/OWnRzZsKpmOVGJMKj+3FReh2e5EZkaTGGgywCD7IZk3GKYgz5SQv2I0LuZRrciceE\n",
        "w6guZzMD782+bTD7dfhVbEbI3kQ4nuc7/LQ3I6FiOTozk9sQzIRD+jAZim1oIhyVc/TTECHEnCeE\n",
        "mAghJkKIiRBiIoSYCCEmQoiJEGIihJgIISZCiIkQYiKEmAghJkKIiRBiIoSYCCEmQoiJEGIihJgI\n",
        "ISZCiIkQYiKEmAghJkKIiRBiIoSYCCEmQoiJEGIihJgIISZCiIkQYiKEmAghJkKIiRBiIoSYCCEm\n",
        "QoiJEGIihJgIISZCiIkQYiKEmAghJkKIiRBiIoSYCCEmQoiJEGIihJgIISZCiIkQYiKEmAghJkKI\n",
        "iRBiIoSYCCEmQoiJEGIihJgIISZCiIkQYiKEmAghJkKIiRBiIoSYCCEmQoiJEGIihJgIISZCiIkQ\n",
        "YiKEmAghJkKIiRBiIoSYCCEmQoiJEGIihJgIISZCiIkQYiKEmAghJkKIiRBiIoSYCCEmQoiJEGIi\n",
        "hJgIISZCiIkQYiKEmAghJkKIiRBiIoTYP8HT3E/1E0wXAAAAAElFTkSuQmCC\n",
        "\"></td>\n",
        "\t</tr>\n",
        "</table>"
       ],
       "metadata": {},
       "output_type": "pyout",
       "prompt_number": 38,
       "text": [
        "<IPython.core.display.HTML at 0x10c770dd0>"
       ]
      }
     ],
     "prompt_number": 38
    },
    {
     "cell_type": "markdown",
     "metadata": {},
     "source": [
      "[<a href=\"#top\">Top</a>]"
     ]
    },
    {
     "cell_type": "markdown",
     "metadata": {
      "slideshow": {
       "slide_type": "skip"
      }
     },
     "source": [
      "<p><a name=\"Fix_1_5_conjugated_cation_aromatic_3\"></a></p>\n",
      "### Fix 1,5 conjugated cation (aromatic 3)\n",
      "\n",
      "Note that this rule leads to an iminium-containing species, which is likely to be less aromatic than the original molecule."
     ]
    },
    {
     "cell_type": "code",
     "collapsed": false,
     "input": [
      "demo(\"C[n+]1ccc2[nH]ccc2c1\")"
     ],
     "language": "python",
     "metadata": {},
     "outputs": [
      {
       "output_type": "stream",
       "stream": "stderr",
       "text": [
        "[2014/Jan/15 15:51:04 INFO    ] rule 27 'Fix 1,5 conjugated cation (aromatic 3)' applied\n"
       ]
      },
      {
       "html": [
        "<!-- NB the styling is inline as otherwise it is overridden by the Notebook stylesheets -->\n",
        "\n",
        "<table>\n",
        "\t<tr>\n",
        "\t\t<th style=\"text-align: center;\">Original</th>\n",
        "\t\t<th style=\"text-align: center;\">Transformed</th>\n",
        "\t</tr>\n",
        "\t<tr>\n",
        "\t\t<td><img src=\"data:image/png;base64,iVBORw0KGgoAAAANSUhEUgAAASwAAAEsCAIAAAD2HxkiAAAHB0lEQVR4nO3d23aiSACG0XLWvP8r\n",
        "MxemHdoDEi3467D3ykV3YhCxvhTg6bIsSwFy/kmvAMxOhBAmQggTIYSJEMJECGEihDARQpgIIUyE\n",
        "ECZCCBMhhIkQwkQIYSKEMBFCmAghTIQQJkIIEyGEiRDCRAhhIoQwEUKYCCFMhBAmQggTIYSJEMJE\n",
        "CGEihDARQpgIIUyEECZCCBMhhIkQwkQIYSKEMBFCmAghTIQQJkIIEyGEiRDCRAhhIoQwEUKYCCFM\n",
        "hBAmQggTIYSJEMJECGEihDARQpgIIUyEECZCCBMhhIkQwkQIYSKEMBFCmAghTIQQJkIIEyGEiRDC\n",
        "RAhhIoQwEUKYCCFMhBAmQggTIYSJEMJECGEihDARQpgIIUyEECZCCBMhhIkQwkQIYSKEMBFCmAgh\n",
        "TIQQJkIIEyGEiRDCRAhhIoQwEUKYCCFMhBAmQggTIYSJEMJECGEihDARQpgIIUyEECZCCBMhhInw\n",
        "jcvlkl4FBifCLZfLZVmWy+UiRY5zWZYlvQ6Nuha4/m8pxeaiOhE+d1fg+vtFilQlwideFbi+QJEi\n",
        "lYjw3tsC15csUuRrIvzL/gLXv1L6SbGvtZ2ECP/3QYHr3y0ND+7b2d3rGn5zS6nOnfGjyrhsLcW7\n",
        "9u5+1M56Ts49Ucq+EfmrY8XsVt1o7/FiBkCcCCsXeLt8OX1872zv8beMgazZ74AjClz/Yjk+xc/a\n",
        "u1vC5MMga+qtf2iB6yWUA1L8vr27pc08ErIm3fQ7w6g4NGulWLe9uyXPORjiZtzuO0fbEYPy4xSP\n",
        "a+/uWiYcD3HTbfRggeuFl305Vd/nfLsop0zPN1eELRS4vpbyYrhXn/d+m5Yp8UwTbeumClxfXVk9\n",
        "keX6zbrtfbZAHZ5mlg3dZoHr6y1ttPf3ckqDo2O8HeZ/0ytwhp0PRZToXXvaUd9+y9JQh+ecmooY\n",
        "P8JzHgzMOm6AXju8/iNi4PZuBo+wiwK/fEZOOXiAXpd98pQ4Q3s3I0fYRYGfOX/n+Zxd06nauxk2\n",
        "wiELzI7R4zqcs72bMSMcrMB2xmjd6/9zs7q5Iw4yYIQjFRg/Z3uE23u4/rlZQ926D4wW4TAFjpff\n",
        "Q3v86GA47tdjga2tzxGyD3K0b7SZcNsMI75BNvm2oT6L4vq5Ea9+qsBqHjeyz+r4wlARblBgZaqr\n",
        "Z7QIX02GCqzs9nw2vjZahH0Zdn7W528MGOH2kSEfulx+vm5MhpUMGCHneezwFupdsbw2ZoQmw5hl\n",
        "+XlE4vYP3hkzQirbeLaLndKvDRth+5PhOGdlnpbJbnM9Y4Y61o21/ZeuC8POhKWHyRDK2BFCFwaP\n",
        "0GRI+waPkAq8EPBg40fY5mQ4zqlRvjZ+hBzIJFnDFBEuy9LeXAg/pogQWjZLhJ5cRbNmibApPZ2V\n",
        "cdR3vIkiNBlWps9KJooQ2jRXhE1Pho8vXWcOc0XYrnV7OpzMdBE2OhneHVa1uIocZboIS/o8wstT\n",
        "ow12uHHqxVmZeryo9xSP74ZUdrxVhM9wmIMIa9s/gz39xM2n71+mw6GJ8FO/3V28fRjf3Vz36g1a\n",
        "3l6MUYjwnQ+OzbaDedznfHWIqMM5THNiZuODhH71o7XrW2s+fr218xzM48VaOFtDbTPNhB9PJkdM\n",
        "QZ/NhxuXrM6p0bNMMxOWjx4iPPRtpHdOdI/rYD4cy0wRNmhjktm+pF3Tgcy0O1r+TIb7h/4J9p8L\n",
        "PXnX1K7mWeabCZ/ulP72zMoRa7W2MR/aNR3OfBE2a39d2Q6dlaltyggbfRL3dx22eYvYYcoIS8N/\n",
        "xffX1dSRLV/o581OpvL0qHXnhQ+6Q8+5limJsFWNdPjqoUvqEWHb9tdVt0PtnUiEzfugw2/u01/N\n",
        "wNQgwh6ccDymvRwRduKgDu12NkCE/ag4WWmvJSLsypcdaq9JIuzQB7umDvkaJsI+7exQez0QYbc2\n",
        "OrTb2RUR9mzPk0Xdv82b7EW9g9l4OYj2+iHCzt11qL0OibB/wuvcrK8nhGaIEMJECGEihDARQpgI\n",
        "IUyEECZCCBMhhIkQwkQIYSKEMBFCmAghTIQQJkIIEyGEiRDCRAhhIoQwEUKYCCFMhBAmQggTIYSJ\n",
        "EMJECGEihDARQpgIIUyEECZCCBMhhIkQwkQIYSKEMBFCmAghTIQQJkIIEyGEiRDCRAhhIoQwEUKY\n",
        "CCFMhBAmQggTIYSJEMJECGEihDARQpgIIUyEECZCCBMhhIkQwkQIYSKEMBFCmAghTIQQJkIIEyGE\n",
        "iRDCRAhhIoQwEUKYCCFMhBAmQggTIYSJEMJECGEihDARQpgIIUyEECZCCBMhhIkQwkQIYSKEMBFC\n",
        "mAghTIQQJkIIEyGEiRDCRAhhIoQwEUKYCCFMhBAmQggTIYSJEMJECGEihDARQpgIIUyEECZCCBMh\n",
        "hIkQwkQIYSKEsP8AIl3xEb5Hto8AAAAASUVORK5CYII=\n",
        "\"></td>\n",
        "\t\t<td><img src=\"data:image/png;base64,iVBORw0KGgoAAAANSUhEUgAAASwAAAEsCAIAAAD2HxkiAAAG5UlEQVR4nO3d2XbaOgCGUbnrvP8r\n",
        "uxekHAcCMZ5+DXuvXqQZjGP0VbagMM3zXICcP+kdgNGJEMJECGEihDARQpgIIUyEECZCCBMhhIkQ\n",
        "wkQIYSKEMBFCmAghTIQQJkIIEyGEiRDCRAhhIoQwEUKYCCFMhBAmQggTIYSJEMJECGEihDARQpgI\n",
        "IUyEECZCCBMhhIkQwkQIYSKEMBFCmAghTIQQJkIIEyGEiRDCRAhhIoQwEUKYCCFMhBAmQggTIYSJ\n",
        "EMJECGEihDARQpgIIUyEECZCCBMhhIkQwkQIYSKEMBFCmAghTIQQJkIIEyGEiRDCRAhhIoQwEUKY\n",
        "CCFMhBAmQggTIYSJEMJECGEihDARQpgIIUyEECZCCBMhhIkQwkQIYSKEMBFCmAghTIQQJkIIEyGE\n",
        "iRDCRAhhIoQwEUKYCCFMhBAmQggTIYSJEMJECGEihDARQpgIIUyEECZCCBMhhIkQwkQIYSKEMBH+\n",
        "Ypqm9C7QORG+M03TPM/TNEmR80zzPKf3oVK3Apd/LaU4XBxOhD97KHD5+SJFDiXCH7wqcPkNRYoc\n",
        "RISPfi1w+Z1Fiuwmwm/WF7j8kdJOim3t7SBE+L8NBS5/tlQ8uO+ru7c93PObcjh3xpdDxmVtKT60\n",
        "9/ClevZzcO6JUtaNyI+uFbNH9U17z99mAMSJ8OAC799fLh/fK9t7/iljIGv0O+CMApc/WM5PcVt7\n",
        "D1sYfBhkDX30Ty1wuYVyQor723vY2sgjIWvQQ78yjAOH5lEpHtvew5bHHAxxIx73laPtjEG5OcXz\n",
        "2nu4lQHHQ9xwBz1Y4HLjZV1Oh59z/ropS6bXGyvCGgpc3kp5MdwPn/c+TcuUeKWBjnVVBS5vriye\n",
        "yHL75LHtbdugDi8zyoGus8Dl7ZY62vu+nVLh6OjvhPm/9A5cYeVDESV611521bfePFfU4TVLUxH9\n",
        "R3jNg4FZ5w3QW4e3DyI6bu+u8wibKHDnM3LKyQP0tu2Lp8QR2rvrOcImCtzm+pPna05Nh2rvrtsI\n",
        "uywwO0bP63DM9u76jLCzAusZo8deIv77tZq5I07SYYQ9FRhfs322/xLx/hqu/7ZQ0W8X0VuE3RRY\n",
        "YX5LG05Nn9rjSwPDcb0WC6xtfw6nvV/1NhO+1/2Ir4f21uvqvShu7xvx6qsKPMXzAf86kf76w6+6\n",
        "ivANBZ7Iu+Xs01uEryZDBZ7o/sAFm/QWYVvMz5QuI3x/ZcgpTIY7dBghGTrcqs8ITYY0pM8IyTAZ\n",
        "btJthPVPhn2uyvT3G52v2wi5zjR9mwB1+KGeI6x/MoTSd4TQhM4jNBlSv84jhPr1H2Gdk2GfS6Ns\n",
        "0n+EnMj/GjzCEBHO81zfXAhfhogQajbKy1tc/bYKDzOvszVeGyXCs2w6zbUqw9JAEe6dDD/trfvM\n",
        "rMocZKAI1xIb1xorwpeT4crw9MYJxopwLbFxoeEi/HkyVB05Iz5OmC2uk6VRqzLHGW4mzHi45sy+\n",
        "AzWVEeHR1i+uXvwO1NRKhFttfSTj29NYdYgI1/ooufddPbwkmQ6H13uEz0P8/pk3X1ppczw6ZKH3\n",
        "CMtBQ/zwSJro8NUCkqXRQw3wEEW1r0j7PA9Xsp+3PalkZwYwQISbXTAK30wy1/uxPXPd+QY4HS2v\n",
        "nzNawz/29wvUu4tPTX88CNq70BgRlhcdPp8Q/vjBBSPy+ktE7VVjmAg/8mr59OwbvaDD/e1ZlTna\n",
        "SBFWu0Jzd16H5r2KjRRh+bDDyBh97nDPnmivBV08o78/z/FsO2PcvIVft2nYHEeEtdrQ4QXtHbJN\n",
        "vhNh3dbPP8fOVNq70GDXhM35dKlmfyc7z4T5nJmwBRdcj2kvR4SNOKlDp50VEGE7DpystFcTETal\n",
        "wocu2E2EDdpwauqSr2IibNPKDrXXAhE2602HTjubIsKWrXkerPu3eh6sb9mb56Nrrx0ibNxDh9pr\n",
        "kAjbJ7zGeaEnCBMhhIkQwkQIYSKEMBFCmAghTIQQJkIIEyGEiRDCRAhhIoQwEUKYCCFMhBAmQggT\n",
        "IYSJEMJECGEihDARQpgIIUyEECZCCBMhhIkQwkQIYSKEMBFCmAghTIQQJkIIEyGEiRDCRAhhIoQw\n",
        "EUKYCCFMhBAmQggTIYSJEMJECGEihDARQpgIIUyEECZCCBMhhIkQwkQIYSKEMBFCmAghTIQQJkII\n",
        "EyGEiRDCRAhhIoQwEUKYCCFMhBAmQggTIYSJEMJECGEihDARQpgIIUyEECZCCBMhhIkQwkQIYSKE\n",
        "MBFCmAghTIQQJkIIEyGEiRDCRAhhIoQwEUKYCCFMhBAmQggTIYSJEMJECGEihDARQpgIIUyEECZC\n",
        "CBMhhIkQwkQIYSKEMBFCmAghTIQQJkIIEyGEiRDCRAhhfwFGIuAlqLvrAgAAAABJRU5ErkJggg==\n",
        "\"></td>\n",
        "\t</tr>\n",
        "</table>"
       ],
       "metadata": {},
       "output_type": "pyout",
       "prompt_number": 39,
       "text": [
        "<IPython.core.display.HTML at 0x10c770fd0>"
       ]
      }
     ],
     "prompt_number": 39
    },
    {
     "cell_type": "markdown",
     "metadata": {},
     "source": [
      "Whilst this example works, an interesting failure case is illustrated [here](Miscellaeny.ipynb#Fix_1_5_conjugated_cation_aromatic_3)."
     ]
    },
    {
     "cell_type": "markdown",
     "metadata": {},
     "source": [
      "[<a href=\"#top\">Top</a>]"
     ]
    },
    {
     "cell_type": "markdown",
     "metadata": {},
     "source": [
      "## Miscellaneous\n",
      "\n",
      "Other standardisations."
     ]
    },
    {
     "cell_type": "markdown",
     "metadata": {
      "slideshow": {
       "slide_type": "slide"
      }
     },
     "source": [
      "<p><a name=\"Charge-seperate_sulphoxides\"></a></p>\n",
      "### Charge-seperate sulphoxides\n",
      "\n",
      "The motivation for this rule is that the charge-seperated representation is consistent with that for five-valent N (which is actually applied by default by RDKit on building such molecules) and also that it better reflects the sulphur's 'tetrahedral' (and possibly chiral) geometry. Note that, by contrast, the default representation for a sulphone in ChEMBL is in the hypervalent form, i.e. R-S(=O)(=O)-R.\n",
      "\n",
      "Question: is this treatment of sulphoxides desirable in the current context? It might well be so in a compound-registration context, but might be inappropriate in a modelling situation."
     ]
    },
    {
     "cell_type": "code",
     "collapsed": false,
     "input": [
      "demo(\"CS(=O)C\")"
     ],
     "language": "python",
     "metadata": {},
     "outputs": [
      {
       "output_type": "stream",
       "stream": "stderr",
       "text": [
        "[2014/Jan/15 15:51:06 INFO    ] rule 28 'Charge-seperate sulphoxides' applied\n"
       ]
      },
      {
       "html": [
        "<!-- NB the styling is inline as otherwise it is overridden by the Notebook stylesheets -->\n",
        "\n",
        "<table>\n",
        "\t<tr>\n",
        "\t\t<th style=\"text-align: center;\">Original</th>\n",
        "\t\t<th style=\"text-align: center;\">Transformed</th>\n",
        "\t</tr>\n",
        "\t<tr>\n",
        "\t\t<td><img src=\"data:image/png;base64,iVBORw0KGgoAAAANSUhEUgAAASwAAAEsCAIAAAD2HxkiAAAEZklEQVR4nO3dW27aUBRAUVx1Rp3/\n",
        "EBiT+4HqEvJSleJ9T7vWR5RApKA4O8fYmLvt+34BOt/qBwD/OxFCTIQQEyHERAgxEUJMhBATIcRE\n",
        "CDERQkyEEBMhxEQIMRFCTIQQEyHERAgxEUJMhBATIcRECDERQkyEEBMhxEQIMRFCTIQQEyHERAgx\n",
        "EUJMhBATIcRECDERQkyEEBMhxEQIMRFCTIQQEyHERAgxEUJMhBATIcRECDERQkyEEBMhxEQIMRFC\n",
        "TIQQEyHERAgxEUJMhBATIcRECDERQkyEEBMhxEQIMRFCTIQQEyHERAgxEUJMhBATIcRECDERQkyE\n",
        "EBMhxEQIMRFCTIQQEyHERAgxEUJMhBATIcRECDERQkyEEBMhxEQIMRFCTIQQEyHERAgxEUJMhBAT\n",
        "IcRECDERQkyEEBMhxEQIMRFCTIQQEyHERAgxEUJMhBATIcRECDERQkyEEBMhxEQIMRFCTIQQEyHE\n",
        "RAgxEUJMhBATIcRECDERQux7/QD4gm37/fm+d4+DLxHhWNv2IryHL5nD7ug0t+n3Orl9fzEYmUOE\n",
        "EBMhxEQIMRFCTIQzvT4M4+joWE5RjPXQoQLHEuFAt/b2/TG8o0lBjmJ3FGIihJgIISZCiIkQYiKE\n",
        "mAghJkKIiRBiIoSYCCEmQoiJEGIihJgIISZCiIkQYiKEmAghJkKIiRBiIoSYCCEmwpnefGfR1+9E\n",
        "ygQihJgIISZCiIkQYhaEmcyqTP8EEY71sCCh9QnHEuE075V23C7FaTwnHOu2SOjDer0MZBJOc6wQ\n",
        "eny8v4WBTMI53pt7txfK/LrrejUbh9l2/0HX99DeMQDfOTBz6/DHD1t2BhGu7c38jrs+PDp6vW46\n",
        "HEGEC/v0NOBn32AkjiDCJf3Vs/BG4uJEuJgP9j+/wEhcmQiX8Zz87klxTSJcwPPze/nTbPS12B61\n",
        "4kXY27ZdLhebfhEi7NTXQEhxESIsnLv/+TEp5kR4rpXyuyfFkAjPsmp+96SYEOEp6qd/f0SKJxPh\n",
        "k43K754UTyPCZxpb4EGKJ3BR7/NN/gu+5ef8/lP55ULMlfUQEyHERAgxEUJMhBATIcRECDERQkyE\n",
        "EBMhxEQIMRFCTIQQEyHERAgxEUJMhBATIcRECDERQkyEEBMhxEQIMRFCTIQQEyHERAgxEUJMhBAT\n",
        "IcRECDERQkyEEBMhxEQIMRFCTIQQEyHERAgxEUJMhBATIcRECDERQkyEEBMhxEQIMRFCTIQQEyHE\n",
        "RAgxEUJMhBATIcRECDERQkyEEBMhxEQIMRFCTIQQEyHERAgxEUJMhBATIcRECDERQkyEEBMhxEQI\n",
        "MRFCTIQQEyHERAgxEUJMhBATIcRECDERQkyEEBMhxEQIMRFCTIQQEyHERAgxEUJMhBATIcRECDER\n",
        "QkyEEBMhxEQIMRFCTIQQEyHERAgxEUJMhBATIcRECDERQkyEEBMhxEQIMRFCTIQQEyHERAgxEUJM\n",
        "hBATIcRECDERQkyEEBMhxEQIMRFC7Cduv8mxt5rHdAAAAABJRU5ErkJggg==\n",
        "\"></td>\n",
        "\t\t<td><img src=\"data:image/png;base64,iVBORw0KGgoAAAANSUhEUgAAASwAAAEsCAIAAAD2HxkiAAAEXUlEQVR4nO3dXW7aQBhAUVx1R9n/\n",
        "EliT+4BEidu0jRR856PnPCU8oUyu5scYb/u+X4DOt/oNwP9OhBATIcRECDERQkyEEBMhxEQIMRFC\n",
        "TIQQEyHERAgxEUJMhBATIcRECDERQkyEEBMhxEQIMRFCTIQQEyHERAgxEUJMhBATIcRECDERQkyE\n",
        "EBMhxEQIMRFCTIQQEyHERAgxEUJMhBATIcRECDERQkyEEBMhxEQIMRFCTIQQEyHERAgxEUJMhBAT\n",
        "IcRECDERQkyEEBMhxEQIMRFCTIQQEyHERAgxEUJMhBATIcRECDERQkyEEBMhxEQIMRFCTIQQEyHE\n",
        "RAgxEUJMhBATIcRECDERQkyEEBMhxEQIMRFCTIQQEyHERAgxEUJMhBATIcRECDERQkyEEBMhxEQI\n",
        "MRFCTIQQEyHERAgxEUJMhBATIcRECDERQkyEEBMhxEQIMRFCTIQQEyHERAgxEUJMhBATIcRECDER\n",
        "QkyEEBMhxEQIMRFCTIQQ+16/AT5p237+vO/d++DLiHCUbXsX3uFXZrIcnePX5Pb93cTITCKEmAgh\n",
        "Zk/4Kg7rUnvFOUT4KlQ3luXoHL8ewzgdfQlmwlEOHSrwJYhwmkN49yYFOZblKMRECDERQkyEEBMh\n",
        "xEQIMRFCTIQQEyHERAgxEUJMhBATIcRECDERQkyEEBMhxEQIMRFCTIQQEyHERAgxEULM944O5+tG\n",
        "5zMTQkyEEBMhxEQIMQczA3kw02sR4TSHZxJ6ROF8lqPDKXA+EU5ze07o4ZG9dx+9zsIsRwe6zX63\n",
        "3syE8227UZzit9u/+4uHOdCwzmEmnOAxsI9OYu4pym8ae8K1/WH79zfXq/3hDJajC/voeuA/Xye8\n",
        "dfj2ZoiXJsIlfenl+Ot10+HKRLiY55yvmBJXJsJlPP94U4prEuECzr26sG0GfS3Go1Z8Gnvbtsvl\n",
        "YugXIcJOfTOEFBchwsJKn26RYk6E51opv0dSDInwLKvm90iKCRGeot7+fYoUTybCJxuV3yMpnkaE\n",
        "zzS2wDspnsCtTM83+T/4lp/r+0/ljwsx9xNCTIQQEyHERAgxEUJMhBATIcRECDERQkyEEBMhxEQI\n",
        "MRFCTIQQEyHERAgxEUJMhBATIcRECDERQkyEEBMhxEQIMRFCTIQQEyHERAgxEUJMhBATIcRECDER\n",
        "QkyEEBMhxEQIMRFCTIQQEyHERAgxEUJMhBATIcRECDERQkyEEBMhxEQIMRFCTIQQEyHERAgxEUJM\n",
        "hBATIcRECDERQkyEEBMhxEQIMRFCTIQQEyHERAgxEUJMhBATIcRECDERQkyEEBMhxEQIMRFCTIQQ\n",
        "EyHERAgxEUJMhBATIcRECDERQkyEEBMhxEQIMRFCTIQQEyHERAgxEUJMhBATIcRECDERQkyEEBMh\n",
        "xEQIMRFCTIQQEyHERAgxEUJMhBATIcRECDERQkyEEBMhxEQIMRFCTIQQEyHERAgxEUJMhBATIcRE\n",
        "CDERQkyEEBMhxEQIsR9nXrTDR1hiRgAAAABJRU5ErkJggg==\n",
        "\"></td>\n",
        "\t</tr>\n",
        "</table>"
       ],
       "metadata": {},
       "output_type": "pyout",
       "prompt_number": 40,
       "text": [
        "<IPython.core.display.HTML at 0x10c05ed90>"
       ]
      }
     ],
     "prompt_number": 40
    },
    {
     "cell_type": "markdown",
     "metadata": {},
     "source": [
      "_N.B._ RDKit charge-seperates nitro- and n-oxides _etc._ automatically, thus no rules are needed for these"
     ]
    },
    {
     "cell_type": "markdown",
     "metadata": {},
     "source": [
      "[<a href=\"#top\">Top</a>]"
     ]
    },
    {
     "cell_type": "markdown",
     "metadata": {},
     "source": [
      "<p><a name=\"Un-charge-seperate_sulphones\"></a></p>\n",
      "### Un-charge-seperate sulphones\n"
     ]
    },
    {
     "cell_type": "code",
     "collapsed": false,
     "input": [
      "demo(\"C[S+2]([O-])([O-])C\")"
     ],
     "language": "python",
     "metadata": {},
     "outputs": [
      {
       "output_type": "stream",
       "stream": "stderr",
       "text": [
        "[2014/Jan/15 15:51:07 INFO    ] rule 29 'Un-charge-seperate sulphones' applied\n"
       ]
      },
      {
       "html": [
        "<!-- NB the styling is inline as otherwise it is overridden by the Notebook stylesheets -->\n",
        "\n",
        "<table>\n",
        "\t<tr>\n",
        "\t\t<th style=\"text-align: center;\">Original</th>\n",
        "\t\t<th style=\"text-align: center;\">Transformed</th>\n",
        "\t</tr>\n",
        "\t<tr>\n",
        "\t\t<td><img src=\"data:image/png;base64,iVBORw0KGgoAAAANSUhEUgAAASwAAAEsCAIAAAD2HxkiAAAFDElEQVR4nO3dUW7aQBRA0brqjrL/\n",
        "JWRN7gdVSoFE0GLuTOcc5SNtUIREruZ5jM227/s3oPO9fgKwOhFCTIQQEyHERAgxEUJMhBATIcRE\n",
        "CDERQkyEEBMhxEQIMRFCTIQQEyHERAgxEUJMhBATIcRECDERQkyEEBMhxEQIMRFCTIQQEyHERAgx\n",
        "EUJMhBATIcRECDERQkyEEBMhxEQIMRFCTIQQEyHERAgxEUJMhBATIcRECDERQkyEEBMhxEQIMRFC\n",
        "TIQQEyHERAgxEUJMhBATIcRECDERQkyEEBMhxEQIMRFCTIQQEyHERAgxEUJMhBATIcRECDERQkyE\n",
        "EBMhxEQIMRFCTIQQEyHERAgxEUJMhBATIcRECDERQkyEEBMhxEQIMRFCTIQQEyHERAgxEUJMhBAT\n",
        "IcRECDERQkyEEBMhxEQIMRFCTIQQEyHERAgxEUJMhBATIcRECDERQkyEEBMhxEQIMRFCTIQQEyHE\n",
        "RAgxEUJMhBAT4RC2baufAhkRDmHfdx0uS4QQE+EoLIbLEiHERDgQi+GaRDgWHS5IhBAT4XAshqsR\n",
        "IcREOCKL4VJECDERDspiuI5t3/f6OfCpbSteoPP4/Xkc70f9BBjMtv0R3sU/OYBxdGivHkqvk9v3\n",
        "b6big4kQYiIcnR2a/54IJ7Dv+/v7wR3e0/m2/fHFk9iYWd79OdmhOYaVcA5vb8cshhcFXm/D2B09\n",
        "npVwVZ8tgBcdKvB4TtbP5P19e3v759frZn7+DDrG0Zk8YSi9LnDfFdgyji7jZn4MwEo4mb9ZDG+e\n",
        "UVDgMBwTrsFey8CMoyuR35CMo8tQ4KhEuAYFDkyEEBMhxGzMTOKh7c2PB5tCZyDCGTx0y4nzn3r7\n",
        "9QyMoxP6uivVzUaEMzhd2fDZdQ9f/L8gZ2AcncQpp1Nv96SlwHl429qEPgK7viT34gHMwDg6gy8u\n",
        "wD3Fdn45kgJnI0KIiXBov65a+tiYOX1d35/3gnuiTcXGzKBO+f2+mcWdmzH3P5hh2JgZzmV+D9Hh\n",
        "hKyEY3nOrZyYipVwFKd73T/h5bAYzkaEvafld/Ybf33jxZ2BcTTWfAwoI3GKIrNt21EFnp+4Z3hW\n",
        "wsDz509mZhZ6qZfm58hwElbC18kO/7ybdGwifIVm/vRx85Mwjh6rP/wzlA7PSnggpx+4h1MUBxqi\n",
        "QKcrhidCiIlwARbDsYlwDTocmAghZnd0GSPsEnGLlRBiIoSYCCEmQoiJEGJ2R5fx0MeM8kIiXMND\n",
        "HzPKaxlHF3DzzvneOjMMEUJMhBBzTLi8zz5plFcR4fJUVzOOLuB6G8bu6EishGu46FCBIxHhMoQ3\n",
        "KuMoxEQIMRFCTIQQEyHERAgxEUJMhBATIcRECDERQkyEEBMhxEQIMRFCTIQQEyHERAgxEUJMhBAT\n",
        "IcRECDERQkyEEBMhxEQIMRFCTIQQEyHERAgxEUJMhBATIcRECDERQkyEEBMhxEQIMRFCTIQQEyHE\n",
        "RAgxEUJMhBATIcRECDERQkyEEBMhxEQIMRFCTIQQEyHERAgxEUJMhBATIcRECDERQkyEEBMhxEQI\n",
        "MRFCTIQQEyHERAgxEUJMhBATIcRECDERQkyEEBMhxEQIMRFCTIQQEyHERAgxEUJMhBATIcRECDER\n",
        "QkyEEBMhxEQIMRFCTIQQEyHERAgxEUJMhBATIcRECDERQkyEEBMhxEQIMRFCTIQQEyHERAgxEUJM\n",
        "hBATIcRECDERQkyEEBMhxH4C3BUEogFd87sAAAAASUVORK5CYII=\n",
        "\"></td>\n",
        "\t\t<td><img src=\"data:image/png;base64,iVBORw0KGgoAAAANSUhEUgAAASwAAAEsCAIAAAD2HxkiAAAFWElEQVR4nO3dXW4aSRhA0fRodpT9\n",
        "72BYU+cByeMYaBsbuFXd57wlOALJufqqq39Y1nX9BXT+qT8AHJ0IISZCiIkQYiKEmAghJkKIiRBi\n",
        "IoSYCCEmQoiJEGIihJgIISZCiIkQYiKEmAghJkKIiRBiIoSYCCEmQoiJEGIihJgIISZCiIkQYiKE\n",
        "mAghJkKIiRBiIoSYCCEmQoiJEGIihJgIISZCiIkQYiKEmAghJkKIiRBiIoSYCCEmQoiJEGIihJgI\n",
        "ISZCiIkQYiKEmAghJkKIiRBiIoSYCCEmQoiJEGIihJgIISZCiIkQYiKEmAghJkKIiRBiIoSYCCEm\n",
        "QoiJEGIihJgIISZCiIkQYiKEmAghJkKIiRBiIoSYCCEmQoiJEGIihJgIISZCiIkQYiKEmAghJkKI\n",
        "iRBiIoSYCCEmQoiJEGIihJgIISZCiIkQYiKEmAghJkKIiRBiIoSYCCEmQoiJEGIihJgIISZCiIkQ\n",
        "YiKEmAghJkKIiXAIy7LUH4GMCIewrqsOD0uEEBPhKAzDwxIhxEQ4EMPwmEQ4Fh0ekAghJsLhGIZH\n",
        "I0KIiXBE8TA0h1/r3/oDMBL5FUzCQb16GC6LAism4bjOHa7r+vR32sjv/Usv+CSHJMJju8zvfWnL\n",
        "svVHHsRydGhPXJReXX9uJ7eulqzPYBIe0nZ+vJYIR/fgI0P5jcdydALrup5OP14Hfrr+JGISHoP8\n",
        "BvaSHXAe4XRafv++/5f1k/zsjr6ESbhfV3cyv1LRW2wftkMV+Bwm4UzuGIbfG4Af/pX/Gy8hwsl8\n",
        "3uG315+GXsRydEd+sv686+d5KJNwPteHofXntEzCvXjr54t7mPIbhkl4SNafIzEJD8YAHI8ID0N+\n",
        "oxLhMVh/DkyEu3N5rdkb+Q1JhDO7Fdi5Q+vPSYhwWttXVxuA8xDhXlwtTX4zcFPvtM4Lzo2Hvihw\n",
        "EiKc0Ft467qVoocyTUKEkzmdltN/f//VW4qXdDgDx4TTOD9m5v9Lt29dI+rBhLMR4QQ+5vep9x16\n",
        "JsXwRDi0rfw8e2IvRDio+6bfZYGG4TzcyjSc+/J7v1N666VbP8AYTMKxfPO5hlfZoZmESTiK8xe/\n",
        "fOfXsTEMf7l+bQImYe/7+bELTtbHzl/28qMC3z9dZuPVWz9ATYSZZVke9nVL2x3+/a4PeDseynI0\n",
        "8Or1px2asdmYeann5meHZk4m4es88rs+2RHHhK/wyMO/DXZo5mQSPld2+uHTS9VcyzYMk/CJHnD6\n",
        "4V7b76W6IYnwiZojQIvS2YgQYiLcI8NwKiI8PB3WRLhTXx+G1Jw+3rXta2gYg0kIMRHu2tfvrqAj\n",
        "QoiJcO8Mw+GJEGIu4D6Ay5t63Vs4EhEew8azgN1OUbMcPZjL5Dz8oibCwzDuRiVCiIkQYiKEmAgP\n",
        "5urpCoeLKacojse3iw5GhIckvJFYjkJMhBATIcRECDERQkyEEBMhxEQIMRFCTIQQEyHERAgxEUJM\n",
        "hBATIcRECDERQkyEEBMhxEQIMRFCTIQQEyHERAgxEUJMhBATIcRECDERQkyEEBMhxEQIMRFCTIQQ\n",
        "EyHERAgxEUJMhBATIcRECDERQkyEEBMhxEQIMRFCTIQQEyHERAgxEUJMhBATIcRECDERQkyEEBMh\n",
        "xEQIMRFCTIQQEyHERAgxEUJMhBATIcRECDERQkyEEBMhxEQIMRFCTIQQEyHERAgxEUJMhBATIcRE\n",
        "CDERQkyEEBMhxEQIMRFCTIQQEyHERAgxEUJMhBATIcRECDERQkyEEBMhxEQIMRFCTIQQEyHERAgx\n",
        "EUJMhBATIcRECDERQkyEEBMhxEQIMRFCTIQQEyHERAgxEULsDyIzUz6BQi/9AAAAAElFTkSuQmCC\n",
        "\"></td>\n",
        "\t</tr>\n",
        "</table>"
       ],
       "metadata": {},
       "output_type": "pyout",
       "prompt_number": 41,
       "text": [
        "<IPython.core.display.HTML at 0x10c770490>"
       ]
      }
     ],
     "prompt_number": 41
    },
    {
     "cell_type": "markdown",
     "metadata": {},
     "source": [
      "[<a href=\"#top\">Top</a>]"
     ]
    },
    {
     "cell_type": "markdown",
     "metadata": {},
     "source": [
      "<p><a name=\"hydroxy_imine_-_carboxamide\"></a></p>\n",
      "### Fix hydrazine-diazonium system\n",
      "\n",
      "Borrowed from the InChI standardisation procedure, and probably not the most widely-used of the rules..."
     ]
    },
    {
     "cell_type": "code",
     "collapsed": false,
     "input": [
      "demo(\"CNNC[N+]#N\")"
     ],
     "language": "python",
     "metadata": {},
     "outputs": []
    },
    {
     "cell_type": "markdown",
     "metadata": {},
     "source": [
      "[<a href=\"#top\">Top</a>]"
     ]
    }
   ],
   "metadata": {}
  }
 ]
}