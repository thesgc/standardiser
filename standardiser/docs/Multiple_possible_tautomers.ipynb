{
 "metadata": {
  "name": ""
 },
 "nbformat": 3,
 "nbformat_minor": 0,
 "worksheets": [
  {
   "cells": [
    {
     "cell_type": "code",
     "collapsed": false,
     "input": [
      "%run setup.py\n",
      "\n",
      "reload(logging) # Seems to be required to get logging from modules working\n",
      "\n",
      "logging.basicConfig(level=logging.DEBUG, format=\"[%(asctime)s %(levelname)-8s] %(message)s\", datefmt=\"%H:%M:%S\")"
     ],
     "language": "python",
     "metadata": {},
     "outputs": [],
     "prompt_number": 2
    },
    {
     "cell_type": "code",
     "collapsed": false,
     "input": [
      "from standardise import standardise"
     ],
     "language": "python",
     "metadata": {},
     "outputs": [],
     "prompt_number": 3
    },
    {
     "cell_type": "markdown",
     "metadata": {},
     "source": [
      "# Multiple possible standardised tautomers\n",
      "\n",
      "### Introduction\n",
      "\n",
      "In some cases, more than one standardised tautomer is conceivable. In the current system only one, essentially arbitrary, tautomer is returned.\n",
      "\n",
      "For example..."
     ]
    },
    {
     "cell_type": "code",
     "collapsed": false,
     "input": [
      "mol = Chem.MolFromSmiles(\"Oc1nc(O)ccc(C)1\")\n",
      "mol"
     ],
     "language": "python",
     "metadata": {},
     "outputs": [
      {
       "metadata": {},
       "output_type": "pyout",
       "png": "[encoded data removed]",
       "prompt_number": 15,
       "text": [
        "<rdkit.Chem.rdchem.Mol at 0x10b0536e0>"
       ]
      }
     ],
     "prompt_number": 15
    },
    {
     "cell_type": "code",
     "collapsed": false,
     "input": [
      "standardise.rules.apply(mol)"
     ],
     "language": "python",
     "metadata": {},
     "outputs": [
      {
       "output_type": "stream",
       "stream": "stderr",
       "text": [
        "[16:16:32 DEBUG   ] apply> mol = 'Cc1ccc(O)nc1O'\n"
       ]
      },
      {
       "output_type": "stream",
       "stream": "stderr",
       "text": [
        "[16:16:32 DEBUG   ] apply> starting pass 1...\n"
       ]
      },
      {
       "output_type": "stream",
       "stream": "stderr",
       "text": [
        "[16:16:32 INFO    ] rule 2 '2-hydroxy pyridine -> 2-pyridone' applied on pass 1\n"
       ]
      },
      {
       "output_type": "stream",
       "stream": "stderr",
       "text": [
        "[16:16:32 DEBUG   ] ...total of 1 hits in pass: will continue...\n"
       ]
      },
      {
       "output_type": "stream",
       "stream": "stderr",
       "text": [
        "[16:16:32 DEBUG   ] apply> starting pass 2...\n"
       ]
      },
      {
       "output_type": "stream",
       "stream": "stderr",
       "text": [
        "[16:16:32 DEBUG   ] ...total of 0 hits in pass: finished.\n"
       ]
      },
      {
       "metadata": {},
       "output_type": "pyout",
       "png": "[encoded data removed]",
       "prompt_number": 16,
       "text": [
        "<rdkit.Chem.rdchem.Mol at 0x10b05f500>"
       ]
      }
     ],
     "prompt_number": 16
    },
    {
     "cell_type": "markdown",
     "metadata": {},
     "source": [
      "Clearly, the tautomer where the carbonyl is adjacent to the methyl group would be as valid as the one generated above. "
     ]
    },
    {
     "cell_type": "markdown",
     "metadata": {},
     "source": [
      "### N-heterocycles\n",
      "\n",
      "This issue is also relevant for N-heterocycles such as imidazoles, for which there are currently no standardisation rules. In these cases there may be no significantly preferred tautomer, or, if there is, it will depend on subtle electronic effects, intramolecular H-bonds _etc._\n",
      "\n",
      "Any standardisation rules in these cases would thus be directed more at 'canonicalisation' than at correcting the representation, which is more what the ruleset as currently conceived is aimed at."
     ]
    },
    {
     "cell_type": "markdown",
     "metadata": {},
     "source": [
      "### Alternative strategies\n",
      "\n",
      "An alternative strategy to the one adopted (_i.e._ return one standardised tautomer only) would be to generate all possible 'standardised' tautomers and then either...\n",
      "\n",
      "* return them all to the user\n",
      "* select one 'canonical' example, using rules similar to those used to identify canonical SMILES\n",
      "* attempt to identify (very approximately) the lowest-energy tautomer\n",
      "\n",
      "Obviously this is a much more heavyweight solution, and, for current purposes, would probably be overkill."
     ]
    }
   ],
   "metadata": {}
  }
 ]
}