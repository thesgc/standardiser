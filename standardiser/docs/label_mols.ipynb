{
 "metadata": {
  "name": ""
 },
 "nbformat": 3,
 "nbformat_minor": 0,
 "worksheets": [
  {
   "cells": [
    {
     "cell_type": "code",
     "collapsed": false,
     "input": [
      "%run setup.py"
     ],
     "language": "python",
     "metadata": {},
     "outputs": [],
     "prompt_number": 1
    },
    {
     "cell_type": "markdown",
     "metadata": {},
     "source": [
      "### Label atoms in molecules"
     ]
    },
    {
     "cell_type": "code",
     "collapsed": false,
     "input": [
      "def label(mol):\n",
      "    \n",
      "    print(\"SMILES: {}\".format(Chem.MolToSmiles(mol)))  \n",
      "    \n",
      "    print(\"\\nAtoms...\")\n",
      "    \n",
      "    for atom in mol.GetAtoms():\n",
      "        print(\"{:2d}: {:3s} {:d} {}\".format(atom.GetIdx(), str(atom.GetHybridization()), atom.GetTotalNumHs(), 'aromatic' if atom.GetIsAromatic() else ''))\n",
      "    \n",
      "    print(\"\\nBonds...\")\n",
      "    \n",
      "    for bond in mol.GetBonds():\n",
      "        a1, a2 = [x for x in sorted([bond.GetBeginAtomIdx(), bond.GetEndAtomIdx()])]\n",
      "        print(\"{:2d} - {:2d} = {}\".format(a1, a2, str(bond.GetBondType()).lower()))\n",
      "    \n",
      "    import copy\n",
      "    \n",
      "    temp = copy.deepcopy(mol)\n",
      "    \n",
      "    for atom in temp.GetAtoms(): atom.SetProp(\"molAtomMapNumber\", str(atom.GetIdx()))\n",
      "        \n",
      "    return temp"
     ],
     "language": "python",
     "metadata": {},
     "outputs": [],
     "prompt_number": 2
    },
    {
     "cell_type": "code",
     "collapsed": false,
     "input": [
      "mol = Chem.MolFromSmiles(\"C1N=C2C(=N1)NC(=NC2=O)N\")\n",
      "mol"
     ],
     "language": "python",
     "metadata": {},
     "outputs": [
      {
       "metadata": {},
       "output_type": "pyout",
       "png": "[encoded data removed]",
       "prompt_number": 3,
       "text": [
        "<rdkit.Chem.rdchem.Mol at 0x10e139ad0>"
       ]
      }
     ],
     "prompt_number": 3
    },
    {
     "cell_type": "code",
     "collapsed": false,
     "input": [
      "label(mol)"
     ],
     "language": "python",
     "metadata": {},
     "outputs": [
      {
       "output_type": "stream",
       "stream": "stdout",
       "text": [
        "SMILES: Nc1nc(=O)c2c([nH]1)=NCN=2\n",
        "\n",
        "Atoms...\n",
        " 0: SP3 2 \n",
        " 1: SP2 0 \n",
        " 2: SP2 0 aromatic\n",
        " 3: SP2 0 aromatic\n",
        " 4: SP2 0 \n",
        " 5: SP2 1 aromatic\n",
        " 6: SP2 0 aromatic\n",
        " 7: SP2 0 aromatic\n",
        " 8: SP2 0 aromatic\n",
        " 9: SP2 0 \n",
        "10: SP2 2 \n",
        "\n",
        "Bonds...\n",
        " 0 -  1 = single\n",
        " 1 -  2 = double\n",
        " 2 -  3 = aromatic\n",
        " 3 -  4 = double\n",
        " 3 -  5 = aromatic\n",
        " 5 -  6 = aromatic\n",
        " 6 -  7 = aromatic\n",
        " 7 -  8 = aromatic\n",
        " 8 -  9 = double\n",
        " 6 - 10 = single\n",
        " 0 -  4 = single\n",
        " 2 -  8 = aromatic\n"
       ]
      },
      {
       "metadata": {},
       "output_type": "pyout",
       "png": "[encoded data removed]",
       "prompt_number": 4,
       "text": [
        "<rdkit.Chem.rdchem.Mol at 0x10e135940>"
       ]
      }
     ],
     "prompt_number": 4
    }
   ],
   "metadata": {}
  }
 ]
}