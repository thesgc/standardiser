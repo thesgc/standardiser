{
 "metadata": {
  "name": ""
 },
 "nbformat": 3,
 "nbformat_minor": 0,
 "worksheets": [
  {
   "cells": [
    {
     "cell_type": "code",
     "collapsed": false,
     "input": [
      "%run setup.py\n",
      "\n",
      "reload(logging) # Seems to be required to get logging from modules working\n",
      "\n",
      "logging.basicConfig(level=logging.INFO, format=\"[%(asctime)s %(levelname)-8s] %(message)s\", datefmt=\"%Y/%b/%d %H:%M:%S\")\n",
      "\n",
      "sys.path.append(\"..\")"
     ],
     "language": "python",
     "metadata": {},
     "outputs": [],
     "prompt_number": 2
    },
    {
     "cell_type": "code",
     "collapsed": false,
     "input": [
      "from standardise import neutralise, rules, standardise\n",
      "\n",
      "from demo import *"
     ],
     "language": "python",
     "metadata": {},
     "outputs": [],
     "prompt_number": 3
    },
    {
     "cell_type": "markdown",
     "metadata": {},
     "source": [
      "## Tautomerism and aromaticity\n",
      "\n",
      "This page shows some transforms where the non-aromatic form is (counterintuitively) favoured over the aromatic form for certain hydroxy-substituted furans, thiophenes and pyrolles.\n",
      "\n",
      "They are taken from the article \"[So you think you understand tautomerism?](http://link.springer.com/article/10.1007%2Fs10822-010-9329-5)\" by Roger Sayle from the special \"[Perspectives in Drug Discovery and Design: Tautomers and Tautomerism](http://link.springer.com/journal/10822/24/6/page/1)\" issue of J. Comput. Aided Mol. Des. (2010), **24**: 485-496 (see the section \"Tautomeric preference and aromaticity\", starting on page 492).\n",
      "\n",
      "As the article states: \"Software for handling tautomers may be dismissed by its users unless it returns the type of results that they expect to see. The reason why some tautomer enumeration programs prefer to generate aromatic tautomers, contrary to experimental evidence, is to satisfy customer demand and market forces...\". As these rules are not what most people will be exepecting, I have chosen not to enable them by default."
     ]
    },
    {
     "cell_type": "markdown",
     "metadata": {},
     "source": [
      "### Non-aromatic 1"
     ]
    },
    {
     "cell_type": "code",
     "collapsed": false,
     "input": [
      "demo(\"Oc1occc1\")"
     ],
     "language": "python",
     "metadata": {},
     "outputs": [
      {
       "output_type": "stream",
       "stream": "stderr",
       "text": [
        "[2013/Dec/06 17:05:30 INFO    ] rule 30 'Non-aromatic 1' applied\n"
       ]
      },
      {
       "html": [
        "<!-- NB the styling is inline as otherwise it is overridden by the Notebook stylesheets -->\n",
        "\n",
        "<table>\n",
        "\t<tr>\n",
        "\t\t<th style=\"text-align: center;\">Original</th>\n",
        "\t\t<th style=\"text-align: center;\">Transformed</th>\n",
        "\t</tr>\n",
        "\t<tr>\n",
        "\t\t<td><img src=\"data:image/png;base64,iVBORw0KGgoAAAANSUhEUgAAASwAAAEsCAIAAAD2HxkiAAAFFklEQVR4nO3d0U7jSBRAQXs1///L\n",
        "3gd2mZmEQAJOjrtdJR5AAsWSObndjpWs27YtQOef+gDg7EQIMRFCTIQQEyHERAgxEUJMhBATIcRE\n",
        "CDERQkyEEBMhxEQIMRFCTIQQEyHERAgxEUJMhBATIcRECDERQkyEEBMhxEQIMRFCTIQQEyHERAgx\n",
        "EUJMhBATIcRECDERQkyEEBMhxEQIMRFCTIQQEyHERAgxEUJMhBATIcRECDERQkyEEBMhxEQIMRFC\n",
        "TIQQEyHERAgxEUJMhBATIcRECDERQkyEEBMhxEQIMRFCTIQQEyHERAgxEUJMhBATIcRECDERQkyE\n",
        "EBMhxEQIMRFCTIQQEyHERAgxEUJMhBATIcRECDERQkyEEBMhxEQIMRFCTIQQEyHERAgxEUJMhBAT\n",
        "IcRECDERQkyEEBMhxEQIMRFCTIQQEyHERAgxEUJMhBATIcRECDERQkyEEBMhxEQIMRFCTIQQEyHE\n",
        "RAgxEUJMhBD7VR8AH1nX399vW3ccvIIIj2dd/wrv4kemYzl6MNfJbdtfg5HpmIQH8N6YiXdKIuyY\n",
        "byzLIsJXuxWeGXhiInwJ7XGbCJ/pw/Y+D+/tMsytq6OulM5IhHv7+dC7uBx68Yc6nI4Id7LvgvP6\n",
        "r1zFmde6eVr9iW8sOHd5LGdtIibht7yyvVsHoMNZmIQPus7vxe1VD83TmISPWZflv3/8JAC3sM3I\n",
        "vaOP27ZyBF28esH4RDg4HY5PhAO6fuWQkYlwN+srY3BJZiIinIJhODIRDsuidBYiHJlF6RREODiv\n",
        "WIxPhHPR4YBEOD6bw8GJcAo2hyMT4SxsDoclwknpcBwinIjN4ZhEOBebwwGJcDo2h6MR4fC+uHFc\n",
        "h4cnwrGt60dvUPLKzeG6/v76/EE9Hdzg7S0mdfFGGLsH8Na5T3Hbg0k4sI/H4LttW5blidPHp7jt\n",
        "xCQc1RcFvv3Osng3veMT4ZDuKvCO33kuU/E+IuRp3DxwH3vC8YwxBrmbCAdzoAKvL8O4OvotlqOz\n",
        "eekM/PxT3LiPCEdyxEXmreP58hYC/mc5OowDLUTZlQjHoMCJiXASChyXCAcgsLmJ8OgsRKcnwkNT\n",
        "4BmIcGwKnIAIj0tgJyHC3ewbjIXoeYhwVAqchgiP6MvAFDgTET7s2R+LrcCzcQP3Y97++9873D0G\n",
        "gZ2QCL/jvZM/p+Jr4lHpfJzR3fx8PFqInpOTur8nLVYVOCvL0f1dL1bFwyc8ub7Cz7eOxuDEnNpX\n",
        "+8Z4VODcnN3MnTUqcHr2hJnwdQ4OxbPssVyMR2PwDJzjg3qr0dk5AxFCzA3cEBMhxEQIMRFCTIQQ\n",
        "EyHERAgxEUJMhBATIcRECDERQkyEEBMhxEQIMRFCTIQQEyHERAgxEUJMhBATIcRECDERQkyEEBMh\n",
        "xEQIMRFCTIQQEyHERAgxEUJMhBATIcRECDERQkyEEBMhxEQIMRFCTIQQEyHERAgxEUJMhBATIcRE\n",
        "CDERQkyEEBMhxEQIMRFCTIQQEyHERAgxEUJMhBATIcRECDERQkyEEBMhxEQIMRFCTIQQEyHERAgx\n",
        "EUJMhBATIcRECDERQkyEEBMhxEQIMRFCTIQQEyHERAgxEUJMhBATIcRECDERQkyEEBMhxEQIMRFC\n",
        "TIQQEyHERAgxEUJMhBATIcRECDERQkyEEBMhxEQIMRFCTIQQEyHERAgxEUJMhBATIcRECDERQkyE\n",
        "EBMhxEQIMRFCTIQQEyHERAgxEUJMhBATIcT+BZbtPl2+nsENAAAAAElFTkSuQmCC\n",
        "\"></td>\n",
        "\t\t<td><img src=\"data:image/png;base64,iVBORw0KGgoAAAANSUhEUgAAASwAAAEsCAIAAAD2HxkiAAAFEklEQVR4nO3dwXLaSBRAUWlq/v+X\n",
        "mYWnnBgHVzBCl34+p7KwF7apUi5P3RKwXy6XDej8Uz8A+OlECDERQkyEEBMhxEQIMRFCTIQQEyHE\n",
        "RAgxEUJMhBATIcRECDERQkyEEBMhxEQIMRFCTIQQEyHERAgxEUJMhBATIcRECDERQkyEEBMhxEQI\n",
        "MRFCTIQQEyHERAgxEUJMhBATIcRECDERQkyEEBMhxEQIMRFCTIQQEyHERAgxEUJMhBATIcRECDER\n",
        "QkyEEBMhxEQIMRFCTIQQEyHERAgxEUJMhBATIcRECDERQkyEEBMhxEQIMRFCTIQQEyHERAgxEUJM\n",
        "hBATIcRECDERQkyEEBMhxEQIMRFCTIQQEyHERAgxEUJMhBATIcRECDERQkyEEBMhxEQIMRFCTIQQ\n",
        "EyHERAgxEUJMhBATIcRECDERQkyEEBMhxEQIMRFCTIQQEyHERAgxEUJMhBATIcRECDERQkyEEBMh\n",
        "xEQIMRFCTIQQ+7d+APzJvv/6+nLpHgdnEOHr2fcP4V19yzhOR1/M5+Qulw+DkXFMwhfw3piJ9yOJ\n",
        "sGO+sW2bCM92Kzwz8AcT4Sm0x20ifKY/tvd1eG/bMLd2R+2UTiTCoz0+9K62Q69+UIfjiPAgx55w\n",
        "fv4puzhz7RdPq4/4xgnnIX/LURvEJPyWM9u79QB0OIVJeKfP+Z3cXvWneRqT8D77tv3/Hz8JwC1s\n",
        "E7l39H6XSzmCrq5esD4RLk6H6xPhgj5fOWRlIlyTLZlBRDiCYbgyES7LSekUIlyZk9IRRLg4VyzW\n",
        "J8JZdLggEa7P4nBxIhzB4nBlIpzC4nBZIhxKh+vwKopBrl5j8faawxNqdDL8GJNwFj0syCQc5/fp\n",
        "5wX4KzAJp7M4fHkinKi6crjvv/7x15yODnX+G2H4RLfvMgnnuly2bdu3U3ZrfKLbA0Q42b5t3k3v\n",
        "9YlwrH33fpZrsCaczsX6l2cSzmQMLsQkHOhDgeek+PUnuvElEU6TzcCvP9GN20TIcYT3LdaEo1gK\n",
        "rkiEcyhwUSIcQoHrEuGj9n3f3Z/FA2zMPOpt/rx3mIwjY3BpIjzGewPn16jA1YnwYCfXqMABRPgs\n",
        "4WxkLSJ8uqsaD0zRGJxBhOc5dgtHgWOI8GyHnKYqcBLH8j6Hn1Ju99eowGFMwvs846qgLZwfznPq\n",
        "Q36/V+bYHZdbv9AYnMcRPcwJc0yBIzmox3tSjQqcyprweNZ43MWT6xkeXzoag4M5tGf7xnhU4GyO\n",
        "buYva1TgeNaEmc9Lx83q8UfyLPtarsajMfgTOMYv6hn3x/GaRAgxb/QEMRFCTIQQEyHERAgxEUJM\n",
        "hBATIcRECDERQkyEEBMhxEQIMRFCTIQQEyHERAgxEUJMhBATIcRECDERQkyEEBMhxEQIMRFCTIQQ\n",
        "EyHERAgxEUJMhBATIcRECDERQkyEEBMhxEQIMRFCTIQQEyHERAgxEUJMhBATIcRECDERQkyEEBMh\n",
        "xEQIMRFCTIQQEyHERAgxEUJMhBATIcRECDERQkyEEBMhxEQIMRFCTIQQEyHERAgxEUJMhBATIcRE\n",
        "CDERQkyEEBMhxEQIMRFCTIQQEyHERAgxEUJMhBATIcRECDERQkyEEBMhxEQIMRFCTIQQEyHERAgx\n",
        "EUJMhBATIcRECDERQkyEEBMhxEQIMRFCTIQQEyHERAgxEUJMhBATIcRECDERQkyEEBMhxEQIMRFC\n",
        "TIQQEyHERAgxEUJMhBATIcRECDERQuw/+MRHRh7XnKsAAAAASUVORK5CYII=\n",
        "\"></td>\n",
        "\t</tr>\n",
        "</table>"
       ],
       "metadata": {},
       "output_type": "pyout",
       "prompt_number": 4,
       "text": [
        "<IPython.core.display.HTML at 0x110df9090>"
       ]
      }
     ],
     "prompt_number": 4
    },
    {
     "cell_type": "code",
     "collapsed": false,
     "input": [
      "demo(\"Oc1[nH]cc2ccccc12\")"
     ],
     "language": "python",
     "metadata": {},
     "outputs": [
      {
       "output_type": "stream",
       "stream": "stderr",
       "text": [
        "[2013/Dec/06 17:05:32 INFO    ] rule 30 'Non-aromatic 1' applied\n"
       ]
      },
      {
       "html": [
        "<!-- NB the styling is inline as otherwise it is overridden by the Notebook stylesheets -->\n",
        "\n",
        "<table>\n",
        "\t<tr>\n",
        "\t\t<th style=\"text-align: center;\">Original</th>\n",
        "\t\t<th style=\"text-align: center;\">Transformed</th>\n",
        "\t</tr>\n",
        "\t<tr>\n",
        "\t\t<td><img src=\"data:image/png;base64,iVBORw0KGgoAAAANSUhEUgAAASwAAAEsCAIAAAD2HxkiAAAGv0lEQVR4nO3d23KjRhSGUUjl/V+Z\n",
        "XGjsaEAgDg1/N6xVuRjPIXZJfNobkGf6YRg6IOef9BcATydCCBMhhIkQwkQIYSKEMBFCmAghTIQQ\n",
        "JkIIEyGEiRDCRAhhIoQwEUKYCCFMhBAmQggTIYSJEMJECGEihDARQpgIIUyEECZCCBMhhIkQwkQI\n",
        "YSKEMBFCmAghTIQQJkIIEyGEiRDCRAhhIoQwEUKYCCFMhBAmQggTIYSJEMJECGEihDARQpgIIUyE\n",
        "ECZCCBMhhIkQwkQIYSKEMBFCmAghTIQQJkIIEyGEiRDCRAhhIoQwEUKYCCFMhBAmQggTIYSJEMJE\n",
        "CGEihDARQpgIIUyEECZCCBMhhIkQwkQIYSKEMBFCmAghTIQQJkIIEyGEiRDCRAhhIoQwEUKYCCFM\n",
        "hBAmQggTIYSJEMJECGEihDARQpgIIUyEECZCCBMhhIkQwkQIYSKEsLtH2Pdffqbv//8PEv5NfwFR\n",
        "fd8Nw+yHcIm7T8IF0+SGwTzkeg+OEOrwgHXUcPuk/3lYBht42gMiHB1kmuy6vu9/2+v/fkA0eb0H\n",
        "RMjf3gvsJtX1kxcpWZ7twRG+LsM87OroqMCp6a8alWd7cITd5HLo3Q+vrwV+tDwqNXncnmflbh7T\n",
        "4b4Iv/4/Rz/jiNpKhJNLNTd9QM4ocO4TvX/oAPtKhF3X3X8YXlbgx0/9+oEjbY6b9V3XdePLM/cS\n",
        "LLDrumEY5LdMhJ/cqMPlAvsfZ38ZwzBc8Fka9eyro+9GV0pvcbti/Q0JJ3JBInxzrzdwb9pC3YcI\n",
        "cmFm4hYXacqeB5ZqMnt2Wi2TcFGbS2nxY92cPJUIJxpfSi+YNposy3owo9mlNL7yLd8YjH95FTIJ\n",
        "V2hnKa3hEI9/Ac1xn3BGg9+FWEOB7CDCeU0d0K0U6K79lAgXNfJ2tlYK5CMRblFlhwpsnQi/qfv4\n",
        "brFAG+mICFeodSltsUCmRLhdHR0q8DZEuE6DdyxqZiN9J8LVaho7xuCdiHCLOk4OFXgzIjwg0aEC\n",
        "78czut3h93YfOR260/PlBeXFG7i3G4b/M9qV05Fvit33B6mZCHf6k9G1L+Svi4qmx804J9zudxyJ\n",
        "4Rg3Kl5ECGEibIzpcT8i3MguWpTXlE6EECfC9pgeN+MWxRYzu+jZSdz7noT7LiIs4MkHEMdZR5tk\n",
        "I70TEa7mumgJH187Hv6aIkKu8/BzvzkibFVz00OBc0TIFdb8c6VtvaYUJMJ1nBByGhE2rJXpsWYR\n",
        "ffKyKkLOpcCvRLiCXXQvBa4hQs6iwJVE2LZqTwvVtZ4Iv7GLbreyQKG+iJDCFLiVCJtX7Ua6QIHv\n",
        "REhJLsbsIMJFTgi3UOA+IryDGjZSBe4mQgpQ4BEinGcXXUeBB/k7ZuY1ddCk/rokdR1nErKfW4JF\n",
        "iLBJ8csw6ynwKxE2pu/7ucP64mukTgVLcU7YknqOaQUW9PhJOB0dvz+z8EsJ9RzTCizr8RF24bTW\n",
        "WFhBR67ZSBVYlnX0z79BX+0NiR0H9KvDVAYK3EqEVdt0QI/aG43Ea8JQ4A4i7LpufhjmNtWt02x6\n",
        "9I8+nK6pxWtR4D4i/PGxw9GHVzW59Whe8/unvyEyKpkSYXWOrKCbLI/KHSeiMt5HhG9ew3CNcy7k\n",
        "HF9BjziyvirwCBH+bVOHXck3eV82AFdav74q8CAP30bTREs8gFsLrOFZ+22yhi+maVU8ne0ZpXjg\n",
        "McyuoNTAM7pXiZFY2wpKhLet7XX4puKOFVSBt2QSHrZ9JG6aaQbg7YmwhC0dtngNhlN5jstZcbVm\n",
        "fVQG4HOIsKhCNzAMwEdxYaaoEm8BV+DTeL7PsWskWkGfySQ8x/aR6CbEY5mEJ1t3taYzAB9MhOdb\n",
        "XE2dAWIdPd/8aqpAOpPwUm8j8fUjDz6d7ye81M83K/by441JCGHOCSFMhBAmQggTIYSJEMJECGEi\n",
        "hDARQpgIIUyEECZCCBMhhIkQwkQIYSKEMBFCmAghTIQQJkIIEyGEiRDCRAhhIoQwEUKYCCFMhBAm\n",
        "QggTIYSJEMJECGEihDARQpgIIUyEECZCCBMhhIkQwkQIYSKEMBFCmAghTIQQJkIIEyGEiRDCRAhh\n",
        "IoQwEUKYCCFMhBAmQggTIYSJEMJECGEihDARQpgIIUyEECZCCBMhhIkQwkQIYSKEMBFCmAghTIQQ\n",
        "JkIIEyGEiRDCRAhhIoQwEUKYCCFMhBAmQggTIYSJEMJECGEihDARQpgIIUyEECZCCBMhhIkQwkQI\n",
        "YSKEMBFCmAghTIQQJkIIEyGEiRDCRAhhIoQwEUKYCCFMhBAmQggTIYSJEMJECGEihDARQth/EIDl\n",
        "Pql+u1gAAAAASUVORK5CYII=\n",
        "\"></td>\n",
        "\t\t<td><img src=\"data:image/png;base64,iVBORw0KGgoAAAANSUhEUgAAASwAAAEsCAIAAAD2HxkiAAAG7UlEQVR4nO3d4XaqRhiGUejq/d8y\n",
        "/eHSGlEcEHiZmb1/xZz2hBqefMOgzThN0wDk/JM+AOidCCFMhBAmQggTIYSJEMJECGEihDARQpgI\n",
        "IUyEECZCCBMhhIkQwkQIYSKEMBFCmAghTIQQJkIIEyGEiRDCRAhhIoQwEUKYCCFMhBAmQggTIYSJ\n",
        "EMJECGEihDARQpgIIUyEECZCCBMhhIkQwkQIYSKEMBFCmAghTIQQJkIIEyGEiRDCRAhhIoQwEUKY\n",
        "CCFMhBAmQggTIYSJEMJECGEihDARQpgIIUyEECZCCBMhhIkQwkQIYSKEMBFCmAghTIQQJkIIEyGE\n",
        "iRDCRAhhIoQwEUKYCCFMhBAmQggTIYSJEMJECGEihDARQpgIIUyEECZCCBMhhIkQwkQIYSKEMBFC\n",
        "mAghTIQQJkIIEyGEiRDCRAhhIoQwEUKYCCFMhBAmQggTIYSJEML+TR/A6cbx/4+n6c/nnx/CWTqL\n",
        "8KW05Ydwip6Wo/PGpunPYISEniIsoUlO19lytEQfi9Lx/uNm6uA/9uJE+E7rHY7j+Ghv/Dv8NXk+\n",
        "Ed51c334XOAwq26cPQmyPNrY11P8dTv00w2MVrwUWPivPD/s64Q5RWcRDt8ye5kDbT05Gwp8+5c8\n",
        "P+zu/DlA38vRrzctWr843MDydXf9TcKhYNy1uCjdZQwWfqHnhz2eYCt1GeFQkFlbHZ5W4Nsvffug\n",
        "0zOtQK8361+2Z5ZVvmsaLHAYhmma5Les1whfzDNb2DWtynKB493RhzFN0wlfpVIdb8x83YOp/87h\n",
        "1xnolv0VdBzhsDKz2nZKV61Cl/c8NXmoXjdmnrV453Df68C9msxenV5W35NwrolF6e7nujl5KD+Z\n",
        "hmFo6s7h+dOmvEmT8C2TcBiGxi8Oj/ZpTs57u+2R6vCFWxTvVHvH4gqn+HSXPYyKiPDua2aXP6uu\n",
        "UCAbiPDJ1zN41etszlVLge7az4nwrzpfzlZLgbwlwkU1XBwqsHYinKnq4rDGAq1IX4jwnUouDmss\n",
        "kDkRfnD5i0MFNkOEZWq4OKyIFekzEX524YtDY7AlIlxUfnF4YhIKbIwIv/l6cThNCuQXvqMF9n5L\n",
        "4S+XQy19v/xAufEuigLz/xHGMPyyq/DLm2IX/sgJXSkRlpm912l6fP7Uo/BWoAa5Jiw2P/WvFEON\n",
        "m/41HvMRRLjGuXswdEKElTE92iPClR4BXG8k1thnjce8OxFCmAjrY3o0RoRrXHgtelNjnzUe875E\n",
        "CGEirJLp0RIRFrv8WvTm4n2+PbaLH/PRRMh5vObuLRHWqrrpocBPRNigC/ZZ8utKr3bMpxFhmUou\n",
        "CKmRCCu2MD0uNVhKFqI9L1ZFyLEU+JUIC1iLbqXAEiJsVnxFqsBCIqxbvLRP1FVOhN9Yi65XWKBQ\n",
        "b0TYssicVOBaIqzeZVekCxT4TITsyWbMBiJcVP8F4ZlzUoHbiLAFV1iRKnAzEbIDBf5ChJ/Vvxa9\n",
        "OXpOKvBHfhfFZ1WdNKlfU6Gu35mEXTioE7cEdyFCjqXAr0TYjpP3SF0K7kWEbKHAHXUf4Xx0PD6z\n",
        "8Ed9U+C+uo9waCqtc1akCtyXCN/8KuzajeMYfAGNAtdyn7Adt/AeAbx0eE4YCtxAhMMw3Ifh/Oyp\n",
        "Z0LOz/6Xh/PZuHstCtxGhHdvO3x5eNUmS87++T8QGZXMibBuL0vQVZZH5dq/0xjcTIRPyndo3q5d\n",
        "T7fvef/L8lWBvxDhX6s6HGIv8v5lABYqX74q8EeevpXmifb6xoVHk1c4mKpd4ttZn5cUT3wOL1Ig\n",
        "O/Id3er0kXjCEpQIr5jZ6tybircBqMAmmYQ/O3gkGoDNMwl/duRINAB7YBLuZ9fdGgOwHyLc1U5L\n",
        "U1ugXbEc3dUeS1MF9sb3+xibRqIlaJ9MwmOsH4n2YLplEh6sYLfGAOycCI+3uDR1BYjl6PE+L00V\n",
        "yGASnuppJN4+8uQzeD/hqe5vVhzlxxOTEMJcE0KYCCFMhBAmQggTIYSJEMJECGEihDARQpgIIUyE\n",
        "ECZCCBMhhIkQwkQIYSKEMBFCmAghTIQQJkIIEyGEiRDCRAhhIoQwEUKYCCFMhBAmQggTIYSJEMJE\n",
        "CGEihDARQpgIIUyEECZCCBMhhIkQwkQIYSKEMBFCmAghTIQQJkIIEyGEiRDCRAhhIoQwEUKYCCFM\n",
        "hBAmQggTIYSJEMJECGEihDARQpgIIUyEECZCCBMhhIkQwkQIYSKEMBFCmAghTIQQJkIIEyGEiRDC\n",
        "RAhhIoQwEUKYCCFMhBAmQggTIYSJEMJECGEihDARQpgIIUyEECZCCBMhhIkQwkQIYSKEMBFCmAgh\n",
        "TIQQJkIIEyGEiRDCRAhhIoQwEUKYCCFMhBAmQggTIYSJEMJECGEihLD/AHGVCyTgHCmaAAAAAElF\n",
        "TkSuQmCC\n",
        "\"></td>\n",
        "\t</tr>\n",
        "</table>"
       ],
       "metadata": {},
       "output_type": "pyout",
       "prompt_number": 5,
       "text": [
        "<IPython.core.display.HTML at 0x110e3cbd0>"
       ]
      }
     ],
     "prompt_number": 5
    },
    {
     "cell_type": "markdown",
     "metadata": {},
     "source": [
      "### Non-aromatic 2"
     ]
    },
    {
     "cell_type": "code",
     "collapsed": false,
     "input": [
      "demo(\"Oc1cocc1\")"
     ],
     "language": "python",
     "metadata": {},
     "outputs": [
      {
       "output_type": "stream",
       "stream": "stderr",
       "text": [
        "[2013/Dec/06 17:05:44 INFO    ] rule 31 'Non-aromatic 2' applied\n"
       ]
      },
      {
       "html": [
        "<!-- NB the styling is inline as otherwise it is overridden by the Notebook stylesheets -->\n",
        "\n",
        "<table>\n",
        "\t<tr>\n",
        "\t\t<th style=\"text-align: center;\">Original</th>\n",
        "\t\t<th style=\"text-align: center;\">Transformed</th>\n",
        "\t</tr>\n",
        "\t<tr>\n",
        "\t\t<td><img src=\"data:image/png;base64,iVBORw0KGgoAAAANSUhEUgAAASwAAAEsCAIAAAD2HxkiAAAFW0lEQVR4nO3c0W7aSBiAUbza939l\n",
        "9iKrNCKk2MH48wznKBdVlRBU9+OfsS0v1+v1AnT+qd8AvDsRQkyEEBMhxEQIMRFCTIQQEyHERAgx\n",
        "EUJMhBATIcRECDERQkyEEBMhxEQIMRFCTIQQEyHERAgxEUJMhBATIcRECDERQkyEEBMhxEQIMRFC\n",
        "TIQQEyHERAgxEUJMhBATIcRECDERQkyEEBMhxEQIMRFCTIQQEyHERAgxEUJMhBATIcRECDERQkyE\n",
        "EBMhxEQIMRFCTIQQEyHERAgxEUJMhBATIcRECDERQkyEEBMhxEQIMRFCTIQQEyHERAgxEUJMhBAT\n",
        "IcRECDERQkyEEBMhxEQIMRFCTIQQEyHERAgxEUJMhBATIcRECDERQkyEEBMhxEQIMRFCTIQQEyHE\n",
        "RAgxEUJMhBATIcRECDERQkyEEBMhxEQIMRFCTIQQEyHERAgxEUJMhBATIcRECDERQkyEEBMhxEQI\n",
        "MRFCTIQQEyHERAixf+s3wD3L8ufP12v3PjiCCM/ka3tf/1KHUxPhCdxt7+YbdDgvEXbutvc1tq/f\n",
        "oMN5ifBYPw29u4Fdr4+HJONbrj5fD7Cpvb/8rIM1I5PwlR4uOH/xgjqcjkm4t2eG3srXdMjmYhLu\n",
        "ZJf2Pl7k+4/YHE7NJHza9zx+90/6cO9nczgpt63t53r9/+t5a64cMguTcLUDBtHDvZ/N4YxMwnU+\n",
        "Tkt+fr1oED2MSnUzEuEK3y8MHNPhpltqGJYIz83m8A2I8Hy2Lkp1ODgRntKmRSmDE+EILEqnJsIV\n",
        "vp+GOeAezodrTovSWbhtbZ2bDo9ZDT48B+t2timYhKt93g1z5H7MFYs3IMKh2BzOSISn54rF7EQ4\n",
        "AlcspibCAdkczkWEg9i65tThOEQ4DpvDSYlwKDaHMxLhyGwOpyDC0WyddTo8PREOaOui9KUdLsuf\n",
        "r7//Uh8HP3Dv6Pju3k1+c1vp7gF8/MabX+3ZxL9iEm5zlg/zNbPuer289A0f+dSPqZmEw1rxP365\n",
        "XDxN7/xEOLLPDu+Vtiz18yxNxXVEOLgzDzo3D6xjTzinfgyymggndFCByVM/ZmQ5OptDZ2Dy1I/p\n",
        "iJDn/BTe3UuX3GM5OhVbwRGJcB4KHJQIJ6HAcYnwWcuyLK6A8QQnZp71MX8+O0zGkTE4NBHu47OB\n",
        "42tU4OhEuLODa1TgBET4KuFsZCwifLmbGndM0RicgwiPs+8pHAVOQ4RH22WZqsCZOJbb7L6kvGyv\n",
        "UYGTMQm3ecVVQadw3pzP1Kd8vVdm3zMuP72gMTgfR3Q3B8wxBU7JQd3fi2pU4KzsCfdnj8cmPlyP\n",
        "8PzW0RicmEN7tF+MRwXOzdHNrKxRgdOzJ8x83zpe7B7fkk/Zc7kZj8bgO3CMT+oV98dxTiKEmAc9\n",
        "QUyEEBMhxEQIMRFCTIQQEyHERAgxEUJMhBATIcRECDERQkyEEBMhxEQIMRFCTIQQEyHERAgxEUJM\n",
        "hBATIcRECDERQkyEEBMhxEQIMRFCTIQQEyHERAgxEUJMhBATIcRECDERQkyEEBMhxEQIMRFCTIQQ\n",
        "EyHERAgxEUJMhBATIcRECDERQkyEEBMhxEQIMRFCTIQQEyHERAgxEUJMhBATIcRECDERQkyEEBMh\n",
        "xEQIMRFCTIQQEyHERAgxEUJMhBATIcRECDERQkyEEBMhxEQIMRFCTIQQEyHERAgxEUJMhBATIcRE\n",
        "CDERQkyEEBMhxEQIMRFCTIQQEyHERAgxEUJMhBATIcRECDERQkyEEBMhxEQIMRFCTIQQEyHERAgx\n",
        "EUJMhBATIcRECDERQkyEEBMhxEQIMRFCTIQQEyHERAgxEUJMhBD7D3GWgjvjs9wkAAAAAElFTkSu\n",
        "QmCC\n",
        "\"></td>\n",
        "\t\t<td><img src=\"data:image/png;base64,iVBORw0KGgoAAAANSUhEUgAAASwAAAEsCAIAAAD2HxkiAAAFKUlEQVR4nO3c0W7bRhBAUbPo//+y\n",
        "+uAiUWW7kSyKlzs+B3kIAkcQQlwOl8twu1wub0Dnr/oLwE8nQoiJEGIihJgIISZCiIkQYiKEmAgh\n",
        "JkKIiRBiIoSYCCEmQoiJEGIihJgIISZCiIkQYiKEmAghJkKIiRBiIoSYCCEmQoiJEGIihJgIISZC\n",
        "iIkQYiKEmAghJkKIiRBiIoSYCCEmQoiJEGIihJgIISZCiIkQYiKEmAghJkKIiRBiIoSYCCEmQoiJ\n",
        "EGIihJgIISZCiIkQYiKEmAghJkKIiRBiIoSYCCEmQoiJEGIihJgIISZCiIkQYiKEmAghJkKIiRBi\n",
        "IoSYCCEmQoiJEGIihJgIISZCiIkQYiKEmAghJkKIiRBiIoSYCCEmQoiJEGIihJgIISZCiIkQYiKE\n",
        "mAghJkKIiRBiIoSYCCEmQoiJEGIihJgIISZCiIkQYiKEmAghJkKIiRBiIoSYCCEmQoiJEGIihJgI\n",
        "ISZCiIkQYiKEmAgh9nf9BfjMtv3+/eXSfQ+OIMIzuW7v+g91OJoIT+DT9m5+QIdzibDzaXvXsV3/\n",
        "gA7nEuGxvhp6nwZ2ufx5SLK+7eL8eoCH2vufv+tgTWQSvtIfLzi/8YE6HMck3NszQ+/Oz3TIZjEJ\n",
        "d/KK9q4/xOJwLpPwaR/zeNE/qcXhUCbhfo4Mw+JwEJPwbmcYRBaHE5mE97mZPNUgsjicyP+iuMPH\n",
        "5MIYvnqkhmWJcHE6XJ8IF3QzlnW4OBGuyS2ZQUQ4gmG4MhHe4eNtmDNs07koncIWxX1uOswLfGfH\n",
        "YgST8G6Xy7/tnaTAd3Ys1ifCWXS4IBGuz+JwcSIc4VRXyDxIhFNYHC5LhEPpcB22KAa52bF438w8\n",
        "oEYXw88xCWfRw4JMwnGup98ZnuzhT0zC6SwOT0+EE1U7h9v2+xd3czk61PGPlZ7kDSALMgkfs9IZ\n",
        "/nJ5e//CB8RwqjeArEaEk21vb96md34iHGvbvM9yDdaE09msPz2TcCZjcCEm4UD/KfCYFN9vw7g7\n",
        "+i0inCabged8A8gKRMh+hPct1oSjWAquSIRzKHBRIhxCgesS4bO2bds8n8UT3Jh51vv8+dVhMo6M\n",
        "waWJcB+/Gji+RgWuToQ7O7hGBQ4gwlcJZyNrEeHL3dS4Y4rG4AwiPM6+t3AUOIYIj7bLZaoCJ3Es\n",
        "H7P7JeXb4zUqcBiT8DGv2BV0C+eHc059yvWzMvvecfnqA43BeRzR3RwwxxQ4koO6vxfVqMCprAn3\n",
        "Z43HQ5xcj/D80tEYHMyhPdo3xqMCZ3N0M3fWqMDxrAkzH5eOb1aPP5Kz7LncjEdj8CdwjE/qFc/H\n",
        "cU4ihJgXPUFMhBATIcRECDERQkyEEBMhxEQIMRFCTIQQEyHERAgxEUJMhBATIcRECDERQkyEEBMh\n",
        "xEQIMRFCTIQQEyHERAgxEUJMhBATIcRECDERQkyEEBMhxEQIMRFCTIQQEyHERAgxEUJMhBATIcRE\n",
        "CDERQkyEEBMhxEQIMRFCTIQQEyHERAgxEUJMhBATIcRECDERQkyEEBMhxEQIMRFCTIQQEyHERAgx\n",
        "EUJMhBATIcRECDERQkyEEBMhxEQIMRFCTIQQEyHERAgxEUJMhBATIcRECDERQkyEEBMhxEQIMRFC\n",
        "TIQQEyHERAgxEUJMhBATIcRECDERQkyEEBMhxEQIMRFCTIQQEyHERAgxEUJMhBATIcRECDERQkyE\n",
        "EBMhxEQIMRFCTIQQEyHERAgxEUJMhBATIcRECDERQkyEEBMhxEQIMRFCTIQQ+wfcWFRD72fc0QAA\n",
        "AABJRU5ErkJggg==\n",
        "\"></td>\n",
        "\t</tr>\n",
        "</table>"
       ],
       "metadata": {},
       "output_type": "pyout",
       "prompt_number": 6,
       "text": [
        "<IPython.core.display.HTML at 0x110df1d50>"
       ]
      }
     ],
     "prompt_number": 6
    },
    {
     "cell_type": "markdown",
     "metadata": {},
     "source": [
      "### Non-aromatic 3"
     ]
    },
    {
     "cell_type": "code",
     "collapsed": false,
     "input": [
      "demo(\"Oc1[nH]c2ccccc2c1\")"
     ],
     "language": "python",
     "metadata": {},
     "outputs": [
      {
       "output_type": "stream",
       "stream": "stderr",
       "text": [
        "[2013/Dec/06 17:05:58 INFO    ] rule 32 'Non-aromatic 3' applied\n"
       ]
      },
      {
       "html": [
        "<!-- NB the styling is inline as otherwise it is overridden by the Notebook stylesheets -->\n",
        "\n",
        "<table>\n",
        "\t<tr>\n",
        "\t\t<th style=\"text-align: center;\">Original</th>\n",
        "\t\t<th style=\"text-align: center;\">Transformed</th>\n",
        "\t</tr>\n",
        "\t<tr>\n",
        "\t\t<td><img src=\"data:image/png;base64,iVBORw0KGgoAAAANSUhEUgAAASwAAAEsCAIAAAD2HxkiAAAGXElEQVR4nO3d0VIaSxRAUbiV///l\n",
        "uQ+TMgaMCcr07h7WKl80lpLCzTnTYHndtu0CdP6rbwC8OhFCTIQQEyHERAgxEUJMhBATIcRECDER\n",
        "QkyEEBMhxEQIMRFCTIQQEyHERAgxEUJMhBATIcRECDERQkyEEBMhxEQIMRFCTIQQEyHERAgxEUJM\n",
        "hBATIcRECDERQkyEEBMhxEQIMRFCTIQQEyHERAgxEUJMhBATIcRECDERQkyEEBMhxEQIMRFCTIQQ\n",
        "EyHERAgxEUJMhBATIcRECDERQkyEEBMhxEQIMRFCTIQQEyHERAgxEUJMhBD7Ud8ALpfL5Xq9Jt93\n",
        "27bk+/KeCHvX67WKIfzWvLGOQkyEsXYWbdtWbcK8ESHERFia4ZLMMMyJEGIizMwwBneGYUuEjXkK\n",
        "3Okw5HnC6Rwdw1Txc7lc5no8fhGzjcE3096wc7OOQkyEo808bVwZJkQIMREONfMY3BmG44lwnPkL\n",
        "3OlwMBFCTISDrDIGd4bhSCKEmAhHWGsM7gzDYUR4uBUL3OlwDBFCTITHWncM7gzDAUQIMREeaPUx\n",
        "uDMMjyZCiInwKOcYgzvD8FAiPMSZCtzp8DgihJgIn+98Y3BnGB5EhBAT4ZOddQzuDMMjiHCchX58\n",
        "F7qpJyDCZ/p8DK4yRs7xv1iICJ/pFX5Az71vJ0Q41PyVamw8ET7Z/Jl9h0SPIMLRZq5UYwkRPt/M\n",
        "mX2HRA8iwsCclWqsIsJD/DWz2Tr8a4ESPY4IjzJbZt+hwEOJMDNPpRprifBA82T2HRI9mghLM1Sq\n",
        "sZwIj7XcCc0NiQ4gwpemsRmI8HDTDkNPS0xChCNMvnN+SIHDiHAK4yvV2DxEOMhaw1CiI4lwFiMr\n",
        "1dhURDjOJCc0zmNmI8Kh5l9KFTieCOdydKUam5AIR5t5GEo0IcLpHFepxuYkwsCcw1CiFRHO6IhK\n",
        "NTYtd0xmqiqmujGvxiTMzLOUKrAlQoiJsDTDMDQGcyKEmAhj7TA0BmcgQoh5IJxCNQzd+zP4Ud8A\n",
        "fhrfQ34mxM462qsuzGY4m+UiQsiJEGIijLVPEthIZyBCiIkQYiJ8dTbSnAhLXjXGRYSQEyE20pgI\n",
        "M3ZRdiKEmAi5XGykKRE27KK8ESHERMhPNtKKCAN2Ud4TIe95aAiIkF+27WIhHU+EEBPhaC4IuSFC\n",
        "iImQ37gsHE+EQ9lFuSdCiIkQYiIcZ5Vd1GXhYCLkAys8VpyHPwiTeps4fupfmEnYeb/z2f9emAgH\n",
        "+eCC8OZdHb4qEabuO5Ti6xFh7f5qUIcvRoQjXK/X7fLnurYtHon33+vtI5/8E08iwuP94wFMOxKl\n",
        "1RHh8W4OZD7vsDqt8Qx9R4RDPLRtOq15MSIc5aFtM1lN/zQM90eBtzeezStmBtrTurlE/NNrZT78\n",
        "5MvBr63ZO/R85lgm4XAP/UwfPRIVNQERFh69RDxoFn34dZzQDCfCyKMj7umnNQ9dkXKkNX7D7cxu\n",
        "Yvj87rgv5wt331O+CM8jwgk8WsV3KlLgfEQ4hwEdym9WIpzJQ6vpQ5+vwIk5mJnJo6cv/3hqqsC5\n",
        "mYTz+fJq+i8nru7u+YhwVo+upn/9Cl/7IhxPhBN74imoe3lirgkn9rXXrN1fSSpwbiKc26OvWbOC\n",
        "LkiEK/jaKeh9wEzJNeE6PplyBuDKTMJ1/OkSUYGLMwkX5BcgzsUkXNDnv4zPakS4pvveFLgsES7r\n",
        "fXUKXJkIISZCiIkQYiKEmAghJkKIiRBiIoSYCCEmQoiJEGIihJgIISZCiIkQYiKEmAghJkKIiRBi\n",
        "IoSYCCEmQoiJEGIihJgIISZCiIkQYiKEmAgh9qO+AXyDP8Z0CiYhxEQIMRFCTIQQE+FSrtdfbzcf\n",
        "v/9MFuF0dB3X62/HoTfvsiyTcBH3yW2bcXcOIoSYdfQsTMVlifAsbpZVTa7DOgoxES7i/hjG6ehZ\n",
        "WEfXcdOhAs/iurkvIWUdhZgIISZCiIkQYiKEmAghJkKIiRBiIoSYCCEmQoiJEGIihJgIISZCiIkQ\n",
        "YiKEmAghJkKIiRBiIoSYCCEmQoiJEGIihJgIISZCiIkQYiKEmAghJkKIiRBiIoSYCCEmQoiJEGIi\n",
        "hJgIISZCiIkQYiKEmAghJkKIiRBiIoSYCCEmQoiJEGIihJgIISZCiIkQYiKEmAghJkKIiRBiIoSY\n",
        "CCEmQoiJEGIihNj/SK5RfVJ64p8AAAAASUVORK5CYII=\n",
        "\"></td>\n",
        "\t\t<td><img src=\"data:image/png;base64,iVBORw0KGgoAAAANSUhEUgAAASwAAAEsCAIAAAD2HxkiAAAGGUlEQVR4nO3dwXLTWBBAUXuK//9l\n",
        "z0JUCDGEGWK9288+ZwdZWFR03S0pwdfb7XYBOv/UBwCvToQQEyHERAgxEUJMhBATIcRECDERQkyE\n",
        "EBMhxEQIMRFCTIQQEyHERAgxEUJMhBATIcRECDERQkyEEBMhxEQIMRFCTIQQEyHERAgxEUJMhBAT\n",
        "IcRECDERQkyEEBMhxEQIMRFCTIQQEyHERAgxEUJMhBATIcRECDERQkyEEBMhxEQIMRFCTIQQEyHE\n",
        "RAgxEUJMhBATIcRECDERQkyEEBMhxEQIMRFCTIQQEyHERAgxEUJMhBATIcS+1QfA5XK5XK/X5HVv\n",
        "t1vyurwnwt71eq1iCF+aN9ZRiIkw1s6i2+1WbcK8ESHERFiacElmGOZECDERZiaMwYNh2BJhY06B\n",
        "Bx2GPCcc5+wYRsXP5XKZ9X78IqaNwTdjD+y5WUchJsLVJk8bV4YJEUJMhEtNHoMHw3A9Ea4zv8CD\n",
        "DhcTIcREuMguY/BgGK4kQoiJcIW9xuDBMFxGhKfbscCDDtcQIcREeK59x+DBMFxAhBAT4Yl2H4MH\n",
        "w/BsIoSYCM/yHGPwYBieSoSneKYCDzo8jwghJsLHe74xeDAMTyJCiInwwZ51DB4MwzOIcJ2NTt+N\n",
        "DvUJiPCRPh+Du4yR5/hXbESEj/QKJ+hz79sJES41v1KNrSfCB5uf2VdI9AwiXG1ypRpLiPDxJmf2\n",
        "FRI9iQgDMyvVWEWEp/hjZtM6/GOBEj2PCM8yLbOvUOCpRJiZU6nGWiI80ZzMvkKiZxNhaUKlGsuJ\n",
        "8Fzb3aH5QKILiPClaWwCEZ5u7DD0WGIIEa4wfOf8JQUuI8IR1leqsTlEuMhew1CiK4lwipWVamwU\n",
        "Ea4z5A6N+zHTiHCp+UupAtcT4SxnV6qxgUS42uRhKNGECMc5r1KNzSTCwMxhKNGKCCc6o1KNjeUb\n",
        "kxlVxaiDeTUmYWbOUqrAlgghJsLShGFoDOZECDERxtphaAxOIEKIeSMcoRqGvvsTfKsPgO/W95Df\n",
        "E+JgHe1VF2YT7s1yESHkRAgxEcbahwQ20glECDERQkyEr85GmhNhyU+NcREh5ESIjTQmwoxdlIMI\n",
        "ISZCLhcbaUqEDbsob0QIMRHynY20IsKAXZT3RMh73hoCIuSH2+1iIV1PhBAT4WouCPlAhBATIT9x\n",
        "WbieCJeyi3JPhBATIcREuM4uu6jLwsVEyC/s8F7xPEQIMRFCTISL7HJByHoihJgIISbCFa7X6+1y\n",
        "mXvj//7A3v7mky/xICI83/uzduwZPPbAXoAIz/fhhszM090T+o4Il/hwX/R6dcbz5lt9AC/jftRc\n",
        "r7N+MuU4wvtD8n5xMhEudJzfHy4R53d4P8Z5KOvocqPOaUUNIMLCkEvEX76oOzTLiTCSX3p98nKj\n",
        "NuQX4Acaax9iWPDtuM/POZAyCWuLV1MFzmMSzrCgDflNZRLOcLude9dUgYOJcJKTVlMFzmYdneeB\n",
        "zchvBybhPI9aTRW4CZNwsK9UtP7JB3/LJBzs7x7o319JKnA2Ec72f1dTK+iGRLiD/9jh/QBU4A5c\n",
        "E+7jkylnAO7MJNzH7y4RFbg5k3BDfgHiuZiEG/pdaQrck//eYje/G4PvfxlXjVsR4baU9iysoxAT\n",
        "IcRECDERQkyEEBMhxEQIMRFCTIQQEyHERAgxEUJMhBATIcRECDERQkyEEBMhxEQIMRFCTIQQEyHE\n",
        "RAgxEUJMhBATIcRECDERQkyEEPOpTLv55MOYji998hGijGQSQkyEEBMhxEQIMTdmtvX+BoyPzt6Z\n",
        "CPd0vf4U3oc/shXr6Ibuk7vdfgxGNe5GhBATIcRECDERQkyEG3p/G+bg7ujOPKLY04cOFbgzEW5L\n",
        "eM/COgoxEUJMhBATIcRECDERQkyEEBMhxEQIMRFCTIQQEyHERAgxEUJMhBATIcRECDERQkyEEBMh\n",
        "xEQIMRFCTIQQEyHERAgxEUJMhBATIcRECDERQkyEEBMhxEQIMRFCTIQQEyHERAgxEUJMhBATIcRE\n",
        "CDERQkyEEBMhxEQIMRFCTIQQEyHERAgxEUJMhBATIcRECDERQkyEEBMhxEQIMRFCTIQQEyHERAix\n",
        "fwHEOyNzS7WOygAAAABJRU5ErkJggg==\n",
        "\"></td>\n",
        "\t</tr>\n",
        "</table>"
       ],
       "metadata": {},
       "output_type": "pyout",
       "prompt_number": 7,
       "text": [
        "<IPython.core.display.HTML at 0x110df1d90>"
       ]
      }
     ],
     "prompt_number": 7
    },
    {
     "cell_type": "markdown",
     "metadata": {},
     "source": [
      "Note that this rule is not restricted to bicyclic ring systems as currently coded."
     ]
    },
    {
     "cell_type": "markdown",
     "metadata": {},
     "source": [
      "### Non-aromatic 4"
     ]
    },
    {
     "cell_type": "code",
     "collapsed": false,
     "input": [
      "demo(\"Nc1[nH]c2ccccc2c1\")"
     ],
     "language": "python",
     "metadata": {},
     "outputs": [
      {
       "output_type": "stream",
       "stream": "stderr",
       "text": [
        "[2013/Dec/06 17:07:02 INFO    ] rule 33 'Non-aromatic 4' applied\n"
       ]
      },
      {
       "html": [
        "<!-- NB the styling is inline as otherwise it is overridden by the Notebook stylesheets -->\n",
        "\n",
        "<table>\n",
        "\t<tr>\n",
        "\t\t<th style=\"text-align: center;\">Original</th>\n",
        "\t\t<th style=\"text-align: center;\">Transformed</th>\n",
        "\t</tr>\n",
        "\t<tr>\n",
        "\t\t<td><img src=\"data:image/png;base64,iVBORw0KGgoAAAANSUhEUgAAASwAAAEsCAIAAAD2HxkiAAAGc0lEQVR4nO3d224aSRRAURjl/3+Z\n",
        "eejI4zE2CTZd+zSsJT/EFwERbE5VgeXz5XI5AZ1/6hsAr06EEBMhxEQIMRFCTIQQEyHERAgxEUJM\n",
        "hBATIcRECDERQkyEEBMhxEQIMRFCTIQQEyHERAgxEUJMhBATIcRECDERQkyEEBMhxEQIMRFCTIQQ\n",
        "EyHERAgxEUJMhBATIcRECDERQkyEEBMhxEQIMRFCTIQQEyHERAgxEUJMhBATIcRECDERQkyEEBMh\n",
        "xEQIMRFCTIQQEyHERAgxEUJMhBATIcRECDERQkyEEBMhxEQIMRFCTIQQEyHEftU3gNPpdDqfz8n1\n",
        "Xi6X5Hp5T4S98/lcxRBeNW8sRyEmwlg7iy6XS7US5o0IISbC0oQtmWGYEyHERJiZMAY3hmFLhI05\n",
        "BW50GPI64Th7xzAqfk6n06zn4xcxbQy+GXvDnpvlKMREuNrkaWNnmBAhxES41OQxuDEM1xPhOvML\n",
        "3OhwMRFCTISLHGUMbgzDlUQIMRGucKwxuDEMlxHh7o5Y4EaHa4gQYiLc13HH4MYwXECEEBPhjo4+\n",
        "BjeG4d5ECDER7uU5xuDGMNyVCHfxTAVudLgfEUJMhI/3fGNwYxjuRIQQE+GDPesY3BiGexDhOgd6\n",
        "+B7opj4BET7S7TF4lDHyHP+LAxHhI73CA/S519sJES41v1KNrSfCB5uf2U9IdA8iXG1ypRpLiPDx\n",
        "Jmf2ExLdiQgDMyvVWEWEu/hjZtM6/GOBEt2PCPcyLbOfUOCuRJiZU6nGWiLc0ZzMfkKiexNhaUKl\n",
        "GsuJcF+HO6H5QKILiPClaWwCEe5u7DD0ssQQIlxh+JrzUwpcRoQjrK9UY3OIcJFjDUOJriTCKVZW\n",
        "qrFRRLjOkBMa5zHTiHCp+YtSBa4nwln2rlRjA4lwtcnDUKIJEY6zX6Uam0mEgZnDUKIVEU60R6Ua\n",
        "G8sdkxlVxagb82pMwsycRakCWyKEmAhLE4ahMZgTIcREGGuHoTE4gQgh5olwhGoYuvcn+FXfAH5b\n",
        "30N+JsTGcrRXbcwmnM1yEiHkRAgxEcbaFwmsSCcQIcRECDERvjor0pwIS941xkmEkBMhVqQxEWas\n",
        "RdmIEGIi5HSyIk2JsGEtyhsRQkyE/GZFWhFhwFqU90TIe54aAiLkP5fLyYJ0PRFCTISr2RDygQgh\n",
        "JkL+x7ZwPREuZS3KNRFCTIQQE+E6R1mL2hYuJkI+cYTniufhD8Kk3iaOR/0LMwk779d81n8vTISL\n",
        "fLIh/PCpDl+VCFPXHUrx9Yiwdr0b1OGLEeEK5/P5cvq6rsslHonX1/X2lRvf4kFEuL+/PIBpR6K0\n",
        "OiLc34cDmdsdVqc1XqHviHCJu1abTmtejAhXuWu1mSxNvxqG27PA2weP5h0zC21pfdgifvVemU9/\n",
        "+LTze2u2Dr2euZZJuNxdj+m9R6KiBhBh4d4t4k6z6NPLcUKznAgj9464h5/W3LUjZU/H+A23Z/Yh\n",
        "htt3x3U537j7HnIhPI4IB7i3ip9UpMB5RDjDgg7lN5UIJ7lraXrXzytwMAczk9x7+vKXp6YKnM0k\n",
        "nOfbS9O/OXF1d88jwqnuXZr+8RK+dyHsT4SDPfAU1L08mD3hYN97z9r1TlKBs4lwtnvfs2YJekAi\n",
        "PILvnYJeB8xI9oTHcWPKGYBHZhIex1dbRAUenEl4QH4B4rmYhAd0+5fxORoRHtN1bwo8LBEe1vvq\n",
        "FHhkIoSYCCEmQoiJEGIihJgIISZCiIkQYiKEmAghJkKIiRBiIoSYCCEmQoiJEGIihJgIISZCiIkQ\n",
        "YiKEmAghJkKIiRBiIoSYCCEmQoiJEGIihNiv+gbwA/4Y01MwCSEmQoiJEGIihJgIZzufv/zKjW9t\n",
        "/94+GE+E430jpPP5dLn8/tDheCIc7xsheeniUET41LaRyGxerD+CbRhe53R7QirwIER4EJ92+OHT\n",
        "DwczCjwIy9FnpMBDEeFxOOp8Upajh/L3Hb7/MVNxtvPFPQQpy1GIiRBiIoSYCCEmQoiJEGIihJgI\n",
        "ISZCiIkQYiKEmAghJkKIiRBiIoSYCCEmQoiJEGIihJgIISZCiIkQYiKEmAghJkKIiRBiIoSYCCEm\n",
        "QoiJEGIihJgIISZCiIkQYiKEmAghJkKIiRBiIoSYCCEmQoiJEGIihJgIISZCiIkQYiKEmAghJkKI\n",
        "iRBiIoSYCCEmQoiJEGIihJgIISZCiIkQYiKEmAghJkKI/Qvaw2F5byZgmgAAAABJRU5ErkJggg==\n",
        "\"></td>\n",
        "\t\t<td><img src=\"data:image/png;base64,iVBORw0KGgoAAAANSUhEUgAAASwAAAEsCAIAAAD2HxkiAAAGW0lEQVR4nO3d3VIaWRSAUZjK+79y\n",
        "z0WnHEeMEaXPtxvXKi/yYwVS8GXvPmC8btt2ATr/1HcAfjoRQkyEEBMhxEQIMRFCTIQQEyHERAgx\n",
        "EUJMhBATIcRECDERQkyEEBMhxEQIMRFCTIQQEyHERAgxEUJMhBATIcRECDERQkyEEBMhxEQIMRFC\n",
        "TIQQEyHERAgxEUJMhBATIcRECDERQkyEEBMhxEQIMRFCTIQQEyHERAgxEUJMhBATIcRECDERQkyE\n",
        "EBMhxEQIMRFCTIQQEyHERAgxEUJMhBATIcRECDERQkyEEBMhxEQIMRFCTIQQ+1XfAS6Xy+V6vSa3\n",
        "u21bcru8JsLe9XqtYghvmhfWUYiJMNbOom3bqk2YFyKEmAhLEy7JDMOcCCEmwsyEMbgzDFsibMwp\n",
        "cKfDkNcJxzk6hlHxc7lcZv17/ENMG4Mvxt6x52YdhZgIV5s8bVwZJkQIMREuNXkM7gzD9US4zvwC\n",
        "dzpcTIQQE+EiZxmDO8NwJRFCTIQrnGsM7gzDZUR4uDMWuNPhGiKEmAiPdd4xuDMMFxAhxER4oLOP\n",
        "wZ1heDQRQkyER3mOMbgzDA8lwkM8U4E7HR5HhBAT4eM93xjcGYYHESHERPhgzzoGd4bhEUS4zome\n",
        "vie6q09AhI/08Rg8yxh5jr/FiYjwkX7CE/S59+2ECJeaX6nG1hPhg83P7DskegQRrja5Uo0lRPh4\n",
        "kzP7DokeRISBmZVqrCLCQ/w1s2kd/rVAiR5HhEeZltl3KPBQIszMqVRjLREeaE5m3yHRo4mwNKFS\n",
        "jeVEeKzTndC8IdEFRPijaWwCER5u7DD0ssQQIlxh+M75LgUuI8IR1leqsTlEuMi5hqFEVxLhFCsr\n",
        "1dgoIlxnyAmN85hpRLjU/KVUgeuJcJajK9XYQCJcbfIwlGhChOMcV6nGZhJhYOYwlGhFhBMdUanG\n",
        "xvLAZEZVMerO/DQmYWbOUqrAlgghJsLShGFoDOZECDERxtphaAxOIEKI+YdwhGoYevQn+FXfAX5b\n",
        "30N+JsTOOtqrLswmnM1yESHkRAgxEcbaFwlspBOIEGIihJgIS96wwkWEuCzMiRBiIszYRdmJEBtp\n",
        "TIQQE2HDLsoLEXK52EhTIoSYCAN2UV4TYUKB/EeE/OaysCLC1a7Xi1WU10QIMRHyHxtpQoQQE+FS\n",
        "Lgi5JUL+x0a6ngghJsJ17KK8S4S8ZSNdTITrGIO8yzeESb0MHIH+YCZh5/XKZ/37wUTYeTP9JnXo\n",
        "snAlEaZuO/TU/3lEWLu9GtThDyPCI93m9G5g2zZuJF6vm2/lu4oID/b55/GckejEaC0RHmzb7usw\n",
        "P615dYvbxWsnK4iw8PG2Wa2mtzekwCVEeLw/DcPPd/jxJz/E7Z+vwFVEuMTXOlw2Em8HoAIXEmHt\n",
        "466OHolW0AFEuMrrYXjXiDvutMYKOoMIF3r9FL93xD18NbWCjuH/Y6/dtQ0+ZHYZgMOIcIB7q/hO\n",
        "RQqcR4QzLOhQflOJcJJ7Dyo///kKHMzBzCT3nr588tRUgbOZhPN8eTX9zImrh3seEU71/dfQFXgS\n",
        "IhzsgaegHuXBXBMO9rX3rHkn2tmIcLZ737NmBT0hEZ7B105BvRPtJFwTnscHU84APDOT8Dz+dImo\n",
        "wJMzCU/ori/JZzyT8IT+VJoCz0mE53TbmwJPS4Sn9fGXCHMeIoSYCCEmQoiJEGIihJgIISZCiIkQ\n",
        "YiKEmAghJkKIiRBiIoSYCCEmQoiJEGIihJgIISZCiIkQYiKEmAghJkKIiRBiIoSYCCEmQoiJEGIi\n",
        "hNiv+g7wDb4Z01MwCSEmQoiJEGIihJgIZ7te//grH/zW/uP9g/FEON4XQrpeL9v2+0OH44lwvC+E\n",
        "5KWLUxHhU9tHIrN5sf4M9mF4m9PHE1KBJyHCk3i3wzc/fXMwo8CTsI4+IwWeigjPw1Hnk7KOnsrn\n",
        "O3z9aabibNfNIwQp6yjERAgxEUJMhBATIcRECDERQkyEEBMhxEQIMRFCTIQQEyHERAgxEUJMhBAT\n",
        "IcRECDERQkyEEBMhxEQIMRFCTIQQEyHERAgxEUJMhBATIcRECDERQkyEEBMhxEQIMRFCTIQQEyHE\n",
        "RAgxEUJMhBATIcRECDERQkyEEBMhxEQIMRFCTIQQEyHERAgxEUJMhBATIcRECDERQkyEEBMhxEQI\n",
        "MRFCTIQQEyHE/gVi42NtvUEASwAAAABJRU5ErkJggg==\n",
        "\"></td>\n",
        "\t</tr>\n",
        "</table>"
       ],
       "metadata": {},
       "output_type": "pyout",
       "prompt_number": 9,
       "text": [
        "<IPython.core.display.HTML at 0x110f27ad0>"
       ]
      }
     ],
     "prompt_number": 9
    },
    {
     "cell_type": "markdown",
     "metadata": {},
     "source": [
      "Note that this rule is not restricted to bicyclic ring systems as currently coded."
     ]
    }
   ],
   "metadata": {}
  }
 ]
}