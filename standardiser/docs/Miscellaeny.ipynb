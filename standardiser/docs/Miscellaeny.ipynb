{
 "metadata": {
  "name": ""
 },
 "nbformat": 3,
 "nbformat_minor": 0,
 "worksheets": [
  {
   "cells": [
    {
     "cell_type": "markdown",
     "metadata": {},
     "source": [
      "# Miscellaeny"
     ]
    },
    {
     "cell_type": "code",
     "collapsed": false,
     "input": [
      "%run setup.py"
     ],
     "language": "python",
     "metadata": {},
     "outputs": [],
     "prompt_number": 2
    },
    {
     "cell_type": "markdown",
     "metadata": {},
     "source": [
      "<a name=\"Fix_1_5_conjugated_cation_aromatic_3\" />\n",
      "### Fix 1,5 conjugated cation (aromatic 3)\n",
      "\n",
      "An interesting failure case I haven't had time to figure out or fix.\n"
     ]
    },
    {
     "cell_type": "code",
     "collapsed": false,
     "input": [
      "# The rule...\n",
      "\n",
      "rxn = AllChem.ReactionFromSmarts(\"[n;+0!H0:1]:[a:2]:[a:3]:[a:4]:[n!$(*[O-]);+1H0:5]>>[n+1:1]:[*:2]:[*:3]:[*:4]:[n+0:5]\")"
     ],
     "language": "python",
     "metadata": {},
     "outputs": [],
     "prompt_number": 63
    },
    {
     "cell_type": "code",
     "collapsed": false,
     "input": [
      "# The example used on rules page...\n",
      "\n",
      "mol1 = Chem.MolFromSmiles(\"[nH]1ccc2c[n+](C)ccc12\")\n",
      "mol1"
     ],
     "language": "python",
     "metadata": {},
     "outputs": [
      {
       "metadata": {},
       "output_type": "pyout",
       "png": "[encoded data removed]",
       "prompt_number": 64,
       "text": [
        "<rdkit.Chem.rdchem.Mol at 0x10c251590>"
       ]
      }
     ],
     "prompt_number": 64
    },
    {
     "cell_type": "code",
     "collapsed": false,
     "input": [
      "# ...works as expected...\n",
      "\n",
      "rxn.RunReactants((mol1,))[0][0]"
     ],
     "language": "python",
     "metadata": {},
     "outputs": [
      {
       "metadata": {},
       "output_type": "pyout",
       "png": "[encoded data removed]",
       "prompt_number": 58,
       "text": [
        "<rdkit.Chem.rdchem.Mol at 0x10c24c578>"
       ]
      }
     ],
     "prompt_number": 58
    },
    {
     "cell_type": "code",
     "collapsed": false,
     "input": [
      "# However, another example...\n",
      "\n",
      "mol2 = Chem.MolFromSmiles(\"[nH]1ccc2cccc[n+]12\")\n",
      "mol2"
     ],
     "language": "python",
     "metadata": {},
     "outputs": [
      {
       "metadata": {},
       "output_type": "pyout",
       "png": "[encoded data removed]",
       "prompt_number": 59,
       "text": [
        "<rdkit.Chem.rdchem.Mol at 0x10c251210>"
       ]
      }
     ],
     "prompt_number": 59
    },
    {
     "cell_type": "code",
     "collapsed": false,
     "input": [
      "# Doesn't do what's expected!\n",
      "\n",
      "rxn.RunReactants((mol2,))[0][0]"
     ],
     "language": "python",
     "metadata": {},
     "outputs": [
      {
       "metadata": {},
       "output_type": "pyout",
       "png": "[encoded data removed]",
       "prompt_number": 60,
       "text": [
        "<rdkit.Chem.rdchem.Mol at 0x10c24c0c8>"
       ]
      }
     ],
     "prompt_number": 60
    },
    {
     "cell_type": "code",
     "collapsed": false,
     "input": [
      "# The desired result was...\n",
      "\n",
      "Chem.MolFromSmiles(\"[nH+]1ccc2ccccn12\")"
     ],
     "language": "python",
     "metadata": {},
     "outputs": [
      {
       "metadata": {},
       "output_type": "pyout",
       "png": "[encoded data removed]",
       "prompt_number": 122,
       "text": [
        "<rdkit.Chem.rdchem.Mol at 0x10c2514b0>"
       ]
      }
     ],
     "prompt_number": 122
    }
   ],
   "metadata": {}
  }
 ]
}