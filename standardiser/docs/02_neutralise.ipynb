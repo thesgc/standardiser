{
 "metadata": {
  "name": ""
 },
 "nbformat": 3,
 "nbformat_minor": 0,
 "worksheets": [
  {
   "cells": [
    {
     "cell_type": "code",
     "collapsed": true,
     "input": [
      "%run setup.py\n",
      "\n",
      "reload(logging) # Seems to be required to get logging from modules working\n",
      "\n",
      "logging.basicConfig(level=logging.DEBUG, format=\"[%(asctime)s %(levelname)-8s] %(message)s\", datefmt=\"%Y/%b/%d %H:%M:%S\")\n",
      "\n",
      "sys.path.append(\"..\")"
     ],
     "language": "python",
     "metadata": {
      "slideshow": {
       "slide_type": "-"
      }
     },
     "outputs": [],
     "prompt_number": 1
    },
    {
     "cell_type": "code",
     "collapsed": false,
     "input": [
      "from standardise import neutralise"
     ],
     "language": "python",
     "metadata": {},
     "outputs": [],
     "prompt_number": 2
    },
    {
     "cell_type": "markdown",
     "metadata": {
      "slideshow": {
       "slide_type": "slide"
      }
     },
     "source": [
      "# **`neutralise`**: remove charges by adding/removing protons"
     ]
    },
    {
     "cell_type": "markdown",
     "metadata": {},
     "source": [
      "### Introduction\n",
      "\n",
      "This document describes the operation of the **`neutralize`** module, which attempts to balance charges _via_ the removal and/or addition of protons.\n",
      "\n",
      "Recall that bonds to Group I & II metals are broken before neutralization is attempted, and that a further round of neutralization is carried out after the application of the standardization rules.\n",
      "\n",
      "Note that charge-neutralization rules _could_ provide an alternative to the proton-addition/removal strategy employed by the **`neutralize`** module; however, the latter is used here as it allows finer control, which is particularly useful when more complex systems such as zwitterions are encountered."
     ]
    },
    {
     "cell_type": "markdown",
     "metadata": {},
     "source": [
      "### Examples"
     ]
    },
    {
     "cell_type": "code",
     "collapsed": false,
     "input": [
      "mol = Chem.MolFromSmiles(\"C(C(=O)[O-])(Cc1n[n-]nn1)(C[NH3+])(C[N+](=O)[O-])\")\n",
      "mol"
     ],
     "language": "python",
     "metadata": {
      "slideshow": {
       "slide_type": "slide"
      }
     },
     "outputs": [
      {
       "metadata": {},
       "output_type": "pyout",
       "png": "[encoded data removed]",
       "prompt_number": 3,
       "text": [
        "<rdkit.Chem.rdchem.Mol at 0x10cf86670>"
       ]
      }
     ],
     "prompt_number": 3
    },
    {
     "cell_type": "code",
     "collapsed": false,
     "input": [
      "neutralise.apply(mol)"
     ],
     "language": "python",
     "metadata": {
      "slideshow": {
       "slide_type": "fragment"
      }
     },
     "outputs": [
      {
       "output_type": "stream",
       "stream": "stderr",
       "text": [
        "[2014/Jan/13 16:55:56 DEBUG   ] 1 positive/H, 0 positive/quat and 2 negative (of which 2 are acid) charges identified\n"
       ]
      },
      {
       "output_type": "stream",
       "stream": "stderr",
       "text": [
        "[2014/Jan/13 16:55:56 DEBUG   ] Overall H balance: +1; formal charge: 0\n"
       ]
      },
      {
       "metadata": {},
       "output_type": "pyout",
       "png": "[encoded data removed]",
       "prompt_number": 4,
       "text": [
        "<rdkit.Chem.rdchem.Mol at 0x10d4ec1b0>"
       ]
      }
     ],
     "prompt_number": 4
    },
    {
     "cell_type": "markdown",
     "metadata": {
      "slideshow": {
       "slide_type": "skip"
      }
     },
     "source": [
      "### Zwitterions\n",
      "\n",
      "Zwitterions can be problematic: cases where inappropriate protonation has been performed are not uncommon in chemical database.\n",
      "\n",
      "Here, protonation of negative charges is *not* attempted unless there is a 'surplus' of negative charges above the (non-neutralizable) 'quat' positive charges)..."
     ]
    },
    {
     "cell_type": "code",
     "collapsed": false,
     "input": [
      "mol1 = Chem.MolFromSmiles(\"n(C)1cc[n+]2cccc([O-])c12\")\n",
      "\n",
      "mol2 = neutralise.apply(mol1)\n",
      "\n",
      "Draw.MolsToGridImage([mol1, mol2])"
     ],
     "language": "python",
     "metadata": {
      "slideshow": {
       "slide_type": "skip"
      }
     },
     "outputs": [
      {
       "output_type": "stream",
       "stream": "stderr",
       "text": [
        "[2014/Jan/13 16:56:06 DEBUG   ] 0 positive/H, 1 positive/quat and 1 negative (of which 0 are acid) charges identified\n"
       ]
      },
      {
       "output_type": "stream",
       "stream": "stderr",
       "text": [
        "[2014/Jan/13 16:56:06 DEBUG   ] Overall H balance: 0; formal charge: 0\n"
       ]
      },
      {
       "metadata": {},
       "output_type": "pyout",
       "png": "[encoded data removed]",
       "prompt_number": 5,
       "text": [
        "<PIL.Image.Image image mode=RGB size=600x200 at 0x10D56AF38>"
       ]
      }
     ],
     "prompt_number": 5
    },
    {
     "cell_type": "markdown",
     "metadata": {
      "slideshow": {
       "slide_type": "skip"
      }
     },
     "source": [
      "If there *are* 'surplus' negative charges, neutralization is attempted, but only using recognized 'acidic' groups..."
     ]
    },
    {
     "cell_type": "code",
     "collapsed": false,
     "input": [
      "mol1 = Chem.MolFromSmiles(\"n(CC(=O)[O-])1cc[n+]2cccc([O-])c12\")\n",
      "                          \n",
      "mol2 = neutralise.apply(mol1)\n",
      "\n",
      "Draw.MolsToGridImage([mol1, mol2])"
     ],
     "language": "python",
     "metadata": {
      "slideshow": {
       "slide_type": "skip"
      }
     },
     "outputs": [
      {
       "output_type": "stream",
       "stream": "stderr",
       "text": [
        "[2014/Jan/13 16:56:13 DEBUG   ] 0 positive/H, 1 positive/quat and 2 negative (of which 1 are acid) charges identified\n"
       ]
      },
      {
       "output_type": "stream",
       "stream": "stderr",
       "text": [
        "[2014/Jan/13 16:56:13 WARNING ] zwitterion with more negative charges than quaternary positive centres detected\n"
       ]
      },
      {
       "output_type": "stream",
       "stream": "stderr",
       "text": [
        "[2014/Jan/13 16:56:13 DEBUG   ] Overall H balance: +1; formal charge: 0\n"
       ]
      },
      {
       "metadata": {},
       "output_type": "pyout",
       "png": "[encoded data removed]",
       "prompt_number": 6,
       "text": [
        "<PIL.Image.Image image mode=RGB size=600x200 at 0x10D56FA70>"
       ]
      }
     ],
     "prompt_number": 6
    },
    {
     "cell_type": "markdown",
     "metadata": {
      "slideshow": {
       "slide_type": "skip"
      }
     },
     "source": [
      "The idea is to avoid protonating negative charges inappropriately: in the example above, it would be clearly wrong to protonate the phenolic O instead of the carboxylate O.\n",
      "\n",
      "However, this means that, if no such 'acidic' groups are present, nothing is attempted..."
     ]
    },
    {
     "cell_type": "code",
     "collapsed": false,
     "input": [
      "mol1 = Chem.MolFromSmiles(\"n(CC[O-])1cc[n+]2cccc([O-])c12\")\n",
      "                          \n",
      "mol2 = neutralise.apply(mol1)\n",
      "\n",
      "Draw.MolsToGridImage([mol1, mol2])"
     ],
     "language": "python",
     "metadata": {
      "slideshow": {
       "slide_type": "skip"
      }
     },
     "outputs": [
      {
       "output_type": "stream",
       "stream": "stderr",
       "text": [
        "[2014/Jan/13 16:56:18 DEBUG   ] 0 positive/H, 1 positive/quat and 2 negative (of which 0 are acid) charges identified\n"
       ]
      },
      {
       "output_type": "stream",
       "stream": "stderr",
       "text": [
        "[2014/Jan/13 16:56:18 DEBUG   ] Overall H balance: 0; formal charge: -1\n"
       ]
      },
      {
       "metadata": {},
       "output_type": "pyout",
       "png": "[encoded data removed]",
       "prompt_number": 7,
       "text": [
        "<PIL.Image.Image image mode=RGB size=600x200 at 0x10D56AC68>"
       ]
      }
     ],
     "prompt_number": 7
    },
    {
     "cell_type": "markdown",
     "metadata": {
      "slideshow": {
       "slide_type": "skip"
      }
     },
     "source": [
      "Whilst it would be possible to code up rules for deciding which acid to protonate in the above case, it has not yet been attempted: it would add complexity and, whilst cases such as that above do occur, in practice they are fairly rare."
     ]
    },
    {
     "cell_type": "markdown",
     "metadata": {
      "slideshow": {
       "slide_type": "skip"
      }
     },
     "source": [
      "### Futher neutralizations\n",
      "\n",
      "As mentioned above, over-zealous neutralizations sometimes mean acidic groups in zwitterions are protonated, leaving a 'parent' molecule with an overall positive charge.\n",
      "\n",
      "An experimental option to treat simple cases where this has happened has been introduced..."
     ]
    },
    {
     "cell_type": "code",
     "collapsed": false,
     "input": [
      "mol1 = Chem.MolFromSmiles(\"n(CC(=O)O)1cc[n+]2ccccc12\")\n",
      "                          \n",
      "mol2 = neutralise.apply(mol1, balance_quat_surplus=True)\n",
      "\n",
      "Draw.MolsToGridImage([mol1, mol2])"
     ],
     "language": "python",
     "metadata": {
      "slideshow": {
       "slide_type": "skip"
      }
     },
     "outputs": [
      {
       "output_type": "stream",
       "stream": "stderr",
       "text": [
        "[2014/Jan/13 16:56:32 DEBUG   ] 0 positive/H, 1 positive/quat and 0 negative (of which 0 are acid) charges identified\n"
       ]
      },
      {
       "output_type": "stream",
       "stream": "stderr",
       "text": [
        "[2014/Jan/13 16:56:32 WARNING ] Surplus of quat positive charges but with uncharged acids detected\n"
       ]
      },
      {
       "output_type": "stream",
       "stream": "stderr",
       "text": [
        "[2014/Jan/13 16:56:32 DEBUG   ] Overall H balance: -1; formal charge: 0\n"
       ]
      },
      {
       "metadata": {},
       "output_type": "pyout",
       "png": "[encoded data removed]",
       "prompt_number": 9,
       "text": [
        "<PIL.Image.Image image mode=RGB size=600x200 at 0x10D570CB0>"
       ]
      }
     ],
     "prompt_number": 9
    },
    {
     "cell_type": "markdown",
     "metadata": {
      "slideshow": {
       "slide_type": "skip"
      }
     },
     "source": [
      "Note that this will only deprotonate obvious acid groups. If, say, a phenolic anion in a zwitterion has been inappropriately protonated, no attempt will be made to fix this..."
     ]
    },
    {
     "cell_type": "code",
     "collapsed": false,
     "input": [
      "mol1 = Chem.MolFromSmiles(\"n(C)1cc[n+]2cccc(O)c12\")\n",
      "                          \n",
      "mol2 = neutralise.apply(mol1)\n",
      "\n",
      "Draw.MolsToGridImage([mol1, mol2])"
     ],
     "language": "python",
     "metadata": {
      "slideshow": {
       "slide_type": "skip"
      }
     },
     "outputs": [
      {
       "output_type": "stream",
       "stream": "stderr",
       "text": [
        "[2014/Jan/13 16:56:34 DEBUG   ] 0 positive/H, 1 positive/quat and 0 negative (of which 0 are acid) charges identified\n"
       ]
      },
      {
       "output_type": "stream",
       "stream": "stderr",
       "text": [
        "[2014/Jan/13 16:56:34 DEBUG   ] Overall H balance: 0; formal charge: 1\n"
       ]
      },
      {
       "metadata": {},
       "output_type": "pyout",
       "png": "[encoded data removed]",
       "prompt_number": 10,
       "text": [
        "<PIL.Image.Image image mode=RGB size=600x200 at 0x10D56F5A8>"
       ]
      }
     ],
     "prompt_number": 10
    }
   ],
   "metadata": {}
  }
 ]
}